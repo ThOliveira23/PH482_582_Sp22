{
 "cells": [
  {
   "cell_type": "markdown",
   "metadata": {},
   "source": [
    "# Training Deep Neural Networks"
   ]
  },
  {
   "cell_type": "markdown",
   "metadata": {},
   "source": [
    "<table align=\"left\">\n",
    "  <td>\n",
    "    <a target=\"_blank\" href=\"https://colab.research.google.com/github/UAPH4582/PH482_582_Sp22/blob/main/Exercises/06_training_deep_neural_networks.ipynb\"><img src=\"https://www.tensorflow.org/images/colab_logo_32px.png\" />Run in Google Colab</a>\n",
    "  </td>\n",
    "</table>"
   ]
  },
  {
   "cell_type": "code",
   "execution_count": 1,
   "metadata": {},
   "outputs": [],
   "source": [
    "group_name = \"LPC Group 2\"\n",
    "names = [\"Mariana Soeiro\", \"Thales Menezes de Oliveira\"]"
   ]
  },
  {
   "cell_type": "markdown",
   "metadata": {},
   "source": [
    "Due date: 2022-03-14\n",
    "\n",
    "File name convention: For group 42 and memebers Richard Stallman and Linus Torvalds it would be \n",
    "\"06_training_deep_neural_networks.pdf\".\n",
    "\n",
    "Submission via blackboard (UA) or Google Form (see notion, LPC).\n",
    "\n",
    "Feel free to answer free text questions in text cells using markdown and possibly $\\LaTeX{}$ if you want to.\n",
    "\n",
    "**You don't have to understand every line of code here and it is not intended for you to try to understand every line of code.   \n",
    "Big blocks of code are usually meant to just be clicked through.**"
   ]
  },
  {
   "cell_type": "markdown",
   "metadata": {},
   "source": [
    "# Setup"
   ]
  },
  {
   "cell_type": "code",
   "execution_count": 2,
   "metadata": {},
   "outputs": [],
   "source": [
    "# Python ≥3.5 is required\n",
    "import sys\n",
    "assert sys.version_info >= (3, 5)\n",
    "\n",
    "# Scikit-Learn ≥0.20 is required\n",
    "import sklearn\n",
    "assert sklearn.__version__ >= \"0.20\"\n",
    "\n",
    "# TensorFlow ≥2.0 is required\n",
    "import tensorflow as tf\n",
    "from tensorflow import keras\n",
    "assert tf.__version__ >= \"2.0\"\n",
    "\n",
    "%load_ext tensorboard\n",
    "\n",
    "# Common imports\n",
    "import numpy as np\n",
    "import os\n",
    "\n",
    "# to make this notebook's output stable across runs\n",
    "np.random.seed(42)\n",
    "\n",
    "# To plot pretty figures\n",
    "%matplotlib inline\n",
    "import matplotlib as mpl\n",
    "import matplotlib.pyplot as plt\n",
    "mpl.rc('axes', labelsize=14)\n",
    "mpl.rc('xtick', labelsize=12)\n",
    "mpl.rc('ytick', labelsize=12)"
   ]
  },
  {
   "cell_type": "markdown",
   "metadata": {},
   "source": [
    "# Vanishing/Exploding Gradients Problem"
   ]
  },
  {
   "cell_type": "markdown",
   "metadata": {},
   "source": [
    "### TASK 1: Sigmoid, Relu, Leaky Relu"
   ]
  },
  {
   "cell_type": "code",
   "execution_count": 3,
   "metadata": {},
   "outputs": [],
   "source": [
    "def logit(z):\n",
    "    return 1 / (1 + np.exp(-z))"
   ]
  },
  {
   "cell_type": "code",
   "execution_count": 4,
   "metadata": {},
   "outputs": [
    {
     "data": {
      "image/png": "[encoded data removed]",
      "text/plain": [
       "<Figure size 432x288 with 1 Axes>"
      ]
     },
     "metadata": {
      "needs_background": "light"
     },
     "output_type": "display_data"
    }
   ],
   "source": [
    "z = np.linspace(-5, 5, 200)\n",
    "\n",
    "plt.plot([-5, 5], [0, 0], 'k-')\n",
    "plt.plot([-5, 5], [1, 1], 'k--')\n",
    "plt.plot([0, 0], [-0.2, 1.2], 'k-')\n",
    "plt.plot([-5, 5], [-3/4, 7/4], 'g--')\n",
    "plt.plot(z, logit(z), \"b-\", linewidth=2)\n",
    "props = dict(facecolor='black', shrink=0.1)\n",
    "plt.annotate('', xytext=(3.5, 0.7), xy=(5, 1), arrowprops=props, fontsize=14, ha=\"center\")\n",
    "plt.annotate('', xytext=(-3.5, 0.3), xy=(-5, 0), arrowprops=props, fontsize=14, ha=\"center\")\n",
    "plt.annotate('', xytext=(2, 0.2), xy=(0, 0.5), arrowprops=props, fontsize=14, ha=\"center\")\n",
    "plt.grid(True)\n",
    "plt.title(\"Sigmoid activation function\", fontsize=14)\n",
    "plt.axis([-5, 5, -0.2, 1.2])\n",
    "\n",
    "plt.show()"
   ]
  },
  {
   "cell_type": "markdown",
   "metadata": {},
   "source": [
    "**Task 1 a)** Describe the sigmoid activation function."
   ]
  },
  {
   "cell_type": "markdown",
   "metadata": {
    "id": "nsnymzLuLvm2"
   },
   "source": [
    "↓↓↓↓↓↓↓↓↓↓↓↓↓↓↓↓↓↓↓↓↓↓↓↓↓↓↓↓↓↓↓ your code goes below"
   ]
  },
  {
   "cell_type": "markdown",
   "metadata": {},
   "source": [
    "Task 1 a) answer: The sigmoid consists in a function that returns the value of 1 for larger values of the inputs, either they are positive or negative, since it has a exponential behaviour. Is a function that saturates at 0 and 1, and because of this behaviour it has a derivative closer to 0 in these points. The sigmoid function also presents a linear behaviour for input values close to 0, with a constant derivative for these points. "
   ]
  },
  {
   "cell_type": "markdown",
   "metadata": {},
   "source": [
    "↑↑↑↑↑↑↑↑↑↑↑↑↑↑↑↑↑↑↑↑↑↑↑↑↑↑↑↑↑↑↑ your code goes above"
   ]
  },
  {
   "cell_type": "markdown",
   "metadata": {},
   "source": [
    "### Leaky ReLU"
   ]
  },
  {
   "cell_type": "markdown",
   "metadata": {},
   "source": [
    "**Task 1 b)** Write the [leaky relu](https://en.wikipedia.org/wiki/Rectifier_(neural_networks)#Leaky_ReLU) function `leaky_relu(z)`.\n",
    "It should take `z` as argument and also another optional argument `alpha` with default value 0.01.\n",
    "The leaky relu funciton is defined to be `alpha*z` for z<0 and `z` for z>0.\n",
    "\n",
    "(alterntively you can think about using `np.maximum` to make the distinction, assuming alpha>0)"
   ]
  },
  {
   "cell_type": "markdown",
   "metadata": {
    "id": "nsnymzLuLvm2"
   },
   "source": [
    "↓↓↓↓↓↓↓↓↓↓↓↓↓↓↓↓↓↓↓↓↓↓↓↓↓↓↓↓↓↓↓ your code goes below"
   ]
  },
  {
   "cell_type": "code",
   "execution_count": 5,
   "metadata": {},
   "outputs": [],
   "source": [
    "def relu(z):\n",
    "    return np.maximum(0, z)"
   ]
  },
  {
   "cell_type": "code",
   "execution_count": 6,
   "metadata": {},
   "outputs": [],
   "source": [
    "def leaky_relu(z,alpha):\n",
    "    return np.maximum(alpha*z,z) # max(alpha*z,z)"
   ]
  },
  {
   "cell_type": "markdown",
   "metadata": {},
   "source": [
    "↑↑↑↑↑↑↑↑↑↑↑↑↑↑↑↑↑↑↑↑↑↑↑↑↑↑↑↑↑↑↑ your code goes above"
   ]
  },
  {
   "cell_type": "code",
   "execution_count": 7,
   "metadata": {},
   "outputs": [
    {
     "data": {
      "image/png": "[encoded data removed]",
      "text/plain": [
       "<Figure size 432x288 with 1 Axes>"
      ]
     },
     "metadata": {
      "needs_background": "light"
     },
     "output_type": "display_data"
    }
   ],
   "source": [
    "plt.plot(z, leaky_relu(z, alpha=0.05), \"b-\", linewidth=2, label='alpha=0.05')\n",
    "plt.plot(z, leaky_relu(z, alpha=0.01), \"r-\", linewidth=2, label='alpha=0.01 (smaller leak)')\n",
    "plt.plot(z, leaky_relu(z, alpha=0.2), \"g-\", linewidth=2, label='alpha=0.2 (huge leak)')\n",
    "plt.plot([-5, 5], [0, 0], 'k-')\n",
    "plt.plot([0, 0], [-0.5, 4.2], 'k-')\n",
    "plt.grid(True)\n",
    "props = dict(facecolor='black', shrink=0.1)\n",
    "plt.annotate('', xytext=(-3.5, 0.5), xy=(-5, -0.2), arrowprops=props, fontsize=14, ha=\"center\")\n",
    "plt.title(\"Leaky ReLU activation function\", fontsize=14)\n",
    "plt.axis([-5, 5, -2., 4.2])\n",
    "plt.legend(loc='best')\n",
    "\n",
    "plt.show()"
   ]
  },
  {
   "cell_type": "markdown",
   "metadata": {},
   "source": [
    "**Task 1c)** Describe the difference between relu and leaky relu?\n",
    "Also explain why one might want to use leaky relu."
   ]
  },
  {
   "cell_type": "markdown",
   "metadata": {
    "id": "nsnymzLuLvm2"
   },
   "source": [
    "↓↓↓↓↓↓↓↓↓↓↓↓↓↓↓↓↓↓↓↓↓↓↓↓↓↓↓↓↓↓↓ your code goes below"
   ]
  },
  {
   "cell_type": "markdown",
   "metadata": {},
   "source": [
    "Task 1c) answer: The ReLU function returns 0 por z < 0, while the Leaky ReLU returns values different of 0 for z < 0, and it is possible to define the slope of the function for these negative values with the hyperparameter alpha.\n",
    "\n",
    "\n",
    "The Leaky ReLU was proposed to solve the dying gradient problem from ReLU. During the network's training, if the weighted sum of neurons' input are negative, the neurons will start output 0. In this scenario, it is unlikely that the neuron will output anything different of 0 because the gradient of the ReLU is 0 for negative input values.\n",
    "\n"
   ]
  },
  {
   "cell_type": "markdown",
   "metadata": {},
   "source": [
    "↑↑↑↑↑↑↑↑↑↑↑↑↑↑↑↑↑↑↑↑↑↑↑↑↑↑↑↑↑↑↑ your code goes above"
   ]
  },
  {
   "cell_type": "markdown",
   "metadata": {},
   "source": [
    "##### Let's train a neural network on Fashion MNIST using the Leaky ReLU:"
   ]
  },
  {
   "cell_type": "code",
   "execution_count": 8,
   "metadata": {},
   "outputs": [],
   "source": [
    "# load fashion MNIST + train_test split\n",
    "(X_train_full, y_train_full), (X_test, y_test) = keras.datasets.fashion_mnist.load_data()\n",
    "X_train_full = X_train_full / 255.0\n",
    "X_test = X_test / 255.0\n",
    "X_valid, X_train = X_train_full[:5000], X_train_full[5000:]\n",
    "y_valid, y_train = y_train_full[:5000], y_train_full[5000:]"
   ]
  },
  {
   "cell_type": "code",
   "execution_count": 9,
   "metadata": {},
   "outputs": [],
   "source": [
    "tf.random.set_seed(42)\n",
    "np.random.seed(42)\n",
    "\n",
    "model = keras.models.Sequential([\n",
    "    keras.layers.Flatten(input_shape=[28, 28]),              ## 28x28 --> 784 dimensions \n",
    "    keras.layers.Dense(300, kernel_initializer=\"he_normal\"), # LeakyReLU + He weights initialization\n",
    "    keras.layers.LeakyReLU(),\n",
    "    keras.layers.Dense(100, kernel_initializer=\"he_normal\"),\n",
    "    keras.layers.LeakyReLU(),\n",
    "    keras.layers.Dense(10, activation=\"softmax\")\n",
    "])"
   ]
  },
  {
   "cell_type": "code",
   "execution_count": 10,
   "metadata": {},
   "outputs": [],
   "source": [
    "model.compile(loss=\"sparse_categorical_crossentropy\",\n",
    "              optimizer=keras.optimizers.SGD(learning_rate=1e-3),\n",
    "              metrics=[\"accuracy\"])"
   ]
  },
  {
   "cell_type": "code",
   "execution_count": 11,
   "metadata": {
    "scrolled": true
   },
   "outputs": [
    {
     "name": "stdout",
     "output_type": "stream",
     "text": [
      "Epoch 1/10\n",
      "1719/1719 [==============================] - 10s 6ms/step - loss: 1.2819 - accuracy: 0.6229 - val_loss: 0.8886 - val_accuracy: 0.7160\n",
      "Epoch 2/10\n",
      "1719/1719 [==============================] - 7s 4ms/step - loss: 0.7955 - accuracy: 0.7362 - val_loss: 0.7130 - val_accuracy: 0.7656\n",
      "Epoch 3/10\n",
      "1719/1719 [==============================] - 5s 3ms/step - loss: 0.6816 - accuracy: 0.7721 - val_loss: 0.6427 - val_accuracy: 0.7902\n",
      "Epoch 4/10\n",
      "1719/1719 [==============================] - 6s 3ms/step - loss: 0.6217 - accuracy: 0.7944 - val_loss: 0.5900 - val_accuracy: 0.8064\n",
      "Epoch 5/10\n",
      "1719/1719 [==============================] - 6s 3ms/step - loss: 0.5832 - accuracy: 0.8074 - val_loss: 0.5582 - val_accuracy: 0.8200\n",
      "Epoch 6/10\n",
      "1719/1719 [==============================] - 5s 3ms/step - loss: 0.5553 - accuracy: 0.8157 - val_loss: 0.5350 - val_accuracy: 0.8238\n",
      "Epoch 7/10\n",
      "1719/1719 [==============================] - 7s 4ms/step - loss: 0.5338 - accuracy: 0.8225 - val_loss: 0.5157 - val_accuracy: 0.8304\n",
      "Epoch 8/10\n",
      "1719/1719 [==============================] - 13s 7ms/step - loss: 0.5173 - accuracy: 0.8272 - val_loss: 0.5079 - val_accuracy: 0.8286\n",
      "Epoch 9/10\n",
      "1719/1719 [==============================] - 16s 9ms/step - loss: 0.5040 - accuracy: 0.8289 - val_loss: 0.4895 - val_accuracy: 0.8390\n",
      "Epoch 10/10\n",
      "1719/1719 [==============================] - 11s 6ms/step - loss: 0.4924 - accuracy: 0.8321 - val_loss: 0.4817 - val_accuracy: 0.8396\n"
     ]
    }
   ],
   "source": [
    "history = model.fit(X_train, y_train, epochs=10,\n",
    "                    validation_data=(X_valid, y_valid))"
   ]
  },
  {
   "cell_type": "markdown",
   "metadata": {},
   "source": [
    "### TASK 2: ELU\n",
    "**Task 2 a)** Describe the [ELU activation](https://paperswithcode.com/method/elu) function and compare to LeakyRelu. The definition is described in Chapter 11 or alternatively [here](https://paperswithcode.com/method/elu).   "
   ]
  },
  {
   "cell_type": "markdown",
   "metadata": {
    "id": "nsnymzLuLvm2"
   },
   "source": [
    "↓↓↓↓↓↓↓↓↓↓↓↓↓↓↓↓↓↓↓↓↓↓↓↓↓↓↓↓↓↓↓ your code goes below"
   ]
  },
  {
   "cell_type": "markdown",
   "metadata": {},
   "source": [
    "Task 2 a) answer: The ELU activation function is composed by a exponential function for z < 0 and a linear function for z > 0. Since the ELU have a exponential function for z < 0, it has a nonzero gradient for these points, which avoids the dying neurons scenario. Since the ELU function is smooth everywhere, including z = 0, the gradient descent method are optimized, especially for values close to 0, even with a slower time to compute, with the relation to ReLU and its other variants.\n"
   ]
  },
  {
   "cell_type": "markdown",
   "metadata": {},
   "source": [
    "↑↑↑↑↑↑↑↑↑↑↑↑↑↑↑↑↑↑↑↑↑↑↑↑↑↑↑↑↑↑↑ your code goes above"
   ]
  },
  {
   "cell_type": "markdown",
   "metadata": {},
   "source": [
    "**Task 2 b)** Similar to `leaky_relu` above, write the function `elu(z)` with optional argument `alpha=1` (meaning that the default value is 1)."
   ]
  },
  {
   "cell_type": "markdown",
   "metadata": {
    "id": "nsnymzLuLvm2"
   },
   "source": [
    "↓↓↓↓↓↓↓↓↓↓↓↓↓↓↓↓↓↓↓↓↓↓↓↓↓↓↓↓↓↓↓ your code goes below"
   ]
  },
  {
   "cell_type": "code",
   "execution_count": 12,
   "metadata": {},
   "outputs": [],
   "source": [
    "#pytorch definition https://github.com/pytorch/pytorch/blob/96aaa311c0251d24decb9dc5da4957b7c590af6f/torch/nn/modules/activation.py#L422\n",
    "\n",
    "def torch_elu(z,alpha):\n",
    "    return np.maximum(0,z) + np.minimum(0, alpha*(np.exp(z) - 1))   "
   ]
  },
  {
   "cell_type": "code",
   "execution_count": 13,
   "metadata": {},
   "outputs": [],
   "source": [
    "def elu(z, alpha=1):\n",
    "    return np.where(z < 0, alpha * (np.exp(z) - 1), z)"
   ]
  },
  {
   "cell_type": "markdown",
   "metadata": {},
   "source": [
    "↑↑↑↑↑↑↑↑↑↑↑↑↑↑↑↑↑↑↑↑↑↑↑↑↑↑↑↑↑↑↑ your code goes above"
   ]
  },
  {
   "cell_type": "code",
   "execution_count": 14,
   "metadata": {},
   "outputs": [
    {
     "data": {
      "image/png": "[encoded data removed]",
      "text/plain": [
       "<Figure size 432x288 with 1 Axes>"
      ]
     },
     "metadata": {
      "needs_background": "light"
     },
     "output_type": "display_data"
    }
   ],
   "source": [
    "plt.plot(z, torch_elu(z,alpha=1.0), \"b-\", linewidth=2)\n",
    "#plt.plot(z, elu(z,alpha=1.0), \"r-\", linewidth=2)\n",
    "plt.plot([-5, 5], [0, 0], 'k-')\n",
    "plt.plot([-5, 5], [-1, -1], 'k--')\n",
    "plt.plot([0, 0], [-2.2, 3.2], 'k-')\n",
    "plt.grid(True)\n",
    "plt.title(r\"ELU activation function ($\\alpha=1$)\", fontsize=14)\n",
    "plt.annotate('', xytext=(-3.5, 0), xy=(-4, -1), arrowprops=props, fontsize=14, ha=\"center\")\n",
    "plt.axis([-5, 5, -2.2, 3.2])\n",
    "\n",
    "plt.show()"
   ]
  },
  {
   "cell_type": "code",
   "execution_count": 15,
   "metadata": {},
   "outputs": [
    {
     "data": {
      "image/png": "[encoded data removed]",
      "text/plain": [
       "<Figure size 432x288 with 1 Axes>"
      ]
     },
     "metadata": {
      "needs_background": "light"
     },
     "output_type": "display_data"
    }
   ],
   "source": [
    "plt.plot(z, elu(z,alpha=1.0), \"b-\", linewidth=2, label='ELU')\n",
    "plt.plot(z, relu(z), \"r-\", linewidth=2, label='ReLU')\n",
    "plt.plot(z, leaky_relu(z,alpha=0.1), \"g-\", linewidth=2, label='LeakyReLU')\n",
    "plt.plot([-5, 5], [0, 0], 'k-')\n",
    "plt.plot([-5, 5], [-1, -1], 'k--')\n",
    "plt.plot([0, 0], [-2.2, 3.2], 'k-')\n",
    "plt.grid(True)\n",
    "plt.title(r\"ELU activation function ($\\alpha=1$)\", fontsize=14)\n",
    "plt.annotate('', xytext=(-3.5, 0), xy=(-4, -1), arrowprops=props, fontsize=14, ha=\"center\")\n",
    "plt.axis([-5, 5, -2.2, 3.2])\n",
    "plt.legend(loc='best')\n",
    "\n",
    "plt.show()"
   ]
  },
  {
   "cell_type": "code",
   "execution_count": 16,
   "metadata": {},
   "outputs": [],
   "source": [
    "tf.random.set_seed(42)\n",
    "np.random.seed(42)"
   ]
  },
  {
   "cell_type": "markdown",
   "metadata": {},
   "source": [
    "To use the elu activation function in TensorFlow you need to specify the activation function when building each layer (Check on https://keras.io/api/layers/activations/ for some examples): `activation='relu'`"
   ]
  },
  {
   "cell_type": "markdown",
   "metadata": {},
   "source": [
    "**Task 2 c)** Using the layers from the previous model (LeakyRelu), train with ELU activation"
   ]
  },
  {
   "cell_type": "markdown",
   "metadata": {
    "id": "nsnymzLuLvm2"
   },
   "source": [
    "↓↓↓↓↓↓↓↓↓↓↓↓↓↓↓↓↓↓↓↓↓↓↓↓↓↓↓↓↓↓↓ your code goes below"
   ]
  },
  {
   "cell_type": "code",
   "execution_count": 17,
   "metadata": {},
   "outputs": [],
   "source": [
    "model = keras.models.Sequential([\n",
    "    keras.layers.Flatten(input_shape=[28, 28]),\n",
    "    keras.layers.Dense(300, kernel_initializer=\"he_normal\", activation='elu'),\n",
    "    keras.layers.Dense(100, kernel_initializer=\"he_normal\", activation='elu'),\n",
    "    keras.layers.Dense(10, activation=\"softmax\")\n",
    "])"
   ]
  },
  {
   "cell_type": "markdown",
   "metadata": {},
   "source": [
    "↑↑↑↑↑↑↑↑↑↑↑↑↑↑↑↑↑↑↑↑↑↑↑↑↑↑↑↑↑↑↑ your code goes above"
   ]
  },
  {
   "cell_type": "code",
   "execution_count": 18,
   "metadata": {},
   "outputs": [],
   "source": [
    "model.compile(loss=\"sparse_categorical_crossentropy\",\n",
    "              optimizer=keras.optimizers.SGD(learning_rate=1e-3),\n",
    "              metrics=[\"accuracy\"])"
   ]
  },
  {
   "cell_type": "code",
   "execution_count": 19,
   "metadata": {},
   "outputs": [
    {
     "name": "stdout",
     "output_type": "stream",
     "text": [
      "Epoch 1/10\n",
      "1719/1719 [==============================] - 7s 4ms/step - loss: 1.1201 - accuracy: 0.6462 - val_loss: 0.7927 - val_accuracy: 0.7376\n",
      "Epoch 2/10\n",
      "1719/1719 [==============================] - 9s 5ms/step - loss: 0.7228 - accuracy: 0.7570 - val_loss: 0.6571 - val_accuracy: 0.7822\n",
      "Epoch 3/10\n",
      "1719/1719 [==============================] - 9s 5ms/step - loss: 0.6316 - accuracy: 0.7878 - val_loss: 0.5999 - val_accuracy: 0.8022\n",
      "Epoch 4/10\n",
      "1719/1719 [==============================] - 8s 5ms/step - loss: 0.5824 - accuracy: 0.8044 - val_loss: 0.5562 - val_accuracy: 0.8216\n",
      "Epoch 5/10\n",
      "1719/1719 [==============================] - 8s 5ms/step - loss: 0.5508 - accuracy: 0.8149 - val_loss: 0.5306 - val_accuracy: 0.8268\n",
      "Epoch 6/10\n",
      "1719/1719 [==============================] - 9s 5ms/step - loss: 0.5281 - accuracy: 0.8201 - val_loss: 0.5113 - val_accuracy: 0.8294\n",
      "Epoch 7/10\n",
      "1719/1719 [==============================] - 8s 5ms/step - loss: 0.5108 - accuracy: 0.8253 - val_loss: 0.4957 - val_accuracy: 0.8344\n",
      "Epoch 8/10\n",
      "1719/1719 [==============================] - 7s 4ms/step - loss: 0.4975 - accuracy: 0.8300 - val_loss: 0.4888 - val_accuracy: 0.8340\n",
      "Epoch 9/10\n",
      "1719/1719 [==============================] - 11s 6ms/step - loss: 0.4867 - accuracy: 0.8315 - val_loss: 0.4744 - val_accuracy: 0.8406\n",
      "Epoch 10/10\n",
      "1719/1719 [==============================] - 9s 5ms/step - loss: 0.4771 - accuracy: 0.8351 - val_loss: 0.4679 - val_accuracy: 0.8428\n"
     ]
    }
   ],
   "source": [
    "history = model.fit(X_train, y_train, epochs=10,\n",
    "                    validation_data=(X_valid, y_valid))"
   ]
  },
  {
   "cell_type": "markdown",
   "metadata": {},
   "source": [
    "## Task 3: Batch Normalization\n",
    "**Task 3 a)** Build a NN with two hidden layers with 300 and 100 nodes. Use RELU as activation function. Add [BatchNormalization](https://keras.io/api/layers/normalization_layers/batch_normalization/) layers before each dense layer (check the definition in Chapter 11)   "
   ]
  },
  {
   "cell_type": "markdown",
   "metadata": {
    "id": "nsnymzLuLvm2"
   },
   "source": [
    "↓↓↓↓↓↓↓↓↓↓↓↓↓↓↓↓↓↓↓↓↓↓↓↓↓↓↓↓↓↓↓ your code goes below"
   ]
  },
  {
   "cell_type": "code",
   "execution_count": 20,
   "metadata": {},
   "outputs": [],
   "source": [
    "model = keras.models.Sequential([\n",
    "    keras.layers.Flatten(input_shape=[28, 28]),\n",
    "    # ↓↓↓↓↓↓↓↓↓↓↓↓↓↓↓↓↓↓↓↓↓↓↓↓↓↓↓↓↓↓↓ \n",
    "    keras.layers.BatchNormalization(),\n",
    "    keras.layers.Dense(300, activation=\"relu\"),\n",
    "    keras.layers.BatchNormalization(),\n",
    "    keras.layers.Dense(100, activation=\"relu\"),\n",
    "    keras.layers.BatchNormalization(),\n",
    "    # ↑↑↑↑↑↑↑↑↑↑↑↑↑↑↑↑↑↑↑↑↑↑↑↑↑↑↑↑↑↑↑ \n",
    "    keras.layers.Dense(10, activation=\"softmax\")\n",
    "])"
   ]
  },
  {
   "cell_type": "markdown",
   "metadata": {},
   "source": [
    "↑↑↑↑↑↑↑↑↑↑↑↑↑↑↑↑↑↑↑↑↑↑↑↑↑↑↑↑↑↑↑ your code goes above"
   ]
  },
  {
   "cell_type": "code",
   "execution_count": 21,
   "metadata": {},
   "outputs": [],
   "source": [
    "model.compile(loss=\"sparse_categorical_crossentropy\",\n",
    "              optimizer=keras.optimizers.SGD(learning_rate=1e-3),\n",
    "              metrics=[\"accuracy\"])"
   ]
  },
  {
   "cell_type": "code",
   "execution_count": 16,
   "metadata": {},
   "outputs": [
    {
     "data": {
      "image/png": "[encoded data removed]",
      "text/plain": [
       "<IPython.core.display.Image object>"
      ]
     },
     "execution_count": 16,
     "metadata": {},
     "output_type": "execute_result"
    }
   ],
   "source": [
    "keras.utils.plot_model(model, show_shapes=True)"
   ]
  },
  {
   "cell_type": "code",
   "execution_count": 22,
   "metadata": {},
   "outputs": [
    {
     "name": "stdout",
     "output_type": "stream",
     "text": [
      "Epoch 1/25\n",
      "1719/1719 [==============================] - 11s 6ms/step - loss: 0.8293 - accuracy: 0.7221 - val_loss: 0.5539 - val_accuracy: 0.8160\n",
      "Epoch 2/25\n",
      "1719/1719 [==============================] - 11s 6ms/step - loss: 0.5703 - accuracy: 0.8035 - val_loss: 0.4792 - val_accuracy: 0.8378\n",
      "Epoch 3/25\n",
      "1719/1719 [==============================] - 11s 6ms/step - loss: 0.5161 - accuracy: 0.8213 - val_loss: 0.4424 - val_accuracy: 0.8492\n",
      "Epoch 4/25\n",
      "1719/1719 [==============================] - 10s 6ms/step - loss: 0.4789 - accuracy: 0.8316 - val_loss: 0.4212 - val_accuracy: 0.8570\n",
      "Epoch 5/25\n",
      "1719/1719 [==============================] - 9s 5ms/step - loss: 0.4548 - accuracy: 0.8406 - val_loss: 0.4050 - val_accuracy: 0.8614\n",
      "Epoch 6/25\n",
      "1719/1719 [==============================] - 9s 5ms/step - loss: 0.4387 - accuracy: 0.8444 - val_loss: 0.3931 - val_accuracy: 0.8632\n",
      "Epoch 7/25\n",
      "1719/1719 [==============================] - 10s 6ms/step - loss: 0.4254 - accuracy: 0.8507 - val_loss: 0.3829 - val_accuracy: 0.8644\n",
      "Epoch 8/25\n",
      "1719/1719 [==============================] - 13s 8ms/step - loss: 0.4124 - accuracy: 0.8540 - val_loss: 0.3759 - val_accuracy: 0.8670\n",
      "Epoch 9/25\n",
      "1719/1719 [==============================] - 10s 6ms/step - loss: 0.4027 - accuracy: 0.8579 - val_loss: 0.3690 - val_accuracy: 0.8674\n",
      "Epoch 10/25\n",
      "1719/1719 [==============================] - 10s 6ms/step - loss: 0.3925 - accuracy: 0.8613 - val_loss: 0.3630 - val_accuracy: 0.8666\n",
      "Epoch 11/25\n",
      "1719/1719 [==============================] - 10s 6ms/step - loss: 0.3847 - accuracy: 0.8641 - val_loss: 0.3576 - val_accuracy: 0.8718\n",
      "Epoch 12/25\n",
      "1719/1719 [==============================] - 10s 6ms/step - loss: 0.3783 - accuracy: 0.8652 - val_loss: 0.3542 - val_accuracy: 0.8712\n",
      "Epoch 13/25\n",
      "1719/1719 [==============================] - 10s 6ms/step - loss: 0.3698 - accuracy: 0.8688 - val_loss: 0.3502 - val_accuracy: 0.8740\n",
      "Epoch 14/25\n",
      "1719/1719 [==============================] - 10s 6ms/step - loss: 0.3620 - accuracy: 0.8709 - val_loss: 0.3469 - val_accuracy: 0.8746\n",
      "Epoch 15/25\n",
      "1719/1719 [==============================] - 11s 6ms/step - loss: 0.3572 - accuracy: 0.8719 - val_loss: 0.3442 - val_accuracy: 0.8748\n",
      "Epoch 16/25\n",
      "1719/1719 [==============================] - 10s 6ms/step - loss: 0.3516 - accuracy: 0.8737 - val_loss: 0.3420 - val_accuracy: 0.8764\n",
      "Epoch 17/25\n",
      "1719/1719 [==============================] - 10s 6ms/step - loss: 0.3466 - accuracy: 0.8761 - val_loss: 0.3383 - val_accuracy: 0.8784\n",
      "Epoch 18/25\n",
      "1719/1719 [==============================] - 10s 6ms/step - loss: 0.3428 - accuracy: 0.8769 - val_loss: 0.3372 - val_accuracy: 0.8798\n",
      "Epoch 19/25\n",
      "1719/1719 [==============================] - 10s 6ms/step - loss: 0.3375 - accuracy: 0.8794 - val_loss: 0.3344 - val_accuracy: 0.8768\n",
      "Epoch 20/25\n",
      "1719/1719 [==============================] - 10s 6ms/step - loss: 0.3326 - accuracy: 0.8811 - val_loss: 0.3316 - val_accuracy: 0.8812\n",
      "Epoch 21/25\n",
      "1719/1719 [==============================] - 10s 6ms/step - loss: 0.3272 - accuracy: 0.8831 - val_loss: 0.3307 - val_accuracy: 0.8810\n",
      "Epoch 22/25\n",
      "1719/1719 [==============================] - 10s 6ms/step - loss: 0.3230 - accuracy: 0.8838 - val_loss: 0.3256 - val_accuracy: 0.8838\n",
      "Epoch 23/25\n",
      "1719/1719 [==============================] - 11s 6ms/step - loss: 0.3180 - accuracy: 0.8857 - val_loss: 0.3271 - val_accuracy: 0.8828\n",
      "Epoch 24/25\n",
      "1719/1719 [==============================] - 11s 6ms/step - loss: 0.3184 - accuracy: 0.8860 - val_loss: 0.3257 - val_accuracy: 0.8828\n",
      "Epoch 25/25\n",
      "1719/1719 [==============================] - 10s 6ms/step - loss: 0.3159 - accuracy: 0.8880 - val_loss: 0.3250 - val_accuracy: 0.8832\n"
     ]
    }
   ],
   "source": [
    "history = model.fit(X_train, y_train, epochs=25,\n",
    "                    validation_data=(X_valid, y_valid))"
   ]
  },
  {
   "cell_type": "markdown",
   "metadata": {},
   "source": [
    "**Task 3 b)** Explain what batch normalization does and discuss the results of above training."
   ]
  },
  {
   "cell_type": "markdown",
   "metadata": {
    "id": "nsnymzLuLvm2"
   },
   "source": [
    "↓↓↓↓↓↓↓↓↓↓↓↓↓↓↓↓↓↓↓↓↓↓↓↓↓↓↓↓↓↓↓ your code goes below"
   ]
  },
  {
   "cell_type": "markdown",
   "metadata": {},
   "source": [
    "Task 3b) answer: The batch normalization techniques that consists in the addition of an operation in the model before the activation function. This operation applies a transformation on the inputs, maintaning the mean output close to 0 and the output standard deviation close to 1. This transformation allows the model to learn the optimal scale and mean of the inputs for each one of the model's layers.\n",
    "\n"
   ]
  },
  {
   "cell_type": "markdown",
   "metadata": {},
   "source": [
    "↑↑↑↑↑↑↑↑↑↑↑↑↑↑↑↑↑↑↑↑↑↑↑↑↑↑↑↑↑↑↑ your code goes above"
   ]
  },
  {
   "cell_type": "markdown",
   "metadata": {},
   "source": [
    "## Task 4: Reusing a Keras model"
   ]
  },
  {
   "cell_type": "markdown",
   "metadata": {},
   "source": [
    "Let's split the fashion MNIST training set in two:\n",
    "* `X_train_A`: all images of all items except for sandals and shirts (classes 5 and 6).\n",
    "* `X_train_B`: a much smaller training set of just the first 200 images of sandals or shirts.\n",
    "\n",
    "The validation set and the test set are also split this way, but without restricting the number of images.\n",
    "\n",
    "We will train a model on set A (classification task with 8 classes), and try to reuse it to tackle set B (binary classification). We hope to transfer a little bit of knowledge from task A to task B, since classes in set A (sneakers, ankle boots, coats, t-shirts, etc.) are somewhat similar to classes in set B (sandals and shirts). However, since we are using `Dense` layers, only patterns that occur at the same location can be reused (in contrast, convolutional layers will transfer much better, since learned patterns can be detected anywhere on the image, as we will see in the CNN chapter)."
   ]
  },
  {
   "cell_type": "code",
   "execution_count": 23,
   "metadata": {},
   "outputs": [],
   "source": [
    "def split_dataset(X, y):\n",
    "    y_5_or_6 = (y == 5) | (y == 6)               # sandals or shirts\n",
    "    y_A = y[~y_5_or_6]                           # Build the x_train_A data\n",
    "    y_A[y_A > 6] -= 2                            # class indices 7, 8, 9 should be moved to 5, 6, 7 \n",
    "    y_B = (y[y_5_or_6] == 6).astype(np.float32)  # binary classification task: is it a shirt (class 6)?\n",
    "    return ((X[~y_5_or_6], y_A),\n",
    "            (X[y_5_or_6], y_B))\n",
    "\n",
    "# To do task A \n",
    "(X_train_A, y_train_A), (X_train_B, y_train_B) = split_dataset(X_train, y_train)  # Training dataset\n",
    "(X_valid_A, y_valid_A), (X_valid_B, y_valid_B) = split_dataset(X_valid, y_valid)  # Validation dataset \n",
    "(X_test_A, y_test_A), (X_test_B, y_test_B) = split_dataset(X_test, y_test)        # Test dataset\n",
    "\n",
    "# To do task B\n",
    "X_train_B = X_train_B[:200]   # Only 200 images\n",
    "y_train_B = y_train_B[:200]"
   ]
  },
  {
   "cell_type": "code",
   "execution_count": 24,
   "metadata": {},
   "outputs": [
    {
     "data": {
      "text/plain": [
       "(200, 28, 28)"
      ]
     },
     "execution_count": 24,
     "metadata": {},
     "output_type": "execute_result"
    }
   ],
   "source": [
    "X_train_B.shape # a much smaller training set of just the first 200 images of sandals or shirts."
   ]
  },
  {
   "cell_type": "code",
   "execution_count": 25,
   "metadata": {},
   "outputs": [
    {
     "data": {
      "text/plain": [
       "(200,)"
      ]
     },
     "execution_count": 25,
     "metadata": {},
     "output_type": "execute_result"
    }
   ],
   "source": [
    "y_train_B.shape # a much smaller training set of just the first 200 images of sandals or shirts."
   ]
  },
  {
   "cell_type": "code",
   "execution_count": 26,
   "metadata": {},
   "outputs": [],
   "source": [
    "tf.random.set_seed(42)\n",
    "np.random.seed(42)"
   ]
  },
  {
   "cell_type": "code",
   "execution_count": 27,
   "metadata": {},
   "outputs": [],
   "source": [
    "# Define the model A\n",
    "model_A = keras.models.Sequential()                # We will train a model on set A (classification task with 8 classes)         \n",
    "model_A.add(keras.layers.Flatten(input_shape=[28, 28]))\n",
    "for n_hidden in (300, 100, 50, 50, 50):\n",
    "    model_A.add(keras.layers.Dense(n_hidden, activation=\"selu\"))\n",
    "model_A.add(keras.layers.Dense(8, activation=\"softmax\"))"
   ]
  },
  {
   "cell_type": "code",
   "execution_count": 28,
   "metadata": {},
   "outputs": [
    {
     "name": "stdout",
     "output_type": "stream",
     "text": [
      "Model: \"sequential_3\"\n",
      "_________________________________________________________________\n",
      "Layer (type)                 Output Shape              Param #   \n",
      "=================================================================\n",
      "flatten_3 (Flatten)          (None, 784)               0         \n",
      "_________________________________________________________________\n",
      "dense_9 (Dense)              (None, 300)               235500    \n",
      "_________________________________________________________________\n",
      "dense_10 (Dense)             (None, 100)               30100     \n",
      "_________________________________________________________________\n",
      "dense_11 (Dense)             (None, 50)                5050      \n",
      "_________________________________________________________________\n",
      "dense_12 (Dense)             (None, 50)                2550      \n",
      "_________________________________________________________________\n",
      "dense_13 (Dense)             (None, 50)                2550      \n",
      "_________________________________________________________________\n",
      "dense_14 (Dense)             (None, 8)                 408       \n",
      "=================================================================\n",
      "Total params: 276,158\n",
      "Trainable params: 276,158\n",
      "Non-trainable params: 0\n",
      "_________________________________________________________________\n"
     ]
    }
   ],
   "source": [
    "model_A.summary()"
   ]
  },
  {
   "cell_type": "code",
   "execution_count": 29,
   "metadata": {},
   "outputs": [],
   "source": [
    "model_A.compile(loss=\"sparse_categorical_crossentropy\",\n",
    "                optimizer=keras.optimizers.SGD(lr=1e-3),\n",
    "                metrics=[\"accuracy\"])"
   ]
  },
  {
   "cell_type": "code",
   "execution_count": 30,
   "metadata": {},
   "outputs": [
    {
     "name": "stdout",
     "output_type": "stream",
     "text": [
      "Epoch 1/20\n",
      "1375/1375 [==============================] - 6s 4ms/step - loss: 0.5926 - accuracy: 0.8104 - val_loss: 0.3896 - val_accuracy: 0.8662\n",
      "Epoch 2/20\n",
      "1375/1375 [==============================] - 5s 4ms/step - loss: 0.3523 - accuracy: 0.8786 - val_loss: 0.3288 - val_accuracy: 0.8827\n",
      "Epoch 3/20\n",
      "1375/1375 [==============================] - 6s 4ms/step - loss: 0.3170 - accuracy: 0.8895 - val_loss: 0.3014 - val_accuracy: 0.8986\n",
      "Epoch 4/20\n",
      "1375/1375 [==============================] - 6s 4ms/step - loss: 0.2973 - accuracy: 0.8975 - val_loss: 0.2896 - val_accuracy: 0.9011\n",
      "Epoch 5/20\n",
      "1375/1375 [==============================] - 6s 4ms/step - loss: 0.2835 - accuracy: 0.9022 - val_loss: 0.2775 - val_accuracy: 0.9061\n",
      "Epoch 6/20\n",
      "1375/1375 [==============================] - 7s 5ms/step - loss: 0.2730 - accuracy: 0.9060 - val_loss: 0.2736 - val_accuracy: 0.9066\n",
      "Epoch 7/20\n",
      "1375/1375 [==============================] - 7s 5ms/step - loss: 0.2641 - accuracy: 0.9092 - val_loss: 0.2718 - val_accuracy: 0.9091\n",
      "Epoch 8/20\n",
      "1375/1375 [==============================] - 7s 5ms/step - loss: 0.2573 - accuracy: 0.9126 - val_loss: 0.2589 - val_accuracy: 0.9143\n",
      "Epoch 9/20\n",
      "1375/1375 [==============================] - 8s 6ms/step - loss: 0.2518 - accuracy: 0.9135 - val_loss: 0.2560 - val_accuracy: 0.9143\n",
      "Epoch 10/20\n",
      "1375/1375 [==============================] - 11s 8ms/step - loss: 0.2469 - accuracy: 0.9152 - val_loss: 0.2542 - val_accuracy: 0.9160\n",
      "Epoch 11/20\n",
      "1375/1375 [==============================] - 11s 8ms/step - loss: 0.2423 - accuracy: 0.9176 - val_loss: 0.2495 - val_accuracy: 0.9148\n",
      "Epoch 12/20\n",
      "1375/1375 [==============================] - 8s 6ms/step - loss: 0.2382 - accuracy: 0.9187 - val_loss: 0.2513 - val_accuracy: 0.9123\n",
      "Epoch 13/20\n",
      "1375/1375 [==============================] - 10s 7ms/step - loss: 0.2350 - accuracy: 0.9197 - val_loss: 0.2444 - val_accuracy: 0.9158\n",
      "Epoch 14/20\n",
      "1375/1375 [==============================] - 7s 5ms/step - loss: 0.2315 - accuracy: 0.9212 - val_loss: 0.2414 - val_accuracy: 0.9173\n",
      "Epoch 15/20\n",
      "1375/1375 [==============================] - 12s 9ms/step - loss: 0.2287 - accuracy: 0.9211 - val_loss: 0.2448 - val_accuracy: 0.9195\n",
      "Epoch 16/20\n",
      "1375/1375 [==============================] - 11s 8ms/step - loss: 0.2254 - accuracy: 0.9225 - val_loss: 0.2386 - val_accuracy: 0.9188\n",
      "Epoch 17/20\n",
      "1375/1375 [==============================] - 10s 8ms/step - loss: 0.2230 - accuracy: 0.9233 - val_loss: 0.2409 - val_accuracy: 0.9175\n",
      "Epoch 18/20\n",
      "1375/1375 [==============================] - 11s 8ms/step - loss: 0.2200 - accuracy: 0.9246 - val_loss: 0.2427 - val_accuracy: 0.9153\n",
      "Epoch 19/20\n",
      "1375/1375 [==============================] - 6s 5ms/step - loss: 0.2178 - accuracy: 0.9251 - val_loss: 0.2329 - val_accuracy: 0.9195\n",
      "Epoch 20/20\n",
      "1375/1375 [==============================] - 4s 3ms/step - loss: 0.2156 - accuracy: 0.9259 - val_loss: 0.2333 - val_accuracy: 0.92100s - loss: 0.2153 \n"
     ]
    }
   ],
   "source": [
    "# Train the model A for task A \n",
    "history = model_A.fit(X_train_A, y_train_A, epochs=20,\n",
    "                    validation_data=(X_valid_A, y_valid_A))"
   ]
  },
  {
   "cell_type": "code",
   "execution_count": 31,
   "metadata": {},
   "outputs": [],
   "source": [
    "model_B = keras.models.Sequential()\n",
    "model_B.add(keras.layers.Flatten(input_shape=[28, 28]))\n",
    "for n_hidden in (300, 100, 50, 50, 50):\n",
    "    model_B.add(keras.layers.Dense(n_hidden, activation=\"selu\"))\n",
    "model_B.add(keras.layers.Dense(1, activation=\"sigmoid\"))"
   ]
  },
  {
   "cell_type": "code",
   "execution_count": 32,
   "metadata": {},
   "outputs": [
    {
     "name": "stdout",
     "output_type": "stream",
     "text": [
      "Model: \"sequential_4\"\n",
      "_________________________________________________________________\n",
      "Layer (type)                 Output Shape              Param #   \n",
      "=================================================================\n",
      "flatten_4 (Flatten)          (None, 784)               0         \n",
      "_________________________________________________________________\n",
      "dense_15 (Dense)             (None, 300)               235500    \n",
      "_________________________________________________________________\n",
      "dense_16 (Dense)             (None, 100)               30100     \n",
      "_________________________________________________________________\n",
      "dense_17 (Dense)             (None, 50)                5050      \n",
      "_________________________________________________________________\n",
      "dense_18 (Dense)             (None, 50)                2550      \n",
      "_________________________________________________________________\n",
      "dense_19 (Dense)             (None, 50)                2550      \n",
      "_________________________________________________________________\n",
      "dense_20 (Dense)             (None, 1)                 51        \n",
      "=================================================================\n",
      "Total params: 275,801\n",
      "Trainable params: 275,801\n",
      "Non-trainable params: 0\n",
      "_________________________________________________________________\n"
     ]
    }
   ],
   "source": [
    "model_B.summary()"
   ]
  },
  {
   "cell_type": "code",
   "execution_count": 33,
   "metadata": {},
   "outputs": [],
   "source": [
    "model_B.compile(loss=\"binary_crossentropy\",\n",
    "                optimizer=keras.optimizers.SGD(learning_rate=1e-3),\n",
    "                metrics=[\"accuracy\"])"
   ]
  },
  {
   "cell_type": "code",
   "execution_count": 34,
   "metadata": {},
   "outputs": [
    {
     "name": "stdout",
     "output_type": "stream",
     "text": [
      "Epoch 1/20\n",
      "7/7 [==============================] - 0s 52ms/step - loss: 0.9573 - accuracy: 0.4650 - val_loss: 0.6314 - val_accuracy: 0.6004\n",
      "Epoch 2/20\n",
      "7/7 [==============================] - 0s 20ms/step - loss: 0.5692 - accuracy: 0.7450 - val_loss: 0.4784 - val_accuracy: 0.8529\n",
      "Epoch 3/20\n",
      "7/7 [==============================] - 0s 26ms/step - loss: 0.4503 - accuracy: 0.8650 - val_loss: 0.4102 - val_accuracy: 0.8945\n",
      "Epoch 4/20\n",
      "7/7 [==============================] - 0s 21ms/step - loss: 0.3879 - accuracy: 0.8950 - val_loss: 0.3647 - val_accuracy: 0.9178\n",
      "Epoch 5/20\n",
      "7/7 [==============================] - 0s 26ms/step - loss: 0.3435 - accuracy: 0.9250 - val_loss: 0.3300 - val_accuracy: 0.9320\n",
      "Epoch 6/20\n",
      "7/7 [==============================] - 0s 33ms/step - loss: 0.3081 - accuracy: 0.9300 - val_loss: 0.3019 - val_accuracy: 0.9402\n",
      "Epoch 7/20\n",
      "7/7 [==============================] - 0s 19ms/step - loss: 0.2800 - accuracy: 0.9350 - val_loss: 0.2804 - val_accuracy: 0.9422\n",
      "Epoch 8/20\n",
      "7/7 [==============================] - 0s 20ms/step - loss: 0.2564 - accuracy: 0.9450 - val_loss: 0.2606 - val_accuracy: 0.9473\n",
      "Epoch 9/20\n",
      "7/7 [==============================] - 0s 28ms/step - loss: 0.2362 - accuracy: 0.9550 - val_loss: 0.2428 - val_accuracy: 0.9523\n",
      "Epoch 10/20\n",
      "7/7 [==============================] - 0s 21ms/step - loss: 0.2188 - accuracy: 0.9600 - val_loss: 0.2281 - val_accuracy: 0.9544\n",
      "Epoch 11/20\n",
      "7/7 [==============================] - 0s 37ms/step - loss: 0.2036 - accuracy: 0.9700 - val_loss: 0.2150 - val_accuracy: 0.9584\n",
      "Epoch 12/20\n",
      "7/7 [==============================] - 0s 27ms/step - loss: 0.1898 - accuracy: 0.9700 - val_loss: 0.2036 - val_accuracy: 0.9584\n",
      "Epoch 13/20\n",
      "7/7 [==============================] - 0s 35ms/step - loss: 0.1773 - accuracy: 0.9750 - val_loss: 0.1931 - val_accuracy: 0.9615\n",
      "Epoch 14/20\n",
      "7/7 [==============================] - 0s 34ms/step - loss: 0.1668 - accuracy: 0.9800 - val_loss: 0.1838 - val_accuracy: 0.9635\n",
      "Epoch 15/20\n",
      "7/7 [==============================] - 0s 28ms/step - loss: 0.1570 - accuracy: 0.9900 - val_loss: 0.1746 - val_accuracy: 0.9686\n",
      "Epoch 16/20\n",
      "7/7 [==============================] - 0s 34ms/step - loss: 0.1481 - accuracy: 0.9900 - val_loss: 0.1674 - val_accuracy: 0.9686\n",
      "Epoch 17/20\n",
      "7/7 [==============================] - 0s 27ms/step - loss: 0.1406 - accuracy: 0.9900 - val_loss: 0.1604 - val_accuracy: 0.9706\n",
      "Epoch 18/20\n",
      "7/7 [==============================] - 0s 34ms/step - loss: 0.1334 - accuracy: 0.9900 - val_loss: 0.1539 - val_accuracy: 0.9706\n",
      "Epoch 19/20\n",
      "7/7 [==============================] - 0s 38ms/step - loss: 0.1268 - accuracy: 0.9900 - val_loss: 0.1482 - val_accuracy: 0.9716\n",
      "Epoch 20/20\n",
      "7/7 [==============================] - 0s 35ms/step - loss: 0.1208 - accuracy: 0.9900 - val_loss: 0.1431 - val_accuracy: 0.9716\n"
     ]
    }
   ],
   "source": [
    "# Train the model B\n",
    "history = model_B.fit(X_train_B, y_train_B, epochs=20,\n",
    "                      validation_data=(X_valid_B, y_valid_B))"
   ]
  },
  {
   "cell_type": "code",
   "execution_count": 38,
   "metadata": {},
   "outputs": [],
   "source": [
    "# We hope to transfer a little bit of knowledge from task A to task B, since classes in set A (sneakers, ankle boots, coats, t-shirts, etc.) \n",
    "# are somewhat similar to classes in set B (sandals and shirts).\n",
    "model_B_on_A = keras.models.Sequential(model_A.layers[:-1]) ## remove the layer with 8 neurons of model A\n",
    "model_B_on_A.add(keras.layers.Dense(1, activation=\"sigmoid\"))"
   ]
  },
  {
   "cell_type": "code",
   "execution_count": 39,
   "metadata": {},
   "outputs": [
    {
     "name": "stdout",
     "output_type": "stream",
     "text": [
      "Model: \"sequential_6\"\n",
      "_________________________________________________________________\n",
      "Layer (type)                 Output Shape              Param #   \n",
      "=================================================================\n",
      "flatten_3 (Flatten)          (None, 784)               0         \n",
      "_________________________________________________________________\n",
      "dense_9 (Dense)              (None, 300)               235500    \n",
      "_________________________________________________________________\n",
      "dense_10 (Dense)             (None, 100)               30100     \n",
      "_________________________________________________________________\n",
      "dense_11 (Dense)             (None, 50)                5050      \n",
      "_________________________________________________________________\n",
      "dense_12 (Dense)             (None, 50)                2550      \n",
      "_________________________________________________________________\n",
      "dense_13 (Dense)             (None, 50)                2550      \n",
      "_________________________________________________________________\n",
      "dense_21 (Dense)             (None, 1)                 51        \n",
      "=================================================================\n",
      "Total params: 275,801\n",
      "Trainable params: 275,801\n",
      "Non-trainable params: 0\n",
      "_________________________________________________________________\n"
     ]
    }
   ],
   "source": [
    "model_B_on_A.summary()"
   ]
  },
  {
   "cell_type": "markdown",
   "metadata": {},
   "source": [
    "Note that `model_B_on_A` and `model_A` actually share layers now, so when we train one, it will update both models. If we want to avoid that, we need to build `model_B_on_A` on top of a clone of `model_A`:"
   ]
  },
  {
   "cell_type": "code",
   "execution_count": 40,
   "metadata": {},
   "outputs": [],
   "source": [
    "model_A_clone = keras.models.clone_model(model_A)  # Clone the model\n",
    "model_A_clone.set_weights(model_A.get_weights())   # Utilise the weights from model A"
   ]
  },
  {
   "cell_type": "code",
   "execution_count": 44,
   "metadata": {},
   "outputs": [
    {
     "name": "stdout",
     "output_type": "stream",
     "text": [
      "Epoch 1/4\n",
      "7/7 [==============================] - 0s 44ms/step - loss: 0.1997 - accuracy: 0.9600 - val_loss: 0.2152 - val_accuracy: 0.9665\n",
      "Epoch 2/4\n",
      "7/7 [==============================] - 0s 16ms/step - loss: 0.1940 - accuracy: 0.9600 - val_loss: 0.2098 - val_accuracy: 0.9675\n",
      "Epoch 3/4\n",
      "7/7 [==============================] - 0s 18ms/step - loss: 0.1886 - accuracy: 0.9600 - val_loss: 0.2045 - val_accuracy: 0.9716\n",
      "Epoch 4/4\n",
      "7/7 [==============================] - 0s 17ms/step - loss: 0.1834 - accuracy: 0.9600 - val_loss: 0.1997 - val_accuracy: 0.9736\n"
     ]
    }
   ],
   "source": [
    "# Freeze the layers \n",
    "\n",
    "for layer in model_B_on_A.layers[:-1]:\n",
    "    layer.trainable = False   # freeze the layers\n",
    "\n",
    "model_B_on_A.compile(loss=\"binary_crossentropy\",\n",
    "                     optimizer=keras.optimizers.SGD(lr=1e-3),\n",
    "                     metrics=[\"accuracy\"])\n",
    "\n",
    "history = model_B_on_A.fit(X_train_B, y_train_B, epochs=4,\n",
    "                           validation_data=(X_valid_B, y_valid_B))"
   ]
  },
  {
   "cell_type": "code",
   "execution_count": 45,
   "metadata": {},
   "outputs": [
    {
     "name": "stdout",
     "output_type": "stream",
     "text": [
      "Epoch 1/20\n",
      "7/7 [==============================] - 1s 76ms/step - loss: 0.1705 - accuracy: 0.9600 - val_loss: 0.1748 - val_accuracy: 0.9757\n",
      "Epoch 2/20\n",
      "7/7 [==============================] - 0s 22ms/step - loss: 0.1471 - accuracy: 0.9700 - val_loss: 0.1563 - val_accuracy: 0.9807\n",
      "Epoch 3/20\n",
      "7/7 [==============================] - 0s 13ms/step - loss: 0.1297 - accuracy: 0.9800 - val_loss: 0.1415 - val_accuracy: 0.9838\n",
      "Epoch 4/20\n",
      "7/7 [==============================] - 0s 11ms/step - loss: 0.1160 - accuracy: 0.9800 - val_loss: 0.1300 - val_accuracy: 0.9838\n",
      "Epoch 5/20\n",
      "7/7 [==============================] - 0s 14ms/step - loss: 0.1051 - accuracy: 0.9850 - val_loss: 0.1205 - val_accuracy: 0.9848\n",
      "Epoch 6/20\n",
      "7/7 [==============================] - 0s 19ms/step - loss: 0.0959 - accuracy: 0.9900 - val_loss: 0.1122 - val_accuracy: 0.9868\n",
      "Epoch 7/20\n",
      "7/7 [==============================] - 0s 16ms/step - loss: 0.0881 - accuracy: 0.9900 - val_loss: 0.1054 - val_accuracy: 0.9888\n",
      "Epoch 8/20\n",
      "7/7 [==============================] - 0s 18ms/step - loss: 0.0816 - accuracy: 0.9900 - val_loss: 0.0996 - val_accuracy: 0.9899\n",
      "Epoch 9/20\n",
      "7/7 [==============================] - 0s 19ms/step - loss: 0.0761 - accuracy: 0.9900 - val_loss: 0.0939 - val_accuracy: 0.9899\n",
      "Epoch 10/20\n",
      "7/7 [==============================] - 0s 17ms/step - loss: 0.0708 - accuracy: 0.9950 - val_loss: 0.0894 - val_accuracy: 0.9899\n",
      "Epoch 11/20\n",
      "7/7 [==============================] - 0s 17ms/step - loss: 0.0665 - accuracy: 0.9950 - val_loss: 0.0855 - val_accuracy: 0.9899\n",
      "Epoch 12/20\n",
      "7/7 [==============================] - 0s 19ms/step - loss: 0.0626 - accuracy: 0.9950 - val_loss: 0.0815 - val_accuracy: 0.9899\n",
      "Epoch 13/20\n",
      "7/7 [==============================] - 0s 16ms/step - loss: 0.0587 - accuracy: 0.9950 - val_loss: 0.0783 - val_accuracy: 0.9899\n",
      "Epoch 14/20\n",
      "7/7 [==============================] - 0s 17ms/step - loss: 0.0556 - accuracy: 0.9950 - val_loss: 0.0756 - val_accuracy: 0.9888\n",
      "Epoch 15/20\n",
      "7/7 [==============================] - 0s 18ms/step - loss: 0.0530 - accuracy: 0.9950 - val_loss: 0.0730 - val_accuracy: 0.9888\n",
      "Epoch 16/20\n",
      "7/7 [==============================] - 0s 18ms/step - loss: 0.0505 - accuracy: 0.9950 - val_loss: 0.0705 - val_accuracy: 0.9888\n",
      "Epoch 17/20\n",
      "7/7 [==============================] - 0s 15ms/step - loss: 0.0480 - accuracy: 0.9950 - val_loss: 0.0683 - val_accuracy: 0.9888\n",
      "Epoch 18/20\n",
      "7/7 [==============================] - 0s 17ms/step - loss: 0.0459 - accuracy: 1.0000 - val_loss: 0.0662 - val_accuracy: 0.9888\n",
      "Epoch 19/20\n",
      "7/7 [==============================] - 0s 22ms/step - loss: 0.0439 - accuracy: 1.0000 - val_loss: 0.0641 - val_accuracy: 0.9899\n",
      "Epoch 20/20\n",
      "7/7 [==============================] - 0s 18ms/step - loss: 0.0418 - accuracy: 1.0000 - val_loss: 0.0625 - val_accuracy: 0.9899\n"
     ]
    }
   ],
   "source": [
    "for layer in model_B_on_A.layers[:-1]:\n",
    "    layer.trainable = True # unfreeze the layers\n",
    "\n",
    "model_B_on_A.compile(loss=\"binary_crossentropy\",\n",
    "                     optimizer=keras.optimizers.SGD(lr=1e-3),\n",
    "                     metrics=[\"accuracy\"])\n",
    "\n",
    "history = model_B_on_A.fit(X_train_B, y_train_B, epochs=20,\n",
    "                           validation_data=(X_valid_B, y_valid_B))"
   ]
  },
  {
   "cell_type": "markdown",
   "metadata": {},
   "source": [
    "Task 4:\n",
    "a) Evaluate the loss and accuracy of the two models `model_B` and `model_B_on_A` on the sandals/shirts dataset. "
   ]
  },
  {
   "cell_type": "markdown",
   "metadata": {
    "id": "nsnymzLuLvm2"
   },
   "source": [
    "↓↓↓↓↓↓↓↓↓↓↓↓↓↓↓↓↓↓↓↓↓↓↓↓↓↓↓↓↓↓↓ your code goes below"
   ]
  },
  {
   "cell_type": "code",
   "execution_count": 46,
   "metadata": {},
   "outputs": [
    {
     "name": "stdout",
     "output_type": "stream",
     "text": [
      "63/63 [==============================] - 0s 4ms/step - loss: 0.1408 - accuracy: 0.9705\n"
     ]
    },
    {
     "data": {
      "text/plain": [
       "[0.1408407837152481, 0.9704999923706055]"
      ]
     },
     "execution_count": 46,
     "metadata": {},
     "output_type": "execute_result"
    }
   ],
   "source": [
    "model_B.evaluate(X_test_B, y_test_B)  # Task B, 200 images of sandals and shirts"
   ]
  },
  {
   "cell_type": "code",
   "execution_count": 47,
   "metadata": {},
   "outputs": [
    {
     "name": "stdout",
     "output_type": "stream",
     "text": [
      "63/63 [==============================] - 0s 3ms/step - loss: 0.0569 - accuracy: 0.9960\n"
     ]
    },
    {
     "data": {
      "text/plain": [
       "[0.056926429271698, 0.9959999918937683]"
      ]
     },
     "execution_count": 47,
     "metadata": {},
     "output_type": "execute_result"
    }
   ],
   "source": [
    "model_B_on_A.evaluate(X_test_B, y_test_B) # Task B, 200 images of sandals and shirts"
   ]
  },
  {
   "cell_type": "markdown",
   "metadata": {},
   "source": [
    "↑↑↑↑↑↑↑↑↑↑↑↑↑↑↑↑↑↑↑↑↑↑↑↑↑↑↑↑↑↑↑ your code goes above"
   ]
  },
  {
   "cell_type": "markdown",
   "metadata": {},
   "source": [
    "b) In your own words, explain above \"transfer learning\". Did it help?"
   ]
  },
  {
   "cell_type": "markdown",
   "metadata": {
    "id": "nsnymzLuLvm2"
   },
   "source": [
    "↓↓↓↓↓↓↓↓↓↓↓↓↓↓↓↓↓↓↓↓↓↓↓↓↓↓↓↓↓↓↓ your code goes below"
   ]
  },
  {
   "cell_type": "markdown",
   "metadata": {},
   "source": [
    "Task 4: b) The transfer learning consists in reuse the lower layers of an already trained NN. If the tasks are very similar, the trained lower layers can be used to speed up the training for a NN with a more specific task. With the transfer learning technique the accuracy obtained in the binary classification was increased. For the model_B we got 97% and for the model with lower layers already trained, model_B_on_A, it achieves 99,6% of accuracy. "
   ]
  },
  {
   "cell_type": "markdown",
   "metadata": {},
   "source": [
    "↑↑↑↑↑↑↑↑↑↑↑↑↑↑↑↑↑↑↑↑↑↑↑↑↑↑↑↑↑↑↑ your code goes above"
   ]
  },
  {
   "cell_type": "markdown",
   "metadata": {},
   "source": [
    "## Task 5: Learning Rate Scheduling\n",
    "Let's add a an exponential decay of the learning rate:"
   ]
  },
  {
   "cell_type": "markdown",
   "metadata": {},
   "source": [
    "We will use the following learning rate schedule (exponential):   \n",
    "$ lr = lr_0 \\cdot 0.1 ^ {epoch / 20}$"
   ]
  },
  {
   "cell_type": "code",
   "execution_count": 48,
   "metadata": {},
   "outputs": [],
   "source": [
    "def exponential_decay(lr0, s):\n",
    "    def exponential_decay_fn(epoch):\n",
    "        return lr0 * 0.1**(epoch / s)\n",
    "    return exponential_decay_fn\n",
    "\n",
    "exponential_decay_fn = exponential_decay(lr0=0.01, s=20)\n",
    "\n",
    "lr_scheduler = keras.callbacks.LearningRateScheduler(exponential_decay_fn)"
   ]
  },
  {
   "cell_type": "markdown",
   "metadata": {},
   "source": [
    "**Task 5:** \n",
    "- Build a NN with: two hidden layers with 300 and 100 nodes, add BatchNormalization layers before the dense layers,\n",
    "- compile the model with `\"sparse_categorical_crossentropy\"` as `loss`, `\"nadam\"` for the `optimizer` and `[\"accuracy\"]` as `metrics`,\n",
    "- fit the model to `X_train` and `y_train` for 25 epochs. Use `(X_valid, y_valid)` for the `validation_data` and add the exponential decay through `callbacks=[lr_scheduler]`."
   ]
  },
  {
   "cell_type": "markdown",
   "metadata": {
    "id": "nsnymzLuLvm2"
   },
   "source": [
    "↓↓↓↓↓↓↓↓↓↓↓↓↓↓↓↓↓↓↓↓↓↓↓↓↓↓↓↓↓↓↓ your code goes below"
   ]
  },
  {
   "cell_type": "code",
   "execution_count": 50,
   "metadata": {},
   "outputs": [],
   "source": [
    "# Build a NN with: two hidden layers with 300 and 100 nodes, add BatchNormalization layers before the dense layers\n",
    "model = keras.models.Sequential([\n",
    "    keras.layers.Flatten(input_shape=[28, 28]), \n",
    "    keras.layers.BatchNormalization(),\n",
    "    keras.layers.Dense(300, activation=\"relu\"),\n",
    "    keras.layers.BatchNormalization(),\n",
    "    keras.layers.Dense(100, activation=\"relu\"),\n",
    "    keras.layers.BatchNormalization(),\n",
    "    keras.layers.Dense(10, activation=\"softmax\")\n",
    "])"
   ]
  },
  {
   "cell_type": "code",
   "execution_count": 51,
   "metadata": {},
   "outputs": [],
   "source": [
    "# - compile the model with `\"sparse_categorical_crossentropy\"` as `loss`, `\"nadam\"` \n",
    "# for the `optimizer` and `[\"accuracy\"]` as `metrics`,\n",
    "model.compile(loss=\"sparse_categorical_crossentropy\",\n",
    "                     optimizer=\"nadam\",\n",
    "                     metrics=[\"accuracy\"])"
   ]
  },
  {
   "cell_type": "code",
   "execution_count": 52,
   "metadata": {},
   "outputs": [
    {
     "name": "stdout",
     "output_type": "stream",
     "text": [
      "Epoch 1/25\n",
      "1719/1719 [==============================] - 25s 14ms/step - loss: 0.4940 - accuracy: 0.8211 - val_loss: 0.3524 - val_accuracy: 0.8716\n",
      "Epoch 2/25\n",
      "1719/1719 [==============================] - 15s 9ms/step - loss: 0.3861 - accuracy: 0.8579 - val_loss: 0.3781 - val_accuracy: 0.8608\n",
      "Epoch 3/25\n",
      "1719/1719 [==============================] - 15s 9ms/step - loss: 0.3557 - accuracy: 0.8686 - val_loss: 0.3519 - val_accuracy: 0.8690\n",
      "Epoch 4/25\n",
      "1719/1719 [==============================] - 18s 11ms/step - loss: 0.3243 - accuracy: 0.8794 - val_loss: 0.3277 - val_accuracy: 0.8834\n",
      "Epoch 5/25\n",
      "1719/1719 [==============================] - 18s 10ms/step - loss: 0.3029 - accuracy: 0.8876 - val_loss: 0.3022 - val_accuracy: 0.8890\n",
      "Epoch 6/25\n",
      "1719/1719 [==============================] - 18s 10ms/step - loss: 0.2844 - accuracy: 0.8939 - val_loss: 0.3018 - val_accuracy: 0.8938\n",
      "Epoch 7/25\n",
      "1719/1719 [==============================] - 19s 11ms/step - loss: 0.2681 - accuracy: 0.8997 - val_loss: 0.3084 - val_accuracy: 0.8888\n",
      "Epoch 8/25\n",
      "1719/1719 [==============================] - 45s 26ms/step - loss: 0.2512 - accuracy: 0.9055 - val_loss: 0.2973 - val_accuracy: 0.8938\n",
      "Epoch 9/25\n",
      "1719/1719 [==============================] - 30s 17ms/step - loss: 0.2335 - accuracy: 0.9115 - val_loss: 0.2957 - val_accuracy: 0.8986\n",
      "Epoch 10/25\n",
      "1719/1719 [==============================] - 23s 13ms/step - loss: 0.2202 - accuracy: 0.9161 - val_loss: 0.3003 - val_accuracy: 0.8962\n",
      "Epoch 11/25\n",
      "1719/1719 [==============================] - 27s 16ms/step - loss: 0.2087 - accuracy: 0.9205 - val_loss: 0.3042 - val_accuracy: 0.8982\n",
      "Epoch 12/25\n",
      "1719/1719 [==============================] - 26s 15ms/step - loss: 0.1999 - accuracy: 0.9241 - val_loss: 0.3117 - val_accuracy: 0.8952\n",
      "Epoch 13/25\n",
      "1719/1719 [==============================] - 26s 15ms/step - loss: 0.1885 - accuracy: 0.9283 - val_loss: 0.3293 - val_accuracy: 0.8996\n",
      "Epoch 14/25\n",
      "1719/1719 [==============================] - 24s 14ms/step - loss: 0.1783 - accuracy: 0.9323 - val_loss: 0.3061 - val_accuracy: 0.9012\n",
      "Epoch 15/25\n",
      "1719/1719 [==============================] - 22s 13ms/step - loss: 0.1694 - accuracy: 0.9358 - val_loss: 0.3142 - val_accuracy: 0.9004\n",
      "Epoch 16/25\n",
      "1719/1719 [==============================] - 22s 13ms/step - loss: 0.1602 - accuracy: 0.9401 - val_loss: 0.3404 - val_accuracy: 0.8964\n",
      "Epoch 17/25\n",
      "1719/1719 [==============================] - 22s 13ms/step - loss: 0.1544 - accuracy: 0.9405 - val_loss: 0.3287 - val_accuracy: 0.9002\n",
      "Epoch 18/25\n",
      "1719/1719 [==============================] - 20s 12ms/step - loss: 0.1446 - accuracy: 0.9451 - val_loss: 0.3320 - val_accuracy: 0.9008\n",
      "Epoch 19/25\n",
      "1719/1719 [==============================] - 20s 12ms/step - loss: 0.1411 - accuracy: 0.9466 - val_loss: 0.3500 - val_accuracy: 0.9014\n",
      "Epoch 20/25\n",
      "1719/1719 [==============================] - 29s 17ms/step - loss: 0.1348 - accuracy: 0.9487 - val_loss: 0.3415 - val_accuracy: 0.9024\n",
      "Epoch 21/25\n",
      "1719/1719 [==============================] - 29s 17ms/step - loss: 0.1274 - accuracy: 0.9510 - val_loss: 0.3464 - val_accuracy: 0.8986\n",
      "Epoch 22/25\n",
      "1719/1719 [==============================] - 27s 16ms/step - loss: 0.1245 - accuracy: 0.9529 - val_loss: 0.3412 - val_accuracy: 0.9042\n",
      "Epoch 23/25\n",
      "1719/1719 [==============================] - 23s 13ms/step - loss: 0.1189 - accuracy: 0.9551 - val_loss: 0.3620 - val_accuracy: 0.8996\n",
      "Epoch 24/25\n",
      "1719/1719 [==============================] - 21s 12ms/step - loss: 0.1145 - accuracy: 0.9567 - val_loss: 0.3763 - val_accuracy: 0.9030\n",
      "Epoch 25/25\n",
      "1719/1719 [==============================] - 25s 14ms/step - loss: 0.1127 - accuracy: 0.9570 - val_loss: 0.3906 - val_accuracy: 0.9008\n"
     ]
    }
   ],
   "source": [
    "#fit the model to X_train and y_train for 25 epochs. \n",
    "#Use (X_valid, y_valid) for the validation_data and add the exponential decay through callbacks=[lr_scheduler]\n",
    "history = model.fit(X_train, y_train, epochs=25,\n",
    "                           validation_data=(X_valid, y_valid), callbacks=[lr_scheduler])"
   ]
  },
  {
   "cell_type": "markdown",
   "metadata": {},
   "source": [
    "↑↑↑↑↑↑↑↑↑↑↑↑↑↑↑↑↑↑↑↑↑↑↑↑↑↑↑↑↑↑↑ your code goes above"
   ]
  },
  {
   "cell_type": "code",
   "execution_count": 53,
   "metadata": {},
   "outputs": [
    {
     "name": "stdout",
     "output_type": "stream",
     "text": [
      "1719/1719 [==============================] - 5s 3ms/step - loss: 0.0872 - accuracy: 0.9742TA\n",
      "train loss: [0.0872202217578888, 0.9741818308830261]\n",
      "313/313 [==============================] - 1s 3ms/step - loss: 0.4110 - accuracy: 0.8962\n",
      "test loss: [0.411037802696228, 0.8962000012397766]\n"
     ]
    }
   ],
   "source": [
    "# note that the model is overfitting a lot. Might want to use dropout\n",
    "# also a CNN will perform much better as we will see next Hands-On\n",
    "print(\"train loss:\", model.evaluate(X_train, y_train))\n",
    "print(\"test loss:\", model.evaluate(X_test, y_test))"
   ]
  },
  {
   "cell_type": "code",
   "execution_count": 54,
   "metadata": {},
   "outputs": [
    {
     "data": {
      "text/plain": [
       "dict_keys(['loss', 'accuracy', 'val_loss', 'val_accuracy', 'lr'])"
      ]
     },
     "execution_count": 54,
     "metadata": {},
     "output_type": "execute_result"
    }
   ],
   "source": [
    "# the learning rate is saved in the history under the key 'lr' \n",
    "history.history.keys()"
   ]
  },
  {
   "cell_type": "code",
   "execution_count": 56,
   "metadata": {},
   "outputs": [
    {
     "data": {
      "image/png": "[encoded data removed]",
      "text/plain": [
       "<Figure size 432x288 with 1 Axes>"
      ]
     },
     "metadata": {
      "needs_background": "light"
     },
     "output_type": "display_data"
    }
   ],
   "source": [
    "n_epochs = 25\n",
    "plt.plot(history.epoch, history.history[\"lr\"], \"o-\")\n",
    "plt.axis([0, n_epochs - 1, 0, 0.011])\n",
    "plt.xlabel(\"Epoch\")\n",
    "plt.ylabel(\"Learning Rate\")\n",
    "plt.title(\"Exponential Scheduling\", fontsize=14)\n",
    "plt.grid(True)\n",
    "plt.show()"
   ]
  },
  {
   "cell_type": "markdown",
   "metadata": {},
   "source": [
    "Note: If you want to use learning rate decay, it is probably better to use a Keras built in function like [ExponentialDecay](https://keras.io/api/optimizers/learning_rate_schedules/exponential_decay/) and not program it yourself."
   ]
  },
  {
   "cell_type": "markdown",
   "metadata": {},
   "source": [
    "## Task 6: Performance Scheduling"
   ]
  },
  {
   "cell_type": "markdown",
   "metadata": {},
   "source": [
    "For performance scheduling, use the `ReduceLROnPlateau` callback. For example, if you pass the following callback to the `fit()` method, it will multiply the learning rate by 0.5 whenever the best validation loss does not improve for two consecutive epochs:\n",
    "\n",
    "`lr_scheduler = keras.callbacks.ReduceLROnPlateau(factor=0.5, patience=2)`"
   ]
  },
  {
   "cell_type": "markdown",
   "metadata": {},
   "source": [
    "**Task 6:**   \n",
    "a) Re-use (copy-pasta) the NN from Task 5: two hidden layers with 300 and 100 nodes and BatchNormalization layers before the dense layers. But, now use Adam optimizer with a initial lr=0.01,   \n",
    "b) Compare the results with the previous one (Task 5),   \n",
    "c) Comment on the learning rate as a function of epochs using the plot given below."
   ]
  },
  {
   "cell_type": "markdown",
   "metadata": {
    "id": "nsnymzLuLvm2"
   },
   "source": [
    "↓↓↓↓↓↓↓↓↓↓↓↓↓↓↓↓↓↓↓↓↓↓↓↓↓↓↓↓↓↓↓ your code goes below"
   ]
  },
  {
   "cell_type": "code",
   "execution_count": 77,
   "metadata": {},
   "outputs": [
    {
     "name": "stdout",
     "output_type": "stream",
     "text": [
      "Epoch 1/25\n",
      "1719/1719 [==============================] - 13s 8ms/step - loss: 0.5092 - accuracy: 0.8162 - val_loss: 0.3706 - val_accuracy: 0.8602\n",
      "Epoch 2/25\n",
      "1719/1719 [==============================] - 13s 8ms/step - loss: 0.4070 - accuracy: 0.8507 - val_loss: 0.4576 - val_accuracy: 0.8454\n",
      "Epoch 3/25\n",
      "1719/1719 [==============================] - 18s 10ms/step - loss: 0.3840 - accuracy: 0.8583 - val_loss: 0.3605 - val_accuracy: 0.8730\n",
      "Epoch 4/25\n",
      "1719/1719 [==============================] - 17s 10ms/step - loss: 0.3560 - accuracy: 0.8689 - val_loss: 0.3509 - val_accuracy: 0.8714\n",
      "Epoch 5/25\n",
      "1719/1719 [==============================] - 13s 8ms/step - loss: 0.3317 - accuracy: 0.8767 - val_loss: 0.2992 - val_accuracy: 0.8886\n",
      "Epoch 6/25\n",
      "1719/1719 [==============================] - 13s 7ms/step - loss: 0.3199 - accuracy: 0.8819 - val_loss: 0.3241 - val_accuracy: 0.8866\n",
      "Epoch 7/25\n",
      "1719/1719 [==============================] - 13s 8ms/step - loss: 0.3114 - accuracy: 0.8853 - val_loss: 0.3086 - val_accuracy: 0.8890\n",
      "Epoch 8/25\n",
      "1719/1719 [==============================] - 15s 9ms/step - loss: 0.2613 - accuracy: 0.9018 - val_loss: 0.2841 - val_accuracy: 0.8952\n",
      "Epoch 9/25\n",
      "1719/1719 [==============================] - 15s 9ms/step - loss: 0.2465 - accuracy: 0.9080 - val_loss: 0.3542 - val_accuracy: 0.8962\n",
      "Epoch 10/25\n",
      "1719/1719 [==============================] - 14s 8ms/step - loss: 0.2373 - accuracy: 0.9091 - val_loss: 0.2915 - val_accuracy: 0.8910\n",
      "Epoch 11/25\n",
      "1719/1719 [==============================] - 14s 8ms/step - loss: 0.2117 - accuracy: 0.9192 - val_loss: 0.2866 - val_accuracy: 0.8992\n",
      "Epoch 12/25\n",
      "1719/1719 [==============================] - 13s 7ms/step - loss: 0.2030 - accuracy: 0.9236 - val_loss: 0.2872 - val_accuracy: 0.8994\n",
      "Epoch 13/25\n",
      "1719/1719 [==============================] - 13s 8ms/step - loss: 0.1872 - accuracy: 0.9285 - val_loss: 0.2943 - val_accuracy: 0.8998\n",
      "Epoch 14/25\n",
      "1719/1719 [==============================] - 13s 8ms/step - loss: 0.1784 - accuracy: 0.9321 - val_loss: 0.3062 - val_accuracy: 0.8990\n",
      "Epoch 15/25\n",
      "1719/1719 [==============================] - 13s 8ms/step - loss: 0.1703 - accuracy: 0.9366 - val_loss: 0.2964 - val_accuracy: 0.9000\n",
      "Epoch 16/25\n",
      "1719/1719 [==============================] - 13s 8ms/step - loss: 0.1672 - accuracy: 0.9368 - val_loss: 0.3003 - val_accuracy: 0.9000\n",
      "Epoch 17/25\n",
      "1719/1719 [==============================] - 16s 9ms/step - loss: 0.1627 - accuracy: 0.9383 - val_loss: 0.2956 - val_accuracy: 0.9024\n",
      "Epoch 18/25\n",
      "1719/1719 [==============================] - 13s 8ms/step - loss: 0.1605 - accuracy: 0.9393 - val_loss: 0.3004 - val_accuracy: 0.8996\n",
      "Epoch 19/25\n",
      "1719/1719 [==============================] - 13s 8ms/step - loss: 0.1584 - accuracy: 0.9401 - val_loss: 0.3235 - val_accuracy: 0.9004\n",
      "Epoch 20/25\n",
      "1719/1719 [==============================] - 19s 11ms/step - loss: 0.1582 - accuracy: 0.9407 - val_loss: 0.3084 - val_accuracy: 0.9002\n",
      "Epoch 21/25\n",
      "1719/1719 [==============================] - 20s 12ms/step - loss: 0.1556 - accuracy: 0.9414 - val_loss: 0.3120 - val_accuracy: 0.9016\n",
      "Epoch 22/25\n",
      "1719/1719 [==============================] - 17s 10ms/step - loss: 0.1552 - accuracy: 0.9421 - val_loss: 0.3161 - val_accuracy: 0.9022\n",
      "Epoch 23/25\n",
      "1719/1719 [==============================] - 13s 7ms/step - loss: 0.1552 - accuracy: 0.9415 - val_loss: 0.2996 - val_accuracy: 0.9020\n",
      "Epoch 24/25\n",
      "1719/1719 [==============================] - 15s 9ms/step - loss: 0.1547 - accuracy: 0.9413 - val_loss: 0.3047 - val_accuracy: 0.9022\n",
      "Epoch 25/25\n",
      "1719/1719 [==============================] - 17s 10ms/step - loss: 0.1566 - accuracy: 0.9407 - val_loss: 0.3021 - val_accuracy: 0.9018\n"
     ]
    }
   ],
   "source": [
    "# (a)\n",
    "model = keras.models.Sequential([\n",
    "    keras.layers.Flatten(input_shape=[28, 28]), \n",
    "    keras.layers.BatchNormalization(),            # BatchNormalization layers before the dense layers\n",
    "    keras.layers.Dense(300, activation=\"relu\"),   # two hidden layers with 300 and 100 nodes\n",
    "    keras.layers.BatchNormalization(),            # BatchNormalization layers before the dense layers\n",
    "    keras.layers.Dense(100, activation=\"relu\"),   # two hidden layers with 300 and 100 nodes \n",
    "    keras.layers.BatchNormalization(),            # BatchNormalization layers before the dense layers\n",
    "    keras.layers.Dense(10, activation=\"softmax\")\n",
    "])\n",
    "\n",
    "model.compile(loss=\"sparse_categorical_crossentropy\",\n",
    "                     optimizer=keras.optimizers.Adam(lr=1e-2),    # Adam optimizer with a initial lr=0.01\n",
    "                     metrics=[\"accuracy\"])\n",
    "\n",
    "\n",
    "lr_scheduler = keras.callbacks.ReduceLROnPlateau(factor=0.5, patience=2)\n",
    "history = model.fit(X_train, y_train, epochs=25,\n",
    "                           validation_data=(X_valid, y_valid), callbacks=[lr_scheduler])  # use the ReduceLROnPlateau "
   ]
  },
  {
   "cell_type": "code",
   "execution_count": 78,
   "metadata": {},
   "outputs": [
    {
     "name": "stdout",
     "output_type": "stream",
     "text": [
      "1719/1719 [==============================] - 5s 3ms/step - loss: 0.1264 - accuracy: 0.9552\n",
      "train loss: [0.12641510367393494, 0.9551818370819092]\n",
      "313/313 [==============================] - 1s 3ms/step - loss: 0.3280 - accuracy: 0.8979: 0s - loss: 0.3\n",
      "test loss: [0.32803425192832947, 0.8978999853134155]\n"
     ]
    }
   ],
   "source": [
    "# b) Compare the results with the previous one (Task 5)\n",
    "print(\"train loss:\", model.evaluate(X_train, y_train))\n",
    "print(\"test loss:\", model.evaluate(X_test, y_test))"
   ]
  },
  {
   "cell_type": "code",
   "execution_count": 79,
   "metadata": {},
   "outputs": [
    {
     "data": {
      "image/png": "[encoded data removed]",
      "text/plain": [
       "<Figure size 432x288 with 2 Axes>"
      ]
     },
     "metadata": {
      "needs_background": "light"
     },
     "output_type": "display_data"
    }
   ],
   "source": [
    "plt.plot(history.epoch, history.history[\"lr\"], \"bo-\")\n",
    "plt.xlabel(\"Epoch\")\n",
    "plt.ylabel(\"Learning Rate\", color='b')\n",
    "plt.tick_params('y', colors='b')\n",
    "plt.gca().set_xlim(0, n_epochs - 1)\n",
    "plt.grid(True)\n",
    "\n",
    "ax2 = plt.gca().twinx()\n",
    "ax2.plot(history.epoch, history.history[\"val_loss\"], \"r^-\")\n",
    "ax2.set_ylabel('Validation Loss', color='r')\n",
    "ax2.tick_params('y', colors='r')\n",
    "\n",
    "plt.title(\"Reduce LR on Plateau\", fontsize=14)\n",
    "plt.show()"
   ]
  },
  {
   "cell_type": "markdown",
   "metadata": {},
   "source": [
    "Task 6 c) answer: The goal of a NN training is to reach the minimum of the cost function, and the steps towards these minimum is fucntion of the learning rate value. A high learning rate can't converge to a good solution, on the other hand, a low learning rate value can lead to a good solution but with a large training time. The ideal learning rate will allow the NN to learn quickly and converge to good solution.\n",
    "\n",
    "For the late epochs of the training the cost function is supposed to be close to its minimum, so the best approach is to have a lower learning rate value for these epochs. We can see from the plot above, where the learning rate value decreases with the increase of the epochs, since the validation loss aren't increasing, which is the expected behaviour since the validation loss function is close to its minimum.\n"
   ]
  },
  {
   "cell_type": "markdown",
   "metadata": {},
   "source": [
    "↑↑↑↑↑↑↑↑↑↑↑↑↑↑↑↑↑↑↑↑↑↑↑↑↑↑↑↑↑↑↑ your code goes above"
   ]
  },
  {
   "cell_type": "markdown",
   "metadata": {},
   "source": [
    "## Task 7 Avoiding Overfitting Through Regularization\n",
    "Our models above all overfit (why?). Let's now tackle this problem using dropout."
   ]
  },
  {
   "cell_type": "markdown",
   "metadata": {},
   "source": [
    "**Task 7:**   \n",
    "a) Copy the code for the model of Task 6, add a dropout (20% rate) before each hidden layer (https://keras.io/api/layers/regularization_layers/dropout/),    \n",
    "b) Compare the results."
   ]
  },
  {
   "cell_type": "markdown",
   "metadata": {
    "id": "nsnymzLuLvm2"
   },
   "source": [
    "↓↓↓↓↓↓↓↓↓↓↓↓↓↓↓↓↓↓↓↓↓↓↓↓↓↓↓↓↓↓↓ your code goes below"
   ]
  },
  {
   "cell_type": "code",
   "execution_count": 80,
   "metadata": {},
   "outputs": [
    {
     "name": "stdout",
     "output_type": "stream",
     "text": [
      "Epoch 1/25\n",
      "1719/1719 [==============================] - 15s 9ms/step - loss: 0.5615 - accuracy: 0.7986 - val_loss: 0.3833 - val_accuracy: 0.8600\n",
      "Epoch 2/25\n",
      "1719/1719 [==============================] - 14s 8ms/step - loss: 0.4688 - accuracy: 0.8302 - val_loss: 0.3771 - val_accuracy: 0.8604\n",
      "Epoch 3/25\n",
      "1719/1719 [==============================] - 13s 8ms/step - loss: 0.4473 - accuracy: 0.8363 - val_loss: 0.3633 - val_accuracy: 0.8714\n",
      "Epoch 4/25\n",
      "1719/1719 [==============================] - 13s 7ms/step - loss: 0.4212 - accuracy: 0.8442 - val_loss: 0.3302 - val_accuracy: 0.8778\n",
      "Epoch 5/25\n",
      "1719/1719 [==============================] - 12s 7ms/step - loss: 0.4077 - accuracy: 0.8514 - val_loss: 0.3216 - val_accuracy: 0.8792\n",
      "Epoch 6/25\n",
      "1719/1719 [==============================] - 11s 6ms/step - loss: 0.3998 - accuracy: 0.8545 - val_loss: 0.3267 - val_accuracy: 0.8814\n",
      "Epoch 7/25\n",
      "1719/1719 [==============================] - 11s 6ms/step - loss: 0.3950 - accuracy: 0.8551 - val_loss: 0.3156 - val_accuracy: 0.8842\n",
      "Epoch 8/25\n",
      "1719/1719 [==============================] - 11s 7ms/step - loss: 0.3870 - accuracy: 0.8585 - val_loss: 0.3212 - val_accuracy: 0.8840\n",
      "Epoch 9/25\n",
      "1719/1719 [==============================] - 11s 6ms/step - loss: 0.3750 - accuracy: 0.8614 - val_loss: 0.3123 - val_accuracy: 0.8836\n",
      "Epoch 10/25\n",
      "1719/1719 [==============================] - 16s 9ms/step - loss: 0.3680 - accuracy: 0.8650 - val_loss: 0.3221 - val_accuracy: 0.8868\n",
      "Epoch 11/25\n",
      "1719/1719 [==============================] - 20s 12ms/step - loss: 0.3677 - accuracy: 0.8651 - val_loss: 0.3151 - val_accuracy: 0.8886\n",
      "Epoch 12/25\n",
      "1719/1719 [==============================] - 19s 11ms/step - loss: 0.3351 - accuracy: 0.8772 - val_loss: 0.2892 - val_accuracy: 0.8916\n",
      "Epoch 13/25\n",
      "1719/1719 [==============================] - 17s 10ms/step - loss: 0.3234 - accuracy: 0.8798 - val_loss: 0.2794 - val_accuracy: 0.8972\n",
      "Epoch 14/25\n",
      "1719/1719 [==============================] - 22s 13ms/step - loss: 0.3147 - accuracy: 0.8831 - val_loss: 0.2834 - val_accuracy: 0.8956\n",
      "Epoch 15/25\n",
      "1719/1719 [==============================] - 20s 12ms/step - loss: 0.3129 - accuracy: 0.8841 - val_loss: 0.2828 - val_accuracy: 0.8934\n",
      "Epoch 16/25\n",
      "1719/1719 [==============================] - 17s 10ms/step - loss: 0.2923 - accuracy: 0.8903 - val_loss: 0.2673 - val_accuracy: 0.8992\n",
      "Epoch 17/25\n",
      "1719/1719 [==============================] - 19s 11ms/step - loss: 0.2892 - accuracy: 0.8923 - val_loss: 0.2744 - val_accuracy: 0.8996\n",
      "Epoch 18/25\n",
      "1719/1719 [==============================] - 21s 12ms/step - loss: 0.2844 - accuracy: 0.8942 - val_loss: 0.2745 - val_accuracy: 0.8996\n",
      "Epoch 19/25\n",
      "1719/1719 [==============================] - 14s 8ms/step - loss: 0.2766 - accuracy: 0.8959 - val_loss: 0.2713 - val_accuracy: 0.9012\n",
      "Epoch 20/25\n",
      "1719/1719 [==============================] - 15s 9ms/step - loss: 0.2728 - accuracy: 0.8987 - val_loss: 0.2659 - val_accuracy: 0.9010\n",
      "Epoch 21/25\n",
      "1719/1719 [==============================] - 21s 12ms/step - loss: 0.2714 - accuracy: 0.8993 - val_loss: 0.2695 - val_accuracy: 0.9008\n",
      "Epoch 22/25\n",
      "1719/1719 [==============================] - 21s 12ms/step - loss: 0.2694 - accuracy: 0.8987 - val_loss: 0.2681 - val_accuracy: 0.9012\n",
      "Epoch 23/25\n",
      "1719/1719 [==============================] - 19s 11ms/step - loss: 0.2686 - accuracy: 0.8998 - val_loss: 0.2677 - val_accuracy: 0.9038\n",
      "Epoch 24/25\n",
      "1719/1719 [==============================] - 19s 11ms/step - loss: 0.2633 - accuracy: 0.9015 - val_loss: 0.2670 - val_accuracy: 0.9028\n",
      "Epoch 25/25\n",
      "1719/1719 [==============================] - 20s 12ms/step - loss: 0.2647 - accuracy: 0.9019 - val_loss: 0.2640 - val_accuracy: 0.9028\n"
     ]
    }
   ],
   "source": [
    "# a) \n",
    "dropout_rate = 0.2\n",
    "\n",
    "model = keras.models.Sequential([\n",
    "    keras.layers.Flatten(input_shape=[28, 28]), \n",
    "    keras.layers.BatchNormalization(),\n",
    "    keras.layers.Dropout(rate=0.2),\n",
    "    keras.layers.Dense(300, activation=\"relu\"),\n",
    "    keras.layers.BatchNormalization(),\n",
    "    keras.layers.Dropout(rate=0.2),\n",
    "    keras.layers.Dense(100, activation=\"relu\"),\n",
    "    keras.layers.BatchNormalization(),\n",
    "    keras.layers.Dropout(rate=0.2),\n",
    "    keras.layers.Dense(10, activation=\"softmax\")\n",
    "])\n",
    "\n",
    "model.compile(loss=\"sparse_categorical_crossentropy\",\n",
    "                     optimizer=keras.optimizers.Adam(lr=1e-2),    # Adam optimizer with a initial lr=0.01\n",
    "                     metrics=[\"accuracy\"])\n",
    "\n",
    "history = model.fit(X_train, y_train, epochs=25,\n",
    "                           validation_data=(X_valid, y_valid), callbacks=[lr_scheduler])  # use the ReduceLROnPlateau "
   ]
  },
  {
   "cell_type": "markdown",
   "metadata": {},
   "source": [
    "↑↑↑↑↑↑↑↑↑↑↑↑↑↑↑↑↑↑↑↑↑↑↑↑↑↑↑↑↑↑↑ your code goes above"
   ]
  },
  {
   "cell_type": "code",
   "execution_count": 81,
   "metadata": {},
   "outputs": [
    {
     "name": "stdout",
     "output_type": "stream",
     "text": [
      "313/313 [==============================] - 2s 6ms/step - loss: 0.2922 - accuracy: 0.8953\n"
     ]
    },
    {
     "data": {
      "text/plain": [
       "[0.2921622097492218, 0.8952999711036682]"
      ]
     },
     "execution_count": 81,
     "metadata": {},
     "output_type": "execute_result"
    }
   ],
   "source": [
    "model.evaluate(X_test, y_test)"
   ]
  },
  {
   "cell_type": "code",
   "execution_count": 82,
   "metadata": {},
   "outputs": [
    {
     "data": {
      "image/png": "[encoded data removed]",
      "text/plain": [
       "<Figure size 432x288 with 2 Axes>"
      ]
     },
     "metadata": {
      "needs_background": "light"
     },
     "output_type": "display_data"
    }
   ],
   "source": [
    "plt.plot(history.epoch, history.history[\"lr\"], \"bo-\")\n",
    "plt.xlabel(\"Epoch\")\n",
    "plt.ylabel(\"Learning Rate\", color='b')\n",
    "plt.tick_params('y', colors='b')\n",
    "plt.gca().set_xlim(0, n_epochs - 1)\n",
    "plt.grid(True)\n",
    "\n",
    "ax2 = plt.gca().twinx()\n",
    "ax2.plot(history.epoch, history.history[\"val_loss\"], \"r^-\")\n",
    "ax2.set_ylabel('Validation Loss', color='r')\n",
    "ax2.tick_params('y', colors='r')\n",
    "\n",
    "plt.title(\"Reduce LR on Plateau (with dropout)\", fontsize=14)\n",
    "plt.show()"
   ]
  },
  {
   "cell_type": "markdown",
   "metadata": {},
   "source": [
    "# Optional Exercise (Bonus points): Using Callbacks during Training"
   ]
  },
  {
   "cell_type": "markdown",
   "metadata": {},
   "source": [
    "**Task 8:** Add to your model of Task 7 the following callbacks (check Chapter 10 and https://keras.io/api/callbacks/)   \n",
    "a) Checkpoint   \n",
    "b) Early stopping (5 epochs)   \n",
    "c) Tensorboard log   \n",
    "d) Discuss the result \n",
    "\n",
    "You can use the code snippets below."
   ]
  },
  {
   "cell_type": "markdown",
   "metadata": {
    "id": "nsnymzLuLvm2"
   },
   "source": [
    "↓↓↓↓↓↓↓↓↓↓↓↓↓↓↓↓↓↓↓↓↓↓↓↓↓↓↓↓↓↓↓ your code goes below"
   ]
  },
  {
   "cell_type": "code",
   "execution_count": 83,
   "metadata": {},
   "outputs": [],
   "source": [
    "model = keras.models.Sequential([\n",
    "    keras.layers.Flatten(input_shape=[28, 28]), \n",
    "    keras.layers.BatchNormalization(),\n",
    "    keras.layers.Dropout(rate=0.2),\n",
    "    keras.layers.Dense(300, activation=\"relu\"),\n",
    "    keras.layers.BatchNormalization(),\n",
    "    keras.layers.Dropout(rate=0.2),\n",
    "    keras.layers.Dense(100, activation=\"relu\"),\n",
    "    keras.layers.BatchNormalization(),\n",
    "    keras.layers.Dropout(rate=0.2),\n",
    "    keras.layers.Dense(10, activation=\"softmax\")\n",
    "])"
   ]
  },
  {
   "cell_type": "code",
   "execution_count": 84,
   "metadata": {},
   "outputs": [],
   "source": [
    "#Define callbacks\n",
    "lr_scheduler = keras.callbacks.ReduceLROnPlateau(factor=0.5, patience=2)\n",
    "early_stopping_cb = keras.callbacks.EarlyStopping(patience=5)     # ES for 5 epochs\n",
    "model_checkpoint_cb = keras.callbacks.ModelCheckpoint(\"my_model_bonus.h5\", save_best_only=True) # Only saves when the model is considered the best\n",
    "\n",
    "run_index = 1 # increment every time you train the model\n",
    "run_logdir = os.path.join(os.curdir, \"my_model_bonus\", \"run_bn_{:03d}\".format(run_index))\n",
    "tensorboard_cb = keras.callbacks.TensorBoard(run_logdir)\n"
   ]
  },
  {
   "cell_type": "code",
   "execution_count": 85,
   "metadata": {},
   "outputs": [],
   "source": [
    "callbacks = [lr_scheduler, early_stopping_cb, model_checkpoint_cb, tensorboard_cb]"
   ]
  },
  {
   "cell_type": "code",
   "execution_count": 86,
   "metadata": {},
   "outputs": [
    {
     "name": "stdout",
     "output_type": "stream",
     "text": [
      "Epoch 1/50\n",
      "   1/1719 [..............................] - ETA: 0s - loss: 3.4381 - accuracy: 0.0312WARNING:tensorflow:From /Users/thalesoliveira/Library/Python/3.8/lib/python/site-packages/tensorflow/python/ops/summary_ops_v2.py:1277: stop (from tensorflow.python.eager.profiler) is deprecated and will be removed after 2020-07-01.\n",
      "Instructions for updating:\n",
      "use `tf.profiler.experimental.stop` instead.\n",
      "   2/1719 [..............................] - ETA: 1:51 - loss: 2.5808 - accuracy: 0.2188WARNING:tensorflow:Callbacks method `on_train_batch_end` is slow compared to the batch time (batch time: 0.0173s vs `on_train_batch_end` time: 0.1131s). Check your callbacks.\n",
      "1719/1719 [==============================] - 14s 8ms/step - loss: 0.5612 - accuracy: 0.7992 - val_loss: 0.3800 - val_accuracy: 0.8622\n",
      "Epoch 2/50\n",
      "1719/1719 [==============================] - 14s 8ms/step - loss: 0.4700 - accuracy: 0.8286 - val_loss: 0.3774 - val_accuracy: 0.8656\n",
      "Epoch 3/50\n",
      "1719/1719 [==============================] - 16s 9ms/step - loss: 0.4463 - accuracy: 0.8372 - val_loss: 0.3594 - val_accuracy: 0.8736\n",
      "Epoch 4/50\n",
      "1719/1719 [==============================] - 16s 9ms/step - loss: 0.4218 - accuracy: 0.8459 - val_loss: 0.3328 - val_accuracy: 0.8758\n",
      "Epoch 5/50\n",
      "1719/1719 [==============================] - 20s 11ms/step - loss: 0.4050 - accuracy: 0.8527 - val_loss: 0.3137 - val_accuracy: 0.8834\n",
      "Epoch 6/50\n",
      "1719/1719 [==============================] - 20s 12ms/step - loss: 0.3953 - accuracy: 0.8561 - val_loss: 0.3127 - val_accuracy: 0.8812\n",
      "Epoch 7/50\n",
      "1719/1719 [==============================] - 19s 11ms/step - loss: 0.3859 - accuracy: 0.8595 - val_loss: 0.3177 - val_accuracy: 0.8820\n",
      "Epoch 8/50\n",
      "1719/1719 [==============================] - 18s 11ms/step - loss: 0.3786 - accuracy: 0.8613 - val_loss: 0.3147 - val_accuracy: 0.8828\n",
      "Epoch 9/50\n",
      "1719/1719 [==============================] - 16s 10ms/step - loss: 0.3380 - accuracy: 0.8750 - val_loss: 0.2848 - val_accuracy: 0.8912\n",
      "Epoch 10/50\n",
      "1719/1719 [==============================] - 17s 10ms/step - loss: 0.3277 - accuracy: 0.8791 - val_loss: 0.2797 - val_accuracy: 0.8898\n",
      "Epoch 11/50\n",
      "1719/1719 [==============================] - 18s 11ms/step - loss: 0.3225 - accuracy: 0.8801 - val_loss: 0.2889 - val_accuracy: 0.8906\n",
      "Epoch 12/50\n",
      "1719/1719 [==============================] - 18s 11ms/step - loss: 0.3179 - accuracy: 0.8807 - val_loss: 0.2873 - val_accuracy: 0.8930\n",
      "Epoch 13/50\n",
      "1719/1719 [==============================] - 16s 9ms/step - loss: 0.2978 - accuracy: 0.8886 - val_loss: 0.2744 - val_accuracy: 0.8992\n",
      "Epoch 14/50\n",
      "1719/1719 [==============================] - 22s 13ms/step - loss: 0.2893 - accuracy: 0.8915 - val_loss: 0.2724 - val_accuracy: 0.8982\n",
      "Epoch 15/50\n",
      "1719/1719 [==============================] - 25s 15ms/step - loss: 0.2891 - accuracy: 0.8923 - val_loss: 0.2692 - val_accuracy: 0.8990\n",
      "Epoch 16/50\n",
      "1719/1719 [==============================] - 17s 10ms/step - loss: 0.2853 - accuracy: 0.8925 - val_loss: 0.2682 - val_accuracy: 0.9006\n",
      "Epoch 17/50\n",
      "1719/1719 [==============================] - 17s 10ms/step - loss: 0.2798 - accuracy: 0.8957 - val_loss: 0.2717 - val_accuracy: 0.9010\n",
      "Epoch 18/50\n",
      "1719/1719 [==============================] - 14s 8ms/step - loss: 0.2779 - accuracy: 0.8958 - val_loss: 0.2712 - val_accuracy: 0.9006\n",
      "Epoch 19/50\n",
      "1719/1719 [==============================] - 13s 8ms/step - loss: 0.2686 - accuracy: 0.8992 - val_loss: 0.2708 - val_accuracy: 0.9000\n",
      "Epoch 20/50\n",
      "1719/1719 [==============================] - 15s 9ms/step - loss: 0.2660 - accuracy: 0.9007 - val_loss: 0.2638 - val_accuracy: 0.9010\n",
      "Epoch 21/50\n",
      "1719/1719 [==============================] - 17s 10ms/step - loss: 0.2605 - accuracy: 0.9023 - val_loss: 0.2654 - val_accuracy: 0.9000\n",
      "Epoch 22/50\n",
      "1719/1719 [==============================] - 18s 11ms/step - loss: 0.2616 - accuracy: 0.9009 - val_loss: 0.2639 - val_accuracy: 0.9016\n",
      "Epoch 23/50\n",
      "1719/1719 [==============================] - 19s 11ms/step - loss: 0.2579 - accuracy: 0.9029 - val_loss: 0.2623 - val_accuracy: 0.9020\n",
      "Epoch 24/50\n",
      "1719/1719 [==============================] - 18s 11ms/step - loss: 0.2557 - accuracy: 0.9041 - val_loss: 0.2630 - val_accuracy: 0.9028\n",
      "Epoch 25/50\n",
      "1719/1719 [==============================] - 19s 11ms/step - loss: 0.2567 - accuracy: 0.9024 - val_loss: 0.2618 - val_accuracy: 0.9012\n",
      "Epoch 26/50\n",
      "1719/1719 [==============================] - 17s 10ms/step - loss: 0.2516 - accuracy: 0.9068 - val_loss: 0.2608 - val_accuracy: 0.9014\n",
      "Epoch 27/50\n",
      "1719/1719 [==============================] - 16s 9ms/step - loss: 0.2533 - accuracy: 0.9046 - val_loss: 0.2606 - val_accuracy: 0.9018\n",
      "Epoch 28/50\n",
      "1719/1719 [==============================] - 16s 9ms/step - loss: 0.2530 - accuracy: 0.9047 - val_loss: 0.2603 - val_accuracy: 0.9034\n",
      "Epoch 29/50\n",
      "1719/1719 [==============================] - 16s 9ms/step - loss: 0.2475 - accuracy: 0.9062 - val_loss: 0.2602 - val_accuracy: 0.9016\n",
      "Epoch 30/50\n",
      "1719/1719 [==============================] - 16s 9ms/step - loss: 0.2491 - accuracy: 0.9060 - val_loss: 0.2620 - val_accuracy: 0.9000\n",
      "Epoch 31/50\n",
      "1719/1719 [==============================] - 20s 12ms/step - loss: 0.2476 - accuracy: 0.9059 - val_loss: 0.2602 - val_accuracy: 0.9028\n",
      "Epoch 32/50\n",
      "1719/1719 [==============================] - 20s 12ms/step - loss: 0.2475 - accuracy: 0.9057 - val_loss: 0.2601 - val_accuracy: 0.9020\n",
      "Epoch 33/50\n",
      "1719/1719 [==============================] - 21s 12ms/step - loss: 0.2459 - accuracy: 0.9071 - val_loss: 0.2610 - val_accuracy: 0.9010\n",
      "Epoch 34/50\n",
      "1719/1719 [==============================] - 20s 12ms/step - loss: 0.2452 - accuracy: 0.9073 - val_loss: 0.2614 - val_accuracy: 0.9012\n",
      "Epoch 35/50\n",
      "1719/1719 [==============================] - 23s 13ms/step - loss: 0.2456 - accuracy: 0.9074 - val_loss: 0.2596 - val_accuracy: 0.9026\n",
      "Epoch 36/50\n",
      "1719/1719 [==============================] - 20s 12ms/step - loss: 0.2449 - accuracy: 0.9067 - val_loss: 0.2605 - val_accuracy: 0.9012\n",
      "Epoch 37/50\n",
      "1719/1719 [==============================] - 20s 11ms/step - loss: 0.2450 - accuracy: 0.9079 - val_loss: 0.2592 - val_accuracy: 0.9014\n",
      "Epoch 38/50\n",
      "1719/1719 [==============================] - 22s 13ms/step - loss: 0.2408 - accuracy: 0.9091 - val_loss: 0.2596 - val_accuracy: 0.9012\n",
      "Epoch 39/50\n",
      "1719/1719 [==============================] - 20s 12ms/step - loss: 0.2468 - accuracy: 0.9076 - val_loss: 0.2592 - val_accuracy: 0.9028\n",
      "Epoch 40/50\n",
      "1719/1719 [==============================] - 18s 10ms/step - loss: 0.2425 - accuracy: 0.9082 - val_loss: 0.2583 - val_accuracy: 0.9022\n",
      "Epoch 41/50\n",
      "1719/1719 [==============================] - 16s 9ms/step - loss: 0.2420 - accuracy: 0.9076 - val_loss: 0.2596 - val_accuracy: 0.9024\n",
      "Epoch 42/50\n",
      "1719/1719 [==============================] - 18s 11ms/step - loss: 0.2431 - accuracy: 0.9084 - val_loss: 0.2585 - val_accuracy: 0.9034\n",
      "Epoch 43/50\n",
      "1719/1719 [==============================] - 15s 9ms/step - loss: 0.2419 - accuracy: 0.9091 - val_loss: 0.2589 - val_accuracy: 0.9028\n",
      "Epoch 44/50\n",
      "1719/1719 [==============================] - 16s 10ms/step - loss: 0.2426 - accuracy: 0.9079 - val_loss: 0.2590 - val_accuracy: 0.9026\n",
      "Epoch 45/50\n",
      "1719/1719 [==============================] - 17s 10ms/step - loss: 0.2468 - accuracy: 0.9067 - val_loss: 0.2603 - val_accuracy: 0.9026\n"
     ]
    }
   ],
   "source": [
    "optimizer = keras.optimizers.Adam(lr=0.01)\n",
    "\n",
    "model.compile(loss=\"sparse_categorical_crossentropy\", optimizer=optimizer, metrics=[\"accuracy\"])\n",
    "n_epochs = 50\n",
    "history = model.fit(X_train, y_train, epochs=n_epochs,\n",
    "                    validation_data=(X_valid, y_valid),\n",
    "                    callbacks=callbacks)"
   ]
  },
  {
   "cell_type": "code",
   "execution_count": 88,
   "metadata": {},
   "outputs": [
    {
     "name": "stdout",
     "output_type": "stream",
     "text": [
      "313/313 [==============================] - 1s 3ms/step - loss: 0.2837 - accuracy: 0.8980\n"
     ]
    },
    {
     "data": {
      "text/plain": [
       "[0.28370338678359985, 0.8980000019073486]"
      ]
     },
     "execution_count": 88,
     "metadata": {},
     "output_type": "execute_result"
    }
   ],
   "source": [
    "model.evaluate(X_test, y_test)"
   ]
  },
  {
   "cell_type": "code",
   "execution_count": 87,
   "metadata": {},
   "outputs": [
    {
     "name": "stdout",
     "output_type": "stream",
     "text": [
      "The tensorboard extension is already loaded. To reload it, use:\n",
      "  %reload_ext tensorboard\n"
     ]
    },
    {
     "data": {
      "text/plain": [
       "ERROR: Could not find `tensorboard`. Please ensure that your PATH\n",
       "contains an executable `tensorboard` program, or explicitly specify\n",
       "the path to a TensorBoard binary by setting the `TENSORBOARD_BINARY`\n",
       "environment variable."
      ]
     },
     "metadata": {},
     "output_type": "display_data"
    }
   ],
   "source": [
    "%load_ext tensorboard\n",
    "%tensorboard --logdir=./my_fashion_logs --port=6006"
   ]
  },
  {
   "cell_type": "markdown",
   "metadata": {},
   "source": [
    "↑↑↑↑↑↑↑↑↑↑↑↑↑↑↑↑↑↑↑↑↑↑↑↑↑↑↑↑↑↑↑ your code goes above"
   ]
  }
 ],
 "metadata": {
  "kernelspec": {
   "display_name": "Python 3",
   "language": "python",
   "name": "python3"
  },
  "language_info": {
   "codemirror_mode": {
    "name": "ipython",
    "version": 3
   },
   "file_extension": ".py",
   "mimetype": "text/x-python",
   "name": "python",
   "nbconvert_exporter": "python",
   "pygments_lexer": "ipython3",
   "version": "3.8.5"
  },
  "nav_menu": {
   "height": "360px",
   "width": "416px"
  },
  "toc": {
   "navigate_menu": true,
   "number_sections": true,
   "sideBar": true,
   "threshold": 6,
   "toc_cell": false,
   "toc_section_display": "block",
   "toc_window_display": false
  }
 },
 "nbformat": 4,
 "nbformat_minor": 4
}
