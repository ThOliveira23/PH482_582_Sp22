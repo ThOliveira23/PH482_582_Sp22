{
 "cells": [
  {
   "cell_type": "markdown",
   "metadata": {
    "colab_type": "text",
    "id": "view-in-github"
   },
   "source": [
    "<a href=\"https://colab.research.google.com/github/ThOliveira23/PH482_582_Sp22/blob/main/Exercises/00_Exercise0_Thales.ipynb\" target=\"_parent\"><img src=\"https://colab.research.google.com/assets/colab-badge.svg\" alt=\"Open In Colab\"/></a>"
   ]
  },
  {
   "cell_type": "markdown",
   "metadata": {
    "id": "VkmpJVud5w7x"
   },
   "source": [
    "# Exercise 0\n",
    "Due date: 2022-01-25\n",
    "\n",
    "This is the zeroth exercise just to review python and show you how to submit exercises.\n",
    "\n",
    "File name convention: For group 42 and memebers Richard Stallman and Linus Torvalds it would be \n",
    "\"00_Exercise0_Goup42_Stallman_Torvalds.pdf\".\n",
    "Just give yourself a funny group name for this exercise!\n",
    "\n",
    "Submission via blackboard everyone individually (for this exercise)."
   ]
  },
  {
   "cell_type": "code",
   "execution_count": 1,
   "metadata": {
    "id": "Nbw5dbOU5evO"
   },
   "outputs": [],
   "source": [
    "group_name = \"insert group name\"\n",
    "group_members = [\"name 1\", \n",
    "         \"name 2\", \n",
    "         \"name 3\"]"
   ]
  },
  {
   "cell_type": "markdown",
   "metadata": {
    "id": "dL5Z7SPJDf79"
   },
   "source": [
    "<table align=\"left\">\n",
    "  <td>\n",
    "    <a target=\"_blank\" href=\"https://colab.research.google.com/github/UAPH4582/PH482_582_Sp22/blob/main/Exercises/00_PythonPrimer.ipynb\"><img src=\"https://www.tensorflow.org/images/colab_logo_32px.png\" />Run in Google Colab</a>\n",
    "  </td>\n",
    "</table>"
   ]
  },
  {
   "cell_type": "markdown",
   "metadata": {
    "id": "deYp705h6i67"
   },
   "source": [
    "## Functions"
   ]
  },
  {
   "cell_type": "markdown",
   "metadata": {
    "id": "B_XV58dJ6k9I"
   },
   "source": [
    "### Task 1\n",
    "Write a function `subtract` that takes two numbers `a` and `b` and returns `a-b`."
   ]
  },
  {
   "cell_type": "code",
   "execution_count": 2,
   "metadata": {
    "id": "Amed__UC5_YG"
   },
   "outputs": [],
   "source": [
    "# your code goes below\n",
    "# ↓↓↓↓↓↓↓↓↓↓↓↓↓↓↓↓↓↓↓↓↓↓↓↓↓↓↓↓↓↓↓"
   ]
  },
  {
   "cell_type": "code",
   "execution_count": 3,
   "metadata": {
    "id": "CSleUNYp6z1b"
   },
   "outputs": [],
   "source": [
    "def subtract(a,b):\n",
    "    return a-b"
   ]
  },
  {
   "cell_type": "code",
   "execution_count": 4,
   "metadata": {
    "id": "06P-aOvX62ic"
   },
   "outputs": [],
   "source": [
    "# ↑↑↑↑↑↑↑↑↑↑↑↑↑↑↑↑↑↑↑↑↑↑↑↑↑↑↑↑↑↑↑\n",
    "# your code goes above this"
   ]
  },
  {
   "cell_type": "code",
   "execution_count": 5,
   "metadata": {
    "colab": {
     "base_uri": "https://localhost:8080/"
    },
    "id": "U2hMGCaK63Ky",
    "outputId": "adc5decf-ef7a-44c3-8497-7cfb18e4d83c"
   },
   "outputs": [
    {
     "data": {
      "text/plain": [
       "True"
      ]
     },
     "execution_count": 5,
     "metadata": {},
     "output_type": "execute_result"
    }
   ],
   "source": [
    "# testing if the function is working\n",
    "subtract(3, 5) == -2"
   ]
  },
  {
   "cell_type": "markdown",
   "metadata": {
    "id": "9qVx_wmd7G2F"
   },
   "source": [
    "### Task 2\n",
    "a) Write a function `fac_it` that calculates the factorial in an iterative way.   \n",
    "b) (optional) Write a function `fac_rec` that computes the factorial in a recursive way.\n",
    "\n",
    "**Hints**    \n",
    "a) Set a variable `fac = 1`, loop over `i in range(2,n+1)` and in the loop muliply `fac` by `i`.   \n",
    "b) The trick is to set the cases for `n=0` and `n=1` and then call something like `n*fac_rec(n-1)`.   "
   ]
  },
  {
   "cell_type": "code",
   "execution_count": 9,
   "metadata": {
    "id": "CBqfGSHV9YuB"
   },
   "outputs": [],
   "source": [
    "# your code goes below\n",
    "# ↓↓↓↓↓↓↓↓↓↓↓↓↓↓↓↓↓↓↓↓↓↓↓↓↓↓↓↓↓↓↓"
   ]
  },
  {
   "cell_type": "code",
   "execution_count": 6,
   "metadata": {
    "id": "ozMIzXif7tPZ"
   },
   "outputs": [],
   "source": [
    "def fac_it(n):\n",
    "    if n == 0:\n",
    "        return 1\n",
    "    elif n == 1:\n",
    "        return 1\n",
    "    else:\n",
    "        fac = 1 \n",
    "        for i in range(2,n+1):\n",
    "              fac = fac*i\n",
    "    return fac"
   ]
  },
  {
   "cell_type": "code",
   "execution_count": 7,
   "metadata": {
    "colab": {
     "base_uri": "https://localhost:8080/"
    },
    "id": "gN6v5oXEFYRe",
    "outputId": "27e5bd2b-a883-4719-cb72-ee9e9c882e6c"
   },
   "outputs": [
    {
     "data": {
      "text/plain": [
       "24"
      ]
     },
     "execution_count": 7,
     "metadata": {},
     "output_type": "execute_result"
    }
   ],
   "source": [
    "fac_it(4)"
   ]
  },
  {
   "cell_type": "code",
   "execution_count": 8,
   "metadata": {
    "id": "xDHlomVB7Rwr"
   },
   "outputs": [],
   "source": [
    "def fac_rec(n):\n",
    "    if n == 0:\n",
    "        return 1\n",
    "    elif n == 1:\n",
    "        return 1\n",
    "    else:\n",
    "        return n*fac_rec(n-1)"
   ]
  },
  {
   "cell_type": "code",
   "execution_count": 9,
   "metadata": {
    "colab": {
     "base_uri": "https://localhost:8080/"
    },
    "id": "lICjugqi768J",
    "outputId": "9274b42c-be9c-41f9-ff18-0e6f8dbbcbd8"
   },
   "outputs": [
    {
     "name": "stdout",
     "output_type": "stream",
     "text": [
      "True\n",
      "True\n"
     ]
    }
   ],
   "source": [
    "print(fac_rec(3) == 6)\n",
    "print(fac_it(3) == 6)"
   ]
  },
  {
   "cell_type": "code",
   "execution_count": 10,
   "metadata": {
    "id": "3vbOaZNM9W7E"
   },
   "outputs": [],
   "source": [
    "# ↑↑↑↑↑↑↑↑↑↑↑↑↑↑↑↑↑↑↑↑↑↑↑↑↑↑↑↑↑↑↑\n",
    "# your code goes above this"
   ]
  },
  {
   "cell_type": "markdown",
   "metadata": {
    "id": "LfWTIZig9pRU"
   },
   "source": [
    "## Numpy"
   ]
  },
  {
   "cell_type": "code",
   "execution_count": 11,
   "metadata": {
    "id": "WKAlJ8et9w72"
   },
   "outputs": [],
   "source": [
    "import numpy as np"
   ]
  },
  {
   "cell_type": "markdown",
   "metadata": {
    "id": "8Go9iQ_Q-b47"
   },
   "source": [
    "You can read about this dataset [here](https://inria.github.io/scikit-learn-mooc/python_scripts/datasets_california_housing.html).\n",
    "`X` are some features of houses and `y` is the price of the houses in 100k$."
   ]
  },
  {
   "cell_type": "code",
   "execution_count": 12,
   "metadata": {
    "id": "erPAgzVp90JP"
   },
   "outputs": [],
   "source": [
    "from sklearn.datasets import fetch_california_housing\n",
    "\n",
    "california_housing = fetch_california_housing()"
   ]
  },
  {
   "cell_type": "code",
   "execution_count": 13,
   "metadata": {
    "colab": {
     "base_uri": "https://localhost:8080/"
    },
    "id": "WcenRO3A-Kq3",
    "outputId": "b28dd5df-c0cf-4137-aac2-9215e8e37ee2"
   },
   "outputs": [
    {
     "data": {
      "text/plain": [
       "dict_keys(['data', 'target', 'frame', 'target_names', 'feature_names', 'DESCR'])"
      ]
     },
     "execution_count": 13,
     "metadata": {},
     "output_type": "execute_result"
    }
   ],
   "source": [
    "california_housing.keys()"
   ]
  },
  {
   "cell_type": "code",
   "execution_count": 14,
   "metadata": {
    "id": "74VAntmv91zX"
   },
   "outputs": [],
   "source": [
    "X = california_housing['data']\n",
    "y = california_housing['target']"
   ]
  },
  {
   "cell_type": "code",
   "execution_count": 62,
   "metadata": {
    "colab": {
     "base_uri": "https://localhost:8080/"
    },
    "id": "4Ie-mZZhIFH0",
    "outputId": "3c3c6631-ece7-431d-9772-ff7d528bb51c"
   },
   "outputs": [
    {
     "data": {
      "text/plain": [
       "numpy.ndarray"
      ]
     },
     "execution_count": 62,
     "metadata": {},
     "output_type": "execute_result"
    }
   ],
   "source": [
    "type(y)"
   ]
  },
  {
   "cell_type": "code",
   "execution_count": 18,
   "metadata": {
    "id": "IwFEK4sl-Z_D"
   },
   "outputs": [
    {
     "data": {
      "text/plain": [
       "3.585"
      ]
     },
     "execution_count": 18,
     "metadata": {},
     "output_type": "execute_result"
    }
   ],
   "source": [
    "y[1]"
   ]
  },
  {
   "cell_type": "markdown",
   "metadata": {
    "id": "eR6VXDET-m_L"
   },
   "source": [
    "### Task 3\n",
    "1) Find out how many instances there are in `X` and `y`. You can use `.shape` or `len`."
   ]
  },
  {
   "cell_type": "code",
   "execution_count": 19,
   "metadata": {
    "id": "AkjBc88RAGCf"
   },
   "outputs": [],
   "source": [
    "# your code goes below\n",
    "# ↓↓↓↓↓↓↓↓↓↓↓↓↓↓↓↓↓↓↓↓↓↓↓↓↓↓↓↓↓↓↓"
   ]
  },
  {
   "cell_type": "code",
   "execution_count": 20,
   "metadata": {
    "colab": {
     "base_uri": "https://localhost:8080/"
    },
    "id": "i06Jed_L_a13",
    "outputId": "fef0bc5f-a1b7-4879-8937-1cd06e3c65c2"
   },
   "outputs": [
    {
     "data": {
      "text/plain": [
       "('Data:', (20640, 8))"
      ]
     },
     "execution_count": 20,
     "metadata": {},
     "output_type": "execute_result"
    }
   ],
   "source": [
    "\"Data:\", X.shape"
   ]
  },
  {
   "cell_type": "code",
   "execution_count": 21,
   "metadata": {
    "colab": {
     "base_uri": "https://localhost:8080/"
    },
    "id": "0NOk7r9T_eOm",
    "outputId": "366fc4cf-cbf2-48b7-e46d-48cfd14d3603"
   },
   "outputs": [
    {
     "data": {
      "text/plain": [
       "('Target:', (20640,))"
      ]
     },
     "execution_count": 21,
     "metadata": {},
     "output_type": "execute_result"
    }
   ],
   "source": [
    "\"Target:\", y.shape"
   ]
  },
  {
   "cell_type": "code",
   "execution_count": 22,
   "metadata": {
    "id": "WHikPwgwAN3p"
   },
   "outputs": [],
   "source": [
    "# ↑↑↑↑↑↑↑↑↑↑↑↑↑↑↑↑↑↑↑↑↑↑↑↑↑↑↑↑↑↑↑\n",
    "# your code goes above this"
   ]
  },
  {
   "cell_type": "markdown",
   "metadata": {
    "id": "VGGmAqEw_m7B"
   },
   "source": [
    "2) Make a mask `y_200k_mask` that is `True` whenever the house costs more than or exactly 200k$ and `False` if it costs less."
   ]
  },
  {
   "cell_type": "code",
   "execution_count": 23,
   "metadata": {
    "id": "k_BvlnX2AHFI"
   },
   "outputs": [],
   "source": [
    "# your code goes below\n",
    "# ↓↓↓↓↓↓↓↓↓↓↓↓↓↓↓↓↓↓↓↓↓↓↓↓↓↓↓↓↓↓↓"
   ]
  },
  {
   "cell_type": "code",
   "execution_count": 27,
   "metadata": {},
   "outputs": [
    {
     "data": {
      "text/plain": [
       "20640"
      ]
     },
     "execution_count": 27,
     "metadata": {},
     "output_type": "execute_result"
    }
   ],
   "source": [
    "y.shape[0]"
   ]
  },
  {
   "cell_type": "code",
   "execution_count": 24,
   "metadata": {
    "id": "_TEdKuid-Qqt"
   },
   "outputs": [],
   "source": [
    "y_200k_mask = y[y >= 2]"
   ]
  },
  {
   "cell_type": "code",
   "execution_count": 25,
   "metadata": {
    "colab": {
     "base_uri": "https://localhost:8080/"
    },
    "id": "NojEOi5RJclQ",
    "outputId": "ef38de0e-4a0d-4d4d-c645-d1014911cb87"
   },
   "outputs": [
    {
     "data": {
      "text/plain": [
       "array([4.526, 3.585, 3.521, ..., 2.007, 2.25 , 2.75 ])"
      ]
     },
     "execution_count": 25,
     "metadata": {},
     "output_type": "execute_result"
    }
   ],
   "source": [
    "y_200k_mask"
   ]
  },
  {
   "cell_type": "code",
   "execution_count": 45,
   "metadata": {},
   "outputs": [],
   "source": [
    "def mask_200k(df):\n",
    "    for i in range(df.shape[0]):\n",
    "        if df[i] > 2:\n",
    "            #print(i)\n",
    "            print('True')\n",
    "        else:\n",
    "            print('False')   "
   ]
  },
  {
   "cell_type": "code",
   "execution_count": 102,
   "metadata": {},
   "outputs": [],
   "source": [
    "# Selecting only houses with price higher than 200k\n",
    "y_mask_200k = y[y > 2]"
   ]
  },
  {
   "cell_type": "code",
   "execution_count": 103,
   "metadata": {
    "id": "qcEtQWkaAPat"
   },
   "outputs": [],
   "source": [
    "# ↑↑↑↑↑↑↑↑↑↑↑↑↑↑↑↑↑↑↑↑↑↑↑↑↑↑↑↑↑↑↑\n",
    "# your code goes above this"
   ]
  },
  {
   "cell_type": "markdown",
   "metadata": {
    "id": "0sp9VfYJ_FYN"
   },
   "source": [
    "3) Use [`Counter`](https://docs.python.org/3/library/collections.html#collections.Counter) to find out how many houses are woth more than 200k$."
   ]
  },
  {
   "cell_type": "code",
   "execution_count": 47,
   "metadata": {
    "id": "gEombWG1_Q-k"
   },
   "outputs": [],
   "source": [
    "from collections import Counter"
   ]
  },
  {
   "cell_type": "code",
   "execution_count": null,
   "metadata": {
    "id": "AI6zgZtsAJaM"
   },
   "outputs": [],
   "source": [
    "# your code goes below\n",
    "# ↓↓↓↓↓↓↓↓↓↓↓↓↓↓↓↓↓↓↓↓↓↓↓↓↓↓↓↓↓↓↓"
   ]
  },
  {
   "cell_type": "code",
   "execution_count": 89,
   "metadata": {},
   "outputs": [
    {
     "name": "stdout",
     "output_type": "stream",
     "text": [
      "No of houses with price > 200k:       8755\n",
      "No of houses with price < 200k:       11885\n",
      "No of houses (total):          20640\n"
     ]
    }
   ],
   "source": [
    "print(\"No of houses with price > 200k:      \", np.sum(y >= 2))\n",
    "print(\"No of houses with price < 200k:      \", np.sum(y < 2))\n",
    "print(\"No of houses (total):         \", np.sum(y >= 2) + np.sum(y < 2))\n",
    "#print(\"Days with more than 0.5 inches:\", np.sum(inches > 0.5))"
   ]
  },
  {
   "cell_type": "code",
   "execution_count": 92,
   "metadata": {
    "id": "VItJp-cB_IWL"
   },
   "outputs": [],
   "source": [
    "# Alternative way\n",
    "def counting_houses(df):\n",
    "    counter = 0\n",
    "    for i in range(df.shape[0]):\n",
    "        if df[i] > 2:\n",
    "            #print('i:',i,'counter:',counter)\n",
    "            counter +=1\n",
    "    print(\"No of houses with price > 200k:\", counter)"
   ]
  },
  {
   "cell_type": "code",
   "execution_count": 94,
   "metadata": {},
   "outputs": [
    {
     "name": "stdout",
     "output_type": "stream",
     "text": [
      "No of houses with price > 200k: 8709\n"
     ]
    }
   ],
   "source": [
    "counting_houses(y)"
   ]
  },
  {
   "cell_type": "code",
   "execution_count": null,
   "metadata": {
    "id": "-OdXTKT7ARup"
   },
   "outputs": [],
   "source": [
    "# ↑↑↑↑↑↑↑↑↑↑↑↑↑↑↑↑↑↑↑↑↑↑↑↑↑↑↑↑↑↑↑\n",
    "# your code goes above this"
   ]
  },
  {
   "cell_type": "markdown",
   "metadata": {
    "id": "-4cOvIPUAS1P"
   },
   "source": [
    "By calling `arr[mask]` you can extract only those items from a numpy array where `mask` is `True`.    \n",
    "4) Put all `X` where the price is in `X_200k` and the corresponding `y` in `y_200k`."
   ]
  },
  {
   "cell_type": "code",
   "execution_count": null,
   "metadata": {
    "id": "hfrnEEaBG4ha"
   },
   "outputs": [],
   "source": [
    "# your code goes below\n",
    "# ↓↓↓↓↓↓↓↓↓↓↓↓↓↓↓↓↓↓↓↓↓↓↓↓↓↓↓↓↓↓↓"
   ]
  },
  {
   "cell_type": "code",
   "execution_count": 99,
   "metadata": {
    "id": "C3WaMGwPA9fl"
   },
   "outputs": [],
   "source": [
    "y_mask_200k = y[y > 2]"
   ]
  },
  {
   "cell_type": "code",
   "execution_count": 104,
   "metadata": {
    "id": "8f0Pm07eG7yz"
   },
   "outputs": [],
   "source": [
    "X_200k = X[y > 2]\n",
    "# ↑↑↑↑↑↑↑↑↑↑↑↑↑↑↑↑↑↑↑↑↑↑↑↑↑↑↑↑↑↑↑\n",
    "# your code goes above this"
   ]
  },
  {
   "cell_type": "code",
   "execution_count": 106,
   "metadata": {},
   "outputs": [
    {
     "data": {
      "text/plain": [
       "8709"
      ]
     },
     "execution_count": 106,
     "metadata": {},
     "output_type": "execute_result"
    }
   ],
   "source": [
    "X_200k.shape[0]"
   ]
  },
  {
   "cell_type": "markdown",
   "metadata": {
    "id": "ggVKfcDk9l8N"
   },
   "source": [
    "## Pandas Dataframes"
   ]
  },
  {
   "cell_type": "code",
   "execution_count": 108,
   "metadata": {
    "id": "lSJUYS4H9bxS"
   },
   "outputs": [],
   "source": [
    "from sklearn.datasets import fetch_california_housing\n",
    "\n",
    "california_housing_df = fetch_california_housing(as_frame=True)"
   ]
  },
  {
   "cell_type": "code",
   "execution_count": 109,
   "metadata": {
    "id": "6DJKWUvEBRSg"
   },
   "outputs": [],
   "source": [
    "X_df = california_housing_df['data']\n",
    "y_df = california_housing_df['target']"
   ]
  },
  {
   "cell_type": "markdown",
   "metadata": {
    "id": "XeJ-16nGBb2L"
   },
   "source": [
    "### Task 4\n",
    "1) Get a [description](https://pandas.pydata.org/pandas-docs/stable/reference/api/pandas.DataFrame.describe.html) of the `X_df` and `y_df`.   "
   ]
  },
  {
   "cell_type": "code",
   "execution_count": null,
   "metadata": {
    "id": "3QXsN552CSDf"
   },
   "outputs": [],
   "source": [
    "# your code goes below\n",
    "# ↓↓↓↓↓↓↓↓↓↓↓↓↓↓↓↓↓↓↓↓↓↓↓↓↓↓↓↓↓↓"
   ]
  },
  {
   "cell_type": "code",
   "execution_count": 110,
   "metadata": {
    "id": "wooB5QpoBSeu"
   },
   "outputs": [
    {
     "data": {
      "text/plain": [
       "<bound method NDFrame.describe of        MedInc  HouseAge  AveRooms  AveBedrms  Population  AveOccup  Latitude  \\\n",
       "0      8.3252      41.0  6.984127   1.023810       322.0  2.555556     37.88   \n",
       "1      8.3014      21.0  6.238137   0.971880      2401.0  2.109842     37.86   \n",
       "2      7.2574      52.0  8.288136   1.073446       496.0  2.802260     37.85   \n",
       "3      5.6431      52.0  5.817352   1.073059       558.0  2.547945     37.85   \n",
       "4      3.8462      52.0  6.281853   1.081081       565.0  2.181467     37.85   \n",
       "...       ...       ...       ...        ...         ...       ...       ...   \n",
       "20635  1.5603      25.0  5.045455   1.133333       845.0  2.560606     39.48   \n",
       "20636  2.5568      18.0  6.114035   1.315789       356.0  3.122807     39.49   \n",
       "20637  1.7000      17.0  5.205543   1.120092      1007.0  2.325635     39.43   \n",
       "20638  1.8672      18.0  5.329513   1.171920       741.0  2.123209     39.43   \n",
       "20639  2.3886      16.0  5.254717   1.162264      1387.0  2.616981     39.37   \n",
       "\n",
       "       Longitude  \n",
       "0        -122.23  \n",
       "1        -122.22  \n",
       "2        -122.24  \n",
       "3        -122.25  \n",
       "4        -122.25  \n",
       "...          ...  \n",
       "20635    -121.09  \n",
       "20636    -121.21  \n",
       "20637    -121.22  \n",
       "20638    -121.32  \n",
       "20639    -121.24  \n",
       "\n",
       "[20640 rows x 8 columns]>"
      ]
     },
     "execution_count": 110,
     "metadata": {},
     "output_type": "execute_result"
    }
   ],
   "source": [
    "X_df.describe"
   ]
  },
  {
   "cell_type": "code",
   "execution_count": 111,
   "metadata": {
    "id": "I3COgloUBt15"
   },
   "outputs": [
    {
     "data": {
      "text/plain": [
       "<bound method NDFrame.describe of 0        4.526\n",
       "1        3.585\n",
       "2        3.521\n",
       "3        3.413\n",
       "4        3.422\n",
       "         ...  \n",
       "20635    0.781\n",
       "20636    0.771\n",
       "20637    0.923\n",
       "20638    0.847\n",
       "20639    0.894\n",
       "Name: MedHouseVal, Length: 20640, dtype: float64>"
      ]
     },
     "execution_count": 111,
     "metadata": {},
     "output_type": "execute_result"
    }
   ],
   "source": [
    "y_df.describe"
   ]
  },
  {
   "cell_type": "code",
   "execution_count": null,
   "metadata": {
    "id": "3FBjif7WCWGm"
   },
   "outputs": [],
   "source": [
    "# ↑↑↑↑↑↑↑↑↑↑↑↑↑↑↑↑↑↑↑↑↑↑↑↑↑↑↑↑↑↑↑\n",
    "# your code goes above this"
   ]
  },
  {
   "cell_type": "markdown",
   "metadata": {
    "id": "upyDITE_B80k"
   },
   "source": [
    "2) Get all elements of the dataframe where the price is >= 200k$. You don't have to convert anything to numpy arrays."
   ]
  },
  {
   "cell_type": "code",
   "execution_count": null,
   "metadata": {
    "id": "eY7D5xL6CTDc"
   },
   "outputs": [],
   "source": [
    "# your code goes below\n",
    "# ↓↓↓↓↓↓↓↓↓↓↓↓↓↓↓↓↓↓↓↓↓↓↓↓↓↓↓↓↓↓"
   ]
  },
  {
   "cell_type": "code",
   "execution_count": 112,
   "metadata": {
    "id": "IGSvhOJnB1nZ"
   },
   "outputs": [],
   "source": [
    "X_200k = X_df[y > 2]"
   ]
  },
  {
   "cell_type": "code",
   "execution_count": 113,
   "metadata": {
    "id": "xL4QF6VFCFID"
   },
   "outputs": [],
   "source": [
    "# ↑↑↑↑↑↑↑↑↑↑↑↑↑↑↑↑↑↑↑↑↑↑↑↑↑↑↑↑↑↑↑\n",
    "# your code goes above this"
   ]
  },
  {
   "cell_type": "code",
   "execution_count": null,
   "metadata": {},
   "outputs": [],
   "source": []
  },
  {
   "cell_type": "markdown",
   "metadata": {
    "id": "pIjfZCArC2PC"
   },
   "source": [
    "3) Plot the [histogram](https://pandas.pydata.org/pandas-docs/stable/reference/api/pandas.DataFrame.hist.html) of `X_df` and `y_df`."
   ]
  },
  {
   "cell_type": "code",
   "execution_count": null,
   "metadata": {
    "id": "vFbNAd4BHDzH"
   },
   "outputs": [],
   "source": [
    "# your code goes below\n",
    "# ↓↓↓↓↓↓↓↓↓↓↓↓↓↓↓↓↓↓↓↓↓↓↓↓↓↓↓↓↓↓↓"
   ]
  },
  {
   "cell_type": "code",
   "execution_count": 115,
   "metadata": {},
   "outputs": [],
   "source": [
    "import matplotlib.pyplot as plt"
   ]
  },
  {
   "cell_type": "code",
   "execution_count": null,
   "metadata": {},
   "outputs": [],
   "source": [
    "DataFrame.hist(column=None, by=None, grid=True, xlabelsize=None, \n",
    "               xrot=None, ylabelsize=None, yrot=None, ax=None, sharex=False,\n",
    "               sharey=False, figsize=None, layout=None, bins=10, backend=None, legend=False, **kwargs)"
   ]
  },
  {
   "cell_type": "code",
   "execution_count": 126,
   "metadata": {
    "id": "1DHUQFrWCbo3"
   },
   "outputs": [
    {
     "data": {
      "text/plain": [
       "<Figure size 1152x864 with 0 Axes>"
      ]
     },
     "metadata": {},
     "output_type": "display_data"
    },
    {
     "data": {
      "image/png": "[encoded data removed]",
      "text/plain": [
       "<Figure size 432x288 with 9 Axes>"
      ]
     },
     "metadata": {
      "needs_background": "light"
     },
     "output_type": "display_data"
    }
   ],
   "source": [
    "plt.figure(figsize=(16,12))\n",
    "hist = X_df.hist(bins=10)"
   ]
  },
  {
   "cell_type": "code",
   "execution_count": 132,
   "metadata": {
    "id": "kRh9Nw-6Df8T"
   },
   "outputs": [
    {
     "data": {
      "image/png": "[encoded data removed]",
      "text/plain": [
       "<Figure size 576x432 with 1 Axes>"
      ]
     },
     "metadata": {
      "needs_background": "light"
     },
     "output_type": "display_data"
    }
   ],
   "source": [
    "plt.figure(figsize=(8,6))\n",
    "hist = y_df.hist(bins=10)"
   ]
  },
  {
   "cell_type": "code",
   "execution_count": null,
   "metadata": {
    "id": "fsFgvzX-HFR8"
   },
   "outputs": [],
   "source": [
    "# ↑↑↑↑↑↑↑↑↑↑↑↑↑↑↑↑↑↑↑↑↑↑↑↑↑↑↑↑↑↑↑\n",
    "# your code goes above this"
   ]
  },
  {
   "cell_type": "markdown",
   "metadata": {
    "id": "iaE_V8xMWudm"
   },
   "source": [
    "# Solutions"
   ]
  },
  {
   "cell_type": "code",
   "execution_count": null,
   "metadata": {
    "id": "trJ4TtUyCwpC"
   },
   "outputs": [],
   "source": [
    "def fac_rec(n):\n",
    "  if n == 0:\n",
    "    return 1\n",
    "  elif n == 1:\n",
    "    return 1\n",
    "  else:\n",
    "    return n*fac_rec(n-1)"
   ]
  }
 ],
 "metadata": {
  "colab": {
   "collapsed_sections": [],
   "include_colab_link": true,
   "name": "00_Exercise0_Thales.ipynb ",
   "provenance": []
  },
  "kernelspec": {
   "display_name": "Python 3",
   "language": "python",
   "name": "python3"
  },
  "language_info": {
   "codemirror_mode": {
    "name": "ipython",
    "version": 3
   },
   "file_extension": ".py",
   "mimetype": "text/x-python",
   "name": "python",
   "nbconvert_exporter": "python",
   "pygments_lexer": "ipython3",
   "version": "3.8.5"
  }
 },
 "nbformat": 4,
 "nbformat_minor": 4
}
