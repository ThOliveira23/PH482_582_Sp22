{
  "nbformat": 4,
  "nbformat_minor": 0,
  "metadata": {
    "colab": {
      "name": "Untitled1.ipynb",
      "provenance": []
    },
    "kernelspec": {
      "name": "python3",
      "display_name": "Python 3"
    },
    "language_info": {
      "name": "python"
    },
    "accelerator": "GPU"
  },
  "cells": [
    {
      "cell_type": "code",
      "execution_count": 2,
      "metadata": {
        "id": "PUu9ctbXnQCT"
      },
      "outputs": [],
      "source": [
        "import os\n",
        "import csv\n",
        "import random\n",
        "import numpy as np\n",
        "import pandas as pd\n",
        "import matplotlib.pyplot as plt\n",
        "\n",
        "import tensorflow\n",
        "\n",
        "from tensorflow import keras \n",
        "from keras import models\n",
        "from keras import applications\n",
        "from keras import regularizers\n",
        "from keras.preprocessing.image import ImageDataGenerator\n",
        "from keras.layers import *\n",
        "from keras.models import *\n",
        "from keras import backend as K\n",
        "from keras.callbacks import EarlyStopping\n",
        "from tensorflow.keras.utils import to_categorical\n",
        "from tensorflow.keras.optimizers import Adam\n",
        "from sklearn.model_selection import train_test_split\n",
        "\n",
        "import warnings\n",
        "warnings.filterwarnings('ignore')"
      ]
    },
    {
      "cell_type": "code",
      "source": [
        ""
      ],
      "metadata": {
        "cellView": "code",
        "id": "GRXWjk0nzaSz"
      },
      "execution_count": null,
      "outputs": []
    },
    {
      "cell_type": "markdown",
      "source": [
        "#@title Default title text\n",
        "# Task 6: High Accuracy CNN for MNIST\n",
        "Build your own CNN and try to achieve the highest possible accuracy on MNIST.\n",
        "A basic structure is given below, play around with it.\n",
        "\n",
        "The following model uses 2 convolutional layers, followed by 1 pooling layer, then dropout 25%, then a dense layer, another dropout layer but with 50% dropout, and finally the output layer. It reaches about 99.2% accuracy on the test set. This places this model roughly in the top 20% in the [MNIST Kaggle competition](https://www.kaggle.com/c/digit-recognizer/) (if we ignore the models with an accuracy greater than 99.79% which were most likely trained on the test set, as explained by Chris Deotte in [this post](https://www.kaggle.com/c/digit-recognizer/discussion/61480)). \n",
        "\n",
        "In order to reach an accuracy higher than 99.5% on the test set you might try:\n",
        "\n",
        "a) batch normalization layers (https://keras.io/api/layers/normalization_layers/batch_normalization/)   \n",
        "b) set a learning scheduler (Check Chapter 11)   \n",
        "c) add image augmentation (Check Chapter 14)   \n",
        "d) create an ensemble (Check Chapter 14)   \n",
        "e) use hyperparameter tuning, e.g. with [keras tuner](https://www.tensorflow.org/tutorials/keras/keras_tuner) (Hyperband seems to work quite well) \n",
        "\n",
        "As long as you implement at least **two** of the above you will get full points on this one. "
      ],
      "metadata": {
        "id": "BoSCNcEGzj__"
      }
    },
    {
      "cell_type": "code",
      "source": [
        "(X_train_full, y_train_full), (X_test, y_test) = keras.datasets.mnist.load_data()\n",
        "X_train_full = X_train_full / 255.\n",
        "X_test = X_test / 255.\n",
        "X_train, X_valid = X_train_full[:-5000], X_train_full[-5000:]\n",
        "y_train, y_valid = y_train_full[:-5000], y_train_full[-5000:]\n",
        "\n",
        "X_train = np.array(X_train[..., np.newaxis])   # 55000, 28, 28, 1)\n",
        "X_valid = np.array(X_valid[..., np.newaxis])   # 5000, 28, 28, 1)\n",
        "X_test = np.array(X_test[..., np.newaxis])     # 10000, 28, 28, 1)"
      ],
      "metadata": {
        "id": "6DOm-nlcrT0T"
      },
      "execution_count": 27,
      "outputs": []
    },
    {
      "cell_type": "code",
      "source": [
        "type(X_train)"
      ],
      "metadata": {
        "colab": {
          "base_uri": "https://localhost:8080/"
        },
        "id": "Mqfa0G8oviAt",
        "outputId": "35c61e07-9717-49ec-810f-867d2018d40d"
      },
      "execution_count": 19,
      "outputs": [
        {
          "output_type": "execute_result",
          "data": {
            "text/plain": [
              "numpy.ndarray"
            ]
          },
          "metadata": {},
          "execution_count": 19
        }
      ]
    },
    {
      "cell_type": "code",
      "source": [
        "data_gen = ImageDataGenerator(validation_split = 0.2, rotation_range = 10,\n",
        "                              zoom_range = 0.1, width_shift_range = 0.1, height_shift_range = 0.1)"
      ],
      "metadata": {
        "id": "vLM3MpHXoQYo"
      },
      "execution_count": 32,
      "outputs": []
    },
    {
      "cell_type": "code",
      "source": [
        ""
      ],
      "metadata": {
        "id": "5P8e10Qs0XHK"
      },
      "execution_count": 21,
      "outputs": []
    },
    {
      "cell_type": "code",
      "source": [
        ""
      ],
      "metadata": {
        "colab": {
          "base_uri": "https://localhost:8080/"
        },
        "id": "_L0a3vYS0Zyx",
        "outputId": "d03c1de7-1f84-42eb-a70e-1ad7a99564ed"
      },
      "execution_count": 23,
      "outputs": [
        {
          "output_type": "execute_result",
          "data": {
            "text/plain": [
              "NoneType"
            ]
          },
          "metadata": {},
          "execution_count": 23
        }
      ]
    },
    {
      "cell_type": "code",
      "source": [
        ""
      ],
      "metadata": {
        "id": "ioI5mpEDw9Ta"
      },
      "execution_count": 25,
      "outputs": []
    },
    {
      "cell_type": "code",
      "source": [
        "model = keras.models.Sequential([ \n",
        "        keras.layers.BatchNormalization(),     # Batch normalization layer                      \n",
        "        keras.layers.Conv2D(filters=32, kernel_size=3, activation='relu', padding='same'),\n",
        "        keras.layers.BatchNormalization(),     # Batch normalization layer \n",
        "        keras.layers.Conv2D(filters=64, kernel_size=3, activation='relu', padding='same'),\n",
        "        keras.layers.MaxPool2D(),              # Max Pooling layer\n",
        "        keras.layers.Flatten(),\n",
        "        keras.layers.Dropout(rate=0.25),       # 0.25 Dropout layer \n",
        "        keras.layers.BatchNormalization(),     # Batch normalization layer \n",
        "        keras.layers.Dense(128, activation='relu'),\n",
        "        keras.layers.Dropout(rate=0.5),        # 0.5 Dropout layer \n",
        "        keras.layers.BatchNormalization(),     # Batch normalization layer \n",
        "        keras.layers.Dense(10, activation='softmax')\n",
        "])"
      ],
      "metadata": {
        "id": "7NCZMIcftXda"
      },
      "execution_count": 37,
      "outputs": []
    },
    {
      "cell_type": "code",
      "source": [
        "model.compile(loss='sparse_categorical_crossentropy', optimizer='nadam', metrics=['accuracy'])\n"
      ],
      "metadata": {
        "id": "tM1_KIxfxOZU"
      },
      "execution_count": 38,
      "outputs": []
    },
    {
      "cell_type": "code",
      "source": [
        "data_train = data_gen.flow(X_train, y_train, shuffle = True)\n",
        "history = model.fit(data_train, validation_data = (X_valid, y_valid), epochs = 50)"
      ],
      "metadata": {
        "colab": {
          "base_uri": "https://localhost:8080/"
        },
        "id": "brjsG2c80Lfu",
        "outputId": "129c6f78-b0db-4d12-8c7a-c65776a97844"
      },
      "execution_count": null,
      "outputs": [
        {
          "output_type": "stream",
          "name": "stdout",
          "text": [
            "Epoch 1/50\n",
            "1719/1719 [==============================] - 43s 23ms/step - loss: 0.3867 - accuracy: 0.8812 - val_loss: 0.0674 - val_accuracy: 0.9798\n",
            "Epoch 2/50\n",
            "1719/1719 [==============================] - 40s 23ms/step - loss: 0.2162 - accuracy: 0.9342 - val_loss: 0.0432 - val_accuracy: 0.9884\n",
            "Epoch 3/50\n",
            "1719/1719 [==============================] - 39s 23ms/step - loss: 0.1772 - accuracy: 0.9453 - val_loss: 0.0662 - val_accuracy: 0.9802\n",
            "Epoch 4/50\n",
            " 776/1719 [============>.................] - ETA: 21s - loss: 0.1679 - accuracy: 0.9496"
          ]
        }
      ]
    },
    {
      "cell_type": "code",
      "source": [
        "model.evaluate(X_test, y_test)"
      ],
      "metadata": {
        "colab": {
          "base_uri": "https://localhost:8080/"
        },
        "id": "6uRBaAeXxans",
        "outputId": "dc718c27-4dff-41e1-eeb7-50b5b894d168"
      },
      "execution_count": 36,
      "outputs": [
        {
          "output_type": "stream",
          "name": "stdout",
          "text": [
            "313/313 [==============================] - 2s 5ms/step - loss: 0.0376 - accuracy: 0.9902\n"
          ]
        },
        {
          "output_type": "execute_result",
          "data": {
            "text/plain": [
              "[0.03755970671772957, 0.9901999831199646]"
            ]
          },
          "metadata": {},
          "execution_count": 36
        }
      ]
    },
    {
      "cell_type": "code",
      "source": [
        ""
      ],
      "metadata": {
        "id": "Mr5LDPhwz9I8"
      },
      "execution_count": null,
      "outputs": []
    }
  ]
}