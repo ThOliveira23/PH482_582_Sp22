{
 "cells": [
  {
   "cell_type": "code",
   "execution_count": 1,
   "metadata": {},
   "outputs": [],
   "source": [
    "#Python ≥3.5 is required\n",
    "import sys\n",
    "assert sys.version_info >= (3, 5)\n",
    "\n",
    "# Scikit-Learn ≥0.20 is required\n",
    "import sklearn\n",
    "assert sklearn.__version__ >= \"0.20\"\n",
    "\n",
    "try:\n",
    "    # %tensorflow_version only exists in Colab.\n",
    "    %tensorflow_version 2.x\n",
    "except Exception:\n",
    "    pass\n",
    "\n",
    "# TensorFlow ≥2.0 is required\n",
    "import tensorflow as tf\n",
    "from tensorflow import keras\n",
    "assert tf.__version__ >= \"2.0\"\n",
    "\n",
    "%load_ext tensorboard\n",
    "\n",
    "# Common imports\n",
    "import numpy as np\n",
    "import os\n",
    "\n",
    "# to make this notebook's output stable across runs\n",
    "np.random.seed(42)\n",
    "\n",
    "# To plot pretty figures\n",
    "%matplotlib inline\n",
    "import matplotlib as mpl\n",
    "import matplotlib.pyplot as plt\n",
    "mpl.rc('axes', labelsize=14)\n",
    "mpl.rc('xtick', labelsize=12)\n",
    "mpl.rc('ytick', labelsize=12)\n",
    "\n",
    "# Where to save the figures\n",
    "PROJECT_ROOT_DIR = \".\"\n",
    "CHAPTER_ID = \"deep\"\n",
    "IMAGES_PATH = os.path.join(PROJECT_ROOT_DIR, \"images\", CHAPTER_ID)\n",
    "os.makedirs(IMAGES_PATH, exist_ok=True)\n",
    "\n",
    "def save_fig(fig_id, tight_layout=True, fig_extension=\"png\", resolution=300):\n",
    "    path = os.path.join(IMAGES_PATH, fig_id + \".\" + fig_extension)\n",
    "    print(\"Saving figure\", fig_id)\n",
    "    if tight_layout:\n",
    "        plt.tight_layout()\n",
    "    plt.savefig(path, format=fig_extension, dpi=resolution)"
   ]
  },
  {
   "cell_type": "markdown",
   "metadata": {},
   "source": [
    "# Vanishing/Exploding Gradients Problem\n",
    "\n"
   ]
  },
  {
   "cell_type": "code",
   "execution_count": 2,
   "metadata": {},
   "outputs": [],
   "source": [
    "def logit(z):\n",
    "    return 1 / (1 + np.exp(-z))"
   ]
  },
  {
   "cell_type": "code",
   "execution_count": 3,
   "metadata": {},
   "outputs": [
    {
     "data": {
      "image/png": "[encoded data removed]",
      "text/plain": [
       "<Figure size 432x288 with 1 Axes>"
      ]
     },
     "metadata": {
      "needs_background": "light"
     },
     "output_type": "display_data"
    }
   ],
   "source": [
    "z = np.linspace(-5, 5, 200)\n",
    "\n",
    "plt.plot([-5, 5], [0, 0], 'k-')\n",
    "plt.plot([-5, 5], [1, 1], 'k--')\n",
    "plt.plot([0, 0], [-0.2, 1.2], 'k-')\n",
    "plt.plot([-5, 5], [-3/4, 7/4], 'g--')\n",
    "plt.plot(z, logit(z), \"b-\", linewidth=2)\n",
    "props = dict(facecolor='black', shrink=0.1)\n",
    "plt.annotate('Saturating', xytext=(3.5, 0.7), xy=(5, 1), arrowprops=props, fontsize=14, ha=\"center\")\n",
    "plt.annotate('Saturating', xytext=(-3.5, 0.3), xy=(-5, 0), arrowprops=props, fontsize=14, ha=\"center\")\n",
    "plt.annotate('Linear', xytext=(2, 0.2), xy=(0, 0.5), arrowprops=props, fontsize=14, ha=\"center\")\n",
    "plt.grid(True)\n",
    "plt.title(\"Sigmoid activation function\", fontsize=14)\n",
    "plt.axis([-5, 5, -0.2, 1.2])\n",
    "\n",
    "#save_fig(\"sigmoid_saturation_plot\")\n",
    "plt.show()"
   ]
  },
  {
   "cell_type": "markdown",
   "metadata": {},
   "source": [
    "# Xavier and He initialization"
   ]
  },
  {
   "cell_type": "code",
   "execution_count": 5,
   "metadata": {},
   "outputs": [
    {
     "data": {
      "text/plain": [
       "['Constant',\n",
       " 'GlorotNormal',\n",
       " 'GlorotUniform',\n",
       " 'HeNormal',\n",
       " 'HeUniform',\n",
       " 'Identity',\n",
       " 'Initializer',\n",
       " 'LecunNormal',\n",
       " 'LecunUniform',\n",
       " 'Ones',\n",
       " 'Orthogonal',\n",
       " 'RandomNormal',\n",
       " 'RandomUniform',\n",
       " 'TruncatedNormal',\n",
       " 'VarianceScaling',\n",
       " 'Zeros',\n",
       " 'constant',\n",
       " 'deserialize',\n",
       " 'get',\n",
       " 'glorot_normal',\n",
       " 'glorot_uniform',\n",
       " 'he_normal',\n",
       " 'he_uniform',\n",
       " 'identity',\n",
       " 'lecun_normal',\n",
       " 'lecun_uniform',\n",
       " 'ones',\n",
       " 'orthogonal',\n",
       " 'random_normal',\n",
       " 'random_uniform',\n",
       " 'serialize',\n",
       " 'truncated_normal',\n",
       " 'variance_scaling',\n",
       " 'zeros']"
      ]
     },
     "execution_count": 5,
     "metadata": {},
     "output_type": "execute_result"
    }
   ],
   "source": [
    "[name for name in dir(keras.initializers) if not name.startswith(\"_\")]"
   ]
  },
  {
   "cell_type": "code",
   "execution_count": 6,
   "metadata": {},
   "outputs": [
    {
     "data": {
      "text/plain": [
       "<tensorflow.python.keras.layers.core.Dense at 0x14759b1f0>"
      ]
     },
     "execution_count": 6,
     "metadata": {},
     "output_type": "execute_result"
    }
   ],
   "source": [
    "# Applying the He initialization\n",
    "keras.layers.Dense(10, activation='relu', kernel_initializer='he_normal')"
   ]
  },
  {
   "cell_type": "code",
   "execution_count": 7,
   "metadata": {},
   "outputs": [
    {
     "data": {
      "text/plain": [
       "<tensorflow.python.keras.layers.core.Dense at 0x14600f130>"
      ]
     },
     "execution_count": 7,
     "metadata": {},
     "output_type": "execute_result"
    }
   ],
   "source": [
    "init = keras.initializers.VarianceScaling(scale=2., mode='fan_avg', distribution='uniform')\n",
    "keras.layers.Dense(10, activation='relu', kernel_initializer=init)"
   ]
  },
  {
   "cell_type": "markdown",
   "metadata": {},
   "source": [
    "# Nonsaturating activation functions"
   ]
  },
  {
   "cell_type": "code",
   "execution_count": 10,
   "metadata": {},
   "outputs": [
    {
     "data": {
      "text/plain": [
       "['deserialize',\n",
       " 'elu',\n",
       " 'exponential',\n",
       " 'get',\n",
       " 'hard_sigmoid',\n",
       " 'linear',\n",
       " 'relu',\n",
       " 'selu',\n",
       " 'serialize',\n",
       " 'sigmoid',\n",
       " 'softmax',\n",
       " 'softplus',\n",
       " 'softsign',\n",
       " 'swish',\n",
       " 'tanh']"
      ]
     },
     "execution_count": 10,
     "metadata": {},
     "output_type": "execute_result"
    }
   ],
   "source": [
    "[m for m in dir(keras.activations) if not m.startswith(\"_\")]"
   ]
  },
  {
   "cell_type": "code",
   "execution_count": 8,
   "metadata": {},
   "outputs": [],
   "source": [
    "def leaky_relu(z, alpha=0.01):\n",
    "    return np.maximum(alpha*z, z)\n"
   ]
  },
  {
   "cell_type": "code",
   "execution_count": 9,
   "metadata": {},
   "outputs": [
    {
     "data": {
      "image/png": "[encoded data removed]",
      "text/plain": [
       "<Figure size 432x288 with 1 Axes>"
      ]
     },
     "metadata": {
      "needs_background": "light"
     },
     "output_type": "display_data"
    }
   ],
   "source": [
    "plt.plot(z, leaky_relu(z, 0.05), \"b-\", linewidth=2)\n",
    "plt.plot([-5, 5], [0, 0], 'k-')\n",
    "plt.plot([0, 0], [-0.5, 4.2], 'k-')\n",
    "plt.grid(True)\n",
    "props = dict(facecolor='black', shrink=0.1)\n",
    "plt.annotate('Leak', xytext=(-3.5, 0.5), xy=(-5, -0.2), arrowprops=props, fontsize=14, ha=\"center\")\n",
    "plt.title(\"Leaky ReLU activation function\", fontsize=14)\n",
    "plt.axis([-5, 5, -0.5, 4.2])\n",
    "\n",
    "#save_fig(\"leaky_relu_plot\")\n",
    "plt.show()"
   ]
  },
  {
   "cell_type": "code",
   "execution_count": 15,
   "metadata": {},
   "outputs": [
    {
     "data": {
      "text/plain": [
       "['LeakyReLU', 'PReLU', 'ReLU', 'ThresholdedReLU']"
      ]
     },
     "execution_count": 15,
     "metadata": {},
     "output_type": "execute_result"
    }
   ],
   "source": [
    "[m for m in dir(keras.layers) if 'relu' in m.lower()]"
   ]
  },
  {
   "cell_type": "code",
   "execution_count": 2,
   "metadata": {},
   "outputs": [],
   "source": [
    "# Let's train a neural network on Fashion MNIST using the Leaky ReLU:\n",
    "(X_train_full, y_train_full), (X_test, y_test) = keras.datasets.fashion_mnist.load_data()\n",
    "X_train_full = X_train_full / 255.0\n",
    "X_test = X_test / 255.0\n",
    "\n",
    "# Getting 5k instances for validation and 55 for training\n",
    "X_valid, X_train = X_train_full[:5000], X_train_full[5000:]\n",
    "y_valid, y_train = y_train_full[:5000], y_train_full[5000:]"
   ]
  },
  {
   "cell_type": "code",
   "execution_count": 63,
   "metadata": {},
   "outputs": [],
   "source": [
    "tf.random.set_seed(42)\n",
    "np.random.seed(42)\n",
    "\n",
    "# Build the model with LeakyReLU and He_normal initialization\n",
    "model = keras.models.Sequential([\n",
    "    keras.layers.Flatten(input_shape=[28,28]),\n",
    "    keras.layers.Dense(300, kernel_initializer='he_normal'),\n",
    "    keras.layers.LeakyReLU(),\n",
    "    keras.layers.Dense(100, kernel_initializer='he_normal'),\n",
    "    keras.layers.LeakyReLU(),\n",
    "    keras.layers.Dense(10, activation='softmax'),\n",
    "])"
   ]
  },
  {
   "cell_type": "code",
   "execution_count": 64,
   "metadata": {},
   "outputs": [],
   "source": [
    "# Compile the model \n",
    "model.compile(loss=\"sparse_categorical_crossentropy\",\n",
    "              optimizer=keras.optimizers.SGD(learning_rate=1e-3),\n",
    "              metrics=[\"accuracy\"])"
   ]
  },
  {
   "cell_type": "code",
   "execution_count": 65,
   "metadata": {},
   "outputs": [
    {
     "name": "stdout",
     "output_type": "stream",
     "text": [
      "Epoch 1/10\n",
      "1719/1719 [==============================] - 4s 2ms/step - loss: 1.2819 - accuracy: 0.6229 - val_loss: 0.8886 - val_accuracy: 0.7160\n",
      "Epoch 2/10\n",
      "1719/1719 [==============================] - 4s 2ms/step - loss: 0.7955 - accuracy: 0.7362 - val_loss: 0.7130 - val_accuracy: 0.7656\n",
      "Epoch 3/10\n",
      "1719/1719 [==============================] - 4s 2ms/step - loss: 0.6816 - accuracy: 0.7721 - val_loss: 0.6427 - val_accuracy: 0.7902\n",
      "Epoch 4/10\n",
      "1719/1719 [==============================] - 4s 2ms/step - loss: 0.6217 - accuracy: 0.7944 - val_loss: 0.5900 - val_accuracy: 0.8064\n",
      "Epoch 5/10\n",
      "1719/1719 [==============================] - 4s 2ms/step - loss: 0.5832 - accuracy: 0.8074 - val_loss: 0.5582 - val_accuracy: 0.8200\n",
      "Epoch 6/10\n",
      "1719/1719 [==============================] - 4s 2ms/step - loss: 0.5553 - accuracy: 0.8157 - val_loss: 0.5350 - val_accuracy: 0.8238\n",
      "Epoch 7/10\n",
      "1719/1719 [==============================] - 4s 2ms/step - loss: 0.5338 - accuracy: 0.8225 - val_loss: 0.5157 - val_accuracy: 0.8304\n",
      "Epoch 8/10\n",
      "1719/1719 [==============================] - 4s 2ms/step - loss: 0.5173 - accuracy: 0.8272 - val_loss: 0.5079 - val_accuracy: 0.8286\n",
      "Epoch 9/10\n",
      "1719/1719 [==============================] - 4s 2ms/step - loss: 0.5040 - accuracy: 0.8289 - val_loss: 0.4895 - val_accuracy: 0.8390\n",
      "Epoch 10/10\n",
      "1719/1719 [==============================] - 4s 2ms/step - loss: 0.4924 - accuracy: 0.8321 - val_loss: 0.4817 - val_accuracy: 0.8396\n"
     ]
    }
   ],
   "source": [
    "# Train the model \n",
    "history = model.fit(X_train, y_train, epochs=10,validation_data=(X_valid, y_valid))"
   ]
  },
  {
   "cell_type": "code",
   "execution_count": 66,
   "metadata": {},
   "outputs": [
    {
     "name": "stdout",
     "output_type": "stream",
     "text": [
      "313/313 [==============================] - 0s 1ms/step - loss: 0.5155 - accuracy: 0.8242\n"
     ]
    },
    {
     "data": {
      "text/plain": [
       "[0.5155050158500671, 0.8241999745368958]"
      ]
     },
     "execution_count": 66,
     "metadata": {},
     "output_type": "execute_result"
    }
   ],
   "source": [
    "model.evaluate(X_test, y_test)"
   ]
  },
  {
   "cell_type": "markdown",
   "metadata": {},
   "source": [
    "Train the same model with PReLU:"
   ]
  },
  {
   "cell_type": "code",
   "execution_count": 67,
   "metadata": {},
   "outputs": [],
   "source": [
    "tf.random.set_seed(42)\n",
    "np.random.seed(42)\n",
    "\n",
    "# Build the model with LeakyReLU and He_normal initialization\n",
    "model = keras.models.Sequential([\n",
    "    keras.layers.Flatten(input_shape=[28,28]),\n",
    "    keras.layers.Dense(300, kernel_initializer='he_normal'),\n",
    "    keras.layers.PReLU(),\n",
    "    keras.layers.Dense(100, kernel_initializer='he_normal'),\n",
    "    keras.layers.PReLU(),\n",
    "    keras.layers.Dense(10, activation='softmax'),\n",
    "])"
   ]
  },
  {
   "cell_type": "code",
   "execution_count": 68,
   "metadata": {},
   "outputs": [],
   "source": [
    "# Compile the model \n",
    "model.compile(loss=\"sparse_categorical_crossentropy\",\n",
    "              optimizer=keras.optimizers.SGD(learning_rate=1e-3),\n",
    "              metrics=[\"accuracy\"])"
   ]
  },
  {
   "cell_type": "code",
   "execution_count": 69,
   "metadata": {},
   "outputs": [
    {
     "name": "stdout",
     "output_type": "stream",
     "text": [
      "Epoch 1/10\n",
      "1719/1719 [==============================] - 5s 3ms/step - loss: 1.3461 - accuracy: 0.6209 - val_loss: 0.9255 - val_accuracy: 0.7186\n",
      "Epoch 2/10\n",
      "1719/1719 [==============================] - 4s 2ms/step - loss: 0.8197 - accuracy: 0.7355 - val_loss: 0.7305 - val_accuracy: 0.7628\n",
      "Epoch 3/10\n",
      "1719/1719 [==============================] - 4s 2ms/step - loss: 0.6966 - accuracy: 0.7693 - val_loss: 0.6564 - val_accuracy: 0.7880\n",
      "Epoch 4/10\n",
      "1719/1719 [==============================] - 4s 2ms/step - loss: 0.6331 - accuracy: 0.7909 - val_loss: 0.6003 - val_accuracy: 0.8050\n",
      "Epoch 5/10\n",
      "1719/1719 [==============================] - 4s 3ms/step - loss: 0.5917 - accuracy: 0.8056 - val_loss: 0.5656 - val_accuracy: 0.8180\n",
      "Epoch 6/10\n",
      "1719/1719 [==============================] - 4s 3ms/step - loss: 0.5618 - accuracy: 0.8135 - val_loss: 0.5406 - val_accuracy: 0.8238\n",
      "Epoch 7/10\n",
      "1719/1719 [==============================] - 5s 3ms/step - loss: 0.5390 - accuracy: 0.8205 - val_loss: 0.5196 - val_accuracy: 0.8312\n",
      "Epoch 8/10\n",
      "1719/1719 [==============================] - 5s 3ms/step - loss: 0.5213 - accuracy: 0.8257 - val_loss: 0.5113 - val_accuracy: 0.8318\n",
      "Epoch 9/10\n",
      "1719/1719 [==============================] - 5s 3ms/step - loss: 0.5070 - accuracy: 0.8288 - val_loss: 0.4916 - val_accuracy: 0.8378\n",
      "Epoch 10/10\n",
      "1719/1719 [==============================] - 5s 3ms/step - loss: 0.4945 - accuracy: 0.8316 - val_loss: 0.4826 - val_accuracy: 0.8396\n"
     ]
    }
   ],
   "source": [
    "# Train the model \n",
    "history = model.fit(X_train, y_train, epochs=10,validation_data=(X_valid, y_valid))"
   ]
  },
  {
   "cell_type": "code",
   "execution_count": 70,
   "metadata": {},
   "outputs": [
    {
     "name": "stdout",
     "output_type": "stream",
     "text": [
      "313/313 [==============================] - 0s 2ms/step - loss: 0.5144 - accuracy: 0.8241: 0s - loss: 0.5185 - accura\n"
     ]
    },
    {
     "data": {
      "text/plain": [
       "[0.5144063234329224, 0.8241000175476074]"
      ]
     },
     "execution_count": 70,
     "metadata": {},
     "output_type": "execute_result"
    }
   ],
   "source": [
    "model.evaluate(X_test, y_test)"
   ]
  },
  {
   "cell_type": "markdown",
   "metadata": {},
   "source": [
    "# SELU\n",
    "\n",
    "This activation function was proposed in 2017. During the training a NN composed exclusively of a stack of dense layers using the SELU activation function and LeCun initialization will self-normalize. In other words, the output of each layer will tend to preserve the same mean and variance during training, which solves the vanishing/exploding gradients problem. \n",
    "\n",
    "As a result, the SELU outperforms the other activation functions very significantly for such neural nets. Unfortunately, the self-normalizing property of the SELU activation function is easily broken. The $\\ell_{1}$ and $\\ell_{2}$ regularizations can't be used, as well the regular dropouts, max-norm, and others. \n",
    "\n",
    "However, in practice it works quite well with sequential CNNs. If you break self-normalization, SELU will not necessarily outperform other activation functions. \n"
   ]
  },
  {
   "cell_type": "code",
   "execution_count": 33,
   "metadata": {},
   "outputs": [],
   "source": [
    "from scipy.special import erfc\n",
    "\n",
    "# alpha and scale to self normalize with mean 0 and standard deviation 1\n",
    "# (see equation 14 in the paper):\n",
    "alpha_0_1 = -np.sqrt(2 / np.pi) / (erfc(1/np.sqrt(2)) * np.exp(1/2) - 1)\n",
    "scale_0_1 = (1 - erfc(1 / np.sqrt(2)) * np.sqrt(np.e)) * np.sqrt(2 * np.pi) * (2 * erfc(np.sqrt(2))*np.e**2 + np.pi*erfc(1/np.sqrt(2))**2*np.e - 2*(2+np.pi)*erfc(1/np.sqrt(2))*np.sqrt(np.e)+np.pi+2)**(-1/2)\n"
   ]
  },
  {
   "cell_type": "code",
   "execution_count": 36,
   "metadata": {},
   "outputs": [],
   "source": [
    "def elu(z, alpha=1):\n",
    "    return np.where(z < 0, alpha * (np.exp(z) - 1), z)\n",
    "\n",
    "def selu(z, scale=scale_0_1, alpha=alpha_0_1):\n",
    "    return scale * elu(z, alpha)"
   ]
  },
  {
   "cell_type": "code",
   "execution_count": 38,
   "metadata": {},
   "outputs": [
    {
     "data": {
      "image/png": "[encoded data removed]",
      "text/plain": [
       "<Figure size 432x288 with 1 Axes>"
      ]
     },
     "metadata": {
      "needs_background": "light"
     },
     "output_type": "display_data"
    }
   ],
   "source": [
    "plt.plot(z, selu(z), \"b-\", linewidth=2)\n",
    "plt.plot([-5, 5], [0, 0], 'k-')\n",
    "plt.plot([-5, 5], [-1.758, -1.758], 'k--')\n",
    "plt.plot([0, 0], [-2.2, 3.2], 'k-')\n",
    "plt.grid(True)\n",
    "plt.title(\"SELU activation function\", fontsize=14)\n",
    "plt.axis([-5, 5, -2.2, 3.2])\n",
    "\n",
    "#save_fig(\"selu_plot\")\n",
    "plt.show()"
   ]
  },
  {
   "cell_type": "markdown",
   "metadata": {},
   "source": [
    "The scale and alpha values are chosen in a way that the mean output of each neuron remains close to 0, and the standard deviation remains close to 1 (assuming the inputs are standardized with mean 0 and std 1 too).\n",
    "\n",
    "With this activation function, even a 1000 layer deep-NN preserves roughy the 0-mean and 1-std configuration through all its layers,  avoiding the exploding/vanishing gradient problem."
   ]
  },
  {
   "cell_type": "code",
   "execution_count": 50,
   "metadata": {},
   "outputs": [
    {
     "name": "stdout",
     "output_type": "stream",
     "text": [
      "Layer 0: mean -0.00, std deviation 1.00\n",
      "Layer 50: mean 0.04, std deviation 0.98\n",
      "Layer 100: mean 0.02, std deviation 0.96\n",
      "Layer 150: mean 0.01, std deviation 0.88\n",
      "Layer 200: mean 0.01, std deviation 0.90\n",
      "Layer 250: mean -0.03, std deviation 0.87\n",
      "Layer 300: mean -0.02, std deviation 0.92\n",
      "Layer 350: mean -0.00, std deviation 0.90\n",
      "Layer 400: mean 0.05, std deviation 0.89\n",
      "Layer 450: mean 0.01, std deviation 0.94\n",
      "Layer 500: mean 0.01, std deviation 0.93\n",
      "Layer 550: mean 0.04, std deviation 0.99\n",
      "Layer 600: mean 0.02, std deviation 0.92\n",
      "Layer 650: mean -0.00, std deviation 0.93\n",
      "Layer 700: mean -0.02, std deviation 0.90\n",
      "Layer 750: mean -0.04, std deviation 0.91\n",
      "Layer 800: mean 0.05, std deviation 0.83\n",
      "Layer 850: mean -0.01, std deviation 0.95\n",
      "Layer 900: mean 0.02, std deviation 1.00\n",
      "Layer 950: mean -0.02, std deviation 0.95\n"
     ]
    }
   ],
   "source": [
    "np.random.seed(42)\n",
    "Z = np.random.normal(size=(500,100))   # Standardized inputs, normal distribution\n",
    "# mean = -0.0004208985797401041\n",
    "# std = 1.0001598664026605\n",
    "for layer in range(1000):\n",
    "    W = np.random.normal(size=(100,100), scale=np.sqrt(1/100))   # LeCun initialization\n",
    "    Z = selu(np.dot(Z, W))\n",
    "    means = np.mean(Z, axis=0).mean()\n",
    "    stds = np.std(Z, axis=0).mean()\n",
    "    if layer % 50 == 0:\n",
    "        print(\"Layer {}: mean {:.2f}, std deviation {:.2f}\".format(layer, means, stds))"
   ]
  },
  {
   "cell_type": "markdown",
   "metadata": {},
   "source": [
    "# Train the model with SELU"
   ]
  },
  {
   "cell_type": "code",
   "execution_count": 71,
   "metadata": {},
   "outputs": [],
   "source": [
    "model = keras.models.Sequential()\n",
    "model.add(keras.layers.Flatten(input_shape=[28, 28]))   # input layer\n",
    "model.add(keras.layers.Dense(300, activation=\"selu\", kernel_initializer=\"lecun_normal\"))\n",
    "for layer in range(99):       # Add 99 100-neurons hidden layers\n",
    "    model.add(keras.layers.Dense(100, activation=\"selu\",\n",
    "                                 kernel_initializer=\"lecun_normal\"))\n",
    "model.add(keras.layers.Dense(10, activation='softmax'))"
   ]
  },
  {
   "cell_type": "code",
   "execution_count": 72,
   "metadata": {},
   "outputs": [],
   "source": [
    "model.compile(loss=\"sparse_categorical_crossentropy\",\n",
    "              optimizer=keras.optimizers.SGD(learning_rate=1e-3),\n",
    "              metrics=[\"accuracy\"])"
   ]
  },
  {
   "cell_type": "markdown",
   "metadata": {},
   "source": [
    "In order to training this model, it is necessary to scale the inputs to have mean 0 and std 1."
   ]
  },
  {
   "cell_type": "code",
   "execution_count": 3,
   "metadata": {},
   "outputs": [],
   "source": [
    "pixel_means = X_train.mean(axis=0, keepdims=True)\n",
    "pixel_stds = X_train.std(axis=0, keepdims=True)\n",
    "X_train_scaled = (X_train - pixel_means) / pixel_stds\n",
    "X_valid_scaled = (X_valid - pixel_means) / pixel_stds\n",
    "X_test_scaled  = (X_test  - pixel_means) / pixel_stds"
   ]
  },
  {
   "cell_type": "code",
   "execution_count": 74,
   "metadata": {},
   "outputs": [
    {
     "name": "stdout",
     "output_type": "stream",
     "text": [
      "Epoch 1/5\n",
      "1719/1719 [==============================] - 20s 12ms/step - loss: 1.2437 - accuracy: 0.5136 - val_loss: 1.0442 - val_accuracy: 0.6060\n",
      "Epoch 2/5\n",
      "1719/1719 [==============================] - 20s 12ms/step - loss: 1.0568 - accuracy: 0.6038 - val_loss: 0.8492 - val_accuracy: 0.6824\n",
      "Epoch 3/5\n",
      "1719/1719 [==============================] - 22s 13ms/step - loss: 0.8998 - accuracy: 0.6619 - val_loss: 0.7964 - val_accuracy: 0.7038\n",
      "Epoch 4/5\n",
      "1719/1719 [==============================] - 21s 12ms/step - loss: 0.7387 - accuracy: 0.7313 - val_loss: 0.6751 - val_accuracy: 0.7554\n",
      "Epoch 5/5\n",
      "1719/1719 [==============================] - 22s 13ms/step - loss: 0.6630 - accuracy: 0.7565 - val_loss: 0.5850 - val_accuracy: 0.7886\n"
     ]
    }
   ],
   "source": [
    "history = model.fit(X_train_scaled, y_train, epochs=5,\n",
    "                    validation_data=(X_valid_scaled, y_valid))"
   ]
  },
  {
   "cell_type": "markdown",
   "metadata": {},
   "source": [
    "Now look at what happens if we try to use the ReLU activation function instead:"
   ]
  },
  {
   "cell_type": "code",
   "execution_count": 75,
   "metadata": {},
   "outputs": [],
   "source": [
    "np.random.seed(42)\n",
    "tf.random.set_seed(42)"
   ]
  },
  {
   "cell_type": "code",
   "execution_count": 76,
   "metadata": {},
   "outputs": [],
   "source": [
    "model = keras.models.Sequential()\n",
    "model.add(keras.layers.Flatten(input_shape=[28, 28]))   # input layer\n",
    "model.add(keras.layers.Dense(300, activation=\"relu\", kernel_initializer=\"he_normal\"))\n",
    "for layer in range(99):       # Add 99 100-neurons hidden layers\n",
    "    model.add(keras.layers.Dense(100, activation=\"relu\",\n",
    "                                 kernel_initializer=\"he_normal\"))\n",
    "model.add(keras.layers.Dense(10, activation='softmax'))"
   ]
  },
  {
   "cell_type": "code",
   "execution_count": 77,
   "metadata": {},
   "outputs": [],
   "source": [
    "model.compile(loss=\"sparse_categorical_crossentropy\",\n",
    "              optimizer=keras.optimizers.SGD(learning_rate=1e-3), metrics=[\"accuracy\"])"
   ]
  },
  {
   "cell_type": "code",
   "execution_count": 78,
   "metadata": {},
   "outputs": [
    {
     "name": "stdout",
     "output_type": "stream",
     "text": [
      "Epoch 1/5\n",
      "1719/1719 [==============================] - 20s 12ms/step - loss: 1.7682 - accuracy: 0.2741 - val_loss: 1.3060 - val_accuracy: 0.3864\n",
      "Epoch 2/5\n",
      "1719/1719 [==============================] - 39s 23ms/step - loss: 1.2256 - accuracy: 0.4781 - val_loss: 1.1808 - val_accuracy: 0.4822\n",
      "Epoch 3/5\n",
      "1719/1719 [==============================] - 34s 20ms/step - loss: 0.9104 - accuracy: 0.6321 - val_loss: 0.8720 - val_accuracy: 0.6402\n",
      "Epoch 4/5\n",
      "1719/1719 [==============================] - 28s 16ms/step - loss: 0.7976 - accuracy: 0.6908 - val_loss: 0.7200 - val_accuracy: 0.7324\n",
      "Epoch 5/5\n",
      "1719/1719 [==============================] - 30s 18ms/step - loss: 0.7394 - accuracy: 0.7217 - val_loss: 0.7023 - val_accuracy: 0.7286\n"
     ]
    }
   ],
   "source": [
    "history = model.fit(X_train_scaled, y_train, epochs=5,\n",
    "                    validation_data=(X_valid_scaled, y_valid))"
   ]
  },
  {
   "cell_type": "markdown",
   "metadata": {},
   "source": [
    "# Batch Normalization "
   ]
  },
  {
   "cell_type": "code",
   "execution_count": 3,
   "metadata": {},
   "outputs": [],
   "source": [
    "model = keras.models.Sequential([\n",
    "    keras.layers.Flatten(input_shape=[28, 28]),\n",
    "    keras.layers.BatchNormalization(),\n",
    "    keras.layers.Dense(300, activation=\"relu\"),\n",
    "    keras.layers.BatchNormalization(),\n",
    "    keras.layers.Dense(100, activation=\"relu\"),\n",
    "    keras.layers.BatchNormalization(),\n",
    "    keras.layers.Dense(10, activation=\"softmax\")\n",
    "])"
   ]
  },
  {
   "cell_type": "code",
   "execution_count": 4,
   "metadata": {},
   "outputs": [
    {
     "name": "stdout",
     "output_type": "stream",
     "text": [
      "Model: \"sequential\"\n",
      "_________________________________________________________________\n",
      "Layer (type)                 Output Shape              Param #   \n",
      "=================================================================\n",
      "flatten (Flatten)            (None, 784)               0         \n",
      "_________________________________________________________________\n",
      "batch_normalization (BatchNo (None, 784)               3136      \n",
      "_________________________________________________________________\n",
      "dense (Dense)                (None, 300)               235500    \n",
      "_________________________________________________________________\n",
      "batch_normalization_1 (Batch (None, 300)               1200      \n",
      "_________________________________________________________________\n",
      "dense_1 (Dense)              (None, 100)               30100     \n",
      "_________________________________________________________________\n",
      "batch_normalization_2 (Batch (None, 100)               400       \n",
      "_________________________________________________________________\n",
      "dense_2 (Dense)              (None, 10)                1010      \n",
      "=================================================================\n",
      "Total params: 271,346\n",
      "Trainable params: 268,978\n",
      "Non-trainable params: 2,368\n",
      "_________________________________________________________________\n"
     ]
    }
   ],
   "source": [
    "model.summary()"
   ]
  },
  {
   "cell_type": "code",
   "execution_count": 6,
   "metadata": {},
   "outputs": [
    {
     "data": {
      "text/plain": [
       "[('batch_normalization/gamma:0', True),\n",
       " ('batch_normalization/beta:0', True),\n",
       " ('batch_normalization/moving_mean:0', False),\n",
       " ('batch_normalization/moving_variance:0', False)]"
      ]
     },
     "execution_count": 6,
     "metadata": {},
     "output_type": "execute_result"
    }
   ],
   "source": [
    "bn1 = model.layers[1]\n",
    "[(var.name, var.trainable) for var in bn1.variables]"
   ]
  },
  {
   "cell_type": "code",
   "execution_count": 10,
   "metadata": {},
   "outputs": [
    {
     "name": "stdout",
     "output_type": "stream",
     "text": [
      "Epoch 1/10\n",
      "1719/1719 [==============================] - 7s 4ms/step - loss: 0.8364 - accuracy: 0.7186 - val_loss: 0.5440 - val_accuracy: 0.8188\n",
      "Epoch 2/10\n",
      "1719/1719 [==============================] - 8s 4ms/step - loss: 0.5681 - accuracy: 0.8046 - val_loss: 0.4728 - val_accuracy: 0.8418\n",
      "Epoch 3/10\n",
      "1719/1719 [==============================] - 6s 4ms/step - loss: 0.5122 - accuracy: 0.8211 - val_loss: 0.4390 - val_accuracy: 0.8518\n",
      "Epoch 4/10\n",
      "1719/1719 [==============================] - 7s 4ms/step - loss: 0.4777 - accuracy: 0.8321 - val_loss: 0.4173 - val_accuracy: 0.8606\n",
      "Epoch 5/10\n",
      "1719/1719 [==============================] - 7s 4ms/step - loss: 0.4560 - accuracy: 0.8402 - val_loss: 0.4034 - val_accuracy: 0.8632.4575 - \n",
      "Epoch 6/10\n",
      "1719/1719 [==============================] - 7s 4ms/step - loss: 0.4365 - accuracy: 0.8461 - val_loss: 0.3925 - val_accuracy: 0.8650\n",
      "Epoch 7/10\n",
      "1719/1719 [==============================] - 7s 4ms/step - loss: 0.4218 - accuracy: 0.8515 - val_loss: 0.3834 - val_accuracy: 0.8680\n",
      "Epoch 8/10\n",
      "1719/1719 [==============================] - 7s 4ms/step - loss: 0.4090 - accuracy: 0.8563 - val_loss: 0.3768 - val_accuracy: 0.8700\n",
      "Epoch 9/10\n",
      "1719/1719 [==============================] - 7s 4ms/step - loss: 0.4013 - accuracy: 0.8578 - val_loss: 0.3684 - val_accuracy: 0.8734\n",
      "Epoch 10/10\n",
      "1719/1719 [==============================] - 7s 4ms/step - loss: 0.3913 - accuracy: 0.8624 - val_loss: 0.3629 - val_accuracy: 0.8748\n"
     ]
    }
   ],
   "source": [
    "model.compile(loss=\"sparse_categorical_crossentropy\",\n",
    "              optimizer=keras.optimizers.SGD(learning_rate=1e-3),\n",
    "              metrics=[\"accuracy\"])\n",
    "\n",
    "\n",
    "history = model.fit(X_train, y_train, epochs=10,\n",
    "                    validation_data=(X_valid, y_valid))"
   ]
  },
  {
   "cell_type": "markdown",
   "metadata": {},
   "source": [
    "The application of the BN before the activation function can work better. \n",
    "\n",
    "The layer before bN doesn't need to have bias terms, since the BN layer has some as will. In this sense, it is possible to set the bias of these layers as false."
   ]
  },
  {
   "cell_type": "code",
   "execution_count": 11,
   "metadata": {},
   "outputs": [],
   "source": [
    "model = keras.models.Sequential([\n",
    "    keras.layers.Flatten(input_shape=[28, 28]),\n",
    "    keras.layers.BatchNormalization(),\n",
    "    keras.layers.Dense(300, use_bias=False),     # set bias to false\n",
    "    keras.layers.BatchNormalization(),           # the BN layer before the act. function\n",
    "    keras.layers.Activation(\"relu\"),\n",
    "    keras.layers.Dense(100, use_bias=False),\n",
    "    keras.layers.BatchNormalization(),\n",
    "    keras.layers.Activation(\"relu\"),\n",
    "    keras.layers.Dense(10, activation=\"softmax\")\n",
    "])"
   ]
  },
  {
   "cell_type": "code",
   "execution_count": 12,
   "metadata": {},
   "outputs": [
    {
     "name": "stdout",
     "output_type": "stream",
     "text": [
      "Epoch 1/10\n",
      "1719/1719 [==============================] - 9s 5ms/step - loss: 1.0524 - accuracy: 0.6810 - val_loss: 0.6683 - val_accuracy: 0.7966\n",
      "Epoch 2/10\n",
      "1719/1719 [==============================] - 9s 5ms/step - loss: 0.6753 - accuracy: 0.7873 - val_loss: 0.5511 - val_accuracy: 0.8262\n",
      "Epoch 3/10\n",
      "1719/1719 [==============================] - 9s 5ms/step - loss: 0.5887 - accuracy: 0.8080 - val_loss: 0.4968 - val_accuracy: 0.8396\n",
      "Epoch 4/10\n",
      "1719/1719 [==============================] - 10s 6ms/step - loss: 0.5452 - accuracy: 0.8185 - val_loss: 0.4657 - val_accuracy: 0.8456\n",
      "Epoch 5/10\n",
      "1719/1719 [==============================] - 9s 5ms/step - loss: 0.5127 - accuracy: 0.8259 - val_loss: 0.4430 - val_accuracy: 0.8516\n",
      "Epoch 6/10\n",
      "1719/1719 [==============================] - 9s 5ms/step - loss: 0.4916 - accuracy: 0.8338 - val_loss: 0.4263 - val_accuracy: 0.8576\n",
      "Epoch 7/10\n",
      "1719/1719 [==============================] - 9s 6ms/step - loss: 0.4720 - accuracy: 0.8387 - val_loss: 0.4124 - val_accuracy: 0.8604\n",
      "Epoch 8/10\n",
      "1719/1719 [==============================] - 13s 7ms/step - loss: 0.4560 - accuracy: 0.8427 - val_loss: 0.4021 - val_accuracy: 0.8610\n",
      "Epoch 9/10\n",
      "1719/1719 [==============================] - 11s 6ms/step - loss: 0.4451 - accuracy: 0.8474 - val_loss: 0.3926 - val_accuracy: 0.8662\n",
      "Epoch 10/10\n",
      "1719/1719 [==============================] - 11s 6ms/step - loss: 0.4347 - accuracy: 0.8506 - val_loss: 0.3862 - val_accuracy: 0.8668\n"
     ]
    }
   ],
   "source": [
    "model.compile(loss=\"sparse_categorical_crossentropy\",\n",
    "              optimizer=keras.optimizers.SGD(learning_rate=1e-3),\n",
    "              metrics=[\"accuracy\"])\n",
    "\n",
    "\n",
    "history = model.fit(X_train, y_train, epochs=10,\n",
    "                    validation_data=(X_valid, y_valid))"
   ]
  },
  {
   "cell_type": "markdown",
   "metadata": {},
   "source": [
    "# Reusing Pretrained Layers (Reusing a Keras model)"
   ]
  },
  {
   "cell_type": "markdown",
   "metadata": {},
   "source": [
    "Let's split the fashion MNIST training set in two:\n",
    "\n",
    "1. It contains all images of all items except for sandals and shirts (classes 5 and 6)   (Task A)\n",
    "2. A much smaller training set of just 200 images of only sandals and shirts             (Task B)\n",
    "\n",
    "The validation set and the set are also splitted in this way, but with no restrictions concerning the number of images"
   ]
  },
  {
   "cell_type": "markdown",
   "metadata": {},
   "source": [
    "The task will be the following:\n",
    "\n",
    "1. We will train a model on set A (classification task with 8 classes) and try to reuse it to tackle set B (binary classification);\n",
    "2. We hope to transfer a bit of knowledge from task A to task B, since the classes on set A are somewhat similar to classes in set B;\n",
    "3. However, since we are using Dense layers, only patterns that occur at the same location can be used."
   ]
  },
  {
   "cell_type": "code",
   "execution_count": 13,
   "metadata": {},
   "outputs": [],
   "source": [
    "# Define a function to split the dataset\n",
    "def split_dataset(X,y):\n",
    "    y_5_or_6 = (y == 5) | (y == 6)    # Make a mask for Task A\n",
    "    y_A = y[~y_5_or_6]\n",
    "    y_A[y_A > 6] -= 2                 # Class indices 7,8,9 should moved to 5,6,7\n",
    "    y_B = (y[y_5_or_6] == 6).astype(np.float32)   # Binary classification\n",
    "    return ((X[~y_5_or_6], y_A),\n",
    "            (X[y_5_or_6], y_B))"
   ]
  },
  {
   "cell_type": "code",
   "execution_count": 14,
   "metadata": {},
   "outputs": [],
   "source": [
    "# Task A, dataset with all classes except for sandals and shirts\n",
    "(X_train_A, y_train_A), (X_train_B, y_train_B) = split_dataset(X_train, y_train)   # Train\n",
    "(X_valid_A, y_valid_A), (X_valid_B, y_valid_B) = split_dataset(X_valid, y_valid)   # Validation\n",
    "(X_test_A, y_test_A), (X_test_B, y_test_B) = split_dataset(X_test, y_test)         # Test\n",
    "\n",
    "# Task B, 200 images of sandals and shirts \n",
    "X_train_B = X_train_B[:200]\n",
    "y_train_B = y_train_B[:200]"
   ]
  },
  {
   "cell_type": "code",
   "execution_count": 17,
   "metadata": {},
   "outputs": [
    {
     "name": "stdout",
     "output_type": "stream",
     "text": [
      "(43986, 28, 28)\n",
      "(200, 28, 28)\n"
     ]
    }
   ],
   "source": [
    "print(X_train_A.shape)\n",
    "print(X_train_B.shape)"
   ]
  },
  {
   "cell_type": "code",
   "execution_count": 18,
   "metadata": {},
   "outputs": [],
   "source": [
    "tf.random.set_seed(42)\n",
    "np.random.seed(42)"
   ]
  },
  {
   "cell_type": "code",
   "execution_count": 19,
   "metadata": {},
   "outputs": [],
   "source": [
    "model_A = keras.models.Sequential()\n",
    "model_A.add(keras.layers.Flatten(input_shape=[28, 28]))\n",
    "for n_hidden in (300, 100, 50, 50, 50):           \n",
    "    model_A.add(keras.layers.Dense(n_hidden, activation=\"selu\"))\n",
    "model_A.add(keras.layers.Dense(8, activation=\"softmax\"))"
   ]
  },
  {
   "cell_type": "code",
   "execution_count": 20,
   "metadata": {},
   "outputs": [
    {
     "name": "stdout",
     "output_type": "stream",
     "text": [
      "Model: \"sequential_2\"\n",
      "_________________________________________________________________\n",
      "Layer (type)                 Output Shape              Param #   \n",
      "=================================================================\n",
      "flatten_2 (Flatten)          (None, 784)               0         \n",
      "_________________________________________________________________\n",
      "dense_6 (Dense)              (None, 300)               235500    \n",
      "_________________________________________________________________\n",
      "dense_7 (Dense)              (None, 100)               30100     \n",
      "_________________________________________________________________\n",
      "dense_8 (Dense)              (None, 50)                5050      \n",
      "_________________________________________________________________\n",
      "dense_9 (Dense)              (None, 50)                2550      \n",
      "_________________________________________________________________\n",
      "dense_10 (Dense)             (None, 50)                2550      \n",
      "_________________________________________________________________\n",
      "dense_11 (Dense)             (None, 8)                 408       \n",
      "=================================================================\n",
      "Total params: 276,158\n",
      "Trainable params: 276,158\n",
      "Non-trainable params: 0\n",
      "_________________________________________________________________\n"
     ]
    }
   ],
   "source": [
    "model_A.summary()"
   ]
  },
  {
   "cell_type": "code",
   "execution_count": 21,
   "metadata": {},
   "outputs": [
    {
     "name": "stdout",
     "output_type": "stream",
     "text": [
      "Epoch 1/20\n",
      "1375/1375 [==============================] - 5s 4ms/step - loss: 0.5926 - accuracy: 0.8104 - val_loss: 0.3896 - val_accuracy: 0.8662\n",
      "Epoch 2/20\n",
      "1375/1375 [==============================] - 6s 4ms/step - loss: 0.3523 - accuracy: 0.8786 - val_loss: 0.3288 - val_accuracy: 0.8827\n",
      "Epoch 3/20\n",
      "1375/1375 [==============================] - 6s 4ms/step - loss: 0.3170 - accuracy: 0.8895 - val_loss: 0.3014 - val_accuracy: 0.8986\n",
      "Epoch 4/20\n",
      "1375/1375 [==============================] - 5s 4ms/step - loss: 0.2973 - accuracy: 0.8975 - val_loss: 0.2896 - val_accuracy: 0.9011\n",
      "Epoch 5/20\n",
      "1375/1375 [==============================] - 5s 4ms/step - loss: 0.2835 - accuracy: 0.9022 - val_loss: 0.2775 - val_accuracy: 0.9061\n",
      "Epoch 6/20\n",
      "1375/1375 [==============================] - 6s 4ms/step - loss: 0.2730 - accuracy: 0.9060 - val_loss: 0.2736 - val_accuracy: 0.9066\n",
      "Epoch 7/20\n",
      "1375/1375 [==============================] - 7s 5ms/step - loss: 0.2641 - accuracy: 0.9092 - val_loss: 0.2718 - val_accuracy: 0.9091\n",
      "Epoch 8/20\n",
      "1375/1375 [==============================] - 6s 5ms/step - loss: 0.2573 - accuracy: 0.9126 - val_loss: 0.2589 - val_accuracy: 0.9143\n",
      "Epoch 9/20\n",
      "1375/1375 [==============================] - 7s 5ms/step - loss: 0.2518 - accuracy: 0.9135 - val_loss: 0.2560 - val_accuracy: 0.9143\n",
      "Epoch 10/20\n",
      "1375/1375 [==============================] - 5s 4ms/step - loss: 0.2469 - accuracy: 0.9152 - val_loss: 0.2542 - val_accuracy: 0.9160\n",
      "Epoch 11/20\n",
      "1375/1375 [==============================] - 6s 4ms/step - loss: 0.2423 - accuracy: 0.9176 - val_loss: 0.2495 - val_accuracy: 0.9148\n",
      "Epoch 12/20\n",
      "1375/1375 [==============================] - 6s 5ms/step - loss: 0.2382 - accuracy: 0.9187 - val_loss: 0.2513 - val_accuracy: 0.9123\n",
      "Epoch 13/20\n",
      "1375/1375 [==============================] - 7s 5ms/step - loss: 0.2350 - accuracy: 0.9197 - val_loss: 0.2444 - val_accuracy: 0.9158\n",
      "Epoch 14/20\n",
      "1375/1375 [==============================] - 7s 5ms/step - loss: 0.2315 - accuracy: 0.9212 - val_loss: 0.2414 - val_accuracy: 0.9173\n",
      "Epoch 15/20\n",
      "1375/1375 [==============================] - 7s 5ms/step - loss: 0.2287 - accuracy: 0.9211 - val_loss: 0.2448 - val_accuracy: 0.9195\n",
      "Epoch 16/20\n",
      "1375/1375 [==============================] - 7s 5ms/step - loss: 0.2254 - accuracy: 0.9225 - val_loss: 0.2386 - val_accuracy: 0.9188\n",
      "Epoch 17/20\n",
      "1375/1375 [==============================] - 7s 5ms/step - loss: 0.2230 - accuracy: 0.9233 - val_loss: 0.2409 - val_accuracy: 0.9175\n",
      "Epoch 18/20\n",
      "1375/1375 [==============================] - 6s 5ms/step - loss: 0.2200 - accuracy: 0.9246 - val_loss: 0.2427 - val_accuracy: 0.9153\n",
      "Epoch 19/20\n",
      "1375/1375 [==============================] - 7s 5ms/step - loss: 0.2178 - accuracy: 0.9251 - val_loss: 0.2329 - val_accuracy: 0.9195\n",
      "Epoch 20/20\n",
      "1375/1375 [==============================] - 10s 7ms/step - loss: 0.2156 - accuracy: 0.9259 - val_loss: 0.2333 - val_accuracy: 0.9210\n"
     ]
    }
   ],
   "source": [
    "model_A.compile(loss=\"sparse_categorical_crossentropy\",\n",
    "                optimizer=keras.optimizers.SGD(learning_rate=1e-3),\n",
    "                metrics=[\"accuracy\"])\n",
    "\n",
    "history = model_A.fit(X_train_A, y_train_A, epochs=20,\n",
    "                    validation_data=(X_valid_A, y_valid_A))"
   ]
  },
  {
   "cell_type": "code",
   "execution_count": 22,
   "metadata": {},
   "outputs": [],
   "source": [
    "# Save model A for a future use\n",
    "model_A.save('my_model_A.h5')"
   ]
  },
  {
   "cell_type": "code",
   "execution_count": 23,
   "metadata": {},
   "outputs": [],
   "source": [
    "# Define the model for task B\n",
    "model_B = keras.models.Sequential()\n",
    "model_B.add(keras.layers.Flatten(input_shape=[28, 28]))\n",
    "for n_hidden in (300, 100, 50, 50, 50):\n",
    "    model_B.add(keras.layers.Dense(n_hidden, activation=\"selu\"))\n",
    "model_B.add(keras.layers.Dense(1, activation=\"sigmoid\"))          # Binary classification "
   ]
  },
  {
   "cell_type": "code",
   "execution_count": 24,
   "metadata": {},
   "outputs": [
    {
     "name": "stdout",
     "output_type": "stream",
     "text": [
      "Model: \"sequential_3\"\n",
      "_________________________________________________________________\n",
      "Layer (type)                 Output Shape              Param #   \n",
      "=================================================================\n",
      "flatten_3 (Flatten)          (None, 784)               0         \n",
      "_________________________________________________________________\n",
      "dense_12 (Dense)             (None, 300)               235500    \n",
      "_________________________________________________________________\n",
      "dense_13 (Dense)             (None, 100)               30100     \n",
      "_________________________________________________________________\n",
      "dense_14 (Dense)             (None, 50)                5050      \n",
      "_________________________________________________________________\n",
      "dense_15 (Dense)             (None, 50)                2550      \n",
      "_________________________________________________________________\n",
      "dense_16 (Dense)             (None, 50)                2550      \n",
      "_________________________________________________________________\n",
      "dense_17 (Dense)             (None, 1)                 51        \n",
      "=================================================================\n",
      "Total params: 275,801\n",
      "Trainable params: 275,801\n",
      "Non-trainable params: 0\n",
      "_________________________________________________________________\n"
     ]
    }
   ],
   "source": [
    "model_B.summary()"
   ]
  },
  {
   "cell_type": "code",
   "execution_count": 25,
   "metadata": {},
   "outputs": [
    {
     "name": "stdout",
     "output_type": "stream",
     "text": [
      "Epoch 1/20\n",
      "7/7 [==============================] - 0s 45ms/step - loss: 0.9573 - accuracy: 0.4650 - val_loss: 0.6314 - val_accuracy: 0.6004\n",
      "Epoch 2/20\n",
      "7/7 [==============================] - 0s 16ms/step - loss: 0.5692 - accuracy: 0.7450 - val_loss: 0.4784 - val_accuracy: 0.8529\n",
      "Epoch 3/20\n",
      "7/7 [==============================] - 0s 16ms/step - loss: 0.4503 - accuracy: 0.8650 - val_loss: 0.4102 - val_accuracy: 0.8945\n",
      "Epoch 4/20\n",
      "7/7 [==============================] - 0s 15ms/step - loss: 0.3879 - accuracy: 0.8950 - val_loss: 0.3647 - val_accuracy: 0.9178\n",
      "Epoch 5/20\n",
      "7/7 [==============================] - 0s 18ms/step - loss: 0.3435 - accuracy: 0.9250 - val_loss: 0.3300 - val_accuracy: 0.9320\n",
      "Epoch 6/20\n",
      "7/7 [==============================] - 0s 33ms/step - loss: 0.3081 - accuracy: 0.9300 - val_loss: 0.3019 - val_accuracy: 0.9402\n",
      "Epoch 7/20\n",
      "7/7 [==============================] - 0s 15ms/step - loss: 0.2800 - accuracy: 0.9350 - val_loss: 0.2804 - val_accuracy: 0.9422\n",
      "Epoch 8/20\n",
      "7/7 [==============================] - 0s 18ms/step - loss: 0.2564 - accuracy: 0.9450 - val_loss: 0.2606 - val_accuracy: 0.9473\n",
      "Epoch 9/20\n",
      "7/7 [==============================] - 0s 16ms/step - loss: 0.2362 - accuracy: 0.9550 - val_loss: 0.2428 - val_accuracy: 0.9523\n",
      "Epoch 10/20\n",
      "7/7 [==============================] - 0s 23ms/step - loss: 0.2188 - accuracy: 0.9600 - val_loss: 0.2281 - val_accuracy: 0.9544\n",
      "Epoch 11/20\n",
      "7/7 [==============================] - 0s 22ms/step - loss: 0.2036 - accuracy: 0.9700 - val_loss: 0.2150 - val_accuracy: 0.9584\n",
      "Epoch 12/20\n",
      "7/7 [==============================] - 0s 17ms/step - loss: 0.1898 - accuracy: 0.9700 - val_loss: 0.2036 - val_accuracy: 0.9584\n",
      "Epoch 13/20\n",
      "7/7 [==============================] - 0s 19ms/step - loss: 0.1773 - accuracy: 0.9750 - val_loss: 0.1931 - val_accuracy: 0.9615\n",
      "Epoch 14/20\n",
      "7/7 [==============================] - 0s 16ms/step - loss: 0.1668 - accuracy: 0.9800 - val_loss: 0.1838 - val_accuracy: 0.9635\n",
      "Epoch 15/20\n",
      "7/7 [==============================] - 0s 18ms/step - loss: 0.1570 - accuracy: 0.9900 - val_loss: 0.1746 - val_accuracy: 0.9686\n",
      "Epoch 16/20\n",
      "7/7 [==============================] - 0s 15ms/step - loss: 0.1481 - accuracy: 0.9900 - val_loss: 0.1674 - val_accuracy: 0.9686\n",
      "Epoch 17/20\n",
      "7/7 [==============================] - 0s 20ms/step - loss: 0.1406 - accuracy: 0.9900 - val_loss: 0.1604 - val_accuracy: 0.9706\n",
      "Epoch 18/20\n",
      "7/7 [==============================] - 0s 17ms/step - loss: 0.1334 - accuracy: 0.9900 - val_loss: 0.1539 - val_accuracy: 0.9706\n",
      "Epoch 19/20\n",
      "7/7 [==============================] - 0s 19ms/step - loss: 0.1268 - accuracy: 0.9900 - val_loss: 0.1482 - val_accuracy: 0.9716\n",
      "Epoch 20/20\n",
      "7/7 [==============================] - 0s 42ms/step - loss: 0.1208 - accuracy: 0.9900 - val_loss: 0.1431 - val_accuracy: 0.9716\n"
     ]
    }
   ],
   "source": [
    "model_B.compile(loss=\"binary_crossentropy\",\n",
    "                optimizer=keras.optimizers.SGD(learning_rate=1e-3),\n",
    "                metrics=[\"accuracy\"])\n",
    "\n",
    "history = model_B.fit(X_train_B, y_train_B, epochs=20,\n",
    "                      validation_data=(X_valid_B, y_valid_B))"
   ]
  },
  {
   "cell_type": "code",
   "execution_count": 29,
   "metadata": {},
   "outputs": [],
   "source": [
    "# Create a third model which will use the layers from model A \n",
    "model_A = keras.models.load_model('my_model_A.h5')             # Load the saved model \n",
    "model_B_on_A = keras.models.Sequential(model_A.layers[:-1])    # All layers from model A except the last one\n",
    "model_B_on_A.add(keras.layers.Dense(1, activation='sigmoid'))  # Add the output layer for the binary classification"
   ]
  },
  {
   "cell_type": "code",
   "execution_count": 30,
   "metadata": {},
   "outputs": [
    {
     "name": "stdout",
     "output_type": "stream",
     "text": [
      "Model: \"sequential_5\"\n",
      "_________________________________________________________________\n",
      "Layer (type)                 Output Shape              Param #   \n",
      "=================================================================\n",
      "flatten_2 (Flatten)          (None, 784)               0         \n",
      "_________________________________________________________________\n",
      "dense_6 (Dense)              (None, 300)               235500    \n",
      "_________________________________________________________________\n",
      "dense_7 (Dense)              (None, 100)               30100     \n",
      "_________________________________________________________________\n",
      "dense_8 (Dense)              (None, 50)                5050      \n",
      "_________________________________________________________________\n",
      "dense_9 (Dense)              (None, 50)                2550      \n",
      "_________________________________________________________________\n",
      "dense_10 (Dense)             (None, 50)                2550      \n",
      "_________________________________________________________________\n",
      "dense_18 (Dense)             (None, 1)                 51        \n",
      "=================================================================\n",
      "Total params: 275,801\n",
      "Trainable params: 275,801\n",
      "Non-trainable params: 0\n",
      "_________________________________________________________________\n"
     ]
    }
   ],
   "source": [
    "model_B_on_A.summary()"
   ]
  },
  {
   "cell_type": "markdown",
   "metadata": {},
   "source": [
    "The models B_on_A and model_A share the same layers, a training in one of the models will update both. \n",
    "In order to solve this problem, it is necessary to build model_B_on_A on top of a clone of model_A"
   ]
  },
  {
   "cell_type": "code",
   "execution_count": 32,
   "metadata": {},
   "outputs": [],
   "source": [
    "model_A_clone = keras.models.clone_model(model_A)              # Clone the model\n",
    "model_A_clone.set_weights(model_A.get_weights())               # Get the weights from model_A\n",
    "model_B_on_A = keras.models.Sequential(model_A.layers[:-1])    # All layers from model A except the last one\n",
    "model_B_on_A.add(keras.layers.Dense(1, activation='sigmoid'))  # Add the output layer for the binary classification"
   ]
  },
  {
   "cell_type": "code",
   "execution_count": 33,
   "metadata": {},
   "outputs": [
    {
     "name": "stdout",
     "output_type": "stream",
     "text": [
      "Model: \"sequential_6\"\n",
      "_________________________________________________________________\n",
      "Layer (type)                 Output Shape              Param #   \n",
      "=================================================================\n",
      "flatten_2 (Flatten)          (None, 784)               0         \n",
      "_________________________________________________________________\n",
      "dense_6 (Dense)              (None, 300)               235500    \n",
      "_________________________________________________________________\n",
      "dense_7 (Dense)              (None, 100)               30100     \n",
      "_________________________________________________________________\n",
      "dense_8 (Dense)              (None, 50)                5050      \n",
      "_________________________________________________________________\n",
      "dense_9 (Dense)              (None, 50)                2550      \n",
      "_________________________________________________________________\n",
      "dense_10 (Dense)             (None, 50)                2550      \n",
      "_________________________________________________________________\n",
      "dense_19 (Dense)             (None, 1)                 51        \n",
      "=================================================================\n",
      "Total params: 275,801\n",
      "Trainable params: 275,801\n",
      "Non-trainable params: 0\n",
      "_________________________________________________________________\n"
     ]
    }
   ],
   "source": [
    "model_B_on_A.summary()"
   ]
  },
  {
   "cell_type": "markdown",
   "metadata": {},
   "source": []
  },
  {
   "cell_type": "code",
   "execution_count": 35,
   "metadata": {},
   "outputs": [
    {
     "name": "stdout",
     "output_type": "stream",
     "text": [
      "Epoch 1/4\n",
      "1/7 [===>..........................] - ETA: 0s - loss: 0.7882 - accuracy: 0.5000WARNING:tensorflow:Callbacks method `on_train_batch_end` is slow compared to the batch time (batch time: 0.0018s vs `on_train_batch_end` time: 0.0083s). Check your callbacks.\n",
      "7/7 [==============================] - 0s 52ms/step - loss: 0.8937 - accuracy: 0.4250 - val_loss: 0.8503 - val_accuracy: 0.4797\n",
      "Epoch 2/4\n",
      "7/7 [==============================] - 0s 25ms/step - loss: 0.8103 - accuracy: 0.5100 - val_loss: 0.7755 - val_accuracy: 0.5426\n",
      "Epoch 3/4\n",
      "7/7 [==============================] - 0s 22ms/step - loss: 0.7362 - accuracy: 0.6150 - val_loss: 0.7117 - val_accuracy: 0.5913\n",
      "Epoch 4/4\n",
      "7/7 [==============================] - 0s 16ms/step - loss: 0.6733 - accuracy: 0.6600 - val_loss: 0.6558 - val_accuracy: 0.6450\n"
     ]
    }
   ],
   "source": [
    "# It is likely that the lower layers of the first DNN have learned to detect low-level features in pictures\n",
    "# that will be useful across both image classification tasks, so you can just reuse these layers as they are.\n",
    "\n",
    "for layer in model_B_on_A.layers[:-1]:\n",
    "    layer.trainable = False    # Freeze the layer\n",
    "\n",
    "model_B_on_A.compile(loss=\"binary_crossentropy\",\n",
    "                     optimizer=keras.optimizers.SGD(learning_rate=1e-3),\n",
    "                     metrics=[\"accuracy\"])\n",
    "\n",
    "#  It is generally a good idea to “freeze” their weights when training the new DNN: if the lower-layer weights are fixed, \n",
    "# then the higher-layer weights will be easier to train\n",
    "\n",
    "history = model_B_on_A.fit(X_train_B, y_train_B, epochs=4,\n",
    "                           validation_data=(X_valid_B, y_valid_B))"
   ]
  },
  {
   "cell_type": "code",
   "execution_count": 36,
   "metadata": {},
   "outputs": [
    {
     "name": "stdout",
     "output_type": "stream",
     "text": [
      "Epoch 1/16\n",
      "7/7 [==============================] - 0s 50ms/step - loss: 0.5214 - accuracy: 0.7550 - val_loss: 0.4091 - val_accuracy: 0.8509\n",
      "Epoch 2/16\n",
      "7/7 [==============================] - 0s 17ms/step - loss: 0.3421 - accuracy: 0.9100 - val_loss: 0.3022 - val_accuracy: 0.9290\n",
      "Epoch 3/16\n",
      "7/7 [==============================] - 0s 15ms/step - loss: 0.2533 - accuracy: 0.9600 - val_loss: 0.2429 - val_accuracy: 0.9625\n",
      "Epoch 4/16\n",
      "7/7 [==============================] - 0s 17ms/step - loss: 0.2028 - accuracy: 0.9800 - val_loss: 0.2032 - val_accuracy: 0.9726\n",
      "Epoch 5/16\n",
      "7/7 [==============================] - 0s 16ms/step - loss: 0.1685 - accuracy: 0.9900 - val_loss: 0.1758 - val_accuracy: 0.9777\n",
      "Epoch 6/16\n",
      "7/7 [==============================] - 0s 17ms/step - loss: 0.1441 - accuracy: 0.9950 - val_loss: 0.1552 - val_accuracy: 0.9797\n",
      "Epoch 7/16\n",
      "7/7 [==============================] - 0s 29ms/step - loss: 0.1259 - accuracy: 0.9950 - val_loss: 0.1390 - val_accuracy: 0.9828\n",
      "Epoch 8/16\n",
      "7/7 [==============================] - 0s 27ms/step - loss: 0.1112 - accuracy: 0.9950 - val_loss: 0.1270 - val_accuracy: 0.9828\n",
      "Epoch 9/16\n",
      "7/7 [==============================] - 0s 18ms/step - loss: 0.1004 - accuracy: 0.9950 - val_loss: 0.1164 - val_accuracy: 0.9828\n",
      "Epoch 10/16\n",
      "7/7 [==============================] - 0s 20ms/step - loss: 0.0910 - accuracy: 0.9950 - val_loss: 0.1085 - val_accuracy: 0.9858\n",
      "Epoch 11/16\n",
      "7/7 [==============================] - 0s 16ms/step - loss: 0.0837 - accuracy: 0.9950 - val_loss: 0.1011 - val_accuracy: 0.9868\n",
      "Epoch 12/16\n",
      "7/7 [==============================] - 0s 18ms/step - loss: 0.0768 - accuracy: 0.9950 - val_loss: 0.0950 - val_accuracy: 0.9878\n",
      "Epoch 13/16\n",
      "7/7 [==============================] - 0s 17ms/step - loss: 0.0712 - accuracy: 0.9950 - val_loss: 0.0895 - val_accuracy: 0.9868\n",
      "Epoch 14/16\n",
      "7/7 [==============================] - 0s 19ms/step - loss: 0.0662 - accuracy: 1.0000 - val_loss: 0.0851 - val_accuracy: 0.9878\n",
      "Epoch 15/16\n",
      "7/7 [==============================] - 0s 30ms/step - loss: 0.0621 - accuracy: 1.0000 - val_loss: 0.0813 - val_accuracy: 0.9878\n",
      "Epoch 16/16\n",
      "7/7 [==============================] - 0s 58ms/step - loss: 0.0586 - accuracy: 1.0000 - val_loss: 0.0777 - val_accuracy: 0.9868\n"
     ]
    }
   ],
   "source": [
    "for layer in model_B_on_A.layers[:-1]:\n",
    "    layer.trainable = True\n",
    "\n",
    "model_B_on_A.compile(loss=\"binary_crossentropy\",\n",
    "                     optimizer=keras.optimizers.SGD(learning_rate=1e-3),\n",
    "                     metrics=[\"accuracy\"])\n",
    "\n",
    "# Train the remaining epochs\n",
    "history = model_B_on_A.fit(X_train_B, y_train_B, epochs=16,\n",
    "                           validation_data=(X_valid_B, y_valid_B))"
   ]
  },
  {
   "cell_type": "code",
   "execution_count": 39,
   "metadata": {},
   "outputs": [
    {
     "name": "stdout",
     "output_type": "stream",
     "text": [
      "63/63 [==============================] - 0s 3ms/step - loss: 0.1408 - accuracy: 0.9705\n",
      "63/63 [==============================] - 0s 3ms/step - loss: 0.0765 - accuracy: 0.9950\n"
     ]
    },
    {
     "data": {
      "text/plain": [
       "[0.07652539014816284, 0.9950000047683716]"
      ]
     },
     "execution_count": 39,
     "metadata": {},
     "output_type": "execute_result"
    }
   ],
   "source": [
    "# Evaluate the models\n",
    "# We hope that the transfer learning helped the improve of the performance of the model_B_on_A\n",
    "\n",
    "model_B.evaluate(X_test_B, y_test_B)\n",
    "model_B_on_A.evaluate(X_test_B, y_test_B)"
   ]
  },
  {
   "cell_type": "markdown",
   "metadata": {},
   "source": [
    "# Faster Optimizers"
   ]
  },
  {
   "cell_type": "code",
   "execution_count": 41,
   "metadata": {},
   "outputs": [],
   "source": [
    "optimizer = keras.optimizers.SGD(learning_rate=1e-3, momentum=0.9)                 # SGD + momentum\n",
    "optimizer = keras.optimizers.SGD(learning_rate=1e-3, momentum=0.9, nesterov=True)  # SGD + nesterov acc. gradient\n",
    "optimizer = keras.optimizers.Adagrad(learning_rate=1e-3)                           # AdaGrad\n",
    "optimizer = keras.optimizers.RMSprop(learning_rate=1e-3, rho=0.9)                  # RMSprop\n",
    "optimizer = keras.optimizers.Adam(learning_rate=1e-3, beta_1=0.9, beta_2=0.999)    # Adam optimization\n",
    "optimizer = keras.optimizers.Adamax(learning_rate=1e-3, beta_1=0.9, beta_2=0.999)  # Adamax optimization\n",
    "optimizer = keras.optimizers.Nadam(learning_rate=1e-3, beta_1=0.9, beta_2=0.999)   # Nadam optimization"
   ]
  },
  {
   "cell_type": "markdown",
   "metadata": {},
   "source": [
    "# Learning Rate Scheduling\n",
    "\n",
    "Power scheduling: \n",
    "\n",
    "lr = $\\frac{lr_{0}}{(1 + steps/s)^{c}}$\n",
    "\n",
    "c = 1, s = 1/decay (Keras)"
   ]
  },
  {
   "cell_type": "code",
   "execution_count": 4,
   "metadata": {},
   "outputs": [],
   "source": [
    "# Define the optimizer\n",
    "optimizer = keras.optimizers.SGD(learning_rate=1e-2, decay=1e-4)   "
   ]
  },
  {
   "cell_type": "code",
   "execution_count": 11,
   "metadata": {},
   "outputs": [
    {
     "name": "stdout",
     "output_type": "stream",
     "text": [
      "Epoch 1/25\n",
      "1719/1719 [==============================] - 6s 3ms/step - loss: 0.6094 - accuracy: 0.7891 - val_loss: 0.4785 - val_accuracy: 0.8354\n",
      "Epoch 2/25\n",
      "1719/1719 [==============================] - 6s 3ms/step - loss: 0.4526 - accuracy: 0.8413 - val_loss: 0.4348 - val_accuracy: 0.8504\n",
      "Epoch 3/25\n",
      "1719/1719 [==============================] - 6s 3ms/step - loss: 0.4179 - accuracy: 0.8530 - val_loss: 0.4126 - val_accuracy: 0.8606\n",
      "Epoch 4/25\n",
      "1719/1719 [==============================] - 6s 3ms/step - loss: 0.3969 - accuracy: 0.8607 - val_loss: 0.4033 - val_accuracy: 0.8596\n",
      "Epoch 5/25\n",
      "1719/1719 [==============================] - 6s 3ms/step - loss: 0.3819 - accuracy: 0.8647 - val_loss: 0.3902 - val_accuracy: 0.8688\n",
      "Epoch 6/25\n",
      "1719/1719 [==============================] - 6s 4ms/step - loss: 0.3701 - accuracy: 0.8699 - val_loss: 0.3861 - val_accuracy: 0.8672\n",
      "Epoch 7/25\n",
      "1719/1719 [==============================] - 7s 4ms/step - loss: 0.3600 - accuracy: 0.8739 - val_loss: 0.3826 - val_accuracy: 0.8666\n",
      "Epoch 8/25\n",
      "1719/1719 [==============================] - 7s 4ms/step - loss: 0.3522 - accuracy: 0.8769 - val_loss: 0.3746 - val_accuracy: 0.8706\n",
      "Epoch 9/25\n",
      "1719/1719 [==============================] - 6s 4ms/step - loss: 0.3449 - accuracy: 0.8796 - val_loss: 0.3710 - val_accuracy: 0.8716\n",
      "Epoch 10/25\n",
      "1719/1719 [==============================] - 6s 3ms/step - loss: 0.3381 - accuracy: 0.8816 - val_loss: 0.3675 - val_accuracy: 0.8712\n",
      "Epoch 11/25\n",
      "1719/1719 [==============================] - 6s 3ms/step - loss: 0.3324 - accuracy: 0.8832 - val_loss: 0.3632 - val_accuracy: 0.8728\n",
      "Epoch 12/25\n",
      "1719/1719 [==============================] - 6s 3ms/step - loss: 0.3271 - accuracy: 0.8851 - val_loss: 0.3604 - val_accuracy: 0.8738\n",
      "Epoch 13/25\n",
      "1719/1719 [==============================] - 6s 4ms/step - loss: 0.3219 - accuracy: 0.8870 - val_loss: 0.3631 - val_accuracy: 0.8724\n",
      "Epoch 14/25\n",
      "1719/1719 [==============================] - 6s 4ms/step - loss: 0.3172 - accuracy: 0.8886 - val_loss: 0.3564 - val_accuracy: 0.8724\n",
      "Epoch 15/25\n",
      "1719/1719 [==============================] - 6s 3ms/step - loss: 0.3129 - accuracy: 0.8907 - val_loss: 0.3536 - val_accuracy: 0.8734\n",
      "Epoch 16/25\n",
      "1719/1719 [==============================] - 6s 3ms/step - loss: 0.3089 - accuracy: 0.8915 - val_loss: 0.3510 - val_accuracy: 0.8768\n",
      "Epoch 17/25\n",
      "1719/1719 [==============================] - 6s 3ms/step - loss: 0.3056 - accuracy: 0.8925 - val_loss: 0.3498 - val_accuracy: 0.8758\n",
      "Epoch 18/25\n",
      "1719/1719 [==============================] - 6s 4ms/step - loss: 0.3020 - accuracy: 0.8942 - val_loss: 0.3466 - val_accuracy: 0.8758\n",
      "Epoch 19/25\n",
      "1719/1719 [==============================] - 6s 4ms/step - loss: 0.2985 - accuracy: 0.8953 - val_loss: 0.3459 - val_accuracy: 0.8770\n",
      "Epoch 20/25\n",
      "1719/1719 [==============================] - 6s 3ms/step - loss: 0.2956 - accuracy: 0.8955 - val_loss: 0.3437 - val_accuracy: 0.8776\n",
      "Epoch 21/25\n",
      "1719/1719 [==============================] - 6s 4ms/step - loss: 0.2925 - accuracy: 0.8968 - val_loss: 0.3425 - val_accuracy: 0.8774\n",
      "Epoch 22/25\n",
      "1719/1719 [==============================] - 6s 3ms/step - loss: 0.2894 - accuracy: 0.8984 - val_loss: 0.3418 - val_accuracy: 0.8786\n",
      "Epoch 23/25\n",
      "1719/1719 [==============================] - 6s 4ms/step - loss: 0.2868 - accuracy: 0.8995 - val_loss: 0.3458 - val_accuracy: 0.8768\n",
      "Epoch 24/25\n",
      "1719/1719 [==============================] - 6s 4ms/step - loss: 0.2843 - accuracy: 0.9000 - val_loss: 0.3398 - val_accuracy: 0.8780\n",
      "Epoch 25/25\n",
      "1719/1719 [==============================] - 7s 4ms/step - loss: 0.2814 - accuracy: 0.9015 - val_loss: 0.3395 - val_accuracy: 0.8816\n"
     ]
    }
   ],
   "source": [
    "# Define model\n",
    "model = keras.models.Sequential([\n",
    "    keras.layers.Flatten(input_shape=[28, 28]),\n",
    "    keras.layers.Dense(300, activation=\"selu\", kernel_initializer=\"lecun_normal\"),   # selu + lecun normal = batch normalization\n",
    "    keras.layers.Dense(100, activation=\"selu\", kernel_initializer=\"lecun_normal\"),\n",
    "    keras.layers.Dense(10, activation=\"softmax\")\n",
    "])\n",
    "\n",
    "# Compile\n",
    "model.compile(loss=\"sparse_categorical_crossentropy\", optimizer=optimizer, metrics=[\"accuracy\"])\n",
    "\n",
    "# Train\n",
    "n_epochs=25\n",
    "history = model.fit(X_train_scaled, y_train, epochs=n_epochs,\n",
    "                    validation_data=(X_valid_scaled, y_valid))"
   ]
  },
  {
   "cell_type": "code",
   "execution_count": 20,
   "metadata": {},
   "outputs": [
    {
     "data": {
      "image/png": "[encoded data removed]",
      "text/plain": [
       "<Figure size 432x288 with 1 Axes>"
      ]
     },
     "metadata": {
      "needs_background": "light"
     },
     "output_type": "display_data"
    }
   ],
   "source": [
    "# Investigate the learning rate\n",
    "\n",
    "import math\n",
    "learning_rate = 1e-2\n",
    "decay = 1e-4\n",
    "batch_size = 32\n",
    "n_steps_per_epoch = math.ceil(len(X_train) / batch_size)     # Round a number upward to its nearest integer\n",
    "epochs = np.arange(n_epochs)\n",
    "lrs = learning_rate / (1 + decay*epochs*n_steps_per_epoch)   # Power scheduling\n",
    "\n",
    "# Plot\n",
    "plt.plot(epochs, lrs, 'o-')\n",
    "plt.axis([0, n_epochs - 1, 0, 0.01])    # axis([xmin, xmax, ymin, ymax])\n",
    "plt.xlabel('epoch')\n",
    "plt.ylabel('Learning Rate')\n",
    "plt.title(\"Power Scheduling\", fontsize=14)\n",
    "plt.grid(True)\n",
    "plt.show()"
   ]
  },
  {
   "cell_type": "markdown",
   "metadata": {},
   "source": [
    "# Exponential Scheduling \n",
    "\n",
    "lr = $lr_{0} * 0.1^{epoch/s}$"
   ]
  },
  {
   "cell_type": "code",
   "execution_count": 4,
   "metadata": {},
   "outputs": [],
   "source": [
    "def exponential_decay_fn(epoch):\n",
    "    return 0.01 * 0.1**(epoch/20)"
   ]
  },
  {
   "cell_type": "code",
   "execution_count": 7,
   "metadata": {},
   "outputs": [],
   "source": [
    "def exponential_decay(lr0,s):\n",
    "    def exponential_decay_fn(epoch):\n",
    "        return lr0 * 0.1**(epoch/s)\n",
    "    return exponential_decay_fn\n",
    "exponential_decay_fn = exponential_decay(lr0=1e-2, s=20)"
   ]
  },
  {
   "cell_type": "code",
   "execution_count": 8,
   "metadata": {},
   "outputs": [],
   "source": [
    "model = keras.models.Sequential([\n",
    "    keras.layers.Flatten(input_shape=[28, 28]),\n",
    "    keras.layers.Dense(300, activation=\"selu\", kernel_initializer=\"lecun_normal\"),\n",
    "    keras.layers.Dense(100, activation=\"selu\", kernel_initializer=\"lecun_normal\"),\n",
    "    keras.layers.Dense(10, activation=\"softmax\")\n",
    "])\n",
    "model.compile(loss=\"sparse_categorical_crossentropy\", optimizer=\"nadam\", metrics=[\"accuracy\"])\n",
    "n_epochs = 25"
   ]
  },
  {
   "cell_type": "code",
   "execution_count": 9,
   "metadata": {},
   "outputs": [
    {
     "name": "stdout",
     "output_type": "stream",
     "text": [
      "Epoch 1/25\n",
      "1719/1719 [==============================] - 11s 7ms/step - loss: 0.7270 - accuracy: 0.7654 - val_loss: 55.3226 - val_accuracy: 0.5970\n",
      "Epoch 2/25\n",
      "1719/1719 [==============================] - 11s 6ms/step - loss: 0.5114 - accuracy: 0.8242 - val_loss: 177.0779 - val_accuracy: 0.5150\n",
      "Epoch 3/25\n",
      "1719/1719 [==============================] - 12s 7ms/step - loss: 0.4407 - accuracy: 0.8479 - val_loss: 446.6820 - val_accuracy: 0.3332\n",
      "Epoch 4/25\n",
      "1719/1719 [==============================] - 13s 7ms/step - loss: 0.4053 - accuracy: 0.8600 - val_loss: 771.0358 - val_accuracy: 0.3198\n",
      "Epoch 5/25\n",
      "1719/1719 [==============================] - 11s 7ms/step - loss: 0.3745 - accuracy: 0.8693 - val_loss: 1311.0208 - val_accuracy: 0.2442\n",
      "Epoch 6/25\n",
      "1719/1719 [==============================] - 13s 8ms/step - loss: 0.3515 - accuracy: 0.8762 - val_loss: 1209.6296 - val_accuracy: 0.2628\n",
      "Epoch 7/25\n",
      "1719/1719 [==============================] - 12s 7ms/step - loss: 0.3285 - accuracy: 0.8850 - val_loss: 1944.3740 - val_accuracy: 0.2658\n",
      "Epoch 8/25\n",
      "1719/1719 [==============================] - 14s 8ms/step - loss: 0.3101 - accuracy: 0.8889 - val_loss: 1902.6830 - val_accuracy: 0.2162\n",
      "Epoch 9/25\n",
      "1719/1719 [==============================] - 15s 9ms/step - loss: 0.2934 - accuracy: 0.8947 - val_loss: 1375.9086 - val_accuracy: 0.2280\n",
      "Epoch 10/25\n",
      "1719/1719 [==============================] - 13s 8ms/step - loss: 0.2769 - accuracy: 0.8999 - val_loss: 2705.9148 - val_accuracy: 0.2184\n",
      "Epoch 11/25\n",
      "1719/1719 [==============================] - 15s 9ms/step - loss: 0.2643 - accuracy: 0.9037 - val_loss: 1697.9678 - val_accuracy: 0.2408\n",
      "Epoch 12/25\n",
      "1719/1719 [==============================] - 14s 8ms/step - loss: 0.2504 - accuracy: 0.9083 - val_loss: 2643.4802 - val_accuracy: 0.1996\n",
      "Epoch 13/25\n",
      "1719/1719 [==============================] - 13s 8ms/step - loss: 0.2413 - accuracy: 0.9107 - val_loss: 2295.9375 - val_accuracy: 0.2164\n",
      "Epoch 14/25\n",
      "1719/1719 [==============================] - 13s 7ms/step - loss: 0.2278 - accuracy: 0.9157 - val_loss: 2372.1309 - val_accuracy: 0.2614\n",
      "Epoch 15/25\n",
      "1719/1719 [==============================] - 12s 7ms/step - loss: 0.2186 - accuracy: 0.9190 - val_loss: 3224.2278 - val_accuracy: 0.2046\n",
      "Epoch 16/25\n",
      "1719/1719 [==============================] - 12s 7ms/step - loss: 0.2076 - accuracy: 0.9225 - val_loss: 2349.0525 - val_accuracy: 0.2502\n",
      "Epoch 17/25\n",
      "1719/1719 [==============================] - 13s 7ms/step - loss: 0.1987 - accuracy: 0.9262 - val_loss: 2719.0237 - val_accuracy: 0.2896\n",
      "Epoch 18/25\n",
      "1719/1719 [==============================] - 13s 8ms/step - loss: 0.1908 - accuracy: 0.9294 - val_loss: 2020.3132 - val_accuracy: 0.2588\n",
      "Epoch 19/25\n",
      "1719/1719 [==============================] - 12s 7ms/step - loss: 0.1822 - accuracy: 0.9317 - val_loss: 2310.7727 - val_accuracy: 0.2802\n",
      "Epoch 20/25\n",
      "1719/1719 [==============================] - 13s 7ms/step - loss: 0.1755 - accuracy: 0.9341 - val_loss: 2294.4158 - val_accuracy: 0.2062\n",
      "Epoch 21/25\n",
      "1719/1719 [==============================] - 18s 11ms/step - loss: 0.1709 - accuracy: 0.9369 - val_loss: 2146.0012 - val_accuracy: 0.2782\n",
      "Epoch 22/25\n",
      "1719/1719 [==============================] - 16s 9ms/step - loss: 0.1640 - accuracy: 0.9378 - val_loss: 2077.0159 - val_accuracy: 0.3146\n",
      "Epoch 23/25\n",
      "1719/1719 [==============================] - 13s 7ms/step - loss: 0.1570 - accuracy: 0.9409 - val_loss: 1871.9843 - val_accuracy: 0.3230\n",
      "Epoch 24/25\n",
      "1719/1719 [==============================] - 11s 6ms/step - loss: 0.1523 - accuracy: 0.9429 - val_loss: 1879.5555 - val_accuracy: 0.3184\n",
      "Epoch 25/25\n",
      "1719/1719 [==============================] - 15s 9ms/step - loss: 0.1478 - accuracy: 0.9448 - val_loss: 2057.1777 - val_accuracy: 0.2966\n"
     ]
    }
   ],
   "source": [
    "# Define the learning rate scheduler\n",
    "lr_scheduler = keras.callbacks.LearningRateScheduler(exponential_decay_fn)\n",
    "history = model.fit(X_train, y_train, epochs=n_epochs, validation_data=(X_valid_scaled, y_valid),\n",
    "                   callbacks=[lr_scheduler])"
   ]
  },
  {
   "cell_type": "code",
   "execution_count": 16,
   "metadata": {},
   "outputs": [
    {
     "data": {
      "image/png": "[encoded data removed]",
      "text/plain": [
       "<Figure size 432x288 with 1 Axes>"
      ]
     },
     "metadata": {
      "needs_background": "light"
     },
     "output_type": "display_data"
    }
   ],
   "source": [
    "# Plot the learning rate behaviour\n",
    "plt.plot(history.epoch, history.history['lr'], 'o-')\n",
    "plt.axis([0, n_epochs - 1, 0, 0.011])                 # axis([xmin, xmax, ymin, ymax])\n",
    "plt.xlabel(\"Epoch\")\n",
    "plt.ylabel(\"Learning Rate\")\n",
    "plt.title(\"Exponential Scheduling\", fontsize=14) \n",
    "plt.grid(True)\n",
    "plt.show()"
   ]
  },
  {
   "cell_type": "markdown",
   "metadata": {},
   "source": [
    "The schedule function can take the current learning rate as a second argument.\n",
    "\n",
    "As the following:"
   ]
  },
  {
   "cell_type": "code",
   "execution_count": 4,
   "metadata": {},
   "outputs": [],
   "source": [
    "def exponential_decay_fn(epoch,lr):\n",
    "    return lr * 0.1**(1 / 20)"
   ]
  },
  {
   "cell_type": "markdown",
   "metadata": {},
   "source": [
    "To update the learning rate at each ITERATION rather than at each EPOCH. \n",
    "\n",
    "It is necessary to write your own callback class"
   ]
  },
  {
   "cell_type": "code",
   "execution_count": 5,
   "metadata": {},
   "outputs": [
    {
     "name": "stdout",
     "output_type": "stream",
     "text": [
      "Epoch 1/25\n",
      "1719/1719 [==============================] - 12s 7ms/step - loss: 0.7902 - accuracy: 0.7697 - val_loss: 0.7666 - val_accuracy: 0.7768\n",
      "Epoch 2/25\n",
      "1719/1719 [==============================] - 10s 6ms/step - loss: 0.6651 - accuracy: 0.7995 - val_loss: 0.6525 - val_accuracy: 0.8078\n",
      "Epoch 3/25\n",
      "1719/1719 [==============================] - 10s 6ms/step - loss: 0.5563 - accuracy: 0.8272 - val_loss: 0.5007 - val_accuracy: 0.8346\n",
      "Epoch 4/25\n",
      "1719/1719 [==============================] - 11s 6ms/step - loss: 0.5089 - accuracy: 0.8421 - val_loss: 0.5201 - val_accuracy: 0.8592\n",
      "Epoch 5/25\n",
      "1719/1719 [==============================] - 10s 6ms/step - loss: 0.4598 - accuracy: 0.8534 - val_loss: 0.5150 - val_accuracy: 0.8582\n",
      "Epoch 6/25\n",
      "1719/1719 [==============================] - 10s 6ms/step - loss: 0.4295 - accuracy: 0.8605 - val_loss: 0.4665 - val_accuracy: 0.8592\n",
      "Epoch 7/25\n",
      "1719/1719 [==============================] - 11s 6ms/step - loss: 0.3840 - accuracy: 0.8760 - val_loss: 0.4242 - val_accuracy: 0.8694\n",
      "Epoch 8/25\n",
      "1719/1719 [==============================] - 13s 8ms/step - loss: 0.3579 - accuracy: 0.8802 - val_loss: 0.4570 - val_accuracy: 0.8604\n",
      "Epoch 9/25\n",
      "1719/1719 [==============================] - 12s 7ms/step - loss: 0.3298 - accuracy: 0.8900 - val_loss: 0.4687 - val_accuracy: 0.8670\n",
      "Epoch 10/25\n",
      "1719/1719 [==============================] - 12s 7ms/step - loss: 0.3060 - accuracy: 0.8978 - val_loss: 0.5011 - val_accuracy: 0.8710\n",
      "Epoch 11/25\n",
      "1719/1719 [==============================] - 12s 7ms/step - loss: 0.2917 - accuracy: 0.9034 - val_loss: 0.4059 - val_accuracy: 0.8820\n",
      "Epoch 12/25\n",
      "1719/1719 [==============================] - 12s 7ms/step - loss: 0.2615 - accuracy: 0.9112 - val_loss: 0.4382 - val_accuracy: 0.8790\n",
      "Epoch 13/25\n",
      "1719/1719 [==============================] - 12s 7ms/step - loss: 0.2469 - accuracy: 0.9159 - val_loss: 0.4398 - val_accuracy: 0.8818\n",
      "Epoch 14/25\n",
      "1719/1719 [==============================] - 12s 7ms/step - loss: 0.2268 - accuracy: 0.9214 - val_loss: 0.4361 - val_accuracy: 0.8866\n",
      "Epoch 15/25\n",
      "1719/1719 [==============================] - 12s 7ms/step - loss: 0.2109 - accuracy: 0.9272 - val_loss: 0.4986 - val_accuracy: 0.8766\n",
      "Epoch 16/25\n",
      "1719/1719 [==============================] - 12s 7ms/step - loss: 0.1939 - accuracy: 0.9325 - val_loss: 0.5111 - val_accuracy: 0.8854\n",
      "Epoch 17/25\n",
      "1719/1719 [==============================] - 12s 7ms/step - loss: 0.1825 - accuracy: 0.9389 - val_loss: 0.4898 - val_accuracy: 0.8884\n",
      "Epoch 18/25\n",
      "1719/1719 [==============================] - 12s 7ms/step - loss: 0.1703 - accuracy: 0.9426 - val_loss: 0.5511 - val_accuracy: 0.8862\n",
      "Epoch 19/25\n",
      "1719/1719 [==============================] - 12s 7ms/step - loss: 0.1560 - accuracy: 0.9471 - val_loss: 0.4985 - val_accuracy: 0.8880\n",
      "Epoch 20/25\n",
      "1719/1719 [==============================] - 12s 7ms/step - loss: 0.1441 - accuracy: 0.9519 - val_loss: 0.5322 - val_accuracy: 0.8852\n",
      "Epoch 21/25\n",
      "1719/1719 [==============================] - 12s 7ms/step - loss: 0.1343 - accuracy: 0.9554 - val_loss: 0.5482 - val_accuracy: 0.8926\n",
      "Epoch 22/25\n",
      "1719/1719 [==============================] - 12s 7ms/step - loss: 0.1211 - accuracy: 0.9597 - val_loss: 0.5648 - val_accuracy: 0.8878\n",
      "Epoch 23/25\n",
      "1719/1719 [==============================] - 12s 7ms/step - loss: 0.1149 - accuracy: 0.9625 - val_loss: 0.6084 - val_accuracy: 0.8904\n",
      "Epoch 24/25\n",
      "1719/1719 [==============================] - 12s 7ms/step - loss: 0.1077 - accuracy: 0.9654 - val_loss: 0.6059 - val_accuracy: 0.8908\n",
      "Epoch 25/25\n",
      "1719/1719 [==============================] - 12s 7ms/step - loss: 0.0993 - accuracy: 0.9687 - val_loss: 0.6457 - val_accuracy: 0.8890\n"
     ]
    }
   ],
   "source": [
    "K = keras.backend\n",
    "\n",
    "# The callback class\n",
    "class ExponentialDecay(keras.callbacks.Callback):     # keras callbacks as the class object\n",
    "    def __init__(self, s=40000):  ## initialize the class' attributes\n",
    "        super().__init__()        ## allows us to avoid using the base class name explicitly\n",
    "        self.s = s \n",
    "        \n",
    "    def on_batch_begin(self, batch, logs=None):\n",
    "        # The 'batch' argument is reset at each epoch\n",
    "        lr = K.get_value(self.model.optimizer.learning_rate)                     # Get the learning rate from the model\n",
    "        K.set_value(self.model.optimizer.learning_rate, lr * 0.1**(1 / self.s))  # Set the exponential scheduling\n",
    "    \n",
    "    def on_epoch_end(self, epoch, logs=None):\n",
    "        logs = logs or {}\n",
    "        logs['lr'] = K.get_value(self.model.optimizer.learning_rate)             # Get the learning rate from the model\n",
    "     \n",
    "    \n",
    "model = keras.models.Sequential([\n",
    "    keras.layers.Flatten(input_shape=[28, 28]),\n",
    "    keras.layers.Dense(300, activation=\"selu\", kernel_initializer=\"lecun_normal\"),\n",
    "    keras.layers.Dense(100, activation=\"selu\", kernel_initializer=\"lecun_normal\"),\n",
    "    keras.layers.Dense(10, activation=\"softmax\")\n",
    "])\n",
    "\n",
    "lr0 = 0.01  # initial learning rate\n",
    "optimizer = keras.optimizers.Nadam(learning_rate=lr0)   # optimizer with the initial learning rate\n",
    "model.compile(loss=\"sparse_categorical_crossentropy\", optimizer=optimizer, metrics=[\"accuracy\"])\n",
    "\n",
    "n_epochs=25\n",
    "\n",
    "s = 20 * len(X_train) // 32    # Number of steps in 20 epochs (batch size = 32)\n",
    "exp_decay = ExponentialDecay(s)\n",
    "history = model.fit(X_train_scaled, y_train, epochs=n_epochs, \n",
    "                   validation_data=(X_valid_scaled, y_valid),\n",
    "                   callbacks=[exp_decay])\n",
    "         "
   ]
  },
  {
   "cell_type": "code",
   "execution_count": 6,
   "metadata": {},
   "outputs": [],
   "source": [
    "n_steps = n_epochs * len(X_train) // 32   # batch size = 32\n",
    "steps = np.arange(n_steps)\n",
    "lrs = lr0 * 0.1 **(steps/s)               # scheduled learning rate"
   ]
  },
  {
   "cell_type": "code",
   "execution_count": 7,
   "metadata": {},
   "outputs": [
    {
     "data": {
      "image/png": "[encoded data removed]",
      "text/plain": [
       "<Figure size 432x288 with 1 Axes>"
      ]
     },
     "metadata": {
      "needs_background": "light"
     },
     "output_type": "display_data"
    }
   ],
   "source": [
    "plt.plot(steps, lrs, \"-\", linewidth=2)\n",
    "plt.axis([0, n_steps - 1, 0, lr0 * 1.1])\n",
    "plt.xlabel(\"Batch\")\n",
    "plt.ylabel(\"Learning Rate\")\n",
    "plt.title(\"Exponential Scheduling (per batch)\", fontsize=14)\n",
    "plt.grid(True)\n",
    "plt.show()"
   ]
  },
  {
   "cell_type": "markdown",
   "metadata": {},
   "source": [
    "# Performance Scheduling"
   ]
  },
  {
   "cell_type": "code",
   "execution_count": 8,
   "metadata": {},
   "outputs": [],
   "source": [
    "tf.random.set_seed(42)\n",
    "np.random.seed(42)"
   ]
  },
  {
   "cell_type": "code",
   "execution_count": 9,
   "metadata": {},
   "outputs": [
    {
     "name": "stdout",
     "output_type": "stream",
     "text": [
      "Epoch 1/25\n",
      "1719/1719 [==============================] - 10s 6ms/step - loss: 0.5925 - accuracy: 0.8074 - val_loss: 0.5282 - val_accuracy: 0.8466\n",
      "Epoch 2/25\n",
      "1719/1719 [==============================] - 6s 3ms/step - loss: 0.4914 - accuracy: 0.8418 - val_loss: 0.6569 - val_accuracy: 0.8186\n",
      "Epoch 3/25\n",
      "1719/1719 [==============================] - 6s 4ms/step - loss: 0.5135 - accuracy: 0.8419 - val_loss: 0.4895 - val_accuracy: 0.8514\n",
      "Epoch 4/25\n",
      "1719/1719 [==============================] - 6s 4ms/step - loss: 0.5122 - accuracy: 0.8467 - val_loss: 0.4845 - val_accuracy: 0.8440\n",
      "Epoch 5/25\n",
      "1719/1719 [==============================] - 6s 3ms/step - loss: 0.5168 - accuracy: 0.8493 - val_loss: 0.5630 - val_accuracy: 0.8344\n",
      "Epoch 6/25\n",
      "1719/1719 [==============================] - 6s 3ms/step - loss: 0.5005 - accuracy: 0.8548 - val_loss: 0.6042 - val_accuracy: 0.8498\n",
      "Epoch 7/25\n",
      "1719/1719 [==============================] - 6s 3ms/step - loss: 0.5188 - accuracy: 0.8538 - val_loss: 0.6452 - val_accuracy: 0.8256\n",
      "Epoch 8/25\n",
      "1719/1719 [==============================] - 6s 3ms/step - loss: 0.4904 - accuracy: 0.8600 - val_loss: 0.7068 - val_accuracy: 0.8344\n",
      "Epoch 9/25\n",
      "1719/1719 [==============================] - 6s 4ms/step - loss: 0.5202 - accuracy: 0.8582 - val_loss: 0.6691 - val_accuracy: 0.8370\n",
      "Epoch 10/25\n",
      "1719/1719 [==============================] - 6s 3ms/step - loss: 0.2938 - accuracy: 0.8989 - val_loss: 0.3976 - val_accuracy: 0.8780\n",
      "Epoch 11/25\n",
      "1719/1719 [==============================] - 6s 3ms/step - loss: 0.2470 - accuracy: 0.9105 - val_loss: 0.3928 - val_accuracy: 0.8866\n",
      "Epoch 12/25\n",
      "1719/1719 [==============================] - 6s 3ms/step - loss: 0.2266 - accuracy: 0.9178 - val_loss: 0.4403 - val_accuracy: 0.8786\n",
      "Epoch 13/25\n",
      "1719/1719 [==============================] - 6s 3ms/step - loss: 0.2122 - accuracy: 0.9232 - val_loss: 0.4556 - val_accuracy: 0.8840\n",
      "Epoch 14/25\n",
      "1719/1719 [==============================] - 6s 3ms/step - loss: 0.1971 - accuracy: 0.9274 - val_loss: 0.4665 - val_accuracy: 0.8804\n",
      "Epoch 15/25\n",
      "1719/1719 [==============================] - 5s 3ms/step - loss: 0.1888 - accuracy: 0.9313 - val_loss: 0.4885 - val_accuracy: 0.8874\n",
      "Epoch 16/25\n",
      "1719/1719 [==============================] - 6s 3ms/step - loss: 0.1760 - accuracy: 0.9353 - val_loss: 0.4958 - val_accuracy: 0.8830\n",
      "Epoch 17/25\n",
      "1719/1719 [==============================] - 6s 3ms/step - loss: 0.1230 - accuracy: 0.9518 - val_loss: 0.4933 - val_accuracy: 0.8894\n",
      "Epoch 18/25\n",
      "1719/1719 [==============================] - 6s 3ms/step - loss: 0.1092 - accuracy: 0.9566 - val_loss: 0.5147 - val_accuracy: 0.8910\n",
      "Epoch 19/25\n",
      "1719/1719 [==============================] - 6s 3ms/step - loss: 0.1014 - accuracy: 0.9601 - val_loss: 0.5038 - val_accuracy: 0.8956\n",
      "Epoch 20/25\n",
      "1719/1719 [==============================] - 6s 3ms/step - loss: 0.0948 - accuracy: 0.9628 - val_loss: 0.5152 - val_accuracy: 0.89560.96\n",
      "Epoch 21/25\n",
      "1719/1719 [==============================] - 6s 3ms/step - loss: 0.0879 - accuracy: 0.9658 - val_loss: 0.5381 - val_accuracy: 0.8894\n",
      "Epoch 22/25\n",
      "1719/1719 [==============================] - 6s 3ms/step - loss: 0.0697 - accuracy: 0.9736 - val_loss: 0.5492 - val_accuracy: 0.8942 ETA: 0s - loss: 0.069 - ETA: 0s - loss: 0.0697 - accuracy: 0.97\n",
      "Epoch 23/25\n",
      "1719/1719 [==============================] - 6s 3ms/step - loss: 0.0639 - accuracy: 0.9761 - val_loss: 0.5534 - val_accuracy: 0.8942\n",
      "Epoch 24/25\n",
      "1719/1719 [==============================] - 6s 3ms/step - loss: 0.0603 - accuracy: 0.9778 - val_loss: 0.5722 - val_accuracy: 0.8936\n",
      "Epoch 25/25\n",
      "1719/1719 [==============================] - 6s 4ms/step - loss: 0.0574 - accuracy: 0.9786 - val_loss: 0.5889 - val_accuracy: 0.8926\n"
     ]
    }
   ],
   "source": [
    "lr_scheduler = keras.callbacks.ReduceLROnPlateau(factor=0.5, patience=5) # Reduce learning rate when a metric has stopped improving\n",
    "\n",
    "\n",
    "model = keras.models.Sequential([\n",
    "    keras.layers.Flatten(input_shape=[28, 28]),\n",
    "    keras.layers.Dense(300, activation=\"selu\", kernel_initializer=\"lecun_normal\"),\n",
    "    keras.layers.Dense(100, activation=\"selu\", kernel_initializer=\"lecun_normal\"),\n",
    "    keras.layers.Dense(10, activation=\"softmax\")\n",
    "])\n",
    "\n",
    "# Compile\n",
    "optimizer = keras.optimizers.SGD(learning_rate=0.02, momentum=0.9)   # SGD + momentum\n",
    "model.compile(loss=\"sparse_categorical_crossentropy\", optimizer=optimizer, metrics=[\"accuracy\"])\n",
    "\n",
    "\n",
    "# Train\n",
    "n_epochs = 25\n",
    "history = model.fit(X_train_scaled, y_train, epochs=n_epochs,validation_data=(X_valid_scaled, y_valid),\n",
    "                    callbacks=[lr_scheduler])\n"
   ]
  },
  {
   "cell_type": "code",
   "execution_count": 10,
   "metadata": {},
   "outputs": [
    {
     "data": {
      "image/png": "[encoded data removed]",
      "text/plain": [
       "<Figure size 432x288 with 2 Axes>"
      ]
     },
     "metadata": {
      "needs_background": "light"
     },
     "output_type": "display_data"
    }
   ],
   "source": [
    "# Learning Rate\n",
    "plt.plot(history.epoch, history.history['lr'], '-o')\n",
    "plt.xlabel('Epoch')\n",
    "plt.ylabel('Learning Rate', color='b')\n",
    "plt.tick_params('y', colors='b')\n",
    "plt.gca().set_xlim(0, n_epochs-1)\n",
    "plt.grid(True)\n",
    "\n",
    "# Validation Loss\n",
    "ax2 = plt.gca().twinx()\n",
    "ax2.plot(history.epoch, history.history['val_loss'], 'r^-')\n",
    "ax2.set_ylabel('Validation Loss', color='r')\n",
    "ax2.tick_params('y', colors='r')\n",
    "\n",
    "plt.title(\"Reduce LR on Plateau\", fontsize=14)\n",
    "plt.show()"
   ]
  },
  {
   "cell_type": "markdown",
   "metadata": {},
   "source": [
    "# 1Cycle Scheduling"
   ]
  },
  {
   "cell_type": "code",
   "execution_count": 11,
   "metadata": {},
   "outputs": [],
   "source": [
    "import math\n",
    "K = keras.backend\n",
    "\n",
    "class ExponentialLearningRate(keras.callbacks.Callback):\n",
    "    def __init__(self, factor):\n",
    "        self.factor = factor\n",
    "        self.rates = []\n",
    "        self.losses = []\n",
    "    # computes the batch loss (based on the current mean loss and the previous mean loss):\n",
    "    def on_batch_begin(self, epoch, logs=None):\n",
    "        self.prev_loss = 0 \n",
    "    def on_batch_end(self, batch, logs):\n",
    "        self.rates.append(K.get_value(self.model.optimizer.learning_rate))       # Append the learning rates\n",
    "        self.losses.append(logs['loss'])                                         # Append the losses\n",
    "        K.set_value(self.model.optimizer.learning_rate, self.model.optimizer.learning_rate * self.factor)  # Update the learning rate\n",
    "        \n",
    "def find_learning_rate(model, X, y, epochs=1, batch_size=32, min_rate=10**-5, max_rate=10):\n",
    "    init_weights = model.get_weights()                         # Get the weights from the model\n",
    "    iterations = math.ceil(len(X) / batch_size) * epochs       # No of iterations\n",
    "    factor = np.exp(np.log(max_rate / min_rate) / iterations)  # Factor to update the lr\n",
    "    init_lr = K.get_value(model.optimizer.learning_rate)       # Get the initial lr\n",
    "    K.set_value(model.optimizer.learning_rate, min_rate)       # Set the lr value to the min lr\n",
    "    exp_lr = ExponentialLearningRate(factor)                   # Exp. scheduling, exp_lr as class object\n",
    "    history = model.fit(X, y, epochs=epochs, batch_size=batch_size,\n",
    "                        callbacks=[exp_lr])\n",
    "    K.set_value(model.optimizer.learning_rate, init_lr)        # Set the lr value to the initial lr\n",
    "    model.set_weights(init_weights)                            # Set the weights as the init_weights\n",
    "    return exp_lr.rates, exp_lr.losses \n",
    "    \n",
    "def plot_lr_vs_loss(rates, losses):\n",
    "    plt.plot(rates, losses)\n",
    "    plt.gca().set_xscale('log')\n",
    "    plt.hlines(min(losses), min(rates), max(rates))\n",
    "    plt.axis([min(rates), max(rates), min(losses), (losses[0] + min(losses)) / 2])\n",
    "    plt.xlabel(\"Learning rate\")\n",
    "    plt.ylabel(\"Loss\")"
   ]
  },
  {
   "cell_type": "code",
   "execution_count": 31,
   "metadata": {},
   "outputs": [],
   "source": [
    "tf.random.set_seed(42)\n",
    "np.random.seed(42)\n",
    "\n",
    "model = keras.models.Sequential([\n",
    "    keras.layers.Flatten(input_shape=[28, 28]),\n",
    "    keras.layers.Dense(300, activation=\"selu\", kernel_initializer=\"lecun_normal\"),\n",
    "    keras.layers.Dense(100, activation=\"selu\", kernel_initializer=\"lecun_normal\"),\n",
    "    keras.layers.Dense(10, activation=\"softmax\")\n",
    "])\n",
    "model.compile(loss=\"sparse_categorical_crossentropy\",\n",
    "              optimizer=keras.optimizers.SGD(learning_rate=1e-3),\n",
    "              metrics=[\"accuracy\"])"
   ]
  },
  {
   "cell_type": "code",
   "execution_count": 32,
   "metadata": {},
   "outputs": [
    {
     "name": "stdout",
     "output_type": "stream",
     "text": [
      "430/430 [==============================] - 2s 5ms/step - loss: nan - accuracy: 0.3858\n"
     ]
    },
    {
     "data": {
      "image/png": "[encoded data removed]",
      "text/plain": [
       "<Figure size 432x288 with 1 Axes>"
      ]
     },
     "metadata": {
      "needs_background": "light"
     },
     "output_type": "display_data"
    }
   ],
   "source": [
    "batch_size = 128\n",
    "rates, losses = find_learning_rate(model, X_train_scaled, y_train, epochs=1, batch_size=batch_size)\n",
    "plot_lr_vs_loss(rates, losses)"
   ]
  },
  {
   "cell_type": "code",
   "execution_count": 33,
   "metadata": {},
   "outputs": [],
   "source": [
    "class OneCycleScheduler(keras.callbacks.Callback):\n",
    "    def __init__(self, iterations, max_rate, start_rate=None, last_iterations=None, last_rate=None):\n",
    "        # Declare the class attributes\n",
    "        self.iterations = iterations                                      # No of iterationd                                   \n",
    "        self.max_rate = max_rate                                          # Max lr rate\n",
    "        self.start_rate = start_rate or max_rate / 10                     # Start lr\n",
    "        self.last_iterations = last_iterations or iterations // 10 + 1 \n",
    "        self.half_iteration = (iterations - self.last_iterations) // 2\n",
    "        self.last_rate = last_rate or self.start_rate / 1000\n",
    "        self.iteration = 0\n",
    "        \n",
    "    def _interpolate(self, iter1, iter2, rate1, rate2):\n",
    "        #print(iter1,iter2,rate1,rate2)\n",
    "        return ((rate2 - rate1) * (self.iteration - iter1) / (iter2 - iter1) + rate1)\n",
    "    \n",
    "    def on_batch_begin(self, batch, logs):\n",
    "        if self.iteration < self.half_iteration:\n",
    "            rate = self._interpolate(0, self.half_iteration, self.start_rate, self.max_rate)\n",
    "        elif self.iteration < 2*self.half_iteration:\n",
    "            rate = self._interpolate(self.half_iteration, 2*self.half_iteration, self.max_rate, self.start_rate)\n",
    "        else:\n",
    "            rate = self._interpolate(2*self.half_iteration, self.iterations, self.start_rate, self.last_rate)\n",
    "        self.iteration += 1\n",
    "        K.set_value(self.model.optimizer.learning_rate, rate)  # Set the lr value\n",
    "        \n",
    "    "
   ]
  },
  {
   "cell_type": "code",
   "execution_count": 34,
   "metadata": {},
   "outputs": [
    {
     "name": "stdout",
     "output_type": "stream",
     "text": [
      "10750\n",
      "Epoch 1/25\n",
      "430/430 [==============================] - 2s 5ms/step - loss: 0.6572 - accuracy: 0.7740 - val_loss: 0.4872 - val_accuracy: 0.8336\n",
      "Epoch 2/25\n",
      "430/430 [==============================] - 2s 5ms/step - loss: 0.4581 - accuracy: 0.8396 - val_loss: 0.4275 - val_accuracy: 0.8524\n",
      "Epoch 3/25\n",
      "430/430 [==============================] - 2s 5ms/step - loss: 0.4122 - accuracy: 0.8546 - val_loss: 0.4116 - val_accuracy: 0.8578\n",
      "Epoch 4/25\n",
      "430/430 [==============================] - 2s 5ms/step - loss: 0.3837 - accuracy: 0.8641 - val_loss: 0.3869 - val_accuracy: 0.8688\n",
      "Epoch 5/25\n",
      "430/430 [==============================] - 2s 5ms/step - loss: 0.3639 - accuracy: 0.8716 - val_loss: 0.3766 - val_accuracy: 0.8682\n",
      "Epoch 6/25\n",
      "430/430 [==============================] - 2s 5ms/step - loss: 0.3457 - accuracy: 0.8773 - val_loss: 0.3739 - val_accuracy: 0.8718\n",
      "Epoch 7/25\n",
      "430/430 [==============================] - 2s 5ms/step - loss: 0.3330 - accuracy: 0.8811 - val_loss: 0.3635 - val_accuracy: 0.8704\n",
      "Epoch 8/25\n",
      "430/430 [==============================] - ETA: 0s - loss: 0.3181 - accuracy: 0.88 - 2s 5ms/step - loss: 0.3185 - accuracy: 0.8858 - val_loss: 0.3954 - val_accuracy: 0.8602\n",
      "Epoch 9/25\n",
      "430/430 [==============================] - 2s 5ms/step - loss: 0.3065 - accuracy: 0.8890 - val_loss: 0.3487 - val_accuracy: 0.8770\n",
      "Epoch 10/25\n",
      "430/430 [==============================] - 2s 5ms/step - loss: 0.2944 - accuracy: 0.8923 - val_loss: 0.3395 - val_accuracy: 0.8792\n",
      "Epoch 11/25\n",
      "430/430 [==============================] - 3s 6ms/step - loss: 0.2840 - accuracy: 0.8962 - val_loss: 0.3461 - val_accuracy: 0.8808\n",
      "Epoch 12/25\n",
      "430/430 [==============================] - 2s 5ms/step - loss: 0.2710 - accuracy: 0.9025 - val_loss: 0.3654 - val_accuracy: 0.8694\n",
      "Epoch 13/25\n",
      "430/430 [==============================] - 2s 6ms/step - loss: 0.2538 - accuracy: 0.9080 - val_loss: 0.3353 - val_accuracy: 0.8844\n",
      "Epoch 14/25\n",
      "430/430 [==============================] - 2s 5ms/step - loss: 0.2406 - accuracy: 0.9135 - val_loss: 0.3467 - val_accuracy: 0.8806\n",
      "Epoch 15/25\n",
      "430/430 [==============================] - 2s 5ms/step - loss: 0.2281 - accuracy: 0.9183 - val_loss: 0.3266 - val_accuracy: 0.8846\n",
      "Epoch 16/25\n",
      "430/430 [==============================] - 2s 6ms/step - loss: 0.2161 - accuracy: 0.9232 - val_loss: 0.3295 - val_accuracy: 0.8844\n",
      "Epoch 17/25\n",
      "430/430 [==============================] - 2s 6ms/step - loss: 0.2064 - accuracy: 0.9263 - val_loss: 0.3349 - val_accuracy: 0.8866\n",
      "Epoch 18/25\n",
      "430/430 [==============================] - 2s 5ms/step - loss: 0.1979 - accuracy: 0.9303 - val_loss: 0.3247 - val_accuracy: 0.8898\n",
      "Epoch 19/25\n",
      "430/430 [==============================] - 2s 5ms/step - loss: 0.1893 - accuracy: 0.9336 - val_loss: 0.3235 - val_accuracy: 0.8908\n",
      "Epoch 20/25\n",
      "430/430 [==============================] - 2s 5ms/step - loss: 0.1822 - accuracy: 0.9365 - val_loss: 0.3231 - val_accuracy: 0.8922\n",
      "Epoch 21/25\n",
      "430/430 [==============================] - 3s 7ms/step - loss: 0.1753 - accuracy: 0.9403 - val_loss: 0.3226 - val_accuracy: 0.8908\n",
      "Epoch 22/25\n",
      "430/430 [==============================] - 3s 6ms/step - loss: 0.1701 - accuracy: 0.9417 - val_loss: 0.3187 - val_accuracy: 0.8938\n",
      "Epoch 23/25\n",
      "430/430 [==============================] - 3s 6ms/step - loss: 0.1655 - accuracy: 0.9440 - val_loss: 0.3191 - val_accuracy: 0.8942\n",
      "Epoch 24/25\n",
      "430/430 [==============================] - 2s 6ms/step - loss: 0.1627 - accuracy: 0.9458 - val_loss: 0.3182 - val_accuracy: 0.8930\n",
      "Epoch 25/25\n",
      "430/430 [==============================] - 3s 6ms/step - loss: 0.1610 - accuracy: 0.9463 - val_loss: 0.3174 - val_accuracy: 0.8940\n"
     ]
    }
   ],
   "source": [
    "n_epochs=25\n",
    "iterations = math.ceil(len(X_train) / batch_size) * n_epochs\n",
    "print(iterations)\n",
    "onecycle = OneCycleScheduler(iterations,max_rate=0.05)\n",
    "history = model.fit(X_train_scaled, y_train, epochs=n_epochs, batch_size=batch_size,\n",
    "                    validation_data=(X_valid_scaled, y_valid),\n",
    "                    callbacks=[onecycle])"
   ]
  },
  {
   "cell_type": "code",
   "execution_count": 35,
   "metadata": {},
   "outputs": [
    {
     "name": "stdout",
     "output_type": "stream",
     "text": [
      "313/313 [==============================] - 1s 2ms/step - loss: 0.3381 - accuracy: 0.8864\n"
     ]
    },
    {
     "data": {
      "text/plain": [
       "[0.33814266324043274, 0.8863999843597412]"
      ]
     },
     "execution_count": 35,
     "metadata": {},
     "output_type": "execute_result"
    }
   ],
   "source": [
    "model.evaluate(X_test_scaled, y_test)"
   ]
  },
  {
   "cell_type": "markdown",
   "metadata": {},
   "source": [
    "# Avoid overfit through regularization ($\\ell_{1}$ and $\\ell_{2}$)"
   ]
  },
  {
   "cell_type": "code",
   "execution_count": 36,
   "metadata": {},
   "outputs": [],
   "source": [
    "# l1 reg\n",
    "layer = keras.layers.Dense(100, activation=\"elu\", kernel_initializer=\"he_normal\",\n",
    "                           kernel_regularizer=keras.regularizers.l1(0.1))\n",
    "# l2 reg\n",
    "layer = keras.layers.Dense(100, activation=\"elu\",kernel_initializer=\"he_normal\",\n",
    "                           kernel_regularizer=keras.regularizers.l2(0.01))\n",
    "\n",
    "model = keras.models.Sequential([\n",
    "    keras.layers.Flatten(input_shape=[28, 28]),\n",
    "    keras.layers.Dense(300, activation=\"elu\",\n",
    "                       kernel_initializer=\"he_normal\",\n",
    "                       kernel_regularizer=keras.regularizers.l2(0.01)),\n",
    "    keras.layers.Dense(100, activation=\"elu\",\n",
    "                       kernel_initializer=\"he_normal\",\n",
    "                       kernel_regularizer=keras.regularizers.l2(0.01)),\n",
    "    keras.layers.Dense(10, activation=\"softmax\",\n",
    "                       kernel_regularizer=keras.regularizers.l2(0.01))\n",
    "])"
   ]
  },
  {
   "cell_type": "code",
   "execution_count": 37,
   "metadata": {},
   "outputs": [
    {
     "name": "stdout",
     "output_type": "stream",
     "text": [
      "Epoch 1/2\n",
      "1719/1719 [==============================] - 10s 6ms/step - loss: 1.5956 - accuracy: 0.8124 - val_loss: 0.7169 - val_accuracy: 0.8340\n",
      "Epoch 2/2\n",
      "1719/1719 [==============================] - 10s 6ms/step - loss: 0.7197 - accuracy: 0.8274 - val_loss: 0.6850 - val_accuracy: 0.8376\n"
     ]
    }
   ],
   "source": [
    "model.compile(loss=\"sparse_categorical_crossentropy\", optimizer=\"nadam\", metrics=[\"accuracy\"])\n",
    "n_epochs = 2\n",
    "history = model.fit(X_train_scaled, y_train, epochs=n_epochs,\n",
    "                    validation_data=(X_valid_scaled, y_valid))"
   ]
  },
  {
   "cell_type": "code",
   "execution_count": 38,
   "metadata": {},
   "outputs": [
    {
     "name": "stdout",
     "output_type": "stream",
     "text": [
      "313/313 [==============================] - 1s 2ms/step - loss: 0.7247 - accuracy: 0.8222\n"
     ]
    },
    {
     "data": {
      "text/plain": [
       "[0.7246770262718201, 0.8222000002861023]"
      ]
     },
     "execution_count": 38,
     "metadata": {},
     "output_type": "execute_result"
    }
   ],
   "source": [
    "model.evaluate(X_test_scaled, y_test)"
   ]
  },
  {
   "cell_type": "markdown",
   "metadata": {},
   "source": [
    "# Dropout"
   ]
  },
  {
   "cell_type": "code",
   "execution_count": 39,
   "metadata": {},
   "outputs": [],
   "source": [
    "model = keras.models.Sequential([\n",
    "    keras.layers.Flatten(input_shape=[28, 28]),\n",
    "    keras.layers.Dropout(rate=0.2),\n",
    "    keras.layers.Dense(300, activation=\"elu\", kernel_initializer=\"he_normal\"),\n",
    "    keras.layers.Dropout(rate=0.2),\n",
    "    keras.layers.Dense(100, activation=\"elu\", kernel_initializer=\"he_normal\"),\n",
    "    keras.layers.Dropout(rate=0.2),\n",
    "    keras.layers.Dense(10, activation=\"softmax\")\n",
    "])"
   ]
  },
  {
   "cell_type": "code",
   "execution_count": 40,
   "metadata": {},
   "outputs": [
    {
     "name": "stdout",
     "output_type": "stream",
     "text": [
      "Epoch 1/2\n",
      "1719/1719 [==============================] - 10s 6ms/step - loss: 0.5597 - accuracy: 0.8059 - val_loss: 0.3672 - val_accuracy: 0.8656\n",
      "Epoch 2/2\n",
      "1719/1719 [==============================] - 11s 6ms/step - loss: 0.4230 - accuracy: 0.8453 - val_loss: 0.3479 - val_accuracy: 0.8678\n"
     ]
    }
   ],
   "source": [
    "model.compile(loss=\"sparse_categorical_crossentropy\", optimizer=\"nadam\", metrics=[\"accuracy\"])\n",
    "n_epochs = 2\n",
    "history = model.fit(X_train_scaled, y_train, epochs=n_epochs,\n",
    "                    validation_data=(X_valid_scaled, y_valid))"
   ]
  },
  {
   "cell_type": "code",
   "execution_count": 41,
   "metadata": {},
   "outputs": [
    {
     "name": "stdout",
     "output_type": "stream",
     "text": [
      "313/313 [==============================] - 1s 2ms/step - loss: 0.3932 - accuracy: 0.8541\n"
     ]
    },
    {
     "data": {
      "text/plain": [
       "[0.39317840337753296, 0.8540999889373779]"
      ]
     },
     "execution_count": 41,
     "metadata": {},
     "output_type": "execute_result"
    }
   ],
   "source": [
    "model.evaluate(X_test_scaled, y_test)"
   ]
  },
  {
   "cell_type": "markdown",
   "metadata": {},
   "source": [
    "# Alpha Dropout"
   ]
  },
  {
   "cell_type": "code",
   "execution_count": 42,
   "metadata": {},
   "outputs": [],
   "source": [
    "tf.random.set_seed(42)\n",
    "np.random.seed(42)"
   ]
  },
  {
   "cell_type": "code",
   "execution_count": 44,
   "metadata": {},
   "outputs": [],
   "source": [
    "model = keras.models.Sequential([\n",
    "    keras.layers.Flatten(input_shape=[28, 28]),\n",
    "    keras.layers.AlphaDropout(rate=0.2),\n",
    "    keras.layers.Dense(300, activation=\"selu\", kernel_initializer=\"lecun_normal\"),\n",
    "    keras.layers.AlphaDropout(rate=0.2),\n",
    "    keras.layers.Dense(100, activation=\"selu\", kernel_initializer=\"lecun_normal\"),\n",
    "    keras.layers.AlphaDropout(rate=0.2),\n",
    "    keras.layers.Dense(10, activation=\"softmax\")\n",
    "])\n",
    "optimizer = keras.optimizers.SGD(learning_rate=0.01, momentum=0.9, nesterov=True)"
   ]
  },
  {
   "cell_type": "code",
   "execution_count": 45,
   "metadata": {},
   "outputs": [
    {
     "name": "stdout",
     "output_type": "stream",
     "text": [
      "Epoch 1/20\n",
      "1719/1719 [==============================] - 7s 4ms/step - loss: 0.6623 - accuracy: 0.7578 - val_loss: 0.5964 - val_accuracy: 0.8414\n",
      "Epoch 2/20\n",
      "1719/1719 [==============================] - 11s 7ms/step - loss: 0.5527 - accuracy: 0.7948 - val_loss: 0.5309 - val_accuracy: 0.8466\n",
      "Epoch 3/20\n",
      "1719/1719 [==============================] - 9s 5ms/step - loss: 0.5233 - accuracy: 0.8065 - val_loss: 0.5206 - val_accuracy: 0.8584\n",
      "Epoch 4/20\n",
      "1719/1719 [==============================] - 6s 4ms/step - loss: 0.5069 - accuracy: 0.8124 - val_loss: 0.4736 - val_accuracy: 0.8614\n",
      "Epoch 5/20\n",
      "1719/1719 [==============================] - 6s 4ms/step - loss: 0.4911 - accuracy: 0.8192 - val_loss: 0.4821 - val_accuracy: 0.8552\n",
      "Epoch 6/20\n",
      "1719/1719 [==============================] - 7s 4ms/step - loss: 0.4822 - accuracy: 0.8192 - val_loss: 0.4774 - val_accuracy: 0.8594\n",
      "Epoch 7/20\n",
      "1719/1719 [==============================] - 7s 4ms/step - loss: 0.4742 - accuracy: 0.8236 - val_loss: 0.5186 - val_accuracy: 0.8534\n",
      "Epoch 8/20\n",
      "1719/1719 [==============================] - 6s 4ms/step - loss: 0.4672 - accuracy: 0.8269 - val_loss: 0.4624 - val_accuracy: 0.8582\n",
      "Epoch 9/20\n",
      "1719/1719 [==============================] - 8s 4ms/step - loss: 0.4599 - accuracy: 0.8295 - val_loss: 0.4304 - val_accuracy: 0.8722\n",
      "Epoch 10/20\n",
      "1719/1719 [==============================] - 7s 4ms/step - loss: 0.4574 - accuracy: 0.8312 - val_loss: 0.4577 - val_accuracy: 0.8648\n",
      "Epoch 11/20\n",
      "1719/1719 [==============================] - 7s 4ms/step - loss: 0.4491 - accuracy: 0.8335 - val_loss: 0.4268 - val_accuracy: 0.8622\n",
      "Epoch 12/20\n",
      "1719/1719 [==============================] - 7s 4ms/step - loss: 0.4422 - accuracy: 0.8365 - val_loss: 0.5092 - val_accuracy: 0.8620\n",
      "Epoch 13/20\n",
      "1719/1719 [==============================] - 7s 4ms/step - loss: 0.4412 - accuracy: 0.8368 - val_loss: 0.4275 - val_accuracy: 0.8740\n",
      "Epoch 14/20\n",
      "1719/1719 [==============================] - 7s 4ms/step - loss: 0.4410 - accuracy: 0.8368 - val_loss: 0.4387 - val_accuracy: 0.8682\n",
      "Epoch 15/20\n",
      "1719/1719 [==============================] - 7s 4ms/step - loss: 0.4343 - accuracy: 0.8377 - val_loss: 0.4374 - val_accuracy: 0.8724\n",
      "Epoch 16/20\n",
      "1719/1719 [==============================] - 7s 4ms/step - loss: 0.4361 - accuracy: 0.8397 - val_loss: 0.4401 - val_accuracy: 0.8734\n",
      "Epoch 17/20\n",
      "1719/1719 [==============================] - 7s 4ms/step - loss: 0.4289 - accuracy: 0.8414 - val_loss: 0.5195 - val_accuracy: 0.8598\n",
      "Epoch 18/20\n",
      "1719/1719 [==============================] - 7s 4ms/step - loss: 0.4225 - accuracy: 0.8415 - val_loss: 0.4899 - val_accuracy: 0.8690\n",
      "Epoch 19/20\n",
      "1719/1719 [==============================] - 7s 4ms/step - loss: 0.4205 - accuracy: 0.8433 - val_loss: 0.4884 - val_accuracy: 0.8716\n",
      "Epoch 20/20\n",
      "1719/1719 [==============================] - 7s 4ms/step - loss: 0.4223 - accuracy: 0.8435 - val_loss: 0.4178 - val_accuracy: 0.8772\n"
     ]
    }
   ],
   "source": [
    "model.compile(loss=\"sparse_categorical_crossentropy\", optimizer=optimizer, metrics=[\"accuracy\"])\n",
    "n_epochs = 20\n",
    "history = model.fit(X_train_scaled, y_train, epochs=n_epochs,\n",
    "                    validation_data=(X_valid_scaled, y_valid))"
   ]
  },
  {
   "cell_type": "code",
   "execution_count": 46,
   "metadata": {},
   "outputs": [
    {
     "name": "stdout",
     "output_type": "stream",
     "text": [
      "313/313 [==============================] - 1s 2ms/step - loss: 0.4695 - accuracy: 0.8573\n"
     ]
    },
    {
     "data": {
      "text/plain": [
       "[0.4695429801940918, 0.8572999835014343]"
      ]
     },
     "execution_count": 46,
     "metadata": {},
     "output_type": "execute_result"
    }
   ],
   "source": [
    "model.evaluate(X_test_scaled, y_test)"
   ]
  },
  {
   "cell_type": "markdown",
   "metadata": {},
   "source": [
    "# MC Dropout"
   ]
  },
  {
   "cell_type": "code",
   "execution_count": 47,
   "metadata": {},
   "outputs": [],
   "source": [
    "tf.random.set_seed(42)\n",
    "np.random.seed(42)\n"
   ]
  },
  {
   "cell_type": "code",
   "execution_count": 50,
   "metadata": {},
   "outputs": [],
   "source": [
    "y_probas = np.stack([model(X_test_scaled, training=True) for sample in range(100)]) # Join a sequence of arrays along an existing axis\n",
    "y_proba = y_probas.mean(axis=0)\n",
    "y_std = y_probas.std(axis=0)"
   ]
  },
  {
   "cell_type": "code",
   "execution_count": 56,
   "metadata": {},
   "outputs": [
    {
     "data": {
      "text/plain": [
       "(100, 10000, 10)"
      ]
     },
     "execution_count": 56,
     "metadata": {},
     "output_type": "execute_result"
    }
   ],
   "source": [
    "y_probas.shape"
   ]
  },
  {
   "cell_type": "code",
   "execution_count": 74,
   "metadata": {},
   "outputs": [
    {
     "data": {
      "text/plain": [
       "array([[0.  , 0.  , 0.  , 0.  , 0.  , 0.  , 0.  , 0.07, 0.  , 0.93],\n",
       "       [0.  , 0.  , 1.  , 0.  , 0.  , 0.  , 0.  , 0.  , 0.  , 0.  ],\n",
       "       [0.  , 1.  , 0.  , 0.  , 0.  , 0.  , 0.  , 0.  , 0.  , 0.  ]],\n",
       "      dtype=float32)"
      ]
     },
     "execution_count": 74,
     "metadata": {},
     "output_type": "execute_result"
    }
   ],
   "source": [
    "np.round(model.predict(X_test_scaled[:1]),2)\n",
    "np.round(model.predict(X_test_scaled[:2]),2)\n",
    "np.round(model.predict(X_test_scaled[:3]),2)\n"
   ]
  },
  {
   "cell_type": "code",
   "execution_count": 75,
   "metadata": {},
   "outputs": [
    {
     "data": {
      "text/plain": [
       "array([[0.  , 0.  , 0.  , 0.  , 0.  , 0.23, 0.  , 0.26, 0.01, 0.31]],\n",
       "      dtype=float32)"
      ]
     },
     "execution_count": 75,
     "metadata": {},
     "output_type": "execute_result"
    }
   ],
   "source": [
    "y_std = y_probas.std(axis=0)\n",
    "np.round(y_std[:1], 2)"
   ]
  },
  {
   "cell_type": "code",
   "execution_count": 76,
   "metadata": {},
   "outputs": [],
   "source": [
    "y_pred = np.argmax(y_proba, axis=1)"
   ]
  },
  {
   "cell_type": "code",
   "execution_count": 77,
   "metadata": {},
   "outputs": [
    {
     "data": {
      "text/plain": [
       "0.856"
      ]
     },
     "execution_count": 77,
     "metadata": {},
     "output_type": "execute_result"
    }
   ],
   "source": [
    "accuracy = np.sum(y_pred == y_test) / len(y_test)\n",
    "accuracy"
   ]
  },
  {
   "cell_type": "code",
   "execution_count": 78,
   "metadata": {},
   "outputs": [],
   "source": [
    "# Build MCDropout class\n",
    "class MCDropout(keras.layers.Dropout):  # keras layers as object\n",
    "    def call(self, inputs):\n",
    "        return super().call(inputs, training=True)\n",
    "    \n",
    "class MCAlphaDropout(keras.layers.AlphaDropout):\n",
    "    def call(self, inputs):\n",
    "        return super().call(inputs, training=True)\n"
   ]
  },
  {
   "cell_type": "code",
   "execution_count": 79,
   "metadata": {},
   "outputs": [],
   "source": [
    "tf.random.set_seed(42)\n",
    "np.random.seed(42)"
   ]
  },
  {
   "cell_type": "code",
   "execution_count": 80,
   "metadata": {},
   "outputs": [],
   "source": [
    "mc_model = keras.models.Sequential([MCAlphaDropout(layer.rate) if isinstance(layer, keras.layers.AlphaDropout) else layer\n",
    "                                   for layer in model.layers\n",
    "])"
   ]
  },
  {
   "cell_type": "code",
   "execution_count": 82,
   "metadata": {},
   "outputs": [
    {
     "name": "stdout",
     "output_type": "stream",
     "text": [
      "Model: \"sequential_10\"\n",
      "_________________________________________________________________\n",
      "Layer (type)                 Output Shape              Param #   \n",
      "=================================================================\n",
      "flatten_9 (Flatten)          (None, 784)               0         \n",
      "_________________________________________________________________\n",
      "mc_alpha_dropout (MCAlphaDro (None, 784)               0         \n",
      "_________________________________________________________________\n",
      "dense_31 (Dense)             (None, 300)               235500    \n",
      "_________________________________________________________________\n",
      "mc_alpha_dropout_1 (MCAlphaD (None, 300)               0         \n",
      "_________________________________________________________________\n",
      "dense_32 (Dense)             (None, 100)               30100     \n",
      "_________________________________________________________________\n",
      "mc_alpha_dropout_2 (MCAlphaD (None, 100)               0         \n",
      "_________________________________________________________________\n",
      "dense_33 (Dense)             (None, 10)                1010      \n",
      "=================================================================\n",
      "Total params: 266,610\n",
      "Trainable params: 266,610\n",
      "Non-trainable params: 0\n",
      "_________________________________________________________________\n"
     ]
    }
   ],
   "source": [
    "mc_model.summary()"
   ]
  },
  {
   "cell_type": "code",
   "execution_count": 83,
   "metadata": {},
   "outputs": [],
   "source": [
    "optimizer = keras.optimizers.SGD(learning_rate=0.01, momentum=0.9, nesterov=True)\n",
    "mc_model.compile(loss=\"sparse_categorical_crossentropy\", optimizer=optimizer, metrics=[\"accuracy\"])"
   ]
  },
  {
   "cell_type": "code",
   "execution_count": 84,
   "metadata": {},
   "outputs": [],
   "source": [
    "mc_model.set_weights(model.get_weights())"
   ]
  },
  {
   "cell_type": "code",
   "execution_count": 86,
   "metadata": {},
   "outputs": [
    {
     "data": {
      "text/plain": [
       "array([[0.  , 0.  , 0.  , 0.  , 0.  , 0.16, 0.  , 0.32, 0.  , 0.52]],\n",
       "      dtype=float32)"
      ]
     },
     "execution_count": 86,
     "metadata": {},
     "output_type": "execute_result"
    }
   ],
   "source": [
    "# Use the model with MC Dropout\n",
    "np.round(np.mean([mc_model.predict(X_test_scaled[:1]) for sample in range(100)], axis=0), 2)"
   ]
  },
  {
   "cell_type": "code",
   "execution_count": 90,
   "metadata": {},
   "outputs": [
    {
     "data": {
      "text/plain": [
       "array([[0.   , 0.   , 0.   , 0.   , 0.   , 0.003, 0.   , 0.09 , 0.   ,\n",
       "        0.906],\n",
       "       [0.001, 0.   , 0.883, 0.   , 0.007, 0.   , 0.108, 0.   , 0.   ,\n",
       "        0.   ]], dtype=float32)"
      ]
     },
     "execution_count": 90,
     "metadata": {},
     "output_type": "execute_result"
    }
   ],
   "source": [
    "np.round(mc_model.predict(X_test_scaled[:1]),3)\n",
    "np.round(mc_model.predict(X_test_scaled[:2]),3)"
   ]
  },
  {
   "cell_type": "markdown",
   "metadata": {},
   "source": [
    "# Exercise 8 Deep Learning on CIFAR10"
   ]
  },
  {
   "cell_type": "markdown",
   "metadata": {},
   "source": [
    "a. Build a DNN with 20 hidden layers of 100 neurons each (that's too many, but it is the point of this exercise). Use He initialization and the ELU activation function."
   ]
  },
  {
   "cell_type": "code",
   "execution_count": 2,
   "metadata": {},
   "outputs": [],
   "source": [
    "keras.backend.clear_session()\n",
    "tf.random.set_seed(42)\n",
    "np.random.seed(42)"
   ]
  },
  {
   "cell_type": "code",
   "execution_count": 4,
   "metadata": {},
   "outputs": [],
   "source": [
    "model = keras.models.Sequential()\n",
    "model.add(keras.layers.Flatten(input_shape=[32,32,3]))     # Input layer \n",
    "for _ in range(20):                                        # Add 20 hidden layers\n",
    "    model.add(keras.layers.Dense(100, activation='elu', kernel_initializer='he_normal'))\n",
    "model.add(keras.layers.Dense(10, activation='softmax'))    # Output layer  \n"
   ]
  },
  {
   "cell_type": "code",
   "execution_count": 5,
   "metadata": {},
   "outputs": [
    {
     "name": "stdout",
     "output_type": "stream",
     "text": [
      "Model: \"sequential\"\n",
      "_________________________________________________________________\n",
      "Layer (type)                 Output Shape              Param #   \n",
      "=================================================================\n",
      "flatten (Flatten)            (None, 3072)              0         \n",
      "_________________________________________________________________\n",
      "dense (Dense)                (None, 100)               307300    \n",
      "_________________________________________________________________\n",
      "dense_1 (Dense)              (None, 100)               10100     \n",
      "_________________________________________________________________\n",
      "dense_2 (Dense)              (None, 100)               10100     \n",
      "_________________________________________________________________\n",
      "dense_3 (Dense)              (None, 100)               10100     \n",
      "_________________________________________________________________\n",
      "dense_4 (Dense)              (None, 100)               10100     \n",
      "_________________________________________________________________\n",
      "dense_5 (Dense)              (None, 100)               10100     \n",
      "_________________________________________________________________\n",
      "dense_6 (Dense)              (None, 100)               10100     \n",
      "_________________________________________________________________\n",
      "dense_7 (Dense)              (None, 100)               10100     \n",
      "_________________________________________________________________\n",
      "dense_8 (Dense)              (None, 100)               10100     \n",
      "_________________________________________________________________\n",
      "dense_9 (Dense)              (None, 100)               10100     \n",
      "_________________________________________________________________\n",
      "dense_10 (Dense)             (None, 100)               10100     \n",
      "_________________________________________________________________\n",
      "dense_11 (Dense)             (None, 100)               10100     \n",
      "_________________________________________________________________\n",
      "dense_12 (Dense)             (None, 100)               10100     \n",
      "_________________________________________________________________\n",
      "dense_13 (Dense)             (None, 100)               10100     \n",
      "_________________________________________________________________\n",
      "dense_14 (Dense)             (None, 100)               10100     \n",
      "_________________________________________________________________\n",
      "dense_15 (Dense)             (None, 100)               10100     \n",
      "_________________________________________________________________\n",
      "dense_16 (Dense)             (None, 100)               10100     \n",
      "_________________________________________________________________\n",
      "dense_17 (Dense)             (None, 100)               10100     \n",
      "_________________________________________________________________\n",
      "dense_18 (Dense)             (None, 100)               10100     \n",
      "_________________________________________________________________\n",
      "dense_19 (Dense)             (None, 100)               10100     \n",
      "_________________________________________________________________\n",
      "dense_20 (Dense)             (None, 10)                1010      \n",
      "=================================================================\n",
      "Total params: 500,210\n",
      "Trainable params: 500,210\n",
      "Non-trainable params: 0\n",
      "_________________________________________________________________\n"
     ]
    }
   ],
   "source": [
    "model.summary()"
   ]
  },
  {
   "cell_type": "markdown",
   "metadata": {},
   "source": [
    "# b. Using Nadam optimization and early stopping, train the network on the CIFAR10 dataset. You can load it with keras.datasets.cifar10.load_data(). The dataset is composed of 60,000 32 × 32–pixel color images (50,000 for training, 10,000 for testing) with 10 classes, so you'll need a softmax output layer with 10 neurons. Remember to search for the right learning rate each time you change the model's architecture or hyperparameters."
   ]
  },
  {
   "cell_type": "code",
   "execution_count": 6,
   "metadata": {},
   "outputs": [],
   "source": [
    "# Load the CIFAR10 dataset\n",
    "(X_train_full, y_train_full), (X_test, y_test) = keras.datasets.cifar10.load_data() # (50000, 32, 32, 3) and (10000, 32, 32, 3)\n",
    "\n",
    "# Since the early stopping callback will be used, a validation set will be nevessary \n",
    "X_train = X_train_full[5000:]  ## (45000, 32, 32, 3)\n",
    "y_train = y_train_full[5000:]  ## (45000, 1)\n",
    "X_valid = X_train_full[:5000]  ##  (5000, 32, 32, 3)\n",
    "y_valid = y_train_full[:5000]  ##  (5000, 1)\n",
    "\n"
   ]
  },
  {
   "cell_type": "code",
   "execution_count": 7,
   "metadata": {},
   "outputs": [],
   "source": [
    "# optimizer (Nadam optimization )\n",
    "optimizer = keras.optimizers.Nadam(learning_rate=5e-5)"
   ]
  },
  {
   "cell_type": "code",
   "execution_count": 8,
   "metadata": {},
   "outputs": [],
   "source": [
    "# Compile the model\n",
    "model.compile(loss='sparse_categorical_crossentropy', optimizer=optimizer, metrics=['accuracy'])"
   ]
  },
  {
   "cell_type": "code",
   "execution_count": 9,
   "metadata": {},
   "outputs": [],
   "source": [
    "# Define the callbacks\n",
    "early_stop = keras.callbacks.EarlyStopping(patience=20)\n",
    "model_checkpoint = keras.callbacks.ModelCheckpoint('my_cifar10_model.h5', save_best_only=True)\n",
    "# Create the callback\n",
    "callbacks = [early_stop, model_checkpoint]"
   ]
  },
  {
   "cell_type": "code",
   "execution_count": 10,
   "metadata": {},
   "outputs": [
    {
     "name": "stdout",
     "output_type": "stream",
     "text": [
      "Epoch 1/40\n",
      "1407/1407 [==============================] - 17s 12ms/step - loss: 3.9051 - accuracy: 0.1695 - val_loss: 2.1487 - val_accuracy: 0.2328\n",
      "Epoch 2/40\n",
      "1407/1407 [==============================] - 14s 10ms/step - loss: 2.0426 - accuracy: 0.2543 - val_loss: 2.0474 - val_accuracy: 0.2336\n",
      "Epoch 3/40\n",
      "1407/1407 [==============================] - 15s 11ms/step - loss: 1.9238 - accuracy: 0.2994 - val_loss: 2.0591 - val_accuracy: 0.2596\n",
      "Epoch 4/40\n",
      "1407/1407 [==============================] - 14s 10ms/step - loss: 1.8452 - accuracy: 0.3278 - val_loss: 1.8694 - val_accuracy: 0.3296\n",
      "Epoch 5/40\n",
      "1407/1407 [==============================] - 14s 10ms/step - loss: 1.7907 - accuracy: 0.3498 - val_loss: 1.7851 - val_accuracy: 0.3404\n",
      "Epoch 6/40\n",
      "1407/1407 [==============================] - 22s 16ms/step - loss: 1.7456 - accuracy: 0.3683 - val_loss: 1.7687 - val_accuracy: 0.3514\n",
      "Epoch 7/40\n",
      "1407/1407 [==============================] - 26s 18ms/step - loss: 1.7032 - accuracy: 0.3821 - val_loss: 1.7417 - val_accuracy: 0.3666\n",
      "Epoch 8/40\n",
      "1407/1407 [==============================] - 18s 13ms/step - loss: 1.6694 - accuracy: 0.3987 - val_loss: 1.6819 - val_accuracy: 0.3940\n",
      "Epoch 9/40\n",
      "1407/1407 [==============================] - 19s 14ms/step - loss: 1.6389 - accuracy: 0.4092 - val_loss: 1.6519 - val_accuracy: 0.3978\n",
      "Epoch 10/40\n",
      "1407/1407 [==============================] - 24s 17ms/step - loss: 1.6139 - accuracy: 0.4190 - val_loss: 1.6771 - val_accuracy: 0.3934\n",
      "Epoch 11/40\n",
      "1407/1407 [==============================] - 21s 15ms/step - loss: 1.5919 - accuracy: 0.4264 - val_loss: 1.6368 - val_accuracy: 0.4062\n",
      "Epoch 12/40\n",
      "1407/1407 [==============================] - 18s 13ms/step - loss: 1.5701 - accuracy: 0.4348 - val_loss: 1.6254 - val_accuracy: 0.4150\n",
      "Epoch 13/40\n",
      "1407/1407 [==============================] - 27s 19ms/step - loss: 1.5480 - accuracy: 0.4421 - val_loss: 1.6242 - val_accuracy: 0.4088\n",
      "Epoch 14/40\n",
      "1407/1407 [==============================] - 30s 21ms/step - loss: 1.5337 - accuracy: 0.4467 - val_loss: 1.6088 - val_accuracy: 0.4218\n",
      "Epoch 15/40\n",
      "1407/1407 [==============================] - 25s 18ms/step - loss: 1.5180 - accuracy: 0.4542 - val_loss: 1.5685 - val_accuracy: 0.4364\n",
      "Epoch 16/40\n",
      "1407/1407 [==============================] - 20s 14ms/step - loss: 1.4992 - accuracy: 0.4606 - val_loss: 1.5915 - val_accuracy: 0.4292\n",
      "Epoch 17/40\n",
      "1407/1407 [==============================] - 19s 14ms/step - loss: 1.4845 - accuracy: 0.4643 - val_loss: 1.5929 - val_accuracy: 0.4316\n",
      "Epoch 18/40\n",
      "1407/1407 [==============================] - 31s 22ms/step - loss: 1.4718 - accuracy: 0.4708 - val_loss: 1.5775 - val_accuracy: 0.4342\n",
      "Epoch 19/40\n",
      "1407/1407 [==============================] - 27s 19ms/step - loss: 1.4591 - accuracy: 0.4761 - val_loss: 1.5716 - val_accuracy: 0.4340\n",
      "Epoch 20/40\n",
      "1407/1407 [==============================] - 17s 12ms/step - loss: 1.4509 - accuracy: 0.4787 - val_loss: 1.5746 - val_accuracy: 0.4422\n",
      "Epoch 21/40\n",
      "1407/1407 [==============================] - 23s 17ms/step - loss: 1.4394 - accuracy: 0.4809 - val_loss: 1.5853 - val_accuracy: 0.4378\n",
      "Epoch 22/40\n",
      "1407/1407 [==============================] - 29s 20ms/step - loss: 1.4276 - accuracy: 0.4885 - val_loss: 1.5413 - val_accuracy: 0.4470\n",
      "Epoch 23/40\n",
      "1407/1407 [==============================] - 30s 22ms/step - loss: 1.4141 - accuracy: 0.4931 - val_loss: 1.5502 - val_accuracy: 0.4442\n",
      "Epoch 24/40\n",
      "1407/1407 [==============================] - 29s 21ms/step - loss: 1.4090 - accuracy: 0.4937 - val_loss: 1.5750 - val_accuracy: 0.4394\n",
      "Epoch 25/40\n",
      "1407/1407 [==============================] - 24s 17ms/step - loss: 1.3937 - accuracy: 0.4992 - val_loss: 1.5383 - val_accuracy: 0.4524\n",
      "Epoch 26/40\n",
      "1407/1407 [==============================] - 23s 16ms/step - loss: 1.3829 - accuracy: 0.5042 - val_loss: 1.6078 - val_accuracy: 0.4280\n",
      "Epoch 27/40\n",
      "1407/1407 [==============================] - 23s 16ms/step - loss: 1.3750 - accuracy: 0.5077 - val_loss: 1.5334 - val_accuracy: 0.4570\n",
      "Epoch 28/40\n",
      "1407/1407 [==============================] - 20s 14ms/step - loss: 1.3674 - accuracy: 0.5104 - val_loss: 1.5736 - val_accuracy: 0.4482\n",
      "Epoch 29/40\n",
      "1407/1407 [==============================] - 19s 14ms/step - loss: 1.3554 - accuracy: 0.5140 - val_loss: 1.5368 - val_accuracy: 0.4560\n",
      "Epoch 30/40\n",
      "1407/1407 [==============================] - 23s 16ms/step - loss: 1.3479 - accuracy: 0.5163 - val_loss: 1.5557 - val_accuracy: 0.4594\n",
      "Epoch 31/40\n",
      "1407/1407 [==============================] - 15s 11ms/step - loss: 1.3402 - accuracy: 0.5204 - val_loss: 1.5754 - val_accuracy: 0.4494\n",
      "Epoch 32/40\n",
      "1407/1407 [==============================] - 17s 12ms/step - loss: 1.3275 - accuracy: 0.5265 - val_loss: 1.5384 - val_accuracy: 0.4582\n",
      "Epoch 33/40\n",
      "1407/1407 [==============================] - 16s 12ms/step - loss: 1.3223 - accuracy: 0.5251 - val_loss: 1.5438 - val_accuracy: 0.4658\n",
      "Epoch 34/40\n",
      "1407/1407 [==============================] - 17s 12ms/step - loss: 1.3134 - accuracy: 0.5283 - val_loss: 1.5841 - val_accuracy: 0.4538\n",
      "Epoch 35/40\n",
      "1407/1407 [==============================] - 14s 10ms/step - loss: 1.3042 - accuracy: 0.5319 - val_loss: 1.5542 - val_accuracy: 0.4584\n",
      "Epoch 36/40\n",
      "1407/1407 [==============================] - 15s 10ms/step - loss: 1.3003 - accuracy: 0.5317 - val_loss: 1.5297 - val_accuracy: 0.4640\n",
      "Epoch 37/40\n",
      "1407/1407 [==============================] - 17s 12ms/step - loss: 1.2871 - accuracy: 0.5380 - val_loss: 1.5242 - val_accuracy: 0.4650\n",
      "Epoch 38/40\n",
      "1407/1407 [==============================] - 25s 17ms/step - loss: 1.2810 - accuracy: 0.5416 - val_loss: 1.5443 - val_accuracy: 0.4622\n",
      "Epoch 39/40\n",
      "1407/1407 [==============================] - 27s 19ms/step - loss: 1.2710 - accuracy: 0.5445 - val_loss: 1.5474 - val_accuracy: 0.4564\n",
      "Epoch 40/40\n",
      "1407/1407 [==============================] - 23s 16ms/step - loss: 1.2648 - accuracy: 0.5474 - val_loss: 1.5719 - val_accuracy: 0.4554\n"
     ]
    }
   ],
   "source": [
    "# Train the model \n",
    "history = model.fit(X_train, y_train, epochs=40, validation_data=(X_valid, y_valid), callbacks=callbacks)"
   ]
  },
  {
   "cell_type": "code",
   "execution_count": 14,
   "metadata": {},
   "outputs": [
    {
     "data": {
      "text/plain": [
       "dict_keys(['loss', 'accuracy', 'val_loss', 'val_accuracy'])"
      ]
     },
     "execution_count": 14,
     "metadata": {},
     "output_type": "execute_result"
    }
   ],
   "source": [
    "history.history.keys()"
   ]
  },
  {
   "cell_type": "code",
   "execution_count": 11,
   "metadata": {},
   "outputs": [
    {
     "name": "stdout",
     "output_type": "stream",
     "text": [
      "157/157 [==============================] - 0s 3ms/step - loss: 1.5719 - accuracy: 0.4554\n"
     ]
    },
    {
     "data": {
      "text/plain": [
       "[1.5718780755996704, 0.4553999900817871]"
      ]
     },
     "execution_count": 11,
     "metadata": {},
     "output_type": "execute_result"
    }
   ],
   "source": [
    "# Evaluate the model\n",
    "model.evaluate(X_valid, y_valid)"
   ]
  },
  {
   "cell_type": "code",
   "execution_count": 18,
   "metadata": {},
   "outputs": [
    {
     "data": {
      "image/png": "[encoded data removed]",
      "text/plain": [
       "<Figure size 576x360 with 1 Axes>"
      ]
     },
     "metadata": {
      "needs_background": "light"
     },
     "output_type": "display_data"
    }
   ],
   "source": [
    "import pandas as pd\n",
    "\n",
    "pd.DataFrame(history.history).plot(figsize=(8, 5))\n",
    "plt.grid(True)\n",
    "plt.gca().set_ylim(0, 4)\n",
    "plt.show()"
   ]
  },
  {
   "cell_type": "markdown",
   "metadata": {},
   "source": [
    "The model with the lowest validation loss gets about 45.5% accuracy on the validation set. \n",
    "\n",
    "It took 10 epochs to reach the lowest validation loss.\n",
    "\n"
   ]
  },
  {
   "cell_type": "markdown",
   "metadata": {},
   "source": [
    "# c. Now try adding Batch Normalization and compare the learning curves: Is it converging faster than before? Does it produce a better model? How does it affect training speed?\n"
   ]
  },
  {
   "cell_type": "markdown",
   "metadata": {},
   "source": [
    "It will be interesting to add a BN before each layer, including the first hidden layer, except for the output layer."
   ]
  },
  {
   "cell_type": "code",
   "execution_count": 19,
   "metadata": {},
   "outputs": [],
   "source": [
    "keras.backend.clear_session()\n",
    "tf.random.set_seed(42)\n",
    "np.random.seed(42)"
   ]
  },
  {
   "cell_type": "code",
   "execution_count": 23,
   "metadata": {},
   "outputs": [],
   "source": [
    "model = keras.models.Sequential()\n",
    "model.add(keras.layers.Flatten(input_shape=[32,32,3]))    # output layer\n",
    "model.add(keras.layers.BatchNormalization())\n",
    "# Add the hidden layers\n",
    "for _ in range(20):\n",
    "    model.add(keras.layers.Dense(100, kernel_initializer='he_normal'))\n",
    "    model.add(keras.layers.BatchNormalization())                        # BN layer before the activation function\n",
    "    model.add(keras.layers.Activation('elu'))\n",
    "model.add(keras.layers.Dense(10, activation='softmax'))"
   ]
  },
  {
   "cell_type": "code",
   "execution_count": 22,
   "metadata": {},
   "outputs": [
    {
     "name": "stdout",
     "output_type": "stream",
     "text": [
      "Model: \"sequential_1\"\n",
      "_________________________________________________________________\n",
      "Layer (type)                 Output Shape              Param #   \n",
      "=================================================================\n",
      "flatten_1 (Flatten)          (None, 3072)              0         \n",
      "_________________________________________________________________\n",
      "batch_normalization_1 (Batch (None, 3072)              12288     \n",
      "_________________________________________________________________\n",
      "dense (Dense)                (None, 100)               307300    \n",
      "_________________________________________________________________\n",
      "batch_normalization_2 (Batch (None, 100)               400       \n",
      "_________________________________________________________________\n",
      "activation (Activation)      (None, 100)               0         \n",
      "_________________________________________________________________\n",
      "dense_1 (Dense)              (None, 100)               10100     \n",
      "_________________________________________________________________\n",
      "batch_normalization_3 (Batch (None, 100)               400       \n",
      "_________________________________________________________________\n",
      "activation_1 (Activation)    (None, 100)               0         \n",
      "_________________________________________________________________\n",
      "dense_2 (Dense)              (None, 100)               10100     \n",
      "_________________________________________________________________\n",
      "batch_normalization_4 (Batch (None, 100)               400       \n",
      "_________________________________________________________________\n",
      "activation_2 (Activation)    (None, 100)               0         \n",
      "_________________________________________________________________\n",
      "dense_3 (Dense)              (None, 100)               10100     \n",
      "_________________________________________________________________\n",
      "batch_normalization_5 (Batch (None, 100)               400       \n",
      "_________________________________________________________________\n",
      "activation_3 (Activation)    (None, 100)               0         \n",
      "_________________________________________________________________\n",
      "dense_4 (Dense)              (None, 100)               10100     \n",
      "_________________________________________________________________\n",
      "batch_normalization_6 (Batch (None, 100)               400       \n",
      "_________________________________________________________________\n",
      "activation_4 (Activation)    (None, 100)               0         \n",
      "_________________________________________________________________\n",
      "dense_5 (Dense)              (None, 100)               10100     \n",
      "_________________________________________________________________\n",
      "batch_normalization_7 (Batch (None, 100)               400       \n",
      "_________________________________________________________________\n",
      "activation_5 (Activation)    (None, 100)               0         \n",
      "_________________________________________________________________\n",
      "dense_6 (Dense)              (None, 100)               10100     \n",
      "_________________________________________________________________\n",
      "batch_normalization_8 (Batch (None, 100)               400       \n",
      "_________________________________________________________________\n",
      "activation_6 (Activation)    (None, 100)               0         \n",
      "_________________________________________________________________\n",
      "dense_7 (Dense)              (None, 100)               10100     \n",
      "_________________________________________________________________\n",
      "batch_normalization_9 (Batch (None, 100)               400       \n",
      "_________________________________________________________________\n",
      "activation_7 (Activation)    (None, 100)               0         \n",
      "_________________________________________________________________\n",
      "dense_8 (Dense)              (None, 100)               10100     \n",
      "_________________________________________________________________\n",
      "batch_normalization_10 (Batc (None, 100)               400       \n",
      "_________________________________________________________________\n",
      "activation_8 (Activation)    (None, 100)               0         \n",
      "_________________________________________________________________\n",
      "dense_9 (Dense)              (None, 100)               10100     \n",
      "_________________________________________________________________\n",
      "batch_normalization_11 (Batc (None, 100)               400       \n",
      "_________________________________________________________________\n",
      "activation_9 (Activation)    (None, 100)               0         \n",
      "_________________________________________________________________\n",
      "dense_10 (Dense)             (None, 100)               10100     \n",
      "_________________________________________________________________\n",
      "batch_normalization_12 (Batc (None, 100)               400       \n",
      "_________________________________________________________________\n",
      "activation_10 (Activation)   (None, 100)               0         \n",
      "_________________________________________________________________\n",
      "dense_11 (Dense)             (None, 100)               10100     \n",
      "_________________________________________________________________\n",
      "batch_normalization_13 (Batc (None, 100)               400       \n",
      "_________________________________________________________________\n",
      "activation_11 (Activation)   (None, 100)               0         \n",
      "_________________________________________________________________\n",
      "dense_12 (Dense)             (None, 100)               10100     \n",
      "_________________________________________________________________\n",
      "batch_normalization_14 (Batc (None, 100)               400       \n",
      "_________________________________________________________________\n",
      "activation_12 (Activation)   (None, 100)               0         \n",
      "_________________________________________________________________\n",
      "dense_13 (Dense)             (None, 100)               10100     \n",
      "_________________________________________________________________\n",
      "batch_normalization_15 (Batc (None, 100)               400       \n",
      "_________________________________________________________________\n",
      "activation_13 (Activation)   (None, 100)               0         \n",
      "_________________________________________________________________\n",
      "dense_14 (Dense)             (None, 100)               10100     \n",
      "_________________________________________________________________\n",
      "batch_normalization_16 (Batc (None, 100)               400       \n",
      "_________________________________________________________________\n",
      "activation_14 (Activation)   (None, 100)               0         \n",
      "_________________________________________________________________\n",
      "dense_15 (Dense)             (None, 100)               10100     \n",
      "_________________________________________________________________\n",
      "batch_normalization_17 (Batc (None, 100)               400       \n",
      "_________________________________________________________________\n",
      "activation_15 (Activation)   (None, 100)               0         \n",
      "_________________________________________________________________\n",
      "dense_16 (Dense)             (None, 100)               10100     \n",
      "_________________________________________________________________\n",
      "batch_normalization_18 (Batc (None, 100)               400       \n",
      "_________________________________________________________________\n",
      "activation_16 (Activation)   (None, 100)               0         \n",
      "_________________________________________________________________\n",
      "dense_17 (Dense)             (None, 100)               10100     \n",
      "_________________________________________________________________\n",
      "batch_normalization_19 (Batc (None, 100)               400       \n",
      "_________________________________________________________________\n",
      "activation_17 (Activation)   (None, 100)               0         \n",
      "_________________________________________________________________\n",
      "dense_18 (Dense)             (None, 100)               10100     \n",
      "_________________________________________________________________\n",
      "batch_normalization_20 (Batc (None, 100)               400       \n",
      "_________________________________________________________________\n",
      "activation_18 (Activation)   (None, 100)               0         \n",
      "_________________________________________________________________\n",
      "dense_19 (Dense)             (None, 100)               10100     \n",
      "_________________________________________________________________\n",
      "batch_normalization_21 (Batc (None, 100)               400       \n",
      "_________________________________________________________________\n",
      "activation_19 (Activation)   (None, 100)               0         \n",
      "_________________________________________________________________\n",
      "dense_20 (Dense)             (None, 10)                1010      \n",
      "=================================================================\n",
      "Total params: 520,498\n",
      "Trainable params: 510,354\n",
      "Non-trainable params: 10,144\n",
      "_________________________________________________________________\n"
     ]
    }
   ],
   "source": [
    "model.summary()"
   ]
  },
  {
   "cell_type": "code",
   "execution_count": 25,
   "metadata": {},
   "outputs": [],
   "source": [
    "# optimizer\n",
    "optimizer = keras.optimizers.Nadam(learning_rate=5e-4)  # Change the lr to 5e-4\n",
    "\n",
    "# Compile the model\n",
    "model.compile(loss='sparse_categorical_crossentropy', optimizer=optimizer, metrics=['accuracy'])\n",
    "\n",
    "# Define the callbacks\n",
    "early_stop = keras.callbacks.EarlyStopping(patience=20)\n",
    "model_checkpoint = keras.callbacks.ModelCheckpoint('my_cifar10_bn_model.h5', save_best_only=True)\n",
    "callbacks = [early_stop, model_checkpoint]"
   ]
  },
  {
   "cell_type": "code",
   "execution_count": 26,
   "metadata": {},
   "outputs": [
    {
     "name": "stdout",
     "output_type": "stream",
     "text": [
      "Epoch 1/40\n",
      "1407/1407 [==============================] - 31s 22ms/step - loss: 1.8380 - accuracy: 0.3410 - val_loss: 1.7334 - val_accuracy: 0.3724\n",
      "Epoch 2/40\n",
      "1407/1407 [==============================] - 32s 23ms/step - loss: 1.6703 - accuracy: 0.4063 - val_loss: 1.6123 - val_accuracy: 0.4294\n",
      "Epoch 3/40\n",
      "1407/1407 [==============================] - 32s 23ms/step - loss: 1.5968 - accuracy: 0.4318 - val_loss: 1.5615 - val_accuracy: 0.4420\n",
      "Epoch 4/40\n",
      "1407/1407 [==============================] - 33s 23ms/step - loss: 1.5500 - accuracy: 0.4484 - val_loss: 1.5528 - val_accuracy: 0.4474\n",
      "Epoch 5/40\n",
      "1407/1407 [==============================] - 45s 32ms/step - loss: 1.5076 - accuracy: 0.4679 - val_loss: 1.4469 - val_accuracy: 0.4838\n",
      "Epoch 6/40\n",
      "1407/1407 [==============================] - 34s 24ms/step - loss: 1.4706 - accuracy: 0.4791 - val_loss: 1.4447 - val_accuracy: 0.4866\n",
      "Epoch 7/40\n",
      "1407/1407 [==============================] - 34s 24ms/step - loss: 1.4344 - accuracy: 0.4893 - val_loss: 1.4307 - val_accuracy: 0.4884\n",
      "Epoch 8/40\n",
      "1407/1407 [==============================] - 32s 22ms/step - loss: 1.4089 - accuracy: 0.5020 - val_loss: 1.4060 - val_accuracy: 0.5042\n",
      "Epoch 9/40\n",
      "1407/1407 [==============================] - 40s 28ms/step - loss: 1.3857 - accuracy: 0.5102 - val_loss: 1.3738 - val_accuracy: 0.5086\n",
      "Epoch 10/40\n",
      "1407/1407 [==============================] - 58s 41ms/step - loss: 1.3635 - accuracy: 0.5153 - val_loss: 1.3638 - val_accuracy: 0.5166\n",
      "Epoch 11/40\n",
      "1407/1407 [==============================] - 46s 33ms/step - loss: 1.3429 - accuracy: 0.5247 - val_loss: 1.3644 - val_accuracy: 0.5194\n",
      "Epoch 12/40\n",
      "1407/1407 [==============================] - 43s 30ms/step - loss: 1.3181 - accuracy: 0.5351 - val_loss: 1.3914 - val_accuracy: 0.5070\n",
      "Epoch 13/40\n",
      "1407/1407 [==============================] - 45s 32ms/step - loss: 1.3001 - accuracy: 0.5386 - val_loss: 1.3674 - val_accuracy: 0.5186\n",
      "Epoch 14/40\n",
      "1407/1407 [==============================] - 44s 31ms/step - loss: 1.2801 - accuracy: 0.5481 - val_loss: 1.3247 - val_accuracy: 0.5328\n",
      "Epoch 15/40\n",
      "1407/1407 [==============================] - 49s 35ms/step - loss: 1.2640 - accuracy: 0.5538 - val_loss: 1.3710 - val_accuracy: 0.5220\n",
      "Epoch 16/40\n",
      "1407/1407 [==============================] - 42s 30ms/step - loss: 1.2519 - accuracy: 0.5590 - val_loss: 1.3672 - val_accuracy: 0.5226\n",
      "Epoch 17/40\n",
      "1407/1407 [==============================] - 40s 29ms/step - loss: 1.2326 - accuracy: 0.5660 - val_loss: 1.3163 - val_accuracy: 0.5404\n",
      "Epoch 18/40\n",
      "1407/1407 [==============================] - 37s 26ms/step - loss: 1.2180 - accuracy: 0.5690 - val_loss: 1.3496 - val_accuracy: 0.5244\n",
      "Epoch 19/40\n",
      "1407/1407 [==============================] - 31s 22ms/step - loss: 1.2024 - accuracy: 0.5764 - val_loss: 1.3522 - val_accuracy: 0.5202\n",
      "Epoch 20/40\n",
      "1407/1407 [==============================] - 32s 22ms/step - loss: 1.1896 - accuracy: 0.5816 - val_loss: 1.3753 - val_accuracy: 0.5186\n",
      "Epoch 21/40\n",
      "1407/1407 [==============================] - 51s 36ms/step - loss: 1.1723 - accuracy: 0.5876 - val_loss: 1.3547 - val_accuracy: 0.5360\n",
      "Epoch 22/40\n",
      "1407/1407 [==============================] - 62s 44ms/step - loss: 1.1627 - accuracy: 0.5894 - val_loss: 1.3272 - val_accuracy: 0.5348\n",
      "Epoch 23/40\n",
      "1407/1407 [==============================] - 49s 35ms/step - loss: 1.1503 - accuracy: 0.5962 - val_loss: 1.3607 - val_accuracy: 0.5270\n",
      "Epoch 24/40\n",
      "1407/1407 [==============================] - 47s 33ms/step - loss: 1.1352 - accuracy: 0.6036 - val_loss: 1.3110 - val_accuracy: 0.5490\n",
      "Epoch 25/40\n",
      "1407/1407 [==============================] - 39s 28ms/step - loss: 1.1261 - accuracy: 0.6044 - val_loss: 1.3352 - val_accuracy: 0.5446\n",
      "Epoch 26/40\n",
      "1407/1407 [==============================] - 43s 30ms/step - loss: 1.1095 - accuracy: 0.6088 - val_loss: 1.3334 - val_accuracy: 0.5452\n",
      "Epoch 27/40\n",
      "1407/1407 [==============================] - 39s 28ms/step - loss: 1.0987 - accuracy: 0.6117 - val_loss: 1.3362 - val_accuracy: 0.5370\n",
      "Epoch 28/40\n",
      "1407/1407 [==============================] - 43s 31ms/step - loss: 1.0906 - accuracy: 0.6166 - val_loss: 1.3620 - val_accuracy: 0.5358\n",
      "Epoch 29/40\n",
      "1407/1407 [==============================] - 38s 27ms/step - loss: 1.0844 - accuracy: 0.6194 - val_loss: 1.3384 - val_accuracy: 0.5354\n",
      "Epoch 30/40\n",
      "1407/1407 [==============================] - 50s 36ms/step - loss: 1.0677 - accuracy: 0.6262 - val_loss: 1.3593 - val_accuracy: 0.5436\n",
      "Epoch 31/40\n",
      "1407/1407 [==============================] - 53s 37ms/step - loss: 1.0547 - accuracy: 0.6287 - val_loss: 1.3413 - val_accuracy: 0.5462\n",
      "Epoch 32/40\n",
      "1407/1407 [==============================] - 46s 33ms/step - loss: 1.0484 - accuracy: 0.6302 - val_loss: 1.3689 - val_accuracy: 0.5428\n",
      "Epoch 33/40\n",
      "1407/1407 [==============================] - 40s 29ms/step - loss: 1.0375 - accuracy: 0.6344 - val_loss: 1.3285 - val_accuracy: 0.5478\n",
      "Epoch 34/40\n",
      "1407/1407 [==============================] - 48s 34ms/step - loss: 1.0244 - accuracy: 0.6394 - val_loss: 1.3714 - val_accuracy: 0.5390\n",
      "Epoch 35/40\n",
      "1407/1407 [==============================] - 47s 34ms/step - loss: 1.0204 - accuracy: 0.6415 - val_loss: 1.3465 - val_accuracy: 0.5490\n",
      "Epoch 36/40\n",
      "1407/1407 [==============================] - 49s 35ms/step - loss: 1.0150 - accuracy: 0.6431 - val_loss: 1.3832 - val_accuracy: 0.5422\n",
      "Epoch 37/40\n",
      "1407/1407 [==============================] - 43s 30ms/step - loss: 0.9966 - accuracy: 0.6502 - val_loss: 1.3855 - val_accuracy: 0.5342\n",
      "Epoch 38/40\n",
      "1407/1407 [==============================] - 40s 28ms/step - loss: 0.9895 - accuracy: 0.6521 - val_loss: 1.3702 - val_accuracy: 0.5416\n",
      "Epoch 39/40\n",
      "1407/1407 [==============================] - 47s 34ms/step - loss: 0.9815 - accuracy: 0.6538 - val_loss: 1.3712 - val_accuracy: 0.5442\n",
      "Epoch 40/40\n",
      "1407/1407 [==============================] - 49s 35ms/step - loss: 0.9707 - accuracy: 0.6564 - val_loss: 1.4044 - val_accuracy: 0.5348\n"
     ]
    }
   ],
   "source": [
    "history = model.fit(X_train, y_train, epochs=40, validation_data=(X_valid, y_valid), callbacks=callbacks)"
   ]
  },
  {
   "cell_type": "code",
   "execution_count": null,
   "metadata": {},
   "outputs": [],
   "source": [
    "#"
   ]
  },
  {
   "cell_type": "markdown",
   "metadata": {},
   "source": [
    "# d. Try replacing Batch Normalization with SELU, and make the necessary adjustements to ensure the network self-normalizes (i.e., standardize the input features, use LeCun normal initialization, make sure the DNN contains only a sequence of dense layers, etc.)."
   ]
  },
  {
   "cell_type": "code",
   "execution_count": null,
   "metadata": {},
   "outputs": [],
   "source": []
  },
  {
   "cell_type": "markdown",
   "metadata": {},
   "source": [
    "# e. Try regularizing the model with alpha dropout. Then, without retraining your model, see if you can achieve better accuracy using MC Dropout."
   ]
  },
  {
   "cell_type": "code",
   "execution_count": null,
   "metadata": {},
   "outputs": [],
   "source": []
  },
  {
   "cell_type": "markdown",
   "metadata": {},
   "source": [
    "# f. Retrain your model using 1cycle scheduling and see if it improves training speed and model accuracy."
   ]
  },
  {
   "cell_type": "markdown",
   "metadata": {},
   "source": [
    "# Exercise 8 Deep Learning on CIFAR10\n",
    "\n",
    "a. Build a DNN with 20 hidden layers of 100 neurons each (that's too many, but it is the point of this exercise). Use He initialization and the ELU activation function.\n",
    "\n",
    "b. Using Nadam optimization and early stopping, train the network on the CIFAR10 dataset. You can load it with keras.datasets.cifar10.load_data(). The dataset is composed of 60,000 32 × 32–pixel color images (50,000 for training, 10,000 for testing) with 10 classes, so you'll need a softmax output layer with 10 neurons. Remember to search for the right learning rate each time you change the model's architecture or hyperparameters.\n",
    "\n",
    "c. Now try adding Batch Normalization and compare the learning curves: Is it converging faster than before? Does it produce a better model? How does it affect training speed?\n",
    "\n",
    "d. Try replacing Batch Normalization with SELU, and make the necessary adjustements to ensure the network self-normalizes (i.e., standardize the input features, use LeCun normal initialization, make sure the DNN contains only a sequence of dense layers, etc.).\n",
    "\n",
    "e. Try regularizing the model with alpha dropout. Then, without retraining your model, see if you can achieve better accuracy using MC Dropout.\n",
    "\n",
    "f. Retrain your model using 1cycle scheduling and see if it improves training speed and model accuracy.\n",
    "\n"
   ]
  },
  {
   "cell_type": "code",
   "execution_count": null,
   "metadata": {},
   "outputs": [],
   "source": []
  }
 ],
 "metadata": {
  "kernelspec": {
   "display_name": "Python 3",
   "language": "python",
   "name": "python3"
  },
  "language_info": {
   "codemirror_mode": {
    "name": "ipython",
    "version": 3
   },
   "file_extension": ".py",
   "mimetype": "text/x-python",
   "name": "python",
   "nbconvert_exporter": "python",
   "pygments_lexer": "ipython3",
   "version": "3.8.5"
  }
 },
 "nbformat": 4,
 "nbformat_minor": 4
}
