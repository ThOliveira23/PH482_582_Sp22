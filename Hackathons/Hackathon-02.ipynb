{
 "cells": [
  {
   "cell_type": "markdown",
   "metadata": {
    "id": "P3DtjEbf8M4I"
   },
   "source": [
    "**Introduction**\n",
    "\n",
    "Machine Learning algorithms have become an increasingly important tool for analyzing the data from the Large Hadron Collider (LHC). Identification of particles in LHC collisions is an important task of LHC detector reconstruction algorithms.\n",
    "\n",
    "Here we present a challenge where one of the detectors (the Electromagnetic Calorimeter or ECAL) is used as a camera to analyze detector images from two types of particles: electrons and photons that deposit their energy in this detector.\n",
    "\n",
    "**Dataset**\n",
    "\n",
    "Each pixel in the image corresponds to a detector cell, while the intensity of the pixel corresponds to how much energy is measured in that cell. Timing of the energy deposits are also available, though this may or may not be relevant. The dataset contains 32x32 Images of the energy hits and their timing (channel 1: hit energy and channel 2: its timing) in each calorimeter cell (one cell = one pixel) for the two classes of particles: Electrons and Photons. The dataset contains around four hundred thousand images for electrons and photons. Please note that your final model will be evaluated on an unseen test dataset.\n",
    "\n",
    "**Algorithm**\n",
    "\n",
    "Please use a Machine Learning model of your choice to achieve the highest possible classification performance on the provided dataset. Please provide a Jupyter Notebook that shows your solution.\n",
    "\n",
    "Evaluation Metrics\n",
    "ROC curve (Receiver Operating Characteristic curve) and AUC score (Area Under the ROC Curve)\n",
    "Training and Validation Accuracy\n",
    "The model performance will be tested on a hidden test dataset based on the above metrics.\n",
    "\n",
    "**Deliverables**\n",
    "\n",
    "Google Colab Jupyter Notebook showing your solution along with the final model accuracy (Training and Validation), ROC curve and AUC score. More details regarding the format of the notebook can be found in the sample Google Colab notebook provided for this challenge.\n",
    "The final trained model including the model architecture and the trained weights ( For example: HDF5 file, .pb file, .pt file, etc. ). You are free to choose Machine Learning Framework of your choice.\n"
   ]
  },
  {
   "cell_type": "markdown",
   "metadata": {
    "id": "g0b6SRpWl2Xh"
   },
   "source": [
    "## Create the appropriate project folder "
   ]
  },
  {
   "cell_type": "code",
   "execution_count": 1,
   "metadata": {
    "id": "OYRULwKaw_A6"
   },
   "outputs": [],
   "source": [
    "mkdir Particle_Images"
   ]
  },
  {
   "cell_type": "code",
   "execution_count": 2,
   "metadata": {
    "colab": {
     "base_uri": "https://localhost:8080/"
    },
    "id": "at-4-Xub8DYW",
    "outputId": "0599feb1-5c1e-472c-ccf5-1a9c0c349ddc"
   },
   "outputs": [
    {
     "name": "stdout",
     "output_type": "stream",
     "text": [
      "/Users/thalesoliveira/Documents/CBPF/ML_course/PH482_582_Sp22/Hackathons/Particle_Images\n"
     ]
    }
   ],
   "source": [
    "cd Particle_Images"
   ]
  },
  {
   "cell_type": "code",
   "execution_count": 3,
   "metadata": {
    "id": "BQGKM10j2CiQ"
   },
   "outputs": [],
   "source": [
    "mkdir data/"
   ]
  },
  {
   "cell_type": "markdown",
   "metadata": {
    "id": "PEtRyfNv9XVn"
   },
   "source": [
    "# Download the Dataset\n",
    "This will download 83MB for SingleElectron and 76MB for SinglePhoton."
   ]
  },
  {
   "cell_type": "code",
   "execution_count": 4,
   "metadata": {
    "id": "rcK1wY4Qt_7Y"
   },
   "outputs": [
    {
     "name": "stdout",
     "output_type": "stream",
     "text": [
      "--2022-03-28 12:41:25--  https://cernbox.cern.ch/index.php/s/sHjzCNFTFxutYCj/download\n",
      "Resolving cernbox.cern.ch (cernbox.cern.ch)... 128.142.170.17, 128.142.53.35, 137.138.120.151, ...\n",
      "Connecting to cernbox.cern.ch (cernbox.cern.ch)|128.142.170.17|:443... connected.\n",
      "HTTP request sent, awaiting response... 200 OK\n",
      "Length: 87010508 (83M) [application/octet-stream]\n",
      "Saving to: ‘data/SingleElectronPt50_IMGCROPS_n249k_RHv1.hdf5’\n",
      "\n",
      "data/SingleElectron 100%[===================>]  82,98M  6,45MB/s    in 29s     \n",
      "\n",
      "Last-modified header invalid -- time-stamp ignored.\n",
      "2022-03-28 12:41:57 (2,88 MB/s) - ‘data/SingleElectronPt50_IMGCROPS_n249k_RHv1.hdf5’ saved [87010508/87010508]\n",
      "\n",
      "--2022-03-28 12:41:57--  https://cernbox.cern.ch/index.php/s/69nGEZjOy3xGxBq/download\n",
      "Resolving cernbox.cern.ch (cernbox.cern.ch)... 128.142.53.35, 137.138.120.151, 188.184.97.72, ...\n",
      "Connecting to cernbox.cern.ch (cernbox.cern.ch)|128.142.53.35|:443... connected.\n",
      "HTTP request sent, awaiting response... 200 OK\n",
      "Length: 79876391 (76M) [application/octet-stream]\n",
      "Saving to: ‘data/SinglePhotonPt50_IMGCROPS_n249k_RHv1.hdf5’\n",
      "\n",
      "data/SinglePhotonPt 100%[===================>]  76,18M  8,20MB/s    in 12s     \n",
      "\n",
      "Last-modified header invalid -- time-stamp ignored.\n",
      "2022-03-28 12:42:11 (6,40 MB/s) - ‘data/SinglePhotonPt50_IMGCROPS_n249k_RHv1.hdf5’ saved [79876391/79876391]\n",
      "\n"
     ]
    }
   ],
   "source": [
    "#!/bin/bash\n",
    "!wget https://cernbox.cern.ch/index.php/s/sHjzCNFTFxutYCj/download -O data/SingleElectronPt50_IMGCROPS_n249k_RHv1.hdf5\n",
    "!wget https://cernbox.cern.ch/index.php/s/69nGEZjOy3xGxBq/download -O data/SinglePhotonPt50_IMGCROPS_n249k_RHv1.hdf5"
   ]
  },
  {
   "cell_type": "markdown",
   "metadata": {
    "id": "BepRE7pn8Du7"
   },
   "source": [
    "# Import modules"
   ]
  },
  {
   "cell_type": "code",
   "execution_count": 16,
   "metadata": {
    "id": "ZnLzC5paz0hb"
   },
   "outputs": [],
   "source": [
    "import numpy as np\n",
    "np.random.seed(1337)  # for reproducibility\n",
    "import h5py\n",
    "from tensorflow import keras\n",
    "from tensorflow.keras.models import Sequential\n",
    "from tensorflow.keras.initializers import TruncatedNormal\n",
    "from tensorflow.keras.layers import Input, Dense, Dropout, Flatten, Conv2D, MaxPooling2D\n",
    "from tensorflow.keras.callbacks import ReduceLROnPlateau\n",
    "\n",
    "from sklearn.metrics import roc_curve, auc\n",
    "\n",
    "import matplotlib.pyplot as plt"
   ]
  },
  {
   "cell_type": "code",
   "execution_count": 8,
   "metadata": {},
   "outputs": [
    {
     "data": {
      "text/plain": [
       "[]"
      ]
     },
     "execution_count": 8,
     "metadata": {},
     "output_type": "execute_result"
    }
   ],
   "source": [
    "import tensorflow as tf\n",
    "tf.config.list_physical_devices('GPU')"
   ]
  },
  {
   "cell_type": "markdown",
   "metadata": {
    "id": "Az_MoJwZ8K6l"
   },
   "source": [
    "# Keras Model Parameters"
   ]
  },
  {
   "cell_type": "code",
   "execution_count": 21,
   "metadata": {
    "id": "ZzF8AHl_4yUA"
   },
   "outputs": [],
   "source": [
    "lr_init     = 1.e-3    # Initial learning rate  \n",
    "batch_size  = 64       # Training batch size\n",
    "train_size  = 4096     # Training size, max is 160000 def 1024\n",
    "valid_size  = 1024     # Validation size, max is 44800\n",
    "test_size   = 1024     # Test size\n",
    "epochs      = 20       # Number of epochs"
   ]
  },
  {
   "cell_type": "markdown",
   "metadata": {
    "id": "_jX_l-WmplJx"
   },
   "source": [
    "It is recommended to use GPU for training and inference if possible."
   ]
  },
  {
   "cell_type": "markdown",
   "metadata": {
    "id": "xwc56kXJ8TLo"
   },
   "source": [
    "# Load Image Data\n",
    "- Two classes of particles: electrons and photons\n",
    "- 32x32 matrices (two channels - hit energy and time) for the two classes of particles electrons and photons impinging on a calorimeter (one calorimetric cell = one pixel).\n",
    "- Note that although timing channel is provided, it may not necessarily help the performance of the model."
   ]
  },
  {
   "cell_type": "code",
   "execution_count": 22,
   "metadata": {
    "id": "kr4QIMlt424u"
   },
   "outputs": [],
   "source": [
    "img_rows, img_cols, nb_channels = 32, 32, 2        \n",
    "input_dir = 'data'\n",
    "decays = ['SinglePhotonPt50_IMGCROPS_n249k_RHv1', 'SingleElectronPt50_IMGCROPS_n249k_RHv1']\n",
    "\n",
    "def load_data(decays, start, stop):\n",
    "    global input_dir\n",
    "    dsets = [h5py.File('%s/%s.hdf5'%(input_dir,decay)) for decay in decays]\n",
    "    X = np.concatenate([dset['/X'][start:stop] for dset in dsets])\n",
    "    y = np.concatenate([dset['/y'][start:stop] for dset in dsets])\n",
    "    assert len(X) == len(y)\n",
    "    return X, y"
   ]
  },
  {
   "cell_type": "markdown",
   "metadata": {
    "id": "-JpHCOf38fDL"
   },
   "source": [
    "# Configure Training / Validation / Test Sets"
   ]
  },
  {
   "cell_type": "code",
   "execution_count": 23,
   "metadata": {
    "id": "-RTXS58x46Fq"
   },
   "outputs": [
    {
     "name": "stderr",
     "output_type": "stream",
     "text": [
      "<ipython-input-22-0c53d482b3b4>:7: H5pyDeprecationWarning: The default file mode will change to 'r' (read-only) in h5py 3.0. To suppress this warning, pass the mode you need to h5py.File(), or set the global default h5.get_config().default_file_mode, or set the environment variable H5PY_DEFAULT_READONLY=1. Available modes are: 'r', 'r+', 'w', 'w-'/'x', 'a'. See the docs for details.\n",
      "  dsets = [h5py.File('%s/%s.hdf5'%(input_dir,decay)) for decay in decays]\n"
     ]
    }
   ],
   "source": [
    "# Set range of training set\n",
    "train_start, train_stop = 0, train_size\n",
    "assert train_stop > train_start\n",
    "assert (len(decays)*train_size) % batch_size == 0\n",
    "X_train, y_train = load_data(decays,train_start,train_stop)\n",
    "\n",
    "# Set range of validation set\n",
    "valid_start, valid_stop = 160000, 160000+valid_size\n",
    "assert valid_stop  >  valid_start\n",
    "assert valid_start >= train_stop\n",
    "X_valid, y_valid = load_data(decays,valid_start,valid_stop)\n",
    "\n",
    "# Set range of test set\n",
    "test_start, test_stop = 204800, 204800+test_size\n",
    "assert test_stop  >  test_start\n",
    "assert test_start >= valid_stop\n",
    "X_test, y_test = load_data(decays,test_start,test_stop)\n",
    "\n",
    "samples_requested = len(decays) * (train_size + valid_size + test_size)\n",
    "samples_available = len(y_train) + len(y_valid) + len(y_test)\n",
    "assert samples_requested == samples_available"
   ]
  },
  {
   "cell_type": "markdown",
   "metadata": {
    "id": "UTFIMRnL8w41"
   },
   "source": [
    "# Plot sample of training images\n",
    "Note that although the timing channel is provided, it may not necessarily help the performance of the model."
   ]
  },
  {
   "cell_type": "code",
   "execution_count": 24,
   "metadata": {
    "id": "e_IDs16U52-C"
   },
   "outputs": [
    {
     "data": {
      "image/png": "[encoded data removed]",
      "text/plain": [
       "<Figure size 432x288 with 2 Axes>"
      ]
     },
     "metadata": {
      "needs_background": "light"
     },
     "output_type": "display_data"
    }
   ],
   "source": [
    "plt.figure(1)\n",
    "\n",
    "plt.subplot(221)\n",
    "plt.imshow(X_train[1,:,:,0])\n",
    "plt.title(\"Channel 0: Energy\")  # Energy\n",
    "plt.grid(True)\n",
    "\n",
    "plt.subplot(222)\n",
    "plt.imshow(X_train[1,:,:,1])\n",
    "plt.title(\"Channel 1: Time\")  # Time\n",
    "plt.grid(True)\n",
    "\n",
    "\n",
    "plt.show()"
   ]
  },
  {
   "cell_type": "markdown",
   "metadata": {
    "id": "ke_NQLiz83jZ"
   },
   "source": [
    "# Define CNN Model\n",
    "This is a sample model. You can experiment with the model and try various architectures and other models to achieve the highest possible performance.  "
   ]
  },
  {
   "cell_type": "code",
   "execution_count": 25,
   "metadata": {
    "id": "OlIJuxXG7KDk"
   },
   "outputs": [
    {
     "name": "stdout",
     "output_type": "stream",
     "text": [
      "Model: \"sequential_1\"\n",
      "_________________________________________________________________\n",
      "Layer (type)                 Output Shape              Param #   \n",
      "=================================================================\n",
      "conv2d_4 (Conv2D)            (None, 32, 32, 16)        304       \n",
      "_________________________________________________________________\n",
      "conv2d_5 (Conv2D)            (None, 32, 32, 16)        2320      \n",
      "_________________________________________________________________\n",
      "max_pooling2d_2 (MaxPooling2 (None, 16, 16, 16)        0         \n",
      "_________________________________________________________________\n",
      "conv2d_6 (Conv2D)            (None, 16, 16, 32)        4640      \n",
      "_________________________________________________________________\n",
      "conv2d_7 (Conv2D)            (None, 16, 16, 32)        9248      \n",
      "_________________________________________________________________\n",
      "max_pooling2d_3 (MaxPooling2 (None, 8, 8, 32)          0         \n",
      "_________________________________________________________________\n",
      "flatten_1 (Flatten)          (None, 2048)              0         \n",
      "_________________________________________________________________\n",
      "dense_3 (Dense)              (None, 256)               524544    \n",
      "_________________________________________________________________\n",
      "dropout_2 (Dropout)          (None, 256)               0         \n",
      "_________________________________________________________________\n",
      "dense_4 (Dense)              (None, 128)               32896     \n",
      "_________________________________________________________________\n",
      "dropout_3 (Dropout)          (None, 128)               0         \n",
      "_________________________________________________________________\n",
      "dense_5 (Dense)              (None, 1)                 129       \n",
      "=================================================================\n",
      "Total params: 574,081\n",
      "Trainable params: 574,081\n",
      "Non-trainable params: 0\n",
      "_________________________________________________________________\n"
     ]
    }
   ],
   "source": [
    "### Define Convolutional Neural Network (CNN) Model ###\n",
    "\n",
    "model = Sequential()\n",
    "model.add(Conv2D(16, activation='relu', kernel_size=3, padding='same', kernel_initializer='TruncatedNormal', input_shape=(img_rows, img_cols, nb_channels)))\n",
    "model.add(Conv2D(16, activation='relu', kernel_size=3, padding='same', kernel_initializer='TruncatedNormal'))\n",
    "model.add(MaxPooling2D(pool_size=(2, 2)))\n",
    "model.add(Conv2D(32, activation='relu', kernel_size=3, padding='same', kernel_initializer='TruncatedNormal'))\n",
    "model.add(Conv2D(32, activation='relu', kernel_size=3, padding='same', kernel_initializer='TruncatedNormal'))\n",
    "model.add(MaxPooling2D(pool_size=(2, 2)))\n",
    "model.add(Flatten())\n",
    "model.add(Dense(256, activation='relu', kernel_initializer='TruncatedNormal'))\n",
    "model.add(Dropout(0.2))\n",
    "model.add(Dense(128, activation='relu', kernel_initializer='TruncatedNormal'))\n",
    "model.add(Dropout(0.2))\n",
    "model.add(Dense(1, activation='sigmoid', kernel_initializer='TruncatedNormal'))\n",
    "model.compile(loss='binary_crossentropy', optimizer=\"adam\", metrics=['accuracy'])\n",
    "model.summary()"
   ]
  },
  {
   "cell_type": "markdown",
   "metadata": {
    "id": "bsQWFD0M86pA"
   },
   "source": [
    "## Train the Model\n",
    "You may further optimize the model, tune hyper-parameters, etc. accordingly to achieve the best performance possible."
   ]
  },
  {
   "cell_type": "code",
   "execution_count": 26,
   "metadata": {
    "id": "ZGuyM25L7uc0"
   },
   "outputs": [
    {
     "name": "stdout",
     "output_type": "stream",
     "text": [
      "Epoch 1/20\n",
      "128/128 [==============================] - 38s 298ms/step - loss: 0.6909 - accuracy: 0.5251 - val_loss: 0.6880 - val_accuracy: 0.5752\n",
      "Epoch 2/20\n",
      "128/128 [==============================] - 31s 244ms/step - loss: 0.6696 - accuracy: 0.5890 - val_loss: 0.6628 - val_accuracy: 0.5996\n",
      "Epoch 3/20\n",
      "128/128 [==============================] - 30s 233ms/step - loss: 0.6588 - accuracy: 0.6057 - val_loss: 0.6588 - val_accuracy: 0.6079\n",
      "Epoch 4/20\n",
      "128/128 [==============================] - 37s 292ms/step - loss: 0.6522 - accuracy: 0.6187 - val_loss: 0.6660 - val_accuracy: 0.6055\n",
      "Epoch 5/20\n",
      "128/128 [==============================] - 43s 335ms/step - loss: 0.6492 - accuracy: 0.6235 - val_loss: 0.6670 - val_accuracy: 0.6035\n",
      "Epoch 6/20\n",
      "128/128 [==============================] - 37s 291ms/step - loss: 0.6383 - accuracy: 0.6350 - val_loss: 0.6562 - val_accuracy: 0.6089\n",
      "Epoch 7/20\n",
      "128/128 [==============================] - 40s 313ms/step - loss: 0.6360 - accuracy: 0.6415 - val_loss: 0.6564 - val_accuracy: 0.6118\n",
      "Epoch 8/20\n",
      "128/128 [==============================] - 37s 289ms/step - loss: 0.6333 - accuracy: 0.6422 - val_loss: 0.6550 - val_accuracy: 0.6138\n",
      "Epoch 9/20\n",
      "128/128 [==============================] - 21s 160ms/step - loss: 0.6306 - accuracy: 0.6481 - val_loss: 0.6543 - val_accuracy: 0.6177\n",
      "Epoch 10/20\n",
      "128/128 [==============================] - 21s 162ms/step - loss: 0.6260 - accuracy: 0.6497 - val_loss: 0.6523 - val_accuracy: 0.6221\n",
      "Epoch 11/20\n",
      "128/128 [==============================] - 29s 227ms/step - loss: 0.6242 - accuracy: 0.6543 - val_loss: 0.6503 - val_accuracy: 0.6235\n",
      "Epoch 12/20\n",
      "128/128 [==============================] - 19s 147ms/step - loss: 0.6210 - accuracy: 0.6553 - val_loss: 0.6504 - val_accuracy: 0.6270\n",
      "Epoch 13/20\n",
      "128/128 [==============================] - 24s 188ms/step - loss: 0.6168 - accuracy: 0.6604 - val_loss: 0.6525 - val_accuracy: 0.6250\n",
      "Epoch 14/20\n",
      "128/128 [==============================] - 24s 189ms/step - loss: 0.6114 - accuracy: 0.6639 - val_loss: 0.6523 - val_accuracy: 0.6235\n",
      "Epoch 15/20\n",
      "128/128 [==============================] - 20s 155ms/step - loss: 0.6102 - accuracy: 0.6663 - val_loss: 0.6511 - val_accuracy: 0.6279\n",
      "Epoch 16/20\n",
      "128/128 [==============================] - 31s 243ms/step - loss: 0.6089 - accuracy: 0.6704 - val_loss: 0.6508 - val_accuracy: 0.6270\n",
      "Epoch 17/20\n",
      "128/128 [==============================] - 46s 356ms/step - loss: 0.6086 - accuracy: 0.6710 - val_loss: 0.6508 - val_accuracy: 0.6265\n",
      "Epoch 18/20\n",
      "128/128 [==============================] - 22s 172ms/step - loss: 0.6070 - accuracy: 0.6724 - val_loss: 0.6508 - val_accuracy: 0.6265\n",
      "Epoch 19/20\n",
      "128/128 [==============================] - 36s 282ms/step - loss: 0.6083 - accuracy: 0.6697 - val_loss: 0.6507 - val_accuracy: 0.6265\n",
      "Epoch 20/20\n",
      "128/128 [==============================] - 21s 165ms/step - loss: 0.6076 - accuracy: 0.6700 - val_loss: 0.6507 - val_accuracy: 0.6265\n"
     ]
    }
   ],
   "source": [
    "reduce_lr = ReduceLROnPlateau(monitor='val_loss', factor=0.2, patience=2, min_lr=1.e-6)\n",
    "history=model.fit(X_train, y_train,\\\n",
    "        batch_size=batch_size,\\\n",
    "        epochs=epochs,\\\n",
    "        validation_data=(X_valid, y_valid),\\\n",
    "        callbacks=[reduce_lr],\\\n",
    "        verbose=1, shuffle=True)"
   ]
  },
  {
   "cell_type": "markdown",
   "metadata": {
    "id": "oLoN43278_-j"
   },
   "source": [
    "## Evaluate the Model  \n",
    "Along with the model accuracy, the prefered metric for evaluation is ROC (Receiver Operating Characteristic) curve and the AUC score (Area under the ROC Curve)."
   ]
  },
  {
   "cell_type": "code",
   "execution_count": 19,
   "metadata": {
    "id": "ekuQLYas7xh5"
   },
   "outputs": [
    {
     "name": "stdout",
     "output_type": "stream",
     "text": [
      "64/64 [==============================] - 3s 47ms/step - loss: 0.6829 - accuracy: 0.5718\n",
      "\n",
      "Validation loss / accuracy: 0.6829 / 0.5718\n",
      "Validation ROC AUC: 0.6062235832214355\n",
      "64/64 [==============================] - 3s 45ms/step - loss: 0.6804 - accuracy: 0.5752\n",
      "\n",
      "Test loss / accuracy: 0.6804 / 0.5752\n",
      "Test ROC AUC: 0.6135940551757812\n"
     ]
    }
   ],
   "source": [
    "# Evaluate on validation set\n",
    "score = model.evaluate(X_valid, y_valid, verbose=1)\n",
    "print('\\nValidation loss / accuracy: %0.4f / %0.4f'%(score[0], score[1]))\n",
    "y_pred = model.predict(X_valid)\n",
    "fpr, tpr, _ = roc_curve(y_valid, y_pred)\n",
    "roc_auc = auc(fpr, tpr)\n",
    "print('Validation ROC AUC:', roc_auc)\n",
    "\n",
    "# Evaluate on test set\n",
    "score = model.evaluate(X_test, y_test, verbose=1)\n",
    "print('\\nTest loss / accuracy: %0.4f / %0.4f'%(score[0], score[1]))\n",
    "y_pred = model.predict(X_test)\n",
    "fpr, tpr, _ = roc_curve(y_test, y_pred)\n",
    "roc_auc = auc(fpr, tpr)\n",
    "print('Test ROC AUC:', roc_auc)"
   ]
  },
  {
   "cell_type": "code",
   "execution_count": 20,
   "metadata": {
    "id": "kmSRYI0R72Wn"
   },
   "outputs": [
    {
     "data": {
      "image/png": "[encoded data removed]",
      "text/plain": [
       "<Figure size 432x288 with 1 Axes>"
      ]
     },
     "metadata": {
      "needs_background": "light"
     },
     "output_type": "display_data"
    }
   ],
   "source": [
    "plt.plot([0, 1], [0, 1], 'k--')\n",
    "#plt.legend(loc=2, prop={'size': 15})\n",
    "plt.plot(fpr, tpr, label='Model 1 (ROC-AUC = {:.3f})'.format(roc_auc))\n",
    "plt.xlabel('False positive rate')\n",
    "plt.ylabel('True positive rate')\n",
    "plt.title('ROC curve')\n",
    "plt.legend(loc='best')\n",
    "plt.show()"
   ]
  },
  {
   "cell_type": "markdown",
   "metadata": {
    "id": "Nna7GkM45Y5w"
   },
   "source": [
    "# Submission format: \n",
    "Submit the Google Colab Jupyter Notebook demonstrating your solution in the similar format as illustrated in this notebook. It should contain:\n",
    "*   The final model architecture, parameters and hyper-parameters yielding the best possible performance,\n",
    "*   Its Training and Validation accuracy, \n",
    "*   ROC curve and the AUC score as shown above.\n",
    "*   Also, please submit the final trained model containing the model architecture and its trained weights along with this notebook (For example: HDF5 file, .pb file, .pt file, etc.). Either in this notebook or in a separate notebook show how to load and use your model."
   ]
  },
  {
   "cell_type": "markdown",
   "metadata": {},
   "source": []
  }
 ],
 "metadata": {
  "accelerator": "GPU",
  "colab": {
   "collapsed_sections": [],
   "name": "ParticleImages.ipynb",
   "provenance": [],
   "toc_visible": true
  },
  "kernelspec": {
   "display_name": "Python 3",
   "language": "python",
   "name": "python3"
  },
  "language_info": {
   "codemirror_mode": {
    "name": "ipython",
    "version": 3
   },
   "file_extension": ".py",
   "mimetype": "text/x-python",
   "name": "python",
   "nbconvert_exporter": "python",
   "pygments_lexer": "ipython3",
   "version": "3.8.5"
  }
 },
 "nbformat": 4,
 "nbformat_minor": 4
}
