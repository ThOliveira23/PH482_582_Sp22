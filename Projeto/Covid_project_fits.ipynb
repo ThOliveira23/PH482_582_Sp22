{
 "cells": [
  {
   "cell_type": "code",
   "execution_count": 32,
   "metadata": {},
   "outputs": [],
   "source": [
    "import pandas as pd\n",
    "import numpy as np\n",
    "import matplotlib.pyplot as plt\n",
    "\n",
    "#brasil = pd.read_csv('/Users/thalesoliveira/Documents/CBPF/ML_course/Projeto/covid-19-data-master/public/data/vaccinations/country_data/Brazil.csv')\n",
    "data = pd.read_csv('/Users/thalesoliveira/Documents/CBPF/ML_course/Final_Project/covid-19-data-master/public/data/latest/owid-covid-latest.csv')\n"
   ]
  },
  {
   "cell_type": "code",
   "execution_count": null,
   "metadata": {},
   "outputs": [],
   "source": []
  },
  {
   "cell_type": "code",
   "execution_count": 106,
   "metadata": {},
   "outputs": [
    {
     "name": "stdout",
     "output_type": "stream",
     "text": [
      "<class 'pandas.core.frame.DataFrame'>\n",
      "RangeIndex: 233 entries, 0 to 232\n",
      "Data columns (total 67 columns):\n",
      " #   Column                                      Non-Null Count  Dtype  \n",
      "---  ------                                      --------------  -----  \n",
      " 0   iso_code                                    233 non-null    object \n",
      " 1   continent                                   220 non-null    object \n",
      " 2   location                                    233 non-null    object \n",
      " 3   last_updated_date                           233 non-null    object \n",
      " 4   total_cases                                 228 non-null    float64\n",
      " 5   new_cases                                   228 non-null    float64\n",
      " 6   new_cases_smoothed                          228 non-null    float64\n",
      " 7   total_deaths                                220 non-null    float64\n",
      " 8   new_deaths                                  220 non-null    float64\n",
      " 9   new_deaths_smoothed                         220 non-null    float64\n",
      " 10  total_cases_per_million                     227 non-null    float64\n",
      " 11  new_cases_per_million                       227 non-null    float64\n",
      " 12  new_cases_smoothed_per_million              227 non-null    float64\n",
      " 13  total_deaths_per_million                    219 non-null    float64\n",
      " 14  new_deaths_per_million                      219 non-null    float64\n",
      " 15  new_deaths_smoothed_per_million             219 non-null    float64\n",
      " 16  reproduction_rate                           189 non-null    float64\n",
      " 17  icu_patients                                38 non-null     float64\n",
      " 18  icu_patients_per_million                    38 non-null     float64\n",
      " 19  hosp_patients                               36 non-null     float64\n",
      " 20  hosp_patients_per_million                   36 non-null     float64\n",
      " 21  weekly_icu_admissions                       17 non-null     float64\n",
      " 22  weekly_icu_admissions_per_million           17 non-null     float64\n",
      " 23  weekly_hosp_admissions                      28 non-null     float64\n",
      " 24  weekly_hosp_admissions_per_million          28 non-null     float64\n",
      " 25  total_tests                                 137 non-null    float64\n",
      " 26  new_tests                                   106 non-null    float64\n",
      " 27  total_tests_per_thousand                    137 non-null    float64\n",
      " 28  new_tests_per_thousand                      106 non-null    float64\n",
      " 29  new_tests_smoothed                          137 non-null    float64\n",
      " 30  new_tests_smoothed_per_thousand             137 non-null    float64\n",
      " 31  positive_rate                               130 non-null    float64\n",
      " 32  tests_per_case                              128 non-null    float64\n",
      " 33  tests_units                                 142 non-null    object \n",
      " 34  total_vaccinations                          187 non-null    float64\n",
      " 35  people_vaccinated                           184 non-null    float64\n",
      " 36  people_fully_vaccinated                     187 non-null    float64\n",
      " 37  total_boosters                              126 non-null    float64\n",
      " 38  new_vaccinations                            102 non-null    float64\n",
      " 39  new_vaccinations_smoothed                   187 non-null    float64\n",
      " 40  total_vaccinations_per_hundred              187 non-null    float64\n",
      " 41  people_vaccinated_per_hundred               184 non-null    float64\n",
      " 42  people_fully_vaccinated_per_hundred         187 non-null    float64\n",
      " 43  total_boosters_per_hundred                  126 non-null    float64\n",
      " 44  new_vaccinations_smoothed_per_million       187 non-null    float64\n",
      " 45  new_people_vaccinated_smoothed              184 non-null    float64\n",
      " 46  new_people_vaccinated_smoothed_per_hundred  184 non-null    float64\n",
      " 47  stringency_index                            140 non-null    float64\n",
      " 48  population                                  232 non-null    float64\n",
      " 49  population_density                          206 non-null    float64\n",
      " 50  median_age                                  190 non-null    float64\n",
      " 51  aged_65_older                               188 non-null    float64\n",
      " 52  aged_70_older                               189 non-null    float64\n",
      " 53  gdp_per_capita                              193 non-null    float64\n",
      " 54  extreme_poverty                             125 non-null    float64\n",
      " 55  cardiovasc_death_rate                       189 non-null    float64\n",
      " 56  diabetes_prevalence                         200 non-null    float64\n",
      " 57  female_smokers                              147 non-null    float64\n",
      " 58  male_smokers                                145 non-null    float64\n",
      " 59  handwashing_facilities                      95 non-null     float64\n",
      " 60  hospital_beds_per_thousand                  171 non-null    float64\n",
      " 61  life_expectancy                             218 non-null    float64\n",
      " 62  human_development_index                     189 non-null    float64\n",
      " 63  excess_mortality_cumulative_absolute        5 non-null      float64\n",
      " 64  excess_mortality_cumulative                 5 non-null      float64\n",
      " 65  excess_mortality                            5 non-null      float64\n",
      " 66  excess_mortality_cumulative_per_million     5 non-null      float64\n",
      "dtypes: float64(62), object(5)\n",
      "memory usage: 122.1+ KB\n"
     ]
    }
   ],
   "source": [
    "data = pd.read_csv('/Users/thalesoliveira/Documents/CBPF/ML_course/Final_Project/covid-19-data-master/public/data/latest/owid-covid-latest.csv')\n",
    "data.info()"
   ]
  },
  {
   "cell_type": "code",
   "execution_count": 4,
   "metadata": {},
   "outputs": [],
   "source": [
    "def plot_one_relative_scatter(data, metric1, metric2, xlabel, ylabel):\n",
    "    plt.figure(figsize=(10,6))\n",
    "    plt.scatter(data[metric1],data[metric2]/data['population'])\n",
    "    plt.xlabel(xlabel)\n",
    "    plt.ylabel(ylabel)\n",
    "    plt.grid()\n",
    "    plt.savefig(metric1+'_'+metric2+'.pdf')\n",
    "    plt.show()"
   ]
  },
  {
   "cell_type": "code",
   "execution_count": 5,
   "metadata": {},
   "outputs": [
    {
     "data": {
      "image/png": "[encoded data removed]",
      "text/plain": [
       "<Figure size 720x432 with 1 Axes>"
      ]
     },
     "metadata": {
      "needs_background": "light"
     },
     "output_type": "display_data"
    }
   ],
   "source": [
    "plot_one_relative_scatter(data,'human_development_index','people_fully_vaccinated','HDI','vac.ratio')  "
   ]
  },
  {
   "cell_type": "code",
   "execution_count": 93,
   "metadata": {},
   "outputs": [],
   "source": [
    "data = data.fillna(0)"
   ]
  },
  {
   "cell_type": "code",
   "execution_count": 8,
   "metadata": {},
   "outputs": [
    {
     "data": {
      "image/png": "[encoded data removed]",
      "text/plain": [
       "<Figure size 720x432 with 1 Axes>"
      ]
     },
     "metadata": {
      "needs_background": "light"
     },
     "output_type": "display_data"
    }
   ],
   "source": [
    "plot_one_relative_scatter(data,'human_development_index','people_fully_vaccinated','HDI','vac.ratio')  "
   ]
  },
  {
   "cell_type": "code",
   "execution_count": 11,
   "metadata": {},
   "outputs": [],
   "source": [
    "def cut_low_events(data,metric,value):\n",
    "    for i in range(data.shape[0]): # loop over all countries\n",
    "        if data[metric][i] < value: \n",
    "            print(i,data['location'][i],data[metric][i])"
   ]
  },
  {
   "cell_type": "code",
   "execution_count": 12,
   "metadata": {},
   "outputs": [
    {
     "name": "stdout",
     "output_type": "stream",
     "text": [
      "1 Africa 0.0\n",
      "6 Anguilla 0.0\n",
      "10 Aruba 0.0\n",
      "11 Asia 0.0\n",
      "23 Bermuda 0.0\n",
      "26 Bonaire Sint Eustatius and Saba 0.0\n",
      "30 British Virgin Islands 0.0\n",
      "39 Cayman Islands 0.0\n",
      "47 Cook Islands 0.0\n",
      "52 Curacao 0.0\n",
      "68 Europe 0.0\n",
      "69 European Union 0.0\n",
      "70 Faeroe Islands 0.0\n",
      "71 Falkland Islands 0.0\n",
      "75 French Polynesia 0.0\n",
      "81 Gibraltar 0.0\n",
      "83 Greenland 0.0\n",
      "86 Guernsey 0.0\n",
      "91 High income 0.0\n",
      "98 International 0.0\n",
      "102 Isle of Man 0.0\n",
      "107 Jersey 0.0\n",
      "112 Kosovo 0.0\n",
      "123 Low income 0.0\n",
      "124 Lower middle income 0.0\n",
      "126 Macao 0.0\n",
      "139 Monaco 0.0\n",
      "142 Montserrat 0.0\n",
      "147 Nauru 0.0\n",
      "150 New Caledonia 0.0\n",
      "155 Niue 0.0\n",
      "156 North America 0.0\n",
      "159 Oceania 0.0\n",
      "175 Saint Helena 0.0\n",
      "178 Saint Pierre and Miquelon 0.0\n",
      "181 San Marino 0.0\n",
      "189 Sint Maarten (Dutch part) 0.0\n",
      "193 Somalia 0.0\n",
      "195 South America 0.0\n",
      "205 Taiwan 0.0\n",
      "215 Turks and Caicos Islands 0.0\n",
      "221 Upper middle income 0.0\n",
      "225 Vatican 0.0\n",
      "228 Wallis and Futuna 0.0\n"
     ]
    }
   ],
   "source": [
    "cut_low_events(data,'human_development_index',0.1)"
   ]
  },
  {
   "cell_type": "code",
   "execution_count": 117,
   "metadata": {},
   "outputs": [],
   "source": [
    "def make_pd_cut(data, metric1, metric2, value):\n",
    "    if metric2 is not None:\n",
    "        new_data = data[data[metric1] > value]\n",
    "        final_data = new_data[data[metric2] > value]\n",
    "    else:\n",
    "        final_data = data[data[metric1] > value]\n",
    "        \n",
    "    return final_data\n",
    "    "
   ]
  },
  {
   "cell_type": "code",
   "execution_count": 120,
   "metadata": {},
   "outputs": [
    {
     "name": "stderr",
     "output_type": "stream",
     "text": [
      "<ipython-input-117-0783ab6d3189>:4: UserWarning: Boolean Series key will be reindexed to match DataFrame index.\n",
      "  final_data = new_data[data[metric2] > value]\n"
     ]
    }
   ],
   "source": [
    "data_cut = make_pd_cut(data,'human_development_index','people_fully_vaccinated',0.0)"
   ]
  },
  {
   "cell_type": "code",
   "execution_count": 121,
   "metadata": {},
   "outputs": [
    {
     "data": {
      "text/plain": [
       "(154, 67)"
      ]
     },
     "execution_count": 121,
     "metadata": {},
     "output_type": "execute_result"
    }
   ],
   "source": [
    "data_cut.shape"
   ]
  },
  {
   "cell_type": "code",
   "execution_count": 122,
   "metadata": {},
   "outputs": [
    {
     "data": {
      "image/png": "[encoded data removed]",
      "text/plain": [
       "<Figure size 720x432 with 1 Axes>"
      ]
     },
     "metadata": {
      "needs_background": "light"
     },
     "output_type": "display_data"
    }
   ],
   "source": [
    "plot_one_relative_scatter(data_cut,'human_development_index','people_fully_vaccinated','HDI','vac.ratio')  "
   ]
  },
  {
   "cell_type": "code",
   "execution_count": 112,
   "metadata": {},
   "outputs": [],
   "source": [
    "from sklearn.linear_model import LinearRegression\n",
    "\n",
    "lin_reg = LinearRegression() # Create the model"
   ]
  },
  {
   "cell_type": "code",
   "execution_count": 123,
   "metadata": {},
   "outputs": [],
   "source": [
    "HDI = np.array(data_cut['human_development_index'])\n",
    "vac_ratio = np.array(data_cut['people_fully_vaccinated'])"
   ]
  },
  {
   "cell_type": "code",
   "execution_count": 125,
   "metadata": {},
   "outputs": [
    {
     "data": {
      "text/plain": [
       "(154,)"
      ]
     },
     "execution_count": 125,
     "metadata": {},
     "output_type": "execute_result"
    }
   ],
   "source": [
    "HDI.shape"
   ]
  },
  {
   "cell_type": "code",
   "execution_count": 127,
   "metadata": {},
   "outputs": [
    {
     "data": {
      "text/plain": [
       "numpy.ndarray"
      ]
     },
     "execution_count": 127,
     "metadata": {},
     "output_type": "execute_result"
    }
   ],
   "source": [
    "type(HDI)"
   ]
  },
  {
   "cell_type": "code",
   "execution_count": 137,
   "metadata": {},
   "outputs": [],
   "source": [
    "HDI = HDI.reshape(HDI.shape[0],1)\n",
    "vac_ratio = vac_ratio.reshape(vac_ratio.shape[0],1)"
   ]
  },
  {
   "cell_type": "code",
   "execution_count": 138,
   "metadata": {},
   "outputs": [
    {
     "data": {
      "text/plain": [
       "(154, 1)"
      ]
     },
     "execution_count": 138,
     "metadata": {},
     "output_type": "execute_result"
    }
   ],
   "source": [
    "vac_ratio.shape"
   ]
  },
  {
   "cell_type": "code",
   "execution_count": 139,
   "metadata": {},
   "outputs": [
    {
     "data": {
      "text/plain": [
       "LinearRegression()"
      ]
     },
     "execution_count": 139,
     "metadata": {},
     "output_type": "execute_result"
    }
   ],
   "source": [
    "lin_reg.fit(HDI,vac_ratio)"
   ]
  },
  {
   "cell_type": "code",
   "execution_count": 134,
   "metadata": {},
   "outputs": [
    {
     "data": {
      "text/plain": [
       "LinearRegression()"
      ]
     },
     "execution_count": 134,
     "metadata": {},
     "output_type": "execute_result"
    }
   ],
   "source": [
    "lin_reg.fit(np.array([HDI]),np.array([vac_ratio]))"
   ]
  },
  {
   "cell_type": "code",
   "execution_count": 133,
   "metadata": {},
   "outputs": [
    {
     "data": {
      "text/plain": [
       "numpy.ndarray"
      ]
     },
     "execution_count": 133,
     "metadata": {},
     "output_type": "execute_result"
    }
   ],
   "source": [
    "type(np.array([HDI]))"
   ]
  },
  {
   "cell_type": "code",
   "execution_count": 73,
   "metadata": {},
   "outputs": [
    {
     "data": {
      "text/plain": [
       "array([39268937.88875278])"
      ]
     },
     "execution_count": 73,
     "metadata": {},
     "output_type": "execute_result"
    }
   ],
   "source": [
    "lin_reg.intercept_"
   ]
  },
  {
   "cell_type": "code",
   "execution_count": 140,
   "metadata": {},
   "outputs": [
    {
     "name": "stdout",
     "output_type": "stream",
     "text": [
      "25090465.92520211\n",
      "39268937.88875278\n"
     ]
    }
   ],
   "source": [
    "coef = float(lin_reg.coef_)\n",
    "print(coef)\n",
    "inter = float(lin_reg.intercept_)\n",
    "print(inter)"
   ]
  },
  {
   "cell_type": "code",
   "execution_count": 141,
   "metadata": {},
   "outputs": [
    {
     "data": {
      "text/plain": [
       "<matplotlib.collections.PathCollection at 0x11a56dee0>"
      ]
     },
     "execution_count": 141,
     "metadata": {},
     "output_type": "execute_result"
    },
    {
     "data": {
      "image/png": "[encoded data removed]",
      "text/plain": [
       "<Figure size 432x288 with 1 Axes>"
      ]
     },
     "metadata": {
      "needs_background": "light"
     },
     "output_type": "display_data"
    }
   ],
   "source": [
    "plt.plot()\n",
    "\n",
    "plt.scatter(data['human_development_index'],coef*data['human_development_index'] + inter, color='orange', label='fit')\n",
    "plt.scatter(data['human_development_index'],data['people_fully_vaccinated']/data['population'], color='blue', label='fit')"
   ]
  },
  {
   "cell_type": "code",
   "execution_count": 142,
   "metadata": {},
   "outputs": [],
   "source": [
    "X = 2 * np.random.rand(100, 1)\n",
    "y = 4 + 3 * X + np.random.randn(100, 1)"
   ]
  },
  {
   "cell_type": "code",
   "execution_count": 147,
   "metadata": {},
   "outputs": [
    {
     "data": {
      "text/plain": [
       "(100, 1)"
      ]
     },
     "execution_count": 147,
     "metadata": {},
     "output_type": "execute_result"
    }
   ],
   "source": [
    "X.shape"
   ]
  },
  {
   "cell_type": "code",
   "execution_count": 143,
   "metadata": {},
   "outputs": [
    {
     "data": {
      "image/png": "[encoded data removed]",
      "text/plain": [
       "<Figure size 432x288 with 1 Axes>"
      ]
     },
     "metadata": {
      "needs_background": "light"
     },
     "output_type": "display_data"
    }
   ],
   "source": [
    "plt.plot(X, y, \"b.\")\n",
    "plt.xlabel(\"$x_1$\", fontsize=18)\n",
    "plt.ylabel(\"$y$\", rotation=0, fontsize=18)\n",
    "plt.axis([0, 2, 0, 15])\n",
    "plt.grid()\n",
    "plt.show()"
   ]
  },
  {
   "cell_type": "code",
   "execution_count": 148,
   "metadata": {},
   "outputs": [
    {
     "data": {
      "text/plain": [
       "LinearRegression()"
      ]
     },
     "execution_count": 148,
     "metadata": {},
     "output_type": "execute_result"
    }
   ],
   "source": [
    "linear = LinearRegression()\n",
    "linear.fit(X,y)"
   ]
  },
  {
   "cell_type": "code",
   "execution_count": 150,
   "metadata": {},
   "outputs": [
    {
     "name": "stdout",
     "output_type": "stream",
     "text": [
      "intercept:  [4.30290032]\n",
      "ang. coef.:  [[2.64350657]]\n"
     ]
    }
   ],
   "source": [
    "# Print the intercept and ang. coefficient values\n",
    "print('intercept: ',linear.intercept_)\n",
    "print('ang. coef.: ',linear.coef_) # y = 4 + 3 * X + np.random.randn(100, 1)"
   ]
  },
  {
   "cell_type": "code",
   "execution_count": null,
   "metadata": {},
   "outputs": [],
   "source": []
  },
  {
   "cell_type": "code",
   "execution_count": 157,
   "metadata": {},
   "outputs": [
    {
     "name": "stdout",
     "output_type": "stream",
     "text": [
      "<class 'numpy.ndarray'>\n"
     ]
    },
    {
     "data": {
      "image/png": "[encoded data removed]",
      "text/plain": [
       "<Figure size 720x432 with 1 Axes>"
      ]
     },
     "metadata": {
      "needs_background": "light"
     },
     "output_type": "display_data"
    }
   ],
   "source": [
    "X_new = np.array([[0], [2]])\n",
    "print(type(X_new))\n",
    "\n",
    "\n",
    "plt.figure(figsize=(10,6))\n",
    "plt.plot(X, y, \"b.\")  # blue dots (data)\n",
    "plt.plot(X_new, linear.predict(X_new) , \"r-\", markersize = 20)  # red line (regression)\n",
    "plt.xlabel(\"$x_1$\", fontsize=18)\n",
    "plt.ylabel(\"$y$\", rotation=0, fontsize=18)\n",
    "plt.axis([0, 2, 0, 15])\n",
    "plt.grid()\n",
    "plt.show()"
   ]
  },
  {
   "cell_type": "code",
   "execution_count": null,
   "metadata": {},
   "outputs": [],
   "source": []
  }
 ],
 "metadata": {
  "kernelspec": {
   "display_name": "Python 3",
   "language": "python",
   "name": "python3"
  },
  "language_info": {
   "codemirror_mode": {
    "name": "ipython",
    "version": 3
   },
   "file_extension": ".py",
   "mimetype": "text/x-python",
   "name": "python",
   "nbconvert_exporter": "python",
   "pygments_lexer": "ipython3",
   "version": "3.8.5"
  }
 },
 "nbformat": 4,
 "nbformat_minor": 4
}
