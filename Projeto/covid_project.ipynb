{
 "cells": [
  {
   "cell_type": "code",
   "execution_count": 1,
   "metadata": {},
   "outputs": [],
   "source": [
    "import pandas as pd\n",
    "import numpy as np\n",
    "import matplotlib.pyplot as plt"
   ]
  },
  {
   "cell_type": "code",
   "execution_count": 55,
   "metadata": {},
   "outputs": [],
   "source": [
    "brasil_csv = pd.read_csv('/Users/thalesoliveira/Documents/CBPF/ML_course/Projeto/covid-19-data-master/public/data/vaccinations/country_data/Brazil.csv')"
   ]
  },
  {
   "cell_type": "code",
   "execution_count": 113,
   "metadata": {},
   "outputs": [
    {
     "data": {
      "text/html": [
       "<div>\n",
       "<style scoped>\n",
       "    .dataframe tbody tr th:only-of-type {\n",
       "        vertical-align: middle;\n",
       "    }\n",
       "\n",
       "    .dataframe tbody tr th {\n",
       "        vertical-align: top;\n",
       "    }\n",
       "\n",
       "    .dataframe thead th {\n",
       "        text-align: right;\n",
       "    }\n",
       "</style>\n",
       "<table border=\"1\" class=\"dataframe\">\n",
       "  <thead>\n",
       "    <tr style=\"text-align: right;\">\n",
       "      <th></th>\n",
       "      <th>location</th>\n",
       "      <th>date</th>\n",
       "      <th>vaccine</th>\n",
       "      <th>source_url</th>\n",
       "      <th>total_vaccinations</th>\n",
       "      <th>people_vaccinated</th>\n",
       "      <th>people_fully_vaccinated</th>\n",
       "      <th>total_boosters</th>\n",
       "    </tr>\n",
       "  </thead>\n",
       "  <tbody>\n",
       "    <tr>\n",
       "      <th>0</th>\n",
       "      <td>Brazil</td>\n",
       "      <td>2021-01-17</td>\n",
       "      <td>Sinovac</td>\n",
       "      <td>https://coronavirusbra1.github.io</td>\n",
       "      <td>112</td>\n",
       "      <td>112.0</td>\n",
       "      <td>0.0</td>\n",
       "      <td>0</td>\n",
       "    </tr>\n",
       "    <tr>\n",
       "      <th>1</th>\n",
       "      <td>Brazil</td>\n",
       "      <td>2021-01-18</td>\n",
       "      <td>Sinovac</td>\n",
       "      <td>https://coronavirusbra1.github.io</td>\n",
       "      <td>1109</td>\n",
       "      <td>1109.0</td>\n",
       "      <td>0.0</td>\n",
       "      <td>0</td>\n",
       "    </tr>\n",
       "    <tr>\n",
       "      <th>2</th>\n",
       "      <td>Brazil</td>\n",
       "      <td>2021-01-19</td>\n",
       "      <td>Sinovac</td>\n",
       "      <td>https://coronavirusbra1.github.io</td>\n",
       "      <td>13527</td>\n",
       "      <td>13527.0</td>\n",
       "      <td>0.0</td>\n",
       "      <td>0</td>\n",
       "    </tr>\n",
       "    <tr>\n",
       "      <th>3</th>\n",
       "      <td>Brazil</td>\n",
       "      <td>2021-01-20</td>\n",
       "      <td>Sinovac</td>\n",
       "      <td>https://coronavirusbra1.github.io</td>\n",
       "      <td>105824</td>\n",
       "      <td>105824.0</td>\n",
       "      <td>0.0</td>\n",
       "      <td>0</td>\n",
       "    </tr>\n",
       "    <tr>\n",
       "      <th>4</th>\n",
       "      <td>Brazil</td>\n",
       "      <td>2021-01-21</td>\n",
       "      <td>Sinovac</td>\n",
       "      <td>https://coronavirusbra1.github.io</td>\n",
       "      <td>193699</td>\n",
       "      <td>193699.0</td>\n",
       "      <td>0.0</td>\n",
       "      <td>0</td>\n",
       "    </tr>\n",
       "  </tbody>\n",
       "</table>\n",
       "</div>"
      ],
      "text/plain": [
       "  location        date  vaccine                         source_url  \\\n",
       "0   Brazil  2021-01-17  Sinovac  https://coronavirusbra1.github.io   \n",
       "1   Brazil  2021-01-18  Sinovac  https://coronavirusbra1.github.io   \n",
       "2   Brazil  2021-01-19  Sinovac  https://coronavirusbra1.github.io   \n",
       "3   Brazil  2021-01-20  Sinovac  https://coronavirusbra1.github.io   \n",
       "4   Brazil  2021-01-21  Sinovac  https://coronavirusbra1.github.io   \n",
       "\n",
       "   total_vaccinations  people_vaccinated  people_fully_vaccinated  \\\n",
       "0                 112              112.0                      0.0   \n",
       "1                1109             1109.0                      0.0   \n",
       "2               13527            13527.0                      0.0   \n",
       "3              105824           105824.0                      0.0   \n",
       "4              193699           193699.0                      0.0   \n",
       "\n",
       "   total_boosters  \n",
       "0               0  \n",
       "1               0  \n",
       "2               0  \n",
       "3               0  \n",
       "4               0  "
      ]
     },
     "execution_count": 113,
     "metadata": {},
     "output_type": "execute_result"
    }
   ],
   "source": [
    "brasil_csv.head()"
   ]
  },
  {
   "cell_type": "code",
   "execution_count": 2,
   "metadata": {},
   "outputs": [],
   "source": [
    "new_csv = pd.read_csv('/Users/thalesoliveira/Documents/CBPF/ML_course/Projeto/covid-19-data-master/public/data/latest/owid-covid-latest.csv')"
   ]
  },
  {
   "cell_type": "code",
   "execution_count": 15,
   "metadata": {},
   "outputs": [
    {
     "data": {
      "text/plain": [
       "iso_code                                             BRA\n",
       "continent                                  South America\n",
       "location                                          Brazil\n",
       "last_updated_date                             2022-03-23\n",
       "total_cases                                   29738362.0\n",
       "                                               ...      \n",
       "human_development_index                            0.765\n",
       "excess_mortality_cumulative_absolute                 NaN\n",
       "excess_mortality_cumulative                          NaN\n",
       "excess_mortality                                     NaN\n",
       "excess_mortality_cumulative_per_million              NaN\n",
       "Name: 29, Length: 67, dtype: object"
      ]
     },
     "execution_count": 15,
     "metadata": {},
     "output_type": "execute_result"
    }
   ],
   "source": [
    "new_csv.iloc[29] ## Brasil "
   ]
  },
  {
   "cell_type": "code",
   "execution_count": 16,
   "metadata": {},
   "outputs": [
    {
     "data": {
      "text/plain": [
       "iso_code                                      OWID_EUR\n",
       "continent                                          NaN\n",
       "location                                        Europe\n",
       "last_updated_date                           2022-03-23\n",
       "total_cases                                174179930.0\n",
       "                                              ...     \n",
       "human_development_index                            NaN\n",
       "excess_mortality_cumulative_absolute               NaN\n",
       "excess_mortality_cumulative                        NaN\n",
       "excess_mortality                                   NaN\n",
       "excess_mortality_cumulative_per_million            NaN\n",
       "Name: 68, Length: 67, dtype: object"
      ]
     },
     "execution_count": 16,
     "metadata": {},
     "output_type": "execute_result"
    }
   ],
   "source": [
    "new_csv.iloc[68] ## Europe"
   ]
  },
  {
   "cell_type": "code",
   "execution_count": 18,
   "metadata": {},
   "outputs": [
    {
     "name": "stdout",
     "output_type": "stream",
     "text": [
      "<class 'pandas.core.frame.DataFrame'>\n",
      "RangeIndex: 233 entries, 0 to 232\n",
      "Data columns (total 67 columns):\n",
      " #   Column                                      Non-Null Count  Dtype  \n",
      "---  ------                                      --------------  -----  \n",
      " 0   iso_code                                    233 non-null    object \n",
      " 1   continent                                   220 non-null    object \n",
      " 2   location                                    233 non-null    object \n",
      " 3   last_updated_date                           233 non-null    object \n",
      " 4   total_cases                                 228 non-null    float64\n",
      " 5   new_cases                                   228 non-null    float64\n",
      " 6   new_cases_smoothed                          228 non-null    float64\n",
      " 7   total_deaths                                220 non-null    float64\n",
      " 8   new_deaths                                  220 non-null    float64\n",
      " 9   new_deaths_smoothed                         220 non-null    float64\n",
      " 10  total_cases_per_million                     227 non-null    float64\n",
      " 11  new_cases_per_million                       227 non-null    float64\n",
      " 12  new_cases_smoothed_per_million              227 non-null    float64\n",
      " 13  total_deaths_per_million                    219 non-null    float64\n",
      " 14  new_deaths_per_million                      219 non-null    float64\n",
      " 15  new_deaths_smoothed_per_million             219 non-null    float64\n",
      " 16  reproduction_rate                           189 non-null    float64\n",
      " 17  icu_patients                                38 non-null     float64\n",
      " 18  icu_patients_per_million                    38 non-null     float64\n",
      " 19  hosp_patients                               36 non-null     float64\n",
      " 20  hosp_patients_per_million                   36 non-null     float64\n",
      " 21  weekly_icu_admissions                       17 non-null     float64\n",
      " 22  weekly_icu_admissions_per_million           17 non-null     float64\n",
      " 23  weekly_hosp_admissions                      28 non-null     float64\n",
      " 24  weekly_hosp_admissions_per_million          28 non-null     float64\n",
      " 25  total_tests                                 137 non-null    float64\n",
      " 26  new_tests                                   106 non-null    float64\n",
      " 27  total_tests_per_thousand                    137 non-null    float64\n",
      " 28  new_tests_per_thousand                      106 non-null    float64\n",
      " 29  new_tests_smoothed                          137 non-null    float64\n",
      " 30  new_tests_smoothed_per_thousand             137 non-null    float64\n",
      " 31  positive_rate                               130 non-null    float64\n",
      " 32  tests_per_case                              128 non-null    float64\n",
      " 33  tests_units                                 142 non-null    object \n",
      " 34  total_vaccinations                          187 non-null    float64\n",
      " 35  people_vaccinated                           184 non-null    float64\n",
      " 36  people_fully_vaccinated                     187 non-null    float64\n",
      " 37  total_boosters                              126 non-null    float64\n",
      " 38  new_vaccinations                            102 non-null    float64\n",
      " 39  new_vaccinations_smoothed                   187 non-null    float64\n",
      " 40  total_vaccinations_per_hundred              187 non-null    float64\n",
      " 41  people_vaccinated_per_hundred               184 non-null    float64\n",
      " 42  people_fully_vaccinated_per_hundred         187 non-null    float64\n",
      " 43  total_boosters_per_hundred                  126 non-null    float64\n",
      " 44  new_vaccinations_smoothed_per_million       187 non-null    float64\n",
      " 45  new_people_vaccinated_smoothed              184 non-null    float64\n",
      " 46  new_people_vaccinated_smoothed_per_hundred  184 non-null    float64\n",
      " 47  stringency_index                            140 non-null    float64\n",
      " 48  population                                  232 non-null    float64\n",
      " 49  population_density                          206 non-null    float64\n",
      " 50  median_age                                  190 non-null    float64\n",
      " 51  aged_65_older                               188 non-null    float64\n",
      " 52  aged_70_older                               189 non-null    float64\n",
      " 53  gdp_per_capita                              193 non-null    float64\n",
      " 54  extreme_poverty                             125 non-null    float64\n",
      " 55  cardiovasc_death_rate                       189 non-null    float64\n",
      " 56  diabetes_prevalence                         200 non-null    float64\n",
      " 57  female_smokers                              147 non-null    float64\n",
      " 58  male_smokers                                145 non-null    float64\n",
      " 59  handwashing_facilities                      95 non-null     float64\n",
      " 60  hospital_beds_per_thousand                  171 non-null    float64\n",
      " 61  life_expectancy                             218 non-null    float64\n",
      " 62  human_development_index                     189 non-null    float64\n",
      " 63  excess_mortality_cumulative_absolute        5 non-null      float64\n",
      " 64  excess_mortality_cumulative                 5 non-null      float64\n",
      " 65  excess_mortality                            5 non-null      float64\n",
      " 66  excess_mortality_cumulative_per_million     5 non-null      float64\n",
      "dtypes: float64(62), object(5)\n",
      "memory usage: 122.1+ KB\n"
     ]
    }
   ],
   "source": [
    "new_csv.info()"
   ]
  },
  {
   "cell_type": "code",
   "execution_count": 10,
   "metadata": {},
   "outputs": [
    {
     "data": {
      "text/plain": [
       "Text(0, 0.5, 'Life Expectancy')"
      ]
     },
     "execution_count": 10,
     "metadata": {},
     "output_type": "execute_result"
    },
    {
     "data": {
      "image/png": "[encoded data removed]",
      "text/plain": [
       "<Figure size 1152x576 with 1 Axes>"
      ]
     },
     "metadata": {
      "needs_background": "light"
     },
     "output_type": "display_data"
    }
   ],
   "source": [
    "plt.figure(figsize=(16,8))\n",
    "plt.scatter(new_csv['median_age'], new_csv['life_expectancy'])\n",
    "plt.xlabel('Median Age')\n",
    "plt.ylabel('Life Expectancy')"
   ]
  },
  {
   "cell_type": "code",
   "execution_count": 23,
   "metadata": {},
   "outputs": [
    {
     "data": {
      "text/plain": [
       "Text(0, 0.5, 'Total deaths')"
      ]
     },
     "execution_count": 23,
     "metadata": {},
     "output_type": "execute_result"
    },
    {
     "data": {
      "image/png": "[encoded data removed]",
      "text/plain": [
       "<Figure size 1152x576 with 1 Axes>"
      ]
     },
     "metadata": {
      "needs_background": "light"
     },
     "output_type": "display_data"
    }
   ],
   "source": [
    "plt.figure(figsize=(16,8))\n",
    "plt.scatter(new_csv['total_cases_per_million'], new_csv['total_deaths_per_million'])\n",
    "plt.xlabel('Total cases')\n",
    "plt.ylabel('Total deaths')"
   ]
  },
  {
   "cell_type": "code",
   "execution_count": 19,
   "metadata": {},
   "outputs": [
    {
     "data": {
      "text/plain": [
       "Text(0, 0.5, 'Total deaths')"
      ]
     },
     "execution_count": 19,
     "metadata": {},
     "output_type": "execute_result"
    },
    {
     "data": {
      "image/png": "[encoded data removed]",
      "text/plain": [
       "<Figure size 1152x576 with 1 Axes>"
      ]
     },
     "metadata": {
      "needs_background": "light"
     },
     "output_type": "display_data"
    }
   ],
   "source": [
    "plt.figure(figsize=(16,8))\n",
    "plt.scatter(new_csv['total_cases'], new_csv['total_deaths'])\n",
    "plt.xlabel('Total cases')\n",
    "plt.ylabel('Total deaths')"
   ]
  },
  {
   "cell_type": "code",
   "execution_count": 20,
   "metadata": {},
   "outputs": [
    {
     "data": {
      "text/plain": [
       "18.493"
      ]
     },
     "execution_count": 20,
     "metadata": {},
     "output_type": "execute_result"
    }
   ],
   "source": [
    "max(new_csv['aged_70_older'])"
   ]
  },
  {
   "cell_type": "code",
   "execution_count": 21,
   "metadata": {},
   "outputs": [
    {
     "data": {
      "text/plain": [
       "27.049"
      ]
     },
     "execution_count": 21,
     "metadata": {},
     "output_type": "execute_result"
    }
   ],
   "source": [
    "max(new_csv['aged_65_older'])"
   ]
  },
  {
   "cell_type": "code",
   "execution_count": 12,
   "metadata": {},
   "outputs": [
    {
     "data": {
      "text/plain": [
       "(array([59., 39., 28., 12., 11., 15., 12.,  9.,  3.,  1.]),\n",
       " array([ 0.526 ,  2.3227,  4.1194,  5.9161,  7.7128,  9.5095, 11.3062,\n",
       "        13.1029, 14.8996, 16.6963, 18.493 ]),\n",
       " <BarContainer object of 10 artists>)"
      ]
     },
     "execution_count": 12,
     "metadata": {},
     "output_type": "execute_result"
    },
    {
     "data": {
      "image/png": "[encoded data removed]",
      "text/plain": [
       "<Figure size 432x288 with 1 Axes>"
      ]
     },
     "metadata": {
      "needs_background": "light"
     },
     "output_type": "display_data"
    }
   ],
   "source": [
    "plt.hist(new_csv['aged_70_older'])\n",
    "\n",
    "#51  aged_65_older                               188 non-null    float64\n",
    "# 52  aged_70_older                               189 non-null    float64"
   ]
  },
  {
   "cell_type": "code",
   "execution_count": 60,
   "metadata": {},
   "outputs": [],
   "source": [
    "from sklearn.linear_model import LinearRegression\n",
    "\n",
    "lin_reg = LinearRegression() # Create the model"
   ]
  },
  {
   "cell_type": "code",
   "execution_count": 81,
   "metadata": {},
   "outputs": [
    {
     "ename": "AttributeError",
     "evalue": "'Series' object has no attribute 'reshape'",
     "output_type": "error",
     "traceback": [
      "\u001b[0;31m---------------------------------------------------------------------------\u001b[0m",
      "\u001b[0;31mAttributeError\u001b[0m                            Traceback (most recent call last)",
      "\u001b[0;32m<ipython-input-81-c8b7a9e9e960>\u001b[0m in \u001b[0;36m<module>\u001b[0;34m\u001b[0m\n\u001b[0;32m----> 1\u001b[0;31m \u001b[0mnew_csv\u001b[0m\u001b[0;34m[\u001b[0m\u001b[0;34m'total_deaths'\u001b[0m\u001b[0;34m]\u001b[0m\u001b[0;34m.\u001b[0m\u001b[0mreshape\u001b[0m\u001b[0;34m(\u001b[0m\u001b[0;36m233\u001b[0m\u001b[0;34m,\u001b[0m\u001b[0;36m1\u001b[0m\u001b[0;34m)\u001b[0m\u001b[0;34m\u001b[0m\u001b[0;34m\u001b[0m\u001b[0m\n\u001b[0m",
      "\u001b[0;32m/usr/local/lib/python3.8/site-packages/pandas/core/generic.py\u001b[0m in \u001b[0;36m__getattr__\u001b[0;34m(self, name)\u001b[0m\n\u001b[1;32m   5581\u001b[0m         ):\n\u001b[1;32m   5582\u001b[0m             \u001b[0;32mreturn\u001b[0m \u001b[0mself\u001b[0m\u001b[0;34m[\u001b[0m\u001b[0mname\u001b[0m\u001b[0;34m]\u001b[0m\u001b[0;34m\u001b[0m\u001b[0;34m\u001b[0m\u001b[0m\n\u001b[0;32m-> 5583\u001b[0;31m         \u001b[0;32mreturn\u001b[0m \u001b[0mobject\u001b[0m\u001b[0;34m.\u001b[0m\u001b[0m__getattribute__\u001b[0m\u001b[0;34m(\u001b[0m\u001b[0mself\u001b[0m\u001b[0;34m,\u001b[0m \u001b[0mname\u001b[0m\u001b[0;34m)\u001b[0m\u001b[0;34m\u001b[0m\u001b[0;34m\u001b[0m\u001b[0m\n\u001b[0m\u001b[1;32m   5584\u001b[0m \u001b[0;34m\u001b[0m\u001b[0m\n\u001b[1;32m   5585\u001b[0m     \u001b[0;32mdef\u001b[0m \u001b[0m__setattr__\u001b[0m\u001b[0;34m(\u001b[0m\u001b[0mself\u001b[0m\u001b[0;34m,\u001b[0m \u001b[0mname\u001b[0m\u001b[0;34m:\u001b[0m \u001b[0mstr\u001b[0m\u001b[0;34m,\u001b[0m \u001b[0mvalue\u001b[0m\u001b[0;34m)\u001b[0m \u001b[0;34m->\u001b[0m \u001b[0;32mNone\u001b[0m\u001b[0;34m:\u001b[0m\u001b[0;34m\u001b[0m\u001b[0;34m\u001b[0m\u001b[0m\n",
      "\u001b[0;31mAttributeError\u001b[0m: 'Series' object has no attribute 'reshape'"
     ]
    }
   ],
   "source": [
    "new_csv['total_deaths'].reshape(233,1)"
   ]
  },
  {
   "cell_type": "code",
   "execution_count": 139,
   "metadata": {},
   "outputs": [],
   "source": [
    "array_deaths = np.array(new_csv['total_deaths'].iloc[:15])\n",
    "array_cases = np.array(new_csv['total_cases'].iloc[:15])"
   ]
  },
  {
   "cell_type": "code",
   "execution_count": null,
   "metadata": {},
   "outputs": [],
   "source": []
  },
  {
   "cell_type": "code",
   "execution_count": 140,
   "metadata": {},
   "outputs": [],
   "source": [
    "deaths = array_deaths.reshape(15,1)\n",
    "cases = array_cases.reshape(15,1)"
   ]
  },
  {
   "cell_type": "code",
   "execution_count": 129,
   "metadata": {},
   "outputs": [
    {
     "data": {
      "text/plain": [
       "(15, 1)"
      ]
     },
     "execution_count": 129,
     "metadata": {},
     "output_type": "execute_result"
    }
   ],
   "source": [
    "deaths.shape"
   ]
  },
  {
   "cell_type": "code",
   "execution_count": 141,
   "metadata": {},
   "outputs": [
    {
     "data": {
      "text/plain": [
       "LinearRegression()"
      ]
     },
     "execution_count": 141,
     "metadata": {},
     "output_type": "execute_result"
    }
   ],
   "source": [
    "lin_reg.fit(cases,deaths)"
   ]
  },
  {
   "cell_type": "code",
   "execution_count": 131,
   "metadata": {},
   "outputs": [
    {
     "data": {
      "text/plain": [
       "array([[0.01032266]])"
      ]
     },
     "execution_count": 131,
     "metadata": {},
     "output_type": "execute_result"
    }
   ],
   "source": [
    "lin_reg.coef_ "
   ]
  },
  {
   "cell_type": "code",
   "execution_count": 132,
   "metadata": {},
   "outputs": [],
   "source": [
    "pred = lin_reg.predict(deaths)"
   ]
  },
  {
   "cell_type": "code",
   "execution_count": 134,
   "metadata": {},
   "outputs": [
    {
     "data": {
      "text/plain": [
       "<matplotlib.legend.Legend at 0x1290b6640>"
      ]
     },
     "execution_count": 134,
     "metadata": {},
     "output_type": "execute_result"
    },
    {
     "data": {
      "image/png": "[encoded data removed]",
      "text/plain": [
       "<Figure size 1152x576 with 1 Axes>"
      ]
     },
     "metadata": {
      "needs_background": "light"
     },
     "output_type": "display_data"
    }
   ],
   "source": [
    "plt.figure(figsize=(16,8))\n",
    "plt.scatter(new_csv['total_cases'].iloc[:15], new_csv['total_deaths'].iloc[:15])\n",
    "plt.plot(new_csv['total_cases'].iloc[:15], pred, \"r-\", markersize = 20, label=str(lin_reg.coef_)+'\\pm'+str(lin_reg.intercept_))  # red line (regression)\n",
    "plt.xlabel('Total cases')\n",
    "plt.ylabel('Total deaths')\n",
    "plt.legend()"
   ]
  },
  {
   "cell_type": "code",
   "execution_count": 108,
   "metadata": {},
   "outputs": [
    {
     "data": {
      "text/plain": [
       "array([410.73868255])"
      ]
     },
     "execution_count": 108,
     "metadata": {},
     "output_type": "execute_result"
    }
   ],
   "source": [
    "lin_reg.intercept_"
   ]
  },
  {
   "cell_type": "code",
   "execution_count": 111,
   "metadata": {},
   "outputs": [
    {
     "data": {
      "text/plain": [
       "[<matplotlib.lines.Line2D at 0x127e709a0>]"
      ]
     },
     "execution_count": 111,
     "metadata": {},
     "output_type": "execute_result"
    },
    {
     "data": {
      "image/png": "[encoded data removed]",
      "text/plain": [
       "<Figure size 1152x576 with 1 Axes>"
      ]
     },
     "metadata": {
      "needs_background": "light"
     },
     "output_type": "display_data"
    }
   ],
   "source": [
    "plt.figure(figsize=(16,8))\n",
    "plt.scatter(new_csv['total_cases_per_million'], new_csv['total_deaths_per_million'])\n",
    "plt.plot(pred)"
   ]
  },
  {
   "cell_type": "code",
   "execution_count": 40,
   "metadata": {},
   "outputs": [
    {
     "data": {
      "text/plain": [
       "<matplotlib.collections.PathCollection at 0x11d12c4f0>"
      ]
     },
     "execution_count": 40,
     "metadata": {},
     "output_type": "execute_result"
    },
    {
     "data": {
      "image/png": "[encoded data removed]",
      "text/plain": [
       "<Figure size 1152x576 with 1 Axes>"
      ]
     },
     "metadata": {
      "needs_background": "light"
     },
     "output_type": "display_data"
    }
   ],
   "source": [
    "plt.figure(figsize=(16,8))\n",
    "plt.scatter(new_csv['people_fully_vaccinated'], new_csv['total_deaths'])"
   ]
  },
  {
   "cell_type": "code",
   "execution_count": 58,
   "metadata": {},
   "outputs": [
    {
     "data": {
      "text/plain": [
       "<matplotlib.collections.PathCollection at 0x11e6081c0>"
      ]
     },
     "execution_count": 58,
     "metadata": {},
     "output_type": "execute_result"
    },
    {
     "data": {
      "image/png": "[encoded data removed]",
      "text/plain": [
       "<Figure size 1152x576 with 1 Axes>"
      ]
     },
     "metadata": {
      "needs_background": "light"
     },
     "output_type": "display_data"
    }
   ],
   "source": [
    "plt.figure(figsize=(16,8))\n",
    "plt.scatter(new_csv['human_development_index'], new_csv['people_fully_vaccinated'])"
   ]
  },
  {
   "cell_type": "code",
   "execution_count": 54,
   "metadata": {},
   "outputs": [
    {
     "data": {
      "text/plain": [
       "29738362.0"
      ]
     },
     "execution_count": 54,
     "metadata": {},
     "output_type": "execute_result"
    }
   ],
   "source": [
    "new_csv.iloc[29]['total_cases']"
   ]
  },
  {
   "cell_type": "code",
   "execution_count": null,
   "metadata": {},
   "outputs": [],
   "source": []
  }
 ],
 "metadata": {
  "kernelspec": {
   "display_name": "Python 3",
   "language": "python",
   "name": "python3"
  },
  "language_info": {
   "codemirror_mode": {
    "name": "ipython",
    "version": 3
   },
   "file_extension": ".py",
   "mimetype": "text/x-python",
   "name": "python",
   "nbconvert_exporter": "python",
   "pygments_lexer": "ipython3",
   "version": "3.8.5"
  }
 },
 "nbformat": 4,
 "nbformat_minor": 4
}
