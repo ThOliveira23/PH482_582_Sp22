{
 "cells": [
  {
   "cell_type": "code",
   "execution_count": 2,
   "metadata": {},
   "outputs": [],
   "source": [
    "import pandas as pd\n",
    "import numpy as np\n",
    "import matplotlib.pyplot as plt\n",
    "\n",
    "brasil = pd.read_csv('/Users/thalesoliveira/Documents/CBPF/ML_course/Projeto/covid-19-data-master/public/data/vaccinations/country_data/Brazil.csv')\n",
    "data = pd.read_csv('/Users/thalesoliveira/Documents/CBPF/ML_course/Projeto/covid-19-data-master/public/data/latest/owid-covid-latest.csv')"
   ]
  },
  {
   "cell_type": "code",
   "execution_count": 3,
   "metadata": {},
   "outputs": [
    {
     "name": "stdout",
     "output_type": "stream",
     "text": [
      "<class 'pandas.core.frame.DataFrame'>\n",
      "RangeIndex: 233 entries, 0 to 232\n",
      "Data columns (total 67 columns):\n",
      " #   Column                                      Non-Null Count  Dtype  \n",
      "---  ------                                      --------------  -----  \n",
      " 0   iso_code                                    233 non-null    object \n",
      " 1   continent                                   220 non-null    object \n",
      " 2   location                                    233 non-null    object \n",
      " 3   last_updated_date                           233 non-null    object \n",
      " 4   total_cases                                 228 non-null    float64\n",
      " 5   new_cases                                   228 non-null    float64\n",
      " 6   new_cases_smoothed                          228 non-null    float64\n",
      " 7   total_deaths                                220 non-null    float64\n",
      " 8   new_deaths                                  220 non-null    float64\n",
      " 9   new_deaths_smoothed                         220 non-null    float64\n",
      " 10  total_cases_per_million                     227 non-null    float64\n",
      " 11  new_cases_per_million                       227 non-null    float64\n",
      " 12  new_cases_smoothed_per_million              227 non-null    float64\n",
      " 13  total_deaths_per_million                    219 non-null    float64\n",
      " 14  new_deaths_per_million                      219 non-null    float64\n",
      " 15  new_deaths_smoothed_per_million             219 non-null    float64\n",
      " 16  reproduction_rate                           189 non-null    float64\n",
      " 17  icu_patients                                38 non-null     float64\n",
      " 18  icu_patients_per_million                    38 non-null     float64\n",
      " 19  hosp_patients                               36 non-null     float64\n",
      " 20  hosp_patients_per_million                   36 non-null     float64\n",
      " 21  weekly_icu_admissions                       17 non-null     float64\n",
      " 22  weekly_icu_admissions_per_million           17 non-null     float64\n",
      " 23  weekly_hosp_admissions                      28 non-null     float64\n",
      " 24  weekly_hosp_admissions_per_million          28 non-null     float64\n",
      " 25  total_tests                                 137 non-null    float64\n",
      " 26  new_tests                                   106 non-null    float64\n",
      " 27  total_tests_per_thousand                    137 non-null    float64\n",
      " 28  new_tests_per_thousand                      106 non-null    float64\n",
      " 29  new_tests_smoothed                          137 non-null    float64\n",
      " 30  new_tests_smoothed_per_thousand             137 non-null    float64\n",
      " 31  positive_rate                               130 non-null    float64\n",
      " 32  tests_per_case                              128 non-null    float64\n",
      " 33  tests_units                                 142 non-null    object \n",
      " 34  total_vaccinations                          187 non-null    float64\n",
      " 35  people_vaccinated                           184 non-null    float64\n",
      " 36  people_fully_vaccinated                     187 non-null    float64\n",
      " 37  total_boosters                              126 non-null    float64\n",
      " 38  new_vaccinations                            102 non-null    float64\n",
      " 39  new_vaccinations_smoothed                   187 non-null    float64\n",
      " 40  total_vaccinations_per_hundred              187 non-null    float64\n",
      " 41  people_vaccinated_per_hundred               184 non-null    float64\n",
      " 42  people_fully_vaccinated_per_hundred         187 non-null    float64\n",
      " 43  total_boosters_per_hundred                  126 non-null    float64\n",
      " 44  new_vaccinations_smoothed_per_million       187 non-null    float64\n",
      " 45  new_people_vaccinated_smoothed              184 non-null    float64\n",
      " 46  new_people_vaccinated_smoothed_per_hundred  184 non-null    float64\n",
      " 47  stringency_index                            140 non-null    float64\n",
      " 48  population                                  232 non-null    float64\n",
      " 49  population_density                          206 non-null    float64\n",
      " 50  median_age                                  190 non-null    float64\n",
      " 51  aged_65_older                               188 non-null    float64\n",
      " 52  aged_70_older                               189 non-null    float64\n",
      " 53  gdp_per_capita                              193 non-null    float64\n",
      " 54  extreme_poverty                             125 non-null    float64\n",
      " 55  cardiovasc_death_rate                       189 non-null    float64\n",
      " 56  diabetes_prevalence                         200 non-null    float64\n",
      " 57  female_smokers                              147 non-null    float64\n",
      " 58  male_smokers                                145 non-null    float64\n",
      " 59  handwashing_facilities                      95 non-null     float64\n",
      " 60  hospital_beds_per_thousand                  171 non-null    float64\n",
      " 61  life_expectancy                             218 non-null    float64\n",
      " 62  human_development_index                     189 non-null    float64\n",
      " 63  excess_mortality_cumulative_absolute        5 non-null      float64\n",
      " 64  excess_mortality_cumulative                 5 non-null      float64\n",
      " 65  excess_mortality                            5 non-null      float64\n",
      " 66  excess_mortality_cumulative_per_million     5 non-null      float64\n",
      "dtypes: float64(62), object(5)\n",
      "memory usage: 122.1+ KB\n"
     ]
    }
   ],
   "source": [
    "data.info()"
   ]
  },
  {
   "cell_type": "code",
   "execution_count": 31,
   "metadata": {},
   "outputs": [
    {
     "data": {
      "text/html": [
       "<div>\n",
       "<style scoped>\n",
       "    .dataframe tbody tr th:only-of-type {\n",
       "        vertical-align: middle;\n",
       "    }\n",
       "\n",
       "    .dataframe tbody tr th {\n",
       "        vertical-align: top;\n",
       "    }\n",
       "\n",
       "    .dataframe thead th {\n",
       "        text-align: right;\n",
       "    }\n",
       "</style>\n",
       "<table border=\"1\" class=\"dataframe\">\n",
       "  <thead>\n",
       "    <tr style=\"text-align: right;\">\n",
       "      <th></th>\n",
       "      <th>iso_code</th>\n",
       "      <th>continent</th>\n",
       "      <th>location</th>\n",
       "      <th>last_updated_date</th>\n",
       "      <th>total_cases</th>\n",
       "      <th>new_cases</th>\n",
       "      <th>new_cases_smoothed</th>\n",
       "      <th>total_deaths</th>\n",
       "      <th>new_deaths</th>\n",
       "      <th>new_deaths_smoothed</th>\n",
       "      <th>...</th>\n",
       "      <th>female_smokers</th>\n",
       "      <th>male_smokers</th>\n",
       "      <th>handwashing_facilities</th>\n",
       "      <th>hospital_beds_per_thousand</th>\n",
       "      <th>life_expectancy</th>\n",
       "      <th>human_development_index</th>\n",
       "      <th>excess_mortality_cumulative_absolute</th>\n",
       "      <th>excess_mortality_cumulative</th>\n",
       "      <th>excess_mortality</th>\n",
       "      <th>excess_mortality_cumulative_per_million</th>\n",
       "    </tr>\n",
       "  </thead>\n",
       "  <tbody>\n",
       "    <tr>\n",
       "      <th>0</th>\n",
       "      <td>AFG</td>\n",
       "      <td>Asia</td>\n",
       "      <td>Afghanistan</td>\n",
       "      <td>2022-03-23</td>\n",
       "      <td>177321.0</td>\n",
       "      <td>66.0</td>\n",
       "      <td>82.571</td>\n",
       "      <td>7657.0</td>\n",
       "      <td>1.0</td>\n",
       "      <td>0.857</td>\n",
       "      <td>...</td>\n",
       "      <td>NaN</td>\n",
       "      <td>NaN</td>\n",
       "      <td>37.746</td>\n",
       "      <td>0.50</td>\n",
       "      <td>64.83</td>\n",
       "      <td>0.511</td>\n",
       "      <td>NaN</td>\n",
       "      <td>NaN</td>\n",
       "      <td>NaN</td>\n",
       "      <td>NaN</td>\n",
       "    </tr>\n",
       "    <tr>\n",
       "      <th>1</th>\n",
       "      <td>OWID_AFR</td>\n",
       "      <td>NaN</td>\n",
       "      <td>Africa</td>\n",
       "      <td>2022-03-23</td>\n",
       "      <td>11474111.0</td>\n",
       "      <td>942.0</td>\n",
       "      <td>4782.429</td>\n",
       "      <td>251444.0</td>\n",
       "      <td>42.0</td>\n",
       "      <td>63.143</td>\n",
       "      <td>...</td>\n",
       "      <td>NaN</td>\n",
       "      <td>NaN</td>\n",
       "      <td>NaN</td>\n",
       "      <td>NaN</td>\n",
       "      <td>NaN</td>\n",
       "      <td>NaN</td>\n",
       "      <td>NaN</td>\n",
       "      <td>NaN</td>\n",
       "      <td>NaN</td>\n",
       "      <td>NaN</td>\n",
       "    </tr>\n",
       "    <tr>\n",
       "      <th>2</th>\n",
       "      <td>ALB</td>\n",
       "      <td>Europe</td>\n",
       "      <td>Albania</td>\n",
       "      <td>2022-03-23</td>\n",
       "      <td>273164.0</td>\n",
       "      <td>18.0</td>\n",
       "      <td>51.429</td>\n",
       "      <td>3489.0</td>\n",
       "      <td>0.0</td>\n",
       "      <td>0.286</td>\n",
       "      <td>...</td>\n",
       "      <td>7.1</td>\n",
       "      <td>51.2</td>\n",
       "      <td>NaN</td>\n",
       "      <td>2.89</td>\n",
       "      <td>78.57</td>\n",
       "      <td>0.795</td>\n",
       "      <td>NaN</td>\n",
       "      <td>NaN</td>\n",
       "      <td>NaN</td>\n",
       "      <td>NaN</td>\n",
       "    </tr>\n",
       "    <tr>\n",
       "      <th>3</th>\n",
       "      <td>DZA</td>\n",
       "      <td>Africa</td>\n",
       "      <td>Algeria</td>\n",
       "      <td>2022-03-23</td>\n",
       "      <td>265585.0</td>\n",
       "      <td>12.0</td>\n",
       "      <td>12.714</td>\n",
       "      <td>6873.0</td>\n",
       "      <td>0.0</td>\n",
       "      <td>0.571</td>\n",
       "      <td>...</td>\n",
       "      <td>0.7</td>\n",
       "      <td>30.4</td>\n",
       "      <td>83.741</td>\n",
       "      <td>1.90</td>\n",
       "      <td>76.88</td>\n",
       "      <td>0.748</td>\n",
       "      <td>NaN</td>\n",
       "      <td>NaN</td>\n",
       "      <td>NaN</td>\n",
       "      <td>NaN</td>\n",
       "    </tr>\n",
       "    <tr>\n",
       "      <th>4</th>\n",
       "      <td>AND</td>\n",
       "      <td>Europe</td>\n",
       "      <td>Andorra</td>\n",
       "      <td>2022-03-23</td>\n",
       "      <td>39713.0</td>\n",
       "      <td>479.0</td>\n",
       "      <td>131.286</td>\n",
       "      <td>153.0</td>\n",
       "      <td>0.0</td>\n",
       "      <td>0.143</td>\n",
       "      <td>...</td>\n",
       "      <td>29.0</td>\n",
       "      <td>37.8</td>\n",
       "      <td>NaN</td>\n",
       "      <td>NaN</td>\n",
       "      <td>83.73</td>\n",
       "      <td>0.868</td>\n",
       "      <td>NaN</td>\n",
       "      <td>NaN</td>\n",
       "      <td>NaN</td>\n",
       "      <td>NaN</td>\n",
       "    </tr>\n",
       "    <tr>\n",
       "      <th>...</th>\n",
       "      <td>...</td>\n",
       "      <td>...</td>\n",
       "      <td>...</td>\n",
       "      <td>...</td>\n",
       "      <td>...</td>\n",
       "      <td>...</td>\n",
       "      <td>...</td>\n",
       "      <td>...</td>\n",
       "      <td>...</td>\n",
       "      <td>...</td>\n",
       "      <td>...</td>\n",
       "      <td>...</td>\n",
       "      <td>...</td>\n",
       "      <td>...</td>\n",
       "      <td>...</td>\n",
       "      <td>...</td>\n",
       "      <td>...</td>\n",
       "      <td>...</td>\n",
       "      <td>...</td>\n",
       "      <td>...</td>\n",
       "      <td>...</td>\n",
       "    </tr>\n",
       "    <tr>\n",
       "      <th>95</th>\n",
       "      <td>ISL</td>\n",
       "      <td>Europe</td>\n",
       "      <td>Iceland</td>\n",
       "      <td>2022-03-23</td>\n",
       "      <td>176179.0</td>\n",
       "      <td>850.0</td>\n",
       "      <td>1257.143</td>\n",
       "      <td>93.0</td>\n",
       "      <td>0.0</td>\n",
       "      <td>0.857</td>\n",
       "      <td>...</td>\n",
       "      <td>14.3</td>\n",
       "      <td>15.2</td>\n",
       "      <td>NaN</td>\n",
       "      <td>2.91</td>\n",
       "      <td>82.99</td>\n",
       "      <td>0.949</td>\n",
       "      <td>NaN</td>\n",
       "      <td>NaN</td>\n",
       "      <td>NaN</td>\n",
       "      <td>NaN</td>\n",
       "    </tr>\n",
       "    <tr>\n",
       "      <th>96</th>\n",
       "      <td>IND</td>\n",
       "      <td>Asia</td>\n",
       "      <td>India</td>\n",
       "      <td>2022-03-23</td>\n",
       "      <td>43014687.0</td>\n",
       "      <td>1938.0</td>\n",
       "      <td>1887.143</td>\n",
       "      <td>516672.0</td>\n",
       "      <td>67.0</td>\n",
       "      <td>77.143</td>\n",
       "      <td>...</td>\n",
       "      <td>1.9</td>\n",
       "      <td>20.6</td>\n",
       "      <td>59.550</td>\n",
       "      <td>0.53</td>\n",
       "      <td>69.66</td>\n",
       "      <td>0.645</td>\n",
       "      <td>NaN</td>\n",
       "      <td>NaN</td>\n",
       "      <td>NaN</td>\n",
       "      <td>NaN</td>\n",
       "    </tr>\n",
       "    <tr>\n",
       "      <th>97</th>\n",
       "      <td>IDN</td>\n",
       "      <td>Asia</td>\n",
       "      <td>Indonesia</td>\n",
       "      <td>2022-03-23</td>\n",
       "      <td>5981022.0</td>\n",
       "      <td>6376.0</td>\n",
       "      <td>7638.857</td>\n",
       "      <td>154221.0</td>\n",
       "      <td>159.0</td>\n",
       "      <td>178.000</td>\n",
       "      <td>...</td>\n",
       "      <td>2.8</td>\n",
       "      <td>76.1</td>\n",
       "      <td>64.204</td>\n",
       "      <td>1.04</td>\n",
       "      <td>71.72</td>\n",
       "      <td>0.718</td>\n",
       "      <td>NaN</td>\n",
       "      <td>NaN</td>\n",
       "      <td>NaN</td>\n",
       "      <td>NaN</td>\n",
       "    </tr>\n",
       "    <tr>\n",
       "      <th>98</th>\n",
       "      <td>OWID_INT</td>\n",
       "      <td>NaN</td>\n",
       "      <td>International</td>\n",
       "      <td>2022-03-23</td>\n",
       "      <td>721.0</td>\n",
       "      <td>0.0</td>\n",
       "      <td>0.000</td>\n",
       "      <td>15.0</td>\n",
       "      <td>0.0</td>\n",
       "      <td>0.000</td>\n",
       "      <td>...</td>\n",
       "      <td>NaN</td>\n",
       "      <td>NaN</td>\n",
       "      <td>NaN</td>\n",
       "      <td>NaN</td>\n",
       "      <td>NaN</td>\n",
       "      <td>NaN</td>\n",
       "      <td>NaN</td>\n",
       "      <td>NaN</td>\n",
       "      <td>NaN</td>\n",
       "      <td>NaN</td>\n",
       "    </tr>\n",
       "    <tr>\n",
       "      <th>99</th>\n",
       "      <td>IRN</td>\n",
       "      <td>Asia</td>\n",
       "      <td>Iran</td>\n",
       "      <td>2022-03-23</td>\n",
       "      <td>7144532.0</td>\n",
       "      <td>1123.0</td>\n",
       "      <td>1627.571</td>\n",
       "      <td>139802.0</td>\n",
       "      <td>67.0</td>\n",
       "      <td>73.286</td>\n",
       "      <td>...</td>\n",
       "      <td>0.8</td>\n",
       "      <td>21.1</td>\n",
       "      <td>NaN</td>\n",
       "      <td>1.50</td>\n",
       "      <td>76.68</td>\n",
       "      <td>0.783</td>\n",
       "      <td>NaN</td>\n",
       "      <td>NaN</td>\n",
       "      <td>NaN</td>\n",
       "      <td>NaN</td>\n",
       "    </tr>\n",
       "  </tbody>\n",
       "</table>\n",
       "<p>100 rows × 67 columns</p>\n",
       "</div>"
      ],
      "text/plain": [
       "    iso_code continent       location last_updated_date  total_cases  \\\n",
       "0        AFG      Asia    Afghanistan        2022-03-23     177321.0   \n",
       "1   OWID_AFR       NaN         Africa        2022-03-23   11474111.0   \n",
       "2        ALB    Europe        Albania        2022-03-23     273164.0   \n",
       "3        DZA    Africa        Algeria        2022-03-23     265585.0   \n",
       "4        AND    Europe        Andorra        2022-03-23      39713.0   \n",
       "..       ...       ...            ...               ...          ...   \n",
       "95       ISL    Europe        Iceland        2022-03-23     176179.0   \n",
       "96       IND      Asia          India        2022-03-23   43014687.0   \n",
       "97       IDN      Asia      Indonesia        2022-03-23    5981022.0   \n",
       "98  OWID_INT       NaN  International        2022-03-23        721.0   \n",
       "99       IRN      Asia           Iran        2022-03-23    7144532.0   \n",
       "\n",
       "    new_cases  new_cases_smoothed  total_deaths  new_deaths  \\\n",
       "0        66.0              82.571        7657.0         1.0   \n",
       "1       942.0            4782.429      251444.0        42.0   \n",
       "2        18.0              51.429        3489.0         0.0   \n",
       "3        12.0              12.714        6873.0         0.0   \n",
       "4       479.0             131.286         153.0         0.0   \n",
       "..        ...                 ...           ...         ...   \n",
       "95      850.0            1257.143          93.0         0.0   \n",
       "96     1938.0            1887.143      516672.0        67.0   \n",
       "97     6376.0            7638.857      154221.0       159.0   \n",
       "98        0.0               0.000          15.0         0.0   \n",
       "99     1123.0            1627.571      139802.0        67.0   \n",
       "\n",
       "    new_deaths_smoothed  ...  female_smokers  male_smokers  \\\n",
       "0                 0.857  ...             NaN           NaN   \n",
       "1                63.143  ...             NaN           NaN   \n",
       "2                 0.286  ...             7.1          51.2   \n",
       "3                 0.571  ...             0.7          30.4   \n",
       "4                 0.143  ...            29.0          37.8   \n",
       "..                  ...  ...             ...           ...   \n",
       "95                0.857  ...            14.3          15.2   \n",
       "96               77.143  ...             1.9          20.6   \n",
       "97              178.000  ...             2.8          76.1   \n",
       "98                0.000  ...             NaN           NaN   \n",
       "99               73.286  ...             0.8          21.1   \n",
       "\n",
       "    handwashing_facilities  hospital_beds_per_thousand  life_expectancy  \\\n",
       "0                   37.746                        0.50            64.83   \n",
       "1                      NaN                         NaN              NaN   \n",
       "2                      NaN                        2.89            78.57   \n",
       "3                   83.741                        1.90            76.88   \n",
       "4                      NaN                         NaN            83.73   \n",
       "..                     ...                         ...              ...   \n",
       "95                     NaN                        2.91            82.99   \n",
       "96                  59.550                        0.53            69.66   \n",
       "97                  64.204                        1.04            71.72   \n",
       "98                     NaN                         NaN              NaN   \n",
       "99                     NaN                        1.50            76.68   \n",
       "\n",
       "    human_development_index  excess_mortality_cumulative_absolute  \\\n",
       "0                     0.511                                   NaN   \n",
       "1                       NaN                                   NaN   \n",
       "2                     0.795                                   NaN   \n",
       "3                     0.748                                   NaN   \n",
       "4                     0.868                                   NaN   \n",
       "..                      ...                                   ...   \n",
       "95                    0.949                                   NaN   \n",
       "96                    0.645                                   NaN   \n",
       "97                    0.718                                   NaN   \n",
       "98                      NaN                                   NaN   \n",
       "99                    0.783                                   NaN   \n",
       "\n",
       "    excess_mortality_cumulative  excess_mortality  \\\n",
       "0                           NaN               NaN   \n",
       "1                           NaN               NaN   \n",
       "2                           NaN               NaN   \n",
       "3                           NaN               NaN   \n",
       "4                           NaN               NaN   \n",
       "..                          ...               ...   \n",
       "95                          NaN               NaN   \n",
       "96                          NaN               NaN   \n",
       "97                          NaN               NaN   \n",
       "98                          NaN               NaN   \n",
       "99                          NaN               NaN   \n",
       "\n",
       "    excess_mortality_cumulative_per_million  \n",
       "0                                       NaN  \n",
       "1                                       NaN  \n",
       "2                                       NaN  \n",
       "3                                       NaN  \n",
       "4                                       NaN  \n",
       "..                                      ...  \n",
       "95                                      NaN  \n",
       "96                                      NaN  \n",
       "97                                      NaN  \n",
       "98                                      NaN  \n",
       "99                                      NaN  \n",
       "\n",
       "[100 rows x 67 columns]"
      ]
     },
     "execution_count": 31,
     "metadata": {},
     "output_type": "execute_result"
    }
   ],
   "source": [
    "data.head(100)"
   ]
  },
  {
   "cell_type": "code",
   "execution_count": 17,
   "metadata": {},
   "outputs": [],
   "source": [
    "data = data.fillna(0)"
   ]
  },
  {
   "cell_type": "markdown",
   "metadata": {},
   "source": []
  },
  {
   "cell_type": "code",
   "execution_count": 19,
   "metadata": {},
   "outputs": [
    {
     "data": {
      "text/plain": [
       "iso_code                                          GGY\n",
       "continent                                      Europe\n",
       "location                                     Guernsey\n",
       "last_updated_date                          2022-03-23\n",
       "total_cases                                       0.0\n",
       "                                              ...    \n",
       "human_development_index                           0.0\n",
       "excess_mortality_cumulative_absolute              0.0\n",
       "excess_mortality_cumulative                       0.0\n",
       "excess_mortality                                  0.0\n",
       "excess_mortality_cumulative_per_million           0.0\n",
       "Name: 86, Length: 67, dtype: object"
      ]
     },
     "execution_count": 19,
     "metadata": {},
     "output_type": "execute_result"
    }
   ],
   "source": [
    "data.iloc[86]"
   ]
  },
  {
   "cell_type": "code",
   "execution_count": null,
   "metadata": {},
   "outputs": [],
   "source": []
  },
  {
   "cell_type": "code",
   "execution_count": 20,
   "metadata": {},
   "outputs": [],
   "source": [
    "cases_per_1m = data['total_cases_per_million']"
   ]
  },
  {
   "cell_type": "code",
   "execution_count": 21,
   "metadata": {},
   "outputs": [
    {
     "data": {
      "text/plain": [
       "0.0"
      ]
     },
     "execution_count": 21,
     "metadata": {},
     "output_type": "execute_result"
    }
   ],
   "source": [
    "(cases_per_1m[86])"
   ]
  },
  {
   "cell_type": "code",
   "execution_count": 22,
   "metadata": {},
   "outputs": [],
   "source": [
    "for i in range(232):\n",
    "    if np.isnan(cases_per_1m[i]) == False:\n",
    "        continue\n",
    "    else:\n",
    "        print(i) "
   ]
  },
  {
   "cell_type": "code",
   "execution_count": null,
   "metadata": {},
   "outputs": [],
   "source": [
    "# "
   ]
  },
  {
   "cell_type": "markdown",
   "metadata": {},
   "source": [
    "# Plot deaths x cases (per 1M)\n"
   ]
  },
  {
   "cell_type": "code",
   "execution_count": 25,
   "metadata": {},
   "outputs": [
    {
     "data": {
      "image/png": "[encoded data removed]",
      "text/plain": [
       "<Figure size 720x432 with 1 Axes>"
      ]
     },
     "metadata": {
      "needs_background": "light"
     },
     "output_type": "display_data"
    }
   ],
   "source": [
    "plt.figure(figsize=(10,6))\n",
    "plt.scatter(data['total_cases_per_million'], data['total_deaths_per_million'])\n",
    "plt.xlabel('Total cases')\n",
    "plt.ylabel('Total deaths')\n",
    "plt.grid()"
   ]
  },
  {
   "cell_type": "markdown",
   "metadata": {},
   "source": []
  },
  {
   "cell_type": "code",
   "execution_count": 26,
   "metadata": {},
   "outputs": [],
   "source": [
    "from sklearn.linear_model import LinearRegression\n",
    "\n",
    "lin_reg = LinearRegression() # Create the model"
   ]
  },
  {
   "cell_type": "code",
   "execution_count": 92,
   "metadata": {},
   "outputs": [],
   "source": [
    "cases = np.array(data['total_cases_per_million'])\n",
    "deaths = np.array(data['total_deaths_per_million'])\n"
   ]
  },
  {
   "cell_type": "code",
   "execution_count": 93,
   "metadata": {},
   "outputs": [],
   "source": [
    "deaths = deaths.reshape(cases.shape[0],1)\n",
    "cases = cases.reshape(deaths.shape[0],1)"
   ]
  },
  {
   "cell_type": "code",
   "execution_count": 98,
   "metadata": {},
   "outputs": [
    {
     "data": {
      "text/plain": [
       "LinearRegression()"
      ]
     },
     "execution_count": 98,
     "metadata": {},
     "output_type": "execute_result"
    }
   ],
   "source": [
    "lin_reg.fit(cases,deaths)"
   ]
  },
  {
   "cell_type": "code",
   "execution_count": 99,
   "metadata": {},
   "outputs": [
    {
     "name": "stdout",
     "output_type": "stream",
     "text": [
      "0.004630165451670281\n",
      "493.4196111145518\n"
     ]
    }
   ],
   "source": [
    "coef = float(lin_reg.coef_)\n",
    "print(coef)\n",
    "inter = float(lin_reg.intercept_)\n",
    "print(inter)"
   ]
  },
  {
   "cell_type": "code",
   "execution_count": 110,
   "metadata": {},
   "outputs": [
    {
     "name": "stdout",
     "output_type": "stream",
     "text": [
      "[[2428.82876991]]\n"
     ]
    }
   ],
   "source": [
    "pred = lin_reg.predict([[418000]]) # cases per 1M\n",
    "print(pred)"
   ]
  },
  {
   "cell_type": "code",
   "execution_count": 109,
   "metadata": {},
   "outputs": [
    {
     "data": {
      "text/plain": [
       "array([[2325.66405348]])"
      ]
     },
     "execution_count": 109,
     "metadata": {},
     "output_type": "execute_result"
    }
   ],
   "source": []
  },
  {
   "cell_type": "code",
   "execution_count": 58,
   "metadata": {},
   "outputs": [],
   "source": [
    "coef = float(lin_reg.coef_)\n",
    "inter = float(lin_reg.intercept_)"
   ]
  },
  {
   "cell_type": "code",
   "execution_count": null,
   "metadata": {},
   "outputs": [],
   "source": []
  },
  {
   "cell_type": "code",
   "execution_count": 113,
   "metadata": {},
   "outputs": [
    {
     "name": "stderr",
     "output_type": "stream",
     "text": [
      "No artists with labels found to put in legend.  Note that artists whose label start with an underscore are ignored when legend() is called with no argument.\n"
     ]
    },
    {
     "data": {
      "image/png": "[encoded data removed]",
      "text/plain": [
       "<Figure size 720x432 with 1 Axes>"
      ]
     },
     "metadata": {
      "needs_background": "light"
     },
     "output_type": "display_data"
    }
   ],
   "source": [
    "plt.figure(figsize=(10,6))\n",
    "plt.scatter(cases,deaths)\n",
    "plt.plot(lin_reg.predict(cases), color='red')\n",
    "#lin_reg.coef_)+'\\pm'+str(lin_reg.intercept_))''  # red line (regression)\n",
    "plt.xlabel('Total cases')\n",
    "plt.ylabel('Total deaths')\n",
    "plt.legend(loc='best')\n",
    "plt.grid()\n",
    "plt.show()\n",
    "\n",
    "#label='Model 1 (ROC-AUC = {:.3f})'.format(roc_auc))"
   ]
  },
  {
   "cell_type": "markdown",
   "metadata": {},
   "source": [
    "# Cases x Tests"
   ]
  },
  {
   "cell_type": "code",
   "execution_count": 129,
   "metadata": {},
   "outputs": [],
   "source": [
    "cases = np.array(data['total_cases']/data['population'])\n",
    "tests = np.array(data['total_tests']/data['population'])"
   ]
  },
  {
   "cell_type": "code",
   "execution_count": 140,
   "metadata": {},
   "outputs": [
    {
     "name": "stderr",
     "output_type": "stream",
     "text": [
      "No artists with labels found to put in legend.  Note that artists whose label start with an underscore are ignored when legend() is called with no argument.\n"
     ]
    },
    {
     "data": {
      "image/png": "[encoded data removed]",
      "text/plain": [
       "<Figure size 720x432 with 1 Axes>"
      ]
     },
     "metadata": {
      "needs_background": "light"
     },
     "output_type": "display_data"
    },
    {
     "name": "stdout",
     "output_type": "stream",
     "text": [
      "13\n",
      "16\n",
      "53\n",
      "56\n",
      "81\n",
      "82\n",
      "103\n",
      "125\n",
      "190\n",
      "218\n",
      "219\n"
     ]
    }
   ],
   "source": [
    "plt.figure(figsize=(10,6))\n",
    "plt.scatter(cases,tests)\n",
    "#plt.plot(lin_reg.predict(cases), color='red')\n",
    "#lin_reg.coef_)+'\\pm'+str(lin_reg.intercept_))''  # red line (regression)\n",
    "plt.xlabel('Total cases')\n",
    "plt.ylabel('Total tests')\n",
    "plt.legend(loc='best')\n",
    "plt.grid()\n",
    "plt.show()\n",
    "\n",
    "for j in range(data.shape[0]):\n",
    "    if tests[j] > 5:\n",
    "        print(j)"
   ]
  },
  {
   "cell_type": "code",
   "execution_count": 144,
   "metadata": {},
   "outputs": [
    {
     "name": "stdout",
     "output_type": "stream",
     "text": [
      "Austria\n",
      "Bahrain\n",
      "Cyprus\n",
      "Denmark\n",
      "Gibraltar\n",
      "Greece\n",
      "Israel\n",
      "Luxembourg\n",
      "Slovakia\n",
      "United Arab Emirates\n",
      "United Kingdom\n"
     ]
    }
   ],
   "source": [
    "list_tests = [13,16,53,56,81,82,103,125,190,218,219]\n",
    "for j in list_tests:\n",
    "    print(data.iloc[j]['location'])"
   ]
  },
  {
   "cell_type": "markdown",
   "metadata": {},
   "source": [
    "# HDI x vaccination"
   ]
  },
  {
   "cell_type": "code",
   "execution_count": 62,
   "metadata": {},
   "outputs": [],
   "source": [
    "vac_ratio =  data['people_fully_vaccinated']/data['population']"
   ]
  },
  {
   "cell_type": "code",
   "execution_count": 73,
   "metadata": {},
   "outputs": [
    {
     "name": "stdout",
     "output_type": "stream",
     "text": [
      "81\n"
     ]
    }
   ],
   "source": [
    "for j in range(data.shape[0]):\n",
    "    if vac_ratio[j] > 1:\n",
    "        print(j)"
   ]
  },
  {
   "cell_type": "code",
   "execution_count": 76,
   "metadata": {},
   "outputs": [
    {
     "data": {
      "text/plain": [
       "33691.0"
      ]
     },
     "execution_count": 76,
     "metadata": {},
     "output_type": "execute_result"
    }
   ],
   "source": [
    "data.iloc[81]['population']"
   ]
  },
  {
   "cell_type": "code",
   "execution_count": 75,
   "metadata": {},
   "outputs": [
    {
     "data": {
      "text/plain": [
       "41101.0"
      ]
     },
     "execution_count": 75,
     "metadata": {},
     "output_type": "execute_result"
    }
   ],
   "source": [
    "data.iloc[81]['people_fully_vaccinated']"
   ]
  },
  {
   "cell_type": "code",
   "execution_count": 68,
   "metadata": {},
   "outputs": [
    {
     "data": {
      "text/plain": [
       "0.5860944206008584"
      ]
     },
     "execution_count": 68,
     "metadata": {},
     "output_type": "execute_result"
    }
   ],
   "source": [
    "HDI=data['human_development_index']\n",
    "np.mean(HDI)"
   ]
  },
  {
   "cell_type": "code",
   "execution_count": 114,
   "metadata": {},
   "outputs": [],
   "source": [
    "vac_ratio = data['people_fully_vaccinated']/data['population']"
   ]
  },
  {
   "cell_type": "code",
   "execution_count": 115,
   "metadata": {},
   "outputs": [
    {
     "data": {
      "text/plain": [
       "1.2199400433350154"
      ]
     },
     "execution_count": 115,
     "metadata": {},
     "output_type": "execute_result"
    }
   ],
   "source": [
    "max(vac_ratio)"
   ]
  },
  {
   "cell_type": "code",
   "execution_count": 127,
   "metadata": {},
   "outputs": [
    {
     "name": "stdout",
     "output_type": "stream",
     "text": [
      "<class 'pandas.core.series.Series'>\n",
      "<class 'pandas.core.series.Series'>\n"
     ]
    },
    {
     "data": {
      "image/png": "[encoded data removed]",
      "text/plain": [
       "<Figure size 1152x576 with 1 Axes>"
      ]
     },
     "metadata": {
      "needs_background": "light"
     },
     "output_type": "display_data"
    }
   ],
   "source": [
    "print(type(HDI))\n",
    "print(type(vac_ratio))\n",
    "plt.figure(figsize=(16,8))\n",
    "#if HDI > 0.1 and vac_ratio < 1:\n",
    "#    print(j)\n",
    "plt.scatter(HDI, vac_ratio)\n",
    "plt.xlabel('Human Development Index')\n",
    "plt.ylabel('Vaccination Ratio')\n",
    "plt.grid()"
   ]
  },
  {
   "cell_type": "markdown",
   "metadata": {},
   "source": [
    "# GDP per capita x vaccination"
   ]
  },
  {
   "cell_type": "code",
   "execution_count": 128,
   "metadata": {},
   "outputs": [
    {
     "name": "stdout",
     "output_type": "stream",
     "text": [
      "<class 'pandas.core.series.Series'>\n",
      "<class 'pandas.core.series.Series'>\n"
     ]
    },
    {
     "data": {
      "image/png": "[encoded data removed]",
      "text/plain": [
       "<Figure size 1152x576 with 1 Axes>"
      ]
     },
     "metadata": {
      "needs_background": "light"
     },
     "output_type": "display_data"
    }
   ],
   "source": [
    "GDP = data['gdp_per_capita']\n",
    "\n",
    "print(type(HDI))\n",
    "print(type(vac_ratio))\n",
    "plt.figure(figsize=(16,8))\n",
    "#if HDI > 0.1 and vac_ratio < 1:\n",
    "#    print(j)\n",
    "plt.scatter(GDP, vac_ratio)\n",
    "plt.xlabel('GDP per capita')\n",
    "plt.ylabel('Vaccination Ratio')\n",
    "plt.grid()"
   ]
  },
  {
   "cell_type": "markdown",
   "metadata": {},
   "source": [
    "# Life expectancy x vaccination"
   ]
  },
  {
   "cell_type": "code",
   "execution_count": 146,
   "metadata": {},
   "outputs": [
    {
     "name": "stdout",
     "output_type": "stream",
     "text": [
      "<class 'pandas.core.series.Series'>\n",
      "<class 'pandas.core.series.Series'>\n"
     ]
    },
    {
     "data": {
      "image/png": "[encoded data removed]",
      "text/plain": [
       "<Figure size 1152x576 with 1 Axes>"
      ]
     },
     "metadata": {
      "needs_background": "light"
     },
     "output_type": "display_data"
    }
   ],
   "source": [
    "life_exp = data['life_expectancy']\n",
    "\n",
    "print(type(HDI))\n",
    "print(type(vac_ratio))\n",
    "plt.figure(figsize=(16,8))\n",
    "#if HDI > 0.1 and vac_ratio < 1:\n",
    "#    print(j)\n",
    "plt.scatter(GDP, vac_ratio)\n",
    "plt.xlabel('GDP per capita')\n",
    "plt.ylabel('Vaccination Ratio')\n",
    "plt.grid()"
   ]
  },
  {
   "cell_type": "markdown",
   "metadata": {},
   "source": [
    "# Total tests x GDP\n",
    "\n"
   ]
  },
  {
   "cell_type": "code",
   "execution_count": 147,
   "metadata": {},
   "outputs": [
    {
     "name": "stdout",
     "output_type": "stream",
     "text": [
      "<class 'pandas.core.series.Series'>\n",
      "<class 'pandas.core.series.Series'>\n"
     ]
    },
    {
     "data": {
      "image/png": "[encoded data removed]",
      "text/plain": [
       "<Figure size 1152x576 with 1 Axes>"
      ]
     },
     "metadata": {
      "needs_background": "light"
     },
     "output_type": "display_data"
    }
   ],
   "source": [
    "\n",
    "\n",
    "print(type(HDI))\n",
    "print(type(vac_ratio))\n",
    "plt.figure(figsize=(16,8))\n",
    "#if HDI > 0.1 and vac_ratio < 1:\n",
    "#    print(j)\n",
    "plt.scatter(GDP, tests)\n",
    "plt.xlabel('GDP per capita')\n",
    "plt.ylabel('Vaccination Ratio')\n",
    "plt.grid()"
   ]
  },
  {
   "cell_type": "code",
   "execution_count": null,
   "metadata": {},
   "outputs": [],
   "source": []
  },
  {
   "cell_type": "code",
   "execution_count": null,
   "metadata": {},
   "outputs": [],
   "source": []
  },
  {
   "cell_type": "markdown",
   "metadata": {},
   "source": [
    "# Countries to be excluded"
   ]
  },
  {
   "cell_type": "code",
   "execution_count": 77,
   "metadata": {},
   "outputs": [
    {
     "data": {
      "text/plain": [
       "iso_code                                          GIB\n",
       "continent                                      Europe\n",
       "location                                    Gibraltar\n",
       "last_updated_date                          2022-03-23\n",
       "total_cases                                   16542.0\n",
       "                                              ...    \n",
       "human_development_index                           0.0\n",
       "excess_mortality_cumulative_absolute              0.0\n",
       "excess_mortality_cumulative                       0.0\n",
       "excess_mortality                                  0.0\n",
       "excess_mortality_cumulative_per_million           0.0\n",
       "Name: 81, Length: 67, dtype: object"
      ]
     },
     "execution_count": 77,
     "metadata": {},
     "output_type": "execute_result"
    }
   ],
   "source": [
    "data.iloc[81] # Gibraltar (vaccination > population)"
   ]
  },
  {
   "cell_type": "markdown",
   "metadata": {},
   "source": []
  }
 ],
 "metadata": {
  "kernelspec": {
   "display_name": "Python 3",
   "language": "python",
   "name": "python3"
  },
  "language_info": {
   "codemirror_mode": {
    "name": "ipython",
    "version": 3
   },
   "file_extension": ".py",
   "mimetype": "text/x-python",
   "name": "python",
   "nbconvert_exporter": "python",
   "pygments_lexer": "ipython3",
   "version": "3.8.5"
  }
 },
 "nbformat": 4,
 "nbformat_minor": 4
}
